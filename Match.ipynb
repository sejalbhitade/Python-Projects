{
 "cells": [
  {
   "cell_type": "code",
   "execution_count": 1,
   "id": "c385d043",
   "metadata": {},
   "outputs": [],
   "source": [
    "import numpy as np\n",
    "import pandas as pd\n",
    "import matplotlib.pyplot as plt\n",
    "import seaborn as sns\n",
    "import warnings \n",
    "warnings.filterwarnings('ignore')"
   ]
  },
  {
   "cell_type": "code",
   "execution_count": 2,
   "id": "22b880a7",
   "metadata": {},
   "outputs": [
    {
     "data": {
      "text/html": [
       "<div>\n",
       "<style scoped>\n",
       "    .dataframe tbody tr th:only-of-type {\n",
       "        vertical-align: middle;\n",
       "    }\n",
       "\n",
       "    .dataframe tbody tr th {\n",
       "        vertical-align: top;\n",
       "    }\n",
       "\n",
       "    .dataframe thead th {\n",
       "        text-align: right;\n",
       "    }\n",
       "</style>\n",
       "<table border=\"1\" class=\"dataframe\">\n",
       "  <thead>\n",
       "    <tr style=\"text-align: right;\">\n",
       "      <th></th>\n",
       "      <th>match_id</th>\n",
       "      <th>inning</th>\n",
       "      <th>batting_team</th>\n",
       "      <th>bowling_team</th>\n",
       "      <th>over</th>\n",
       "      <th>ball</th>\n",
       "      <th>batsman</th>\n",
       "      <th>non_striker</th>\n",
       "      <th>bowler</th>\n",
       "      <th>is_super_over</th>\n",
       "      <th>...</th>\n",
       "      <th>bye_runs</th>\n",
       "      <th>legbye_runs</th>\n",
       "      <th>noball_runs</th>\n",
       "      <th>penalty_runs</th>\n",
       "      <th>batsman_runs</th>\n",
       "      <th>extra_runs</th>\n",
       "      <th>total_runs</th>\n",
       "      <th>player_dismissed</th>\n",
       "      <th>dismissal_kind</th>\n",
       "      <th>fielder</th>\n",
       "    </tr>\n",
       "  </thead>\n",
       "  <tbody>\n",
       "    <tr>\n",
       "      <th>0</th>\n",
       "      <td>1</td>\n",
       "      <td>1</td>\n",
       "      <td>Sunrisers Hyderabad</td>\n",
       "      <td>Royal Challengers Bangalore</td>\n",
       "      <td>1</td>\n",
       "      <td>1</td>\n",
       "      <td>DA Warner</td>\n",
       "      <td>S Dhawan</td>\n",
       "      <td>TS Mills</td>\n",
       "      <td>0</td>\n",
       "      <td>...</td>\n",
       "      <td>0</td>\n",
       "      <td>0</td>\n",
       "      <td>0</td>\n",
       "      <td>0</td>\n",
       "      <td>0</td>\n",
       "      <td>0</td>\n",
       "      <td>0</td>\n",
       "      <td>NaN</td>\n",
       "      <td>NaN</td>\n",
       "      <td>NaN</td>\n",
       "    </tr>\n",
       "    <tr>\n",
       "      <th>1</th>\n",
       "      <td>1</td>\n",
       "      <td>1</td>\n",
       "      <td>Sunrisers Hyderabad</td>\n",
       "      <td>Royal Challengers Bangalore</td>\n",
       "      <td>1</td>\n",
       "      <td>2</td>\n",
       "      <td>DA Warner</td>\n",
       "      <td>S Dhawan</td>\n",
       "      <td>TS Mills</td>\n",
       "      <td>0</td>\n",
       "      <td>...</td>\n",
       "      <td>0</td>\n",
       "      <td>0</td>\n",
       "      <td>0</td>\n",
       "      <td>0</td>\n",
       "      <td>0</td>\n",
       "      <td>0</td>\n",
       "      <td>0</td>\n",
       "      <td>NaN</td>\n",
       "      <td>NaN</td>\n",
       "      <td>NaN</td>\n",
       "    </tr>\n",
       "    <tr>\n",
       "      <th>2</th>\n",
       "      <td>1</td>\n",
       "      <td>1</td>\n",
       "      <td>Sunrisers Hyderabad</td>\n",
       "      <td>Royal Challengers Bangalore</td>\n",
       "      <td>1</td>\n",
       "      <td>3</td>\n",
       "      <td>DA Warner</td>\n",
       "      <td>S Dhawan</td>\n",
       "      <td>TS Mills</td>\n",
       "      <td>0</td>\n",
       "      <td>...</td>\n",
       "      <td>0</td>\n",
       "      <td>0</td>\n",
       "      <td>0</td>\n",
       "      <td>0</td>\n",
       "      <td>4</td>\n",
       "      <td>0</td>\n",
       "      <td>4</td>\n",
       "      <td>NaN</td>\n",
       "      <td>NaN</td>\n",
       "      <td>NaN</td>\n",
       "    </tr>\n",
       "    <tr>\n",
       "      <th>3</th>\n",
       "      <td>1</td>\n",
       "      <td>1</td>\n",
       "      <td>Sunrisers Hyderabad</td>\n",
       "      <td>Royal Challengers Bangalore</td>\n",
       "      <td>1</td>\n",
       "      <td>4</td>\n",
       "      <td>DA Warner</td>\n",
       "      <td>S Dhawan</td>\n",
       "      <td>TS Mills</td>\n",
       "      <td>0</td>\n",
       "      <td>...</td>\n",
       "      <td>0</td>\n",
       "      <td>0</td>\n",
       "      <td>0</td>\n",
       "      <td>0</td>\n",
       "      <td>0</td>\n",
       "      <td>0</td>\n",
       "      <td>0</td>\n",
       "      <td>NaN</td>\n",
       "      <td>NaN</td>\n",
       "      <td>NaN</td>\n",
       "    </tr>\n",
       "    <tr>\n",
       "      <th>4</th>\n",
       "      <td>1</td>\n",
       "      <td>1</td>\n",
       "      <td>Sunrisers Hyderabad</td>\n",
       "      <td>Royal Challengers Bangalore</td>\n",
       "      <td>1</td>\n",
       "      <td>5</td>\n",
       "      <td>DA Warner</td>\n",
       "      <td>S Dhawan</td>\n",
       "      <td>TS Mills</td>\n",
       "      <td>0</td>\n",
       "      <td>...</td>\n",
       "      <td>0</td>\n",
       "      <td>0</td>\n",
       "      <td>0</td>\n",
       "      <td>0</td>\n",
       "      <td>0</td>\n",
       "      <td>2</td>\n",
       "      <td>2</td>\n",
       "      <td>NaN</td>\n",
       "      <td>NaN</td>\n",
       "      <td>NaN</td>\n",
       "    </tr>\n",
       "  </tbody>\n",
       "</table>\n",
       "<p>5 rows × 21 columns</p>\n",
       "</div>"
      ],
      "text/plain": [
       "   match_id  inning         batting_team                 bowling_team  over  \\\n",
       "0         1       1  Sunrisers Hyderabad  Royal Challengers Bangalore     1   \n",
       "1         1       1  Sunrisers Hyderabad  Royal Challengers Bangalore     1   \n",
       "2         1       1  Sunrisers Hyderabad  Royal Challengers Bangalore     1   \n",
       "3         1       1  Sunrisers Hyderabad  Royal Challengers Bangalore     1   \n",
       "4         1       1  Sunrisers Hyderabad  Royal Challengers Bangalore     1   \n",
       "\n",
       "   ball    batsman non_striker    bowler  is_super_over  ...  bye_runs  \\\n",
       "0     1  DA Warner    S Dhawan  TS Mills              0  ...         0   \n",
       "1     2  DA Warner    S Dhawan  TS Mills              0  ...         0   \n",
       "2     3  DA Warner    S Dhawan  TS Mills              0  ...         0   \n",
       "3     4  DA Warner    S Dhawan  TS Mills              0  ...         0   \n",
       "4     5  DA Warner    S Dhawan  TS Mills              0  ...         0   \n",
       "\n",
       "   legbye_runs  noball_runs  penalty_runs  batsman_runs  extra_runs  \\\n",
       "0            0            0             0             0           0   \n",
       "1            0            0             0             0           0   \n",
       "2            0            0             0             4           0   \n",
       "3            0            0             0             0           0   \n",
       "4            0            0             0             0           2   \n",
       "\n",
       "   total_runs  player_dismissed dismissal_kind fielder  \n",
       "0           0               NaN            NaN     NaN  \n",
       "1           0               NaN            NaN     NaN  \n",
       "2           4               NaN            NaN     NaN  \n",
       "3           0               NaN            NaN     NaN  \n",
       "4           2               NaN            NaN     NaN  \n",
       "\n",
       "[5 rows x 21 columns]"
      ]
     },
     "execution_count": 2,
     "metadata": {},
     "output_type": "execute_result"
    }
   ],
   "source": [
    "df=pd.read_csv('Match.csv')\n",
    "df.head()"
   ]
  },
  {
   "cell_type": "code",
   "execution_count": 3,
   "id": "dc5a654a",
   "metadata": {},
   "outputs": [
    {
     "data": {
      "text/html": [
       "<div>\n",
       "<style scoped>\n",
       "    .dataframe tbody tr th:only-of-type {\n",
       "        vertical-align: middle;\n",
       "    }\n",
       "\n",
       "    .dataframe tbody tr th {\n",
       "        vertical-align: top;\n",
       "    }\n",
       "\n",
       "    .dataframe thead th {\n",
       "        text-align: right;\n",
       "    }\n",
       "</style>\n",
       "<table border=\"1\" class=\"dataframe\">\n",
       "  <thead>\n",
       "    <tr style=\"text-align: right;\">\n",
       "      <th></th>\n",
       "      <th>match_id</th>\n",
       "      <th>inning</th>\n",
       "      <th>over</th>\n",
       "      <th>ball</th>\n",
       "      <th>is_super_over</th>\n",
       "      <th>wide_runs</th>\n",
       "      <th>bye_runs</th>\n",
       "      <th>legbye_runs</th>\n",
       "      <th>noball_runs</th>\n",
       "      <th>penalty_runs</th>\n",
       "      <th>batsman_runs</th>\n",
       "      <th>extra_runs</th>\n",
       "      <th>total_runs</th>\n",
       "    </tr>\n",
       "  </thead>\n",
       "  <tbody>\n",
       "    <tr>\n",
       "      <th>count</th>\n",
       "      <td>69761.000000</td>\n",
       "      <td>69761.000000</td>\n",
       "      <td>69761.000000</td>\n",
       "      <td>69761.000000</td>\n",
       "      <td>69761.000000</td>\n",
       "      <td>69761.000000</td>\n",
       "      <td>69761.000000</td>\n",
       "      <td>69761.000000</td>\n",
       "      <td>69761.000000</td>\n",
       "      <td>69761.000000</td>\n",
       "      <td>69761.000000</td>\n",
       "      <td>69761.000000</td>\n",
       "      <td>69761.000000</td>\n",
       "    </tr>\n",
       "    <tr>\n",
       "      <th>mean</th>\n",
       "      <td>148.317570</td>\n",
       "      <td>1.480555</td>\n",
       "      <td>10.099354</td>\n",
       "      <td>3.624145</td>\n",
       "      <td>0.000473</td>\n",
       "      <td>0.039893</td>\n",
       "      <td>0.005591</td>\n",
       "      <td>0.022806</td>\n",
       "      <td>0.005046</td>\n",
       "      <td>0.000072</td>\n",
       "      <td>1.211479</td>\n",
       "      <td>0.073408</td>\n",
       "      <td>1.284887</td>\n",
       "    </tr>\n",
       "    <tr>\n",
       "      <th>std</th>\n",
       "      <td>84.899858</td>\n",
       "      <td>0.501487</td>\n",
       "      <td>5.666241</td>\n",
       "      <td>1.813831</td>\n",
       "      <td>0.021745</td>\n",
       "      <td>0.268148</td>\n",
       "      <td>0.120195</td>\n",
       "      <td>0.202363</td>\n",
       "      <td>0.079619</td>\n",
       "      <td>0.018931</td>\n",
       "      <td>1.590157</td>\n",
       "      <td>0.361633</td>\n",
       "      <td>1.579107</td>\n",
       "    </tr>\n",
       "    <tr>\n",
       "      <th>min</th>\n",
       "      <td>1.000000</td>\n",
       "      <td>1.000000</td>\n",
       "      <td>1.000000</td>\n",
       "      <td>1.000000</td>\n",
       "      <td>0.000000</td>\n",
       "      <td>0.000000</td>\n",
       "      <td>0.000000</td>\n",
       "      <td>0.000000</td>\n",
       "      <td>0.000000</td>\n",
       "      <td>0.000000</td>\n",
       "      <td>0.000000</td>\n",
       "      <td>0.000000</td>\n",
       "      <td>0.000000</td>\n",
       "    </tr>\n",
       "    <tr>\n",
       "      <th>25%</th>\n",
       "      <td>75.000000</td>\n",
       "      <td>1.000000</td>\n",
       "      <td>5.000000</td>\n",
       "      <td>2.000000</td>\n",
       "      <td>0.000000</td>\n",
       "      <td>0.000000</td>\n",
       "      <td>0.000000</td>\n",
       "      <td>0.000000</td>\n",
       "      <td>0.000000</td>\n",
       "      <td>0.000000</td>\n",
       "      <td>0.000000</td>\n",
       "      <td>0.000000</td>\n",
       "      <td>0.000000</td>\n",
       "    </tr>\n",
       "    <tr>\n",
       "      <th>50%</th>\n",
       "      <td>150.000000</td>\n",
       "      <td>1.000000</td>\n",
       "      <td>10.000000</td>\n",
       "      <td>4.000000</td>\n",
       "      <td>0.000000</td>\n",
       "      <td>0.000000</td>\n",
       "      <td>0.000000</td>\n",
       "      <td>0.000000</td>\n",
       "      <td>0.000000</td>\n",
       "      <td>0.000000</td>\n",
       "      <td>1.000000</td>\n",
       "      <td>0.000000</td>\n",
       "      <td>1.000000</td>\n",
       "    </tr>\n",
       "    <tr>\n",
       "      <th>75%</th>\n",
       "      <td>221.000000</td>\n",
       "      <td>2.000000</td>\n",
       "      <td>15.000000</td>\n",
       "      <td>5.000000</td>\n",
       "      <td>0.000000</td>\n",
       "      <td>0.000000</td>\n",
       "      <td>0.000000</td>\n",
       "      <td>0.000000</td>\n",
       "      <td>0.000000</td>\n",
       "      <td>0.000000</td>\n",
       "      <td>1.000000</td>\n",
       "      <td>0.000000</td>\n",
       "      <td>1.000000</td>\n",
       "    </tr>\n",
       "    <tr>\n",
       "      <th>max</th>\n",
       "      <td>295.000000</td>\n",
       "      <td>4.000000</td>\n",
       "      <td>20.000000</td>\n",
       "      <td>9.000000</td>\n",
       "      <td>1.000000</td>\n",
       "      <td>5.000000</td>\n",
       "      <td>4.000000</td>\n",
       "      <td>5.000000</td>\n",
       "      <td>5.000000</td>\n",
       "      <td>5.000000</td>\n",
       "      <td>6.000000</td>\n",
       "      <td>5.000000</td>\n",
       "      <td>7.000000</td>\n",
       "    </tr>\n",
       "  </tbody>\n",
       "</table>\n",
       "</div>"
      ],
      "text/plain": [
       "           match_id        inning          over          ball  is_super_over  \\\n",
       "count  69761.000000  69761.000000  69761.000000  69761.000000   69761.000000   \n",
       "mean     148.317570      1.480555     10.099354      3.624145       0.000473   \n",
       "std       84.899858      0.501487      5.666241      1.813831       0.021745   \n",
       "min        1.000000      1.000000      1.000000      1.000000       0.000000   \n",
       "25%       75.000000      1.000000      5.000000      2.000000       0.000000   \n",
       "50%      150.000000      1.000000     10.000000      4.000000       0.000000   \n",
       "75%      221.000000      2.000000     15.000000      5.000000       0.000000   \n",
       "max      295.000000      4.000000     20.000000      9.000000       1.000000   \n",
       "\n",
       "          wide_runs      bye_runs   legbye_runs   noball_runs  penalty_runs  \\\n",
       "count  69761.000000  69761.000000  69761.000000  69761.000000  69761.000000   \n",
       "mean       0.039893      0.005591      0.022806      0.005046      0.000072   \n",
       "std        0.268148      0.120195      0.202363      0.079619      0.018931   \n",
       "min        0.000000      0.000000      0.000000      0.000000      0.000000   \n",
       "25%        0.000000      0.000000      0.000000      0.000000      0.000000   \n",
       "50%        0.000000      0.000000      0.000000      0.000000      0.000000   \n",
       "75%        0.000000      0.000000      0.000000      0.000000      0.000000   \n",
       "max        5.000000      4.000000      5.000000      5.000000      5.000000   \n",
       "\n",
       "       batsman_runs    extra_runs    total_runs  \n",
       "count  69761.000000  69761.000000  69761.000000  \n",
       "mean       1.211479      0.073408      1.284887  \n",
       "std        1.590157      0.361633      1.579107  \n",
       "min        0.000000      0.000000      0.000000  \n",
       "25%        0.000000      0.000000      0.000000  \n",
       "50%        1.000000      0.000000      1.000000  \n",
       "75%        1.000000      0.000000      1.000000  \n",
       "max        6.000000      5.000000      7.000000  "
      ]
     },
     "execution_count": 3,
     "metadata": {},
     "output_type": "execute_result"
    }
   ],
   "source": [
    "df.describe()"
   ]
  },
  {
   "cell_type": "code",
   "execution_count": 4,
   "id": "15d0d3f4",
   "metadata": {},
   "outputs": [
    {
     "name": "stdout",
     "output_type": "stream",
     "text": [
      "<class 'pandas.core.frame.DataFrame'>\n",
      "RangeIndex: 69761 entries, 0 to 69760\n",
      "Data columns (total 21 columns):\n",
      " #   Column            Non-Null Count  Dtype \n",
      "---  ------            --------------  ----- \n",
      " 0   match_id          69761 non-null  int64 \n",
      " 1   inning            69761 non-null  int64 \n",
      " 2   batting_team      69761 non-null  object\n",
      " 3   bowling_team      69761 non-null  object\n",
      " 4   over              69761 non-null  int64 \n",
      " 5   ball              69761 non-null  int64 \n",
      " 6   batsman           69761 non-null  object\n",
      " 7   non_striker       69761 non-null  object\n",
      " 8   bowler            69761 non-null  object\n",
      " 9   is_super_over     69761 non-null  int64 \n",
      " 10  wide_runs         69761 non-null  int64 \n",
      " 11  bye_runs          69761 non-null  int64 \n",
      " 12  legbye_runs       69761 non-null  int64 \n",
      " 13  noball_runs       69761 non-null  int64 \n",
      " 14  penalty_runs      69761 non-null  int64 \n",
      " 15  batsman_runs      69761 non-null  int64 \n",
      " 16  extra_runs        69761 non-null  int64 \n",
      " 17  total_runs        69761 non-null  int64 \n",
      " 18  player_dismissed  3516 non-null   object\n",
      " 19  dismissal_kind    3516 non-null   object\n",
      " 20  fielder           2529 non-null   object\n",
      "dtypes: int64(13), object(8)\n",
      "memory usage: 11.2+ MB\n"
     ]
    }
   ],
   "source": [
    "df.info()"
   ]
  },
  {
   "cell_type": "markdown",
   "id": "1c78a68b",
   "metadata": {},
   "source": [
    "### find total runs of batsman in this particular league---->overall batsman runs"
   ]
  },
  {
   "cell_type": "code",
   "execution_count": 5,
   "id": "a966f77b",
   "metadata": {},
   "outputs": [
    {
     "data": {
      "text/plain": [
       "84514"
      ]
     },
     "execution_count": 5,
     "metadata": {},
     "output_type": "execute_result"
    }
   ],
   "source": [
    "df['batsman_runs'].sum()"
   ]
  },
  {
   "cell_type": "markdown",
   "id": "493bf6c9",
   "metadata": {},
   "source": [
    "### find total number of wide runs"
   ]
  },
  {
   "cell_type": "code",
   "execution_count": 6,
   "id": "405cf3a4",
   "metadata": {},
   "outputs": [
    {
     "data": {
      "text/plain": [
       "2783"
      ]
     },
     "execution_count": 6,
     "metadata": {},
     "output_type": "execute_result"
    }
   ],
   "source": [
    "df['wide_runs'].sum()"
   ]
  },
  {
   "cell_type": "markdown",
   "id": "565030f6",
   "metadata": {},
   "source": [
    "### find total runs of virat kolhi"
   ]
  },
  {
   "cell_type": "code",
   "execution_count": 7,
   "id": "d92359a2",
   "metadata": {},
   "outputs": [
    {
     "data": {
      "text/plain": [
       "1428"
      ]
     },
     "execution_count": 7,
     "metadata": {},
     "output_type": "execute_result"
    }
   ],
   "source": [
    "df['batsman_runs'].loc[df['batsman']=='V Kohli'].sum()"
   ]
  },
  {
   "cell_type": "markdown",
   "id": "4b060729",
   "metadata": {},
   "source": [
    "### calculate the total extra runs given by a particular bowler"
   ]
  },
  {
   "cell_type": "code",
   "execution_count": 8,
   "id": "8a343bf2",
   "metadata": {},
   "outputs": [
    {
     "data": {
      "text/plain": [
       "13"
      ]
     },
     "execution_count": 8,
     "metadata": {},
     "output_type": "execute_result"
    }
   ],
   "source": [
    "df['extra_runs'].loc[df['bowler']=='TS Mills'].sum()"
   ]
  },
  {
   "cell_type": "markdown",
   "id": "fae28f4d",
   "metadata": {},
   "source": [
    "### find out the catches taken by mandeep singh"
   ]
  },
  {
   "cell_type": "code",
   "execution_count": 9,
   "id": "b018cbed",
   "metadata": {},
   "outputs": [
    {
     "data": {
      "text/plain": [
       "caught               2029\n",
       "bowled                650\n",
       "run out               379\n",
       "lbw                   223\n",
       "stumped               121\n",
       "caught and bowled     106\n",
       "retired hurt            4\n",
       "hit wicket              4\n",
       "Name: dismissal_kind, dtype: int64"
      ]
     },
     "execution_count": 9,
     "metadata": {},
     "output_type": "execute_result"
    }
   ],
   "source": [
    "df['dismissal_kind'].value_counts()"
   ]
  },
  {
   "cell_type": "code",
   "execution_count": 11,
   "id": "22e36638",
   "metadata": {},
   "outputs": [
    {
     "data": {
      "text/plain": [
       "7"
      ]
     },
     "execution_count": 11,
     "metadata": {},
     "output_type": "execute_result"
    }
   ],
   "source": [
    "len(df.loc[(df['dismissal_kind']=='caught') & (df['fielder']=='Mandeep Singh')])"
   ]
  },
  {
   "cell_type": "markdown",
   "id": "d9f3edcc",
   "metadata": {},
   "source": [
    "### how many times DA Warner was dismiised by A choudhary"
   ]
  },
  {
   "cell_type": "code",
   "execution_count": 12,
   "id": "814b2172",
   "metadata": {},
   "outputs": [
    {
     "data": {
      "text/plain": [
       "1"
      ]
     },
     "execution_count": 12,
     "metadata": {},
     "output_type": "execute_result"
    }
   ],
   "source": [
    "len(df.loc[(df['player_dismissed']=='DA Warner') & (df['bowler']=='A Choudhary')])"
   ]
  },
  {
   "cell_type": "markdown",
   "id": "ed5be1d8",
   "metadata": {},
   "source": [
    "### find number of stumpouts done by MS Dhoni."
   ]
  },
  {
   "cell_type": "code",
   "execution_count": 19,
   "id": "df5a4465",
   "metadata": {},
   "outputs": [
    {
     "data": {
      "text/plain": [
       "17"
      ]
     },
     "execution_count": 19,
     "metadata": {},
     "output_type": "execute_result"
    }
   ],
   "source": [
    "len(df.loc[(df['dismissal_kind']=='stumped') & (df['fielder']=='MS Dhoni')])"
   ]
  },
  {
   "cell_type": "markdown",
   "id": "42ee54a7",
   "metadata": {},
   "source": [
    "### find the batsman stumped out by MS Dhoni"
   ]
  },
  {
   "cell_type": "code",
   "execution_count": 22,
   "id": "e342c828",
   "metadata": {},
   "outputs": [
    {
     "data": {
      "text/plain": [
       "AT Rayudu         2\n",
       "MD Mishra         2\n",
       "BB McCullum       1\n",
       "AB de Villiers    1\n",
       "CJ Anderson       1\n",
       "RV Uthappa        1\n",
       "DA Warner         1\n",
       "GC Smith          1\n",
       "AS Raut           1\n",
       "CH Gayle          1\n",
       "DJ Hussey         1\n",
       "WP Saha           1\n",
       "MS Bisla          1\n",
       "EJG Morgan        1\n",
       "MK Tiwary         1\n",
       "Name: batsman, dtype: int64"
      ]
     },
     "execution_count": 22,
     "metadata": {},
     "output_type": "execute_result"
    }
   ],
   "source": [
    "df['batsman'].loc[(df['dismissal_kind']=='stumped') & (df['fielder']=='MS Dhoni')].value_counts()"
   ]
  },
  {
   "cell_type": "code",
   "execution_count": 23,
   "id": "f639d161",
   "metadata": {},
   "outputs": [
    {
     "data": {
      "text/plain": [
       "15"
      ]
     },
     "execution_count": 23,
     "metadata": {},
     "output_type": "execute_result"
    }
   ],
   "source": [
    "len(df['batsman'].loc[(df['dismissal_kind']=='stumped') & (df['fielder']=='MS Dhoni')].value_counts())"
   ]
  },
  {
   "cell_type": "markdown",
   "id": "b35a6bc5",
   "metadata": {},
   "source": [
    "### find the total number of sixes hit by MS dhoni"
   ]
  },
  {
   "cell_type": "code",
   "execution_count": 33,
   "id": "bb49f14d",
   "metadata": {},
   "outputs": [
    {
     "data": {
      "text/plain": [
       "62"
      ]
     },
     "execution_count": 33,
     "metadata": {},
     "output_type": "execute_result"
    }
   ],
   "source": [
    "len(df.loc[(df['batsman_runs']==6) & (df['batsman']=='MS Dhoni')])"
   ]
  },
  {
   "cell_type": "markdown",
   "id": "db1d5cf8",
   "metadata": {},
   "source": [
    "### how many times S Dhawan out by lbw"
   ]
  },
  {
   "cell_type": "code",
   "execution_count": 34,
   "id": "b7e91994",
   "metadata": {},
   "outputs": [
    {
     "data": {
      "text/html": [
       "<div>\n",
       "<style scoped>\n",
       "    .dataframe tbody tr th:only-of-type {\n",
       "        vertical-align: middle;\n",
       "    }\n",
       "\n",
       "    .dataframe tbody tr th {\n",
       "        vertical-align: top;\n",
       "    }\n",
       "\n",
       "    .dataframe thead th {\n",
       "        text-align: right;\n",
       "    }\n",
       "</style>\n",
       "<table border=\"1\" class=\"dataframe\">\n",
       "  <thead>\n",
       "    <tr style=\"text-align: right;\">\n",
       "      <th></th>\n",
       "      <th>match_id</th>\n",
       "      <th>inning</th>\n",
       "      <th>batting_team</th>\n",
       "      <th>bowling_team</th>\n",
       "      <th>over</th>\n",
       "      <th>ball</th>\n",
       "      <th>batsman</th>\n",
       "      <th>non_striker</th>\n",
       "      <th>bowler</th>\n",
       "      <th>is_super_over</th>\n",
       "      <th>...</th>\n",
       "      <th>bye_runs</th>\n",
       "      <th>legbye_runs</th>\n",
       "      <th>noball_runs</th>\n",
       "      <th>penalty_runs</th>\n",
       "      <th>batsman_runs</th>\n",
       "      <th>extra_runs</th>\n",
       "      <th>total_runs</th>\n",
       "      <th>player_dismissed</th>\n",
       "      <th>dismissal_kind</th>\n",
       "      <th>fielder</th>\n",
       "    </tr>\n",
       "  </thead>\n",
       "  <tbody>\n",
       "    <tr>\n",
       "      <th>31390</th>\n",
       "      <td>135</td>\n",
       "      <td>2</td>\n",
       "      <td>Mumbai Indians</td>\n",
       "      <td>Kings XI Punjab</td>\n",
       "      <td>5</td>\n",
       "      <td>1</td>\n",
       "      <td>S Dhawan</td>\n",
       "      <td>JP Duminy</td>\n",
       "      <td>YA Abdulla</td>\n",
       "      <td>0</td>\n",
       "      <td>...</td>\n",
       "      <td>0</td>\n",
       "      <td>0</td>\n",
       "      <td>0</td>\n",
       "      <td>0</td>\n",
       "      <td>0</td>\n",
       "      <td>0</td>\n",
       "      <td>0</td>\n",
       "      <td>S Dhawan</td>\n",
       "      <td>lbw</td>\n",
       "      <td>NaN</td>\n",
       "    </tr>\n",
       "    <tr>\n",
       "      <th>46812</th>\n",
       "      <td>199</td>\n",
       "      <td>1</td>\n",
       "      <td>Mumbai Indians</td>\n",
       "      <td>Deccan Chargers</td>\n",
       "      <td>4</td>\n",
       "      <td>3</td>\n",
       "      <td>S Dhawan</td>\n",
       "      <td>SR Tendulkar</td>\n",
       "      <td>Jaskaran Singh</td>\n",
       "      <td>0</td>\n",
       "      <td>...</td>\n",
       "      <td>0</td>\n",
       "      <td>0</td>\n",
       "      <td>0</td>\n",
       "      <td>0</td>\n",
       "      <td>0</td>\n",
       "      <td>0</td>\n",
       "      <td>0</td>\n",
       "      <td>S Dhawan</td>\n",
       "      <td>lbw</td>\n",
       "      <td>NaN</td>\n",
       "    </tr>\n",
       "  </tbody>\n",
       "</table>\n",
       "<p>2 rows × 21 columns</p>\n",
       "</div>"
      ],
      "text/plain": [
       "       match_id  inning    batting_team     bowling_team  over  ball  \\\n",
       "31390       135       2  Mumbai Indians  Kings XI Punjab     5     1   \n",
       "46812       199       1  Mumbai Indians  Deccan Chargers     4     3   \n",
       "\n",
       "        batsman   non_striker          bowler  is_super_over  ...  bye_runs  \\\n",
       "31390  S Dhawan     JP Duminy      YA Abdulla              0  ...         0   \n",
       "46812  S Dhawan  SR Tendulkar  Jaskaran Singh              0  ...         0   \n",
       "\n",
       "       legbye_runs  noball_runs  penalty_runs  batsman_runs  extra_runs  \\\n",
       "31390            0            0             0             0           0   \n",
       "46812            0            0             0             0           0   \n",
       "\n",
       "       total_runs  player_dismissed dismissal_kind fielder  \n",
       "31390           0          S Dhawan            lbw     NaN  \n",
       "46812           0          S Dhawan            lbw     NaN  \n",
       "\n",
       "[2 rows x 21 columns]"
      ]
     },
     "execution_count": 34,
     "metadata": {},
     "output_type": "execute_result"
    }
   ],
   "source": [
    "df.loc[(df['player_dismissed']=='S Dhawan') & (df['dismissal_kind']=='lbw')]"
   ]
  },
  {
   "cell_type": "markdown",
   "id": "b8520b8c",
   "metadata": {},
   "source": [
    "### find the total runs scored by MS Dhoni by hitting sixes"
   ]
  },
  {
   "cell_type": "code",
   "execution_count": 35,
   "id": "22873c23",
   "metadata": {},
   "outputs": [
    {
     "data": {
      "text/plain": [
       "372"
      ]
     },
     "execution_count": 35,
     "metadata": {},
     "output_type": "execute_result"
    }
   ],
   "source": [
    "df['batsman_runs'].loc[(df['batsman']=='MS Dhoni') & (df['batsman_runs']==6)].sum()"
   ]
  },
  {
   "cell_type": "markdown",
   "id": "c985a853",
   "metadata": {},
   "source": [
    "### find the number of superover"
   ]
  },
  {
   "cell_type": "code",
   "execution_count": 36,
   "id": "60909821",
   "metadata": {},
   "outputs": [
    {
     "data": {
      "text/plain": [
       "33"
      ]
     },
     "execution_count": 36,
     "metadata": {},
     "output_type": "execute_result"
    }
   ],
   "source": [
    "len(df.loc[df['is_super_over']==1])"
   ]
  },
  {
   "cell_type": "markdown",
   "id": "970476f8",
   "metadata": {},
   "source": [
    "### find the total number of fours hit by virat kohli"
   ]
  },
  {
   "cell_type": "code",
   "execution_count": 37,
   "id": "c614028b",
   "metadata": {},
   "outputs": [
    {
     "data": {
      "text/plain": [
       "131"
      ]
     },
     "execution_count": 37,
     "metadata": {},
     "output_type": "execute_result"
    }
   ],
   "source": [
    "len(df.loc[(df['batsman_runs']==4) & (df['batsman']=='V Kohli')])"
   ]
  },
  {
   "cell_type": "markdown",
   "id": "f2eb857e",
   "metadata": {},
   "source": [
    "### find the batsman who  bowled STR binny"
   ]
  },
  {
   "cell_type": "code",
   "execution_count": 48,
   "id": "4012466c",
   "metadata": {},
   "outputs": [
    {
     "data": {
      "text/plain": [
       "0"
      ]
     },
     "execution_count": 48,
     "metadata": {},
     "output_type": "execute_result"
    }
   ],
   "source": [
    "len(df.loc[(df['bowler']=='TS Mills')& (df['batsman']=='V Kohli')])"
   ]
  },
  {
   "cell_type": "markdown",
   "id": "10a1067b",
   "metadata": {},
   "source": [
    "### find the total number of sixes hit by Yuvraj Singh"
   ]
  },
  {
   "cell_type": "code",
   "execution_count": 43,
   "id": "3d3116d6",
   "metadata": {},
   "outputs": [
    {
     "data": {
      "text/plain": [
       "75"
      ]
     },
     "execution_count": 43,
     "metadata": {},
     "output_type": "execute_result"
    }
   ],
   "source": [
    "len(df.loc[(df['batsman_runs']==6) & (df['batsman']=='Yuvraj Singh')])"
   ]
  },
  {
   "cell_type": "code",
   "execution_count": null,
   "id": "b65b7dac",
   "metadata": {},
   "outputs": [],
   "source": [
    "find no of wickets "
   ]
  }
 ],
 "metadata": {
  "kernelspec": {
   "display_name": "Python 3 (ipykernel)",
   "language": "python",
   "name": "python3"
  },
  "language_info": {
   "codemirror_mode": {
    "name": "ipython",
    "version": 3
   },
   "file_extension": ".py",
   "mimetype": "text/x-python",
   "name": "python",
   "nbconvert_exporter": "python",
   "pygments_lexer": "ipython3",
   "version": "3.10.9"
  }
 },
 "nbformat": 4,
 "nbformat_minor": 5
}
