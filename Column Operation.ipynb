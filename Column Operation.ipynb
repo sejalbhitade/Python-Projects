{
 "cells": [
  {
   "cell_type": "code",
   "execution_count": 1,
   "id": "01884f06",
   "metadata": {},
   "outputs": [],
   "source": [
    "import numpy as np\n",
    "import pandas as pd\n",
    "import warnings \n",
    "warnings.filterwarnings('ignore')"
   ]
  },
  {
   "cell_type": "code",
   "execution_count": 2,
   "id": "63c12c80",
   "metadata": {},
   "outputs": [],
   "source": [
    "df=pd.read_csv(\"course.csv\")"
   ]
  },
  {
   "cell_type": "code",
   "execution_count": 3,
   "id": "062473c7",
   "metadata": {
    "scrolled": true
   },
   "outputs": [
    {
     "data": {
      "text/html": [
       "<div>\n",
       "<style scoped>\n",
       "    .dataframe tbody tr th:only-of-type {\n",
       "        vertical-align: middle;\n",
       "    }\n",
       "\n",
       "    .dataframe tbody tr th {\n",
       "        vertical-align: top;\n",
       "    }\n",
       "\n",
       "    .dataframe thead th {\n",
       "        text-align: right;\n",
       "    }\n",
       "</style>\n",
       "<table border=\"1\" class=\"dataframe\">\n",
       "  <thead>\n",
       "    <tr style=\"text-align: right;\">\n",
       "      <th></th>\n",
       "      <th>1</th>\n",
       "      <th>Mumbai</th>\n",
       "      <th>PQR institute .Pvt</th>\n",
       "      <th>BI</th>\n",
       "      <th>MH</th>\n",
       "      <th>9 Months</th>\n",
       "    </tr>\n",
       "  </thead>\n",
       "  <tbody>\n",
       "    <tr>\n",
       "      <th>0</th>\n",
       "      <td>2</td>\n",
       "      <td>Delhi</td>\n",
       "      <td>ABC institute .Pvt.LTD</td>\n",
       "      <td>AI</td>\n",
       "      <td>UP</td>\n",
       "      <td>18 Months</td>\n",
       "    </tr>\n",
       "    <tr>\n",
       "      <th>1</th>\n",
       "      <td>3</td>\n",
       "      <td>Bengaluru</td>\n",
       "      <td>MNO  institute .Ltd</td>\n",
       "      <td>Data Science</td>\n",
       "      <td>TN</td>\n",
       "      <td>11 Months</td>\n",
       "    </tr>\n",
       "    <tr>\n",
       "      <th>2</th>\n",
       "      <td>4</td>\n",
       "      <td>Bhopal</td>\n",
       "      <td>RST  institute .Pvt.LTD</td>\n",
       "      <td>ML</td>\n",
       "      <td>MP</td>\n",
       "      <td>3 Months</td>\n",
       "    </tr>\n",
       "    <tr>\n",
       "      <th>3</th>\n",
       "      <td>5</td>\n",
       "      <td>Mumbai</td>\n",
       "      <td>EFG  institute .Pvt.LTD</td>\n",
       "      <td>DL</td>\n",
       "      <td>MH</td>\n",
       "      <td>3 Months</td>\n",
       "    </tr>\n",
       "    <tr>\n",
       "      <th>4</th>\n",
       "      <td>6</td>\n",
       "      <td>Hyderabad</td>\n",
       "      <td>LMN  institute</td>\n",
       "      <td>Could</td>\n",
       "      <td>AP</td>\n",
       "      <td>4 Months</td>\n",
       "    </tr>\n",
       "  </tbody>\n",
       "</table>\n",
       "</div>"
      ],
      "text/plain": [
       "   1     Mumbai       PQR institute .Pvt            BI  MH   9 Months\n",
       "0  2      Delhi   ABC institute .Pvt.LTD            AI  UP  18 Months\n",
       "1  3  Bengaluru      MNO  institute .Ltd  Data Science  TN  11 Months\n",
       "2  4     Bhopal  RST  institute .Pvt.LTD            ML  MP   3 Months\n",
       "3  5     Mumbai  EFG  institute .Pvt.LTD            DL  MH   3 Months\n",
       "4  6  Hyderabad          LMN  institute          Could  AP   4 Months"
      ]
     },
     "execution_count": 3,
     "metadata": {},
     "output_type": "execute_result"
    }
   ],
   "source": [
    "df.head()   #gives 1st 5 records"
   ]
  },
  {
   "cell_type": "markdown",
   "id": "6d6e18a1",
   "metadata": {},
   "source": [
    "## adding col name/header:"
   ]
  },
  {
   "cell_type": "code",
   "execution_count": 8,
   "id": "0ff339e9",
   "metadata": {},
   "outputs": [],
   "source": [
    "header=['sr no','city','coaching centre','courses','states','course duration']\n",
    "\n",
    "df=pd.read_csv('course.csv',names=header)"
   ]
  },
  {
   "cell_type": "code",
   "execution_count": 9,
   "id": "698706cb",
   "metadata": {},
   "outputs": [
    {
     "data": {
      "text/html": [
       "<div>\n",
       "<style scoped>\n",
       "    .dataframe tbody tr th:only-of-type {\n",
       "        vertical-align: middle;\n",
       "    }\n",
       "\n",
       "    .dataframe tbody tr th {\n",
       "        vertical-align: top;\n",
       "    }\n",
       "\n",
       "    .dataframe thead th {\n",
       "        text-align: right;\n",
       "    }\n",
       "</style>\n",
       "<table border=\"1\" class=\"dataframe\">\n",
       "  <thead>\n",
       "    <tr style=\"text-align: right;\">\n",
       "      <th></th>\n",
       "      <th>sr no</th>\n",
       "      <th>city</th>\n",
       "      <th>coaching centre</th>\n",
       "      <th>courses</th>\n",
       "      <th>states</th>\n",
       "      <th>course duration</th>\n",
       "    </tr>\n",
       "  </thead>\n",
       "  <tbody>\n",
       "    <tr>\n",
       "      <th>0</th>\n",
       "      <td>1</td>\n",
       "      <td>Mumbai</td>\n",
       "      <td>PQR institute .Pvt</td>\n",
       "      <td>BI</td>\n",
       "      <td>MH</td>\n",
       "      <td>9 Months</td>\n",
       "    </tr>\n",
       "    <tr>\n",
       "      <th>1</th>\n",
       "      <td>2</td>\n",
       "      <td>Delhi</td>\n",
       "      <td>ABC institute .Pvt.LTD</td>\n",
       "      <td>AI</td>\n",
       "      <td>UP</td>\n",
       "      <td>18 Months</td>\n",
       "    </tr>\n",
       "    <tr>\n",
       "      <th>2</th>\n",
       "      <td>3</td>\n",
       "      <td>Bengaluru</td>\n",
       "      <td>MNO  institute .Ltd</td>\n",
       "      <td>Data Science</td>\n",
       "      <td>TN</td>\n",
       "      <td>11 Months</td>\n",
       "    </tr>\n",
       "    <tr>\n",
       "      <th>3</th>\n",
       "      <td>4</td>\n",
       "      <td>Bhopal</td>\n",
       "      <td>RST  institute .Pvt.LTD</td>\n",
       "      <td>ML</td>\n",
       "      <td>MP</td>\n",
       "      <td>3 Months</td>\n",
       "    </tr>\n",
       "    <tr>\n",
       "      <th>4</th>\n",
       "      <td>5</td>\n",
       "      <td>Mumbai</td>\n",
       "      <td>EFG  institute .Pvt.LTD</td>\n",
       "      <td>DL</td>\n",
       "      <td>MH</td>\n",
       "      <td>3 Months</td>\n",
       "    </tr>\n",
       "  </tbody>\n",
       "</table>\n",
       "</div>"
      ],
      "text/plain": [
       "   sr no       city          coaching centre       courses states  \\\n",
       "0      1     Mumbai       PQR institute .Pvt            BI     MH   \n",
       "1      2      Delhi   ABC institute .Pvt.LTD            AI     UP   \n",
       "2      3  Bengaluru      MNO  institute .Ltd  Data Science     TN   \n",
       "3      4     Bhopal  RST  institute .Pvt.LTD            ML     MP   \n",
       "4      5     Mumbai  EFG  institute .Pvt.LTD            DL     MH   \n",
       "\n",
       "  course duration  \n",
       "0        9 Months  \n",
       "1       18 Months  \n",
       "2       11 Months  \n",
       "3        3 Months  \n",
       "4        3 Months  "
      ]
     },
     "execution_count": 9,
     "metadata": {},
     "output_type": "execute_result"
    }
   ],
   "source": [
    "df.head()"
   ]
  },
  {
   "cell_type": "markdown",
   "id": "2fb2609e",
   "metadata": {},
   "source": [
    "## b.selecting a col:\n",
    "\n",
    "1.) dot notation\n",
    "\n",
    "2.) brackets"
   ]
  },
  {
   "cell_type": "code",
   "execution_count": 10,
   "id": "850ec967",
   "metadata": {},
   "outputs": [
    {
     "data": {
      "text/plain": [
       "0       Mumbai\n",
       "1        Delhi\n",
       "2    Bengaluru\n",
       "3       Bhopal\n",
       "4       Mumbai\n",
       "Name: city, dtype: object"
      ]
     },
     "execution_count": 10,
     "metadata": {},
     "output_type": "execute_result"
    }
   ],
   "source": [
    "df.city.head()"
   ]
  },
  {
   "cell_type": "code",
   "execution_count": 11,
   "id": "37368628",
   "metadata": {},
   "outputs": [
    {
     "data": {
      "text/plain": [
       "0     9 Months\n",
       "1    18 Months\n",
       "2    11 Months\n",
       "3     3 Months\n",
       "4     3 Months\n",
       "Name: course duration, dtype: object"
      ]
     },
     "execution_count": 11,
     "metadata": {},
     "output_type": "execute_result"
    }
   ],
   "source": [
    "df['course duration'].head()"
   ]
  },
  {
   "cell_type": "markdown",
   "id": "364e8a10",
   "metadata": {},
   "source": [
    "## c.) adding new cols:"
   ]
  },
  {
   "cell_type": "code",
   "execution_count": 13,
   "id": "8d49dd29",
   "metadata": {},
   "outputs": [],
   "source": [
    "location=df['city']+' '+df['states']"
   ]
  },
  {
   "cell_type": "code",
   "execution_count": 14,
   "id": "3cae47d5",
   "metadata": {},
   "outputs": [
    {
     "data": {
      "text/plain": [
       "0        Mumbai MH\n",
       "1         Delhi UP\n",
       "2     Bengaluru TN\n",
       "3        Bhopal MP\n",
       "4        Mumbai MH\n",
       "5     Hyderabad AP\n",
       "6         Patna BH\n",
       "7       Channai KT\n",
       "8       Kolkata WB\n",
       "9     Hyderabad AP\n",
       "10       Bhopal MP\n",
       "11         Pune MH\n",
       "12        Delhi UP\n",
       "13       Mumbai MH\n",
       "14        Patna BH\n",
       "15        Surat GJ\n",
       "16        Delhi UP\n",
       "17       Mumbai MH\n",
       "18         Pune MH\n",
       "19    Bengaluru TN\n",
       "20        Surat Gj\n",
       "21    Hyderabad AP\n",
       "22       Mumbai MH\n",
       "23      Channai KT\n",
       "24        Patna BH\n",
       "dtype: object"
      ]
     },
     "execution_count": 14,
     "metadata": {},
     "output_type": "execute_result"
    }
   ],
   "source": [
    "location"
   ]
  },
  {
   "cell_type": "code",
   "execution_count": 15,
   "id": "29782444",
   "metadata": {},
   "outputs": [],
   "source": [
    "df['location']=location"
   ]
  },
  {
   "cell_type": "code",
   "execution_count": 16,
   "id": "14eb7778",
   "metadata": {},
   "outputs": [
    {
     "data": {
      "text/html": [
       "<div>\n",
       "<style scoped>\n",
       "    .dataframe tbody tr th:only-of-type {\n",
       "        vertical-align: middle;\n",
       "    }\n",
       "\n",
       "    .dataframe tbody tr th {\n",
       "        vertical-align: top;\n",
       "    }\n",
       "\n",
       "    .dataframe thead th {\n",
       "        text-align: right;\n",
       "    }\n",
       "</style>\n",
       "<table border=\"1\" class=\"dataframe\">\n",
       "  <thead>\n",
       "    <tr style=\"text-align: right;\">\n",
       "      <th></th>\n",
       "      <th>sr no</th>\n",
       "      <th>city</th>\n",
       "      <th>coaching centre</th>\n",
       "      <th>courses</th>\n",
       "      <th>states</th>\n",
       "      <th>course duration</th>\n",
       "      <th>location</th>\n",
       "    </tr>\n",
       "  </thead>\n",
       "  <tbody>\n",
       "    <tr>\n",
       "      <th>0</th>\n",
       "      <td>1</td>\n",
       "      <td>Mumbai</td>\n",
       "      <td>PQR institute .Pvt</td>\n",
       "      <td>BI</td>\n",
       "      <td>MH</td>\n",
       "      <td>9 Months</td>\n",
       "      <td>Mumbai MH</td>\n",
       "    </tr>\n",
       "    <tr>\n",
       "      <th>1</th>\n",
       "      <td>2</td>\n",
       "      <td>Delhi</td>\n",
       "      <td>ABC institute .Pvt.LTD</td>\n",
       "      <td>AI</td>\n",
       "      <td>UP</td>\n",
       "      <td>18 Months</td>\n",
       "      <td>Delhi UP</td>\n",
       "    </tr>\n",
       "    <tr>\n",
       "      <th>2</th>\n",
       "      <td>3</td>\n",
       "      <td>Bengaluru</td>\n",
       "      <td>MNO  institute .Ltd</td>\n",
       "      <td>Data Science</td>\n",
       "      <td>TN</td>\n",
       "      <td>11 Months</td>\n",
       "      <td>Bengaluru TN</td>\n",
       "    </tr>\n",
       "    <tr>\n",
       "      <th>3</th>\n",
       "      <td>4</td>\n",
       "      <td>Bhopal</td>\n",
       "      <td>RST  institute .Pvt.LTD</td>\n",
       "      <td>ML</td>\n",
       "      <td>MP</td>\n",
       "      <td>3 Months</td>\n",
       "      <td>Bhopal MP</td>\n",
       "    </tr>\n",
       "    <tr>\n",
       "      <th>4</th>\n",
       "      <td>5</td>\n",
       "      <td>Mumbai</td>\n",
       "      <td>EFG  institute .Pvt.LTD</td>\n",
       "      <td>DL</td>\n",
       "      <td>MH</td>\n",
       "      <td>3 Months</td>\n",
       "      <td>Mumbai MH</td>\n",
       "    </tr>\n",
       "  </tbody>\n",
       "</table>\n",
       "</div>"
      ],
      "text/plain": [
       "   sr no       city          coaching centre       courses states  \\\n",
       "0      1     Mumbai       PQR institute .Pvt            BI     MH   \n",
       "1      2      Delhi   ABC institute .Pvt.LTD            AI     UP   \n",
       "2      3  Bengaluru      MNO  institute .Ltd  Data Science     TN   \n",
       "3      4     Bhopal  RST  institute .Pvt.LTD            ML     MP   \n",
       "4      5     Mumbai  EFG  institute .Pvt.LTD            DL     MH   \n",
       "\n",
       "  course duration      location  \n",
       "0        9 Months     Mumbai MH  \n",
       "1       18 Months      Delhi UP  \n",
       "2       11 Months  Bengaluru TN  \n",
       "3        3 Months     Bhopal MP  \n",
       "4        3 Months     Mumbai MH  "
      ]
     },
     "execution_count": 16,
     "metadata": {},
     "output_type": "execute_result"
    }
   ],
   "source": [
    "df.head()"
   ]
  },
  {
   "cell_type": "markdown",
   "id": "b562afcf",
   "metadata": {},
   "source": [
    "## d.)delete cols:"
   ]
  },
  {
   "cell_type": "code",
   "execution_count": 17,
   "id": "f039d0c1",
   "metadata": {},
   "outputs": [],
   "source": [
    "df.drop(['city','states'],axis='columns',inplace=True)"
   ]
  },
  {
   "cell_type": "code",
   "execution_count": 18,
   "id": "627e109f",
   "metadata": {},
   "outputs": [
    {
     "data": {
      "text/html": [
       "<div>\n",
       "<style scoped>\n",
       "    .dataframe tbody tr th:only-of-type {\n",
       "        vertical-align: middle;\n",
       "    }\n",
       "\n",
       "    .dataframe tbody tr th {\n",
       "        vertical-align: top;\n",
       "    }\n",
       "\n",
       "    .dataframe thead th {\n",
       "        text-align: right;\n",
       "    }\n",
       "</style>\n",
       "<table border=\"1\" class=\"dataframe\">\n",
       "  <thead>\n",
       "    <tr style=\"text-align: right;\">\n",
       "      <th></th>\n",
       "      <th>sr no</th>\n",
       "      <th>coaching centre</th>\n",
       "      <th>courses</th>\n",
       "      <th>course duration</th>\n",
       "      <th>location</th>\n",
       "    </tr>\n",
       "  </thead>\n",
       "  <tbody>\n",
       "    <tr>\n",
       "      <th>0</th>\n",
       "      <td>1</td>\n",
       "      <td>PQR institute .Pvt</td>\n",
       "      <td>BI</td>\n",
       "      <td>9 Months</td>\n",
       "      <td>Mumbai MH</td>\n",
       "    </tr>\n",
       "    <tr>\n",
       "      <th>1</th>\n",
       "      <td>2</td>\n",
       "      <td>ABC institute .Pvt.LTD</td>\n",
       "      <td>AI</td>\n",
       "      <td>18 Months</td>\n",
       "      <td>Delhi UP</td>\n",
       "    </tr>\n",
       "    <tr>\n",
       "      <th>2</th>\n",
       "      <td>3</td>\n",
       "      <td>MNO  institute .Ltd</td>\n",
       "      <td>Data Science</td>\n",
       "      <td>11 Months</td>\n",
       "      <td>Bengaluru TN</td>\n",
       "    </tr>\n",
       "    <tr>\n",
       "      <th>3</th>\n",
       "      <td>4</td>\n",
       "      <td>RST  institute .Pvt.LTD</td>\n",
       "      <td>ML</td>\n",
       "      <td>3 Months</td>\n",
       "      <td>Bhopal MP</td>\n",
       "    </tr>\n",
       "    <tr>\n",
       "      <th>4</th>\n",
       "      <td>5</td>\n",
       "      <td>EFG  institute .Pvt.LTD</td>\n",
       "      <td>DL</td>\n",
       "      <td>3 Months</td>\n",
       "      <td>Mumbai MH</td>\n",
       "    </tr>\n",
       "  </tbody>\n",
       "</table>\n",
       "</div>"
      ],
      "text/plain": [
       "   sr no          coaching centre       courses course duration      location\n",
       "0      1       PQR institute .Pvt            BI        9 Months     Mumbai MH\n",
       "1      2   ABC institute .Pvt.LTD            AI       18 Months      Delhi UP\n",
       "2      3      MNO  institute .Ltd  Data Science       11 Months  Bengaluru TN\n",
       "3      4  RST  institute .Pvt.LTD            ML        3 Months     Bhopal MP\n",
       "4      5  EFG  institute .Pvt.LTD            DL        3 Months     Mumbai MH"
      ]
     },
     "execution_count": 18,
     "metadata": {},
     "output_type": "execute_result"
    }
   ],
   "source": [
    "df.head()"
   ]
  },
  {
   "cell_type": "markdown",
   "id": "3ab69120",
   "metadata": {},
   "source": [
    "## e.) setting new index:"
   ]
  },
  {
   "cell_type": "code",
   "execution_count": 20,
   "id": "c4c1ce70",
   "metadata": {},
   "outputs": [],
   "source": [
    "df.set_index('courses',inplace=True)"
   ]
  },
  {
   "cell_type": "code",
   "execution_count": 21,
   "id": "a82aedad",
   "metadata": {},
   "outputs": [
    {
     "data": {
      "text/html": [
       "<div>\n",
       "<style scoped>\n",
       "    .dataframe tbody tr th:only-of-type {\n",
       "        vertical-align: middle;\n",
       "    }\n",
       "\n",
       "    .dataframe tbody tr th {\n",
       "        vertical-align: top;\n",
       "    }\n",
       "\n",
       "    .dataframe thead th {\n",
       "        text-align: right;\n",
       "    }\n",
       "</style>\n",
       "<table border=\"1\" class=\"dataframe\">\n",
       "  <thead>\n",
       "    <tr style=\"text-align: right;\">\n",
       "      <th></th>\n",
       "      <th>sr no</th>\n",
       "      <th>coaching centre</th>\n",
       "      <th>course duration</th>\n",
       "      <th>location</th>\n",
       "    </tr>\n",
       "    <tr>\n",
       "      <th>courses</th>\n",
       "      <th></th>\n",
       "      <th></th>\n",
       "      <th></th>\n",
       "      <th></th>\n",
       "    </tr>\n",
       "  </thead>\n",
       "  <tbody>\n",
       "    <tr>\n",
       "      <th>BI</th>\n",
       "      <td>1</td>\n",
       "      <td>PQR institute .Pvt</td>\n",
       "      <td>9 Months</td>\n",
       "      <td>Mumbai MH</td>\n",
       "    </tr>\n",
       "    <tr>\n",
       "      <th>AI</th>\n",
       "      <td>2</td>\n",
       "      <td>ABC institute .Pvt.LTD</td>\n",
       "      <td>18 Months</td>\n",
       "      <td>Delhi UP</td>\n",
       "    </tr>\n",
       "    <tr>\n",
       "      <th>Data Science</th>\n",
       "      <td>3</td>\n",
       "      <td>MNO  institute .Ltd</td>\n",
       "      <td>11 Months</td>\n",
       "      <td>Bengaluru TN</td>\n",
       "    </tr>\n",
       "    <tr>\n",
       "      <th>ML</th>\n",
       "      <td>4</td>\n",
       "      <td>RST  institute .Pvt.LTD</td>\n",
       "      <td>3 Months</td>\n",
       "      <td>Bhopal MP</td>\n",
       "    </tr>\n",
       "    <tr>\n",
       "      <th>DL</th>\n",
       "      <td>5</td>\n",
       "      <td>EFG  institute .Pvt.LTD</td>\n",
       "      <td>3 Months</td>\n",
       "      <td>Mumbai MH</td>\n",
       "    </tr>\n",
       "  </tbody>\n",
       "</table>\n",
       "</div>"
      ],
      "text/plain": [
       "              sr no          coaching centre course duration      location\n",
       "courses                                                                   \n",
       "BI                1       PQR institute .Pvt        9 Months     Mumbai MH\n",
       "AI                2   ABC institute .Pvt.LTD       18 Months      Delhi UP\n",
       "Data Science      3      MNO  institute .Ltd       11 Months  Bengaluru TN\n",
       "ML                4  RST  institute .Pvt.LTD        3 Months     Bhopal MP\n",
       "DL                5  EFG  institute .Pvt.LTD        3 Months     Mumbai MH"
      ]
     },
     "execution_count": 21,
     "metadata": {},
     "output_type": "execute_result"
    }
   ],
   "source": [
    "df.head()"
   ]
  },
  {
   "cell_type": "markdown",
   "id": "1a9aa0c2",
   "metadata": {},
   "source": [
    "## f.) reseting index:"
   ]
  },
  {
   "cell_type": "code",
   "execution_count": 23,
   "id": "3e7e7a76",
   "metadata": {},
   "outputs": [],
   "source": [
    "#df.index.name='courses'\n",
    "df.reset_index(inplace=True)"
   ]
  },
  {
   "cell_type": "code",
   "execution_count": 24,
   "id": "d6cc59ab",
   "metadata": {},
   "outputs": [
    {
     "data": {
      "text/html": [
       "<div>\n",
       "<style scoped>\n",
       "    .dataframe tbody tr th:only-of-type {\n",
       "        vertical-align: middle;\n",
       "    }\n",
       "\n",
       "    .dataframe tbody tr th {\n",
       "        vertical-align: top;\n",
       "    }\n",
       "\n",
       "    .dataframe thead th {\n",
       "        text-align: right;\n",
       "    }\n",
       "</style>\n",
       "<table border=\"1\" class=\"dataframe\">\n",
       "  <thead>\n",
       "    <tr style=\"text-align: right;\">\n",
       "      <th></th>\n",
       "      <th>courses</th>\n",
       "      <th>sr no</th>\n",
       "      <th>coaching centre</th>\n",
       "      <th>course duration</th>\n",
       "      <th>location</th>\n",
       "    </tr>\n",
       "  </thead>\n",
       "  <tbody>\n",
       "    <tr>\n",
       "      <th>0</th>\n",
       "      <td>BI</td>\n",
       "      <td>1</td>\n",
       "      <td>PQR institute .Pvt</td>\n",
       "      <td>9 Months</td>\n",
       "      <td>Mumbai MH</td>\n",
       "    </tr>\n",
       "    <tr>\n",
       "      <th>1</th>\n",
       "      <td>AI</td>\n",
       "      <td>2</td>\n",
       "      <td>ABC institute .Pvt.LTD</td>\n",
       "      <td>18 Months</td>\n",
       "      <td>Delhi UP</td>\n",
       "    </tr>\n",
       "    <tr>\n",
       "      <th>2</th>\n",
       "      <td>Data Science</td>\n",
       "      <td>3</td>\n",
       "      <td>MNO  institute .Ltd</td>\n",
       "      <td>11 Months</td>\n",
       "      <td>Bengaluru TN</td>\n",
       "    </tr>\n",
       "    <tr>\n",
       "      <th>3</th>\n",
       "      <td>ML</td>\n",
       "      <td>4</td>\n",
       "      <td>RST  institute .Pvt.LTD</td>\n",
       "      <td>3 Months</td>\n",
       "      <td>Bhopal MP</td>\n",
       "    </tr>\n",
       "    <tr>\n",
       "      <th>4</th>\n",
       "      <td>DL</td>\n",
       "      <td>5</td>\n",
       "      <td>EFG  institute .Pvt.LTD</td>\n",
       "      <td>3 Months</td>\n",
       "      <td>Mumbai MH</td>\n",
       "    </tr>\n",
       "  </tbody>\n",
       "</table>\n",
       "</div>"
      ],
      "text/plain": [
       "        courses  sr no          coaching centre course duration      location\n",
       "0            BI      1       PQR institute .Pvt        9 Months     Mumbai MH\n",
       "1            AI      2   ABC institute .Pvt.LTD       18 Months      Delhi UP\n",
       "2  Data Science      3      MNO  institute .Ltd       11 Months  Bengaluru TN\n",
       "3            ML      4  RST  institute .Pvt.LTD        3 Months     Bhopal MP\n",
       "4            DL      5  EFG  institute .Pvt.LTD        3 Months     Mumbai MH"
      ]
     },
     "execution_count": 24,
     "metadata": {},
     "output_type": "execute_result"
    }
   ],
   "source": [
    "df.head()"
   ]
  },
  {
   "cell_type": "code",
   "execution_count": 25,
   "id": "8f5807af",
   "metadata": {},
   "outputs": [
    {
     "data": {
      "text/plain": [
       "pandas.core.frame.DataFrame"
      ]
     },
     "execution_count": 25,
     "metadata": {},
     "output_type": "execute_result"
    }
   ],
   "source": [
    "type(df)"
   ]
  },
  {
   "cell_type": "code",
   "execution_count": 26,
   "id": "0382ed71",
   "metadata": {},
   "outputs": [
    {
     "data": {
      "text/plain": [
       "pandas.core.series.Series"
      ]
     },
     "execution_count": 26,
     "metadata": {},
     "output_type": "execute_result"
    }
   ],
   "source": [
    "type(df.location)"
   ]
  },
  {
   "cell_type": "code",
   "execution_count": null,
   "id": "52ab4675",
   "metadata": {},
   "outputs": [],
   "source": []
  }
 ],
 "metadata": {
  "kernelspec": {
   "display_name": "Python 3 (ipykernel)",
   "language": "python",
   "name": "python3"
  },
  "language_info": {
   "codemirror_mode": {
    "name": "ipython",
    "version": 3
   },
   "file_extension": ".py",
   "mimetype": "text/x-python",
   "name": "python",
   "nbconvert_exporter": "python",
   "pygments_lexer": "ipython3",
   "version": "3.10.9"
  }
 },
 "nbformat": 4,
 "nbformat_minor": 5
}
