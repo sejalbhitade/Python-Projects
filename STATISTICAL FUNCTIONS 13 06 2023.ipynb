{
 "cells": [
  {
   "cell_type": "markdown",
   "id": "e00c650c",
   "metadata": {},
   "source": [
    "# BROADCASTING - it describes how numpy treats arrays with different shapes during arithmetic operations."
   ]
  },
  {
   "cell_type": "code",
   "execution_count": 5,
   "id": "c9846b59",
   "metadata": {},
   "outputs": [],
   "source": [
    "import numpy as np"
   ]
  },
  {
   "cell_type": "code",
   "execution_count": 6,
   "id": "709df589",
   "metadata": {},
   "outputs": [],
   "source": [
    "x=list(range(1,11))"
   ]
  },
  {
   "cell_type": "code",
   "execution_count": 7,
   "id": "4c792500",
   "metadata": {},
   "outputs": [
    {
     "data": {
      "text/plain": [
       "[1, 2, 3, 4, 5, 6, 7, 8, 9, 10]"
      ]
     },
     "execution_count": 7,
     "metadata": {},
     "output_type": "execute_result"
    }
   ],
   "source": [
    "x"
   ]
  },
  {
   "cell_type": "code",
   "execution_count": 8,
   "id": "fb29fe36",
   "metadata": {},
   "outputs": [
    {
     "data": {
      "text/plain": [
       "[1, 2, 3, 4, 5, 6, 7, 8, 9, 10, 1, 2, 3, 4, 5, 6, 7, 8, 9, 10]"
      ]
     },
     "execution_count": 8,
     "metadata": {},
     "output_type": "execute_result"
    }
   ],
   "source": [
    "x*2  #multiplication"
   ]
  },
  {
   "cell_type": "code",
   "execution_count": 9,
   "id": "dbc47849",
   "metadata": {},
   "outputs": [],
   "source": [
    "x1=np.arange(1,11)"
   ]
  },
  {
   "cell_type": "code",
   "execution_count": 10,
   "id": "7ab34e76",
   "metadata": {},
   "outputs": [
    {
     "data": {
      "text/plain": [
       "array([ 1,  2,  3,  4,  5,  6,  7,  8,  9, 10])"
      ]
     },
     "execution_count": 10,
     "metadata": {},
     "output_type": "execute_result"
    }
   ],
   "source": [
    "x1"
   ]
  },
  {
   "cell_type": "code",
   "execution_count": 11,
   "id": "65277725",
   "metadata": {},
   "outputs": [
    {
     "data": {
      "text/plain": [
       "array([ 2,  4,  6,  8, 10, 12, 14, 16, 18, 20])"
      ]
     },
     "execution_count": 11,
     "metadata": {},
     "output_type": "execute_result"
    }
   ],
   "source": [
    "x1*2"
   ]
  },
  {
   "cell_type": "code",
   "execution_count": 12,
   "id": "d7b4a802",
   "metadata": {},
   "outputs": [
    {
     "data": {
      "text/plain": [
       "array([ 3,  6,  9, 12, 15, 18, 21, 24, 27, 30])"
      ]
     },
     "execution_count": 12,
     "metadata": {},
     "output_type": "execute_result"
    }
   ],
   "source": [
    "x1*3"
   ]
  },
  {
   "cell_type": "code",
   "execution_count": 13,
   "id": "4dfd7b22",
   "metadata": {},
   "outputs": [
    {
     "data": {
      "text/plain": [
       "array([-2, -1,  0,  1,  2,  3,  4,  5,  6,  7])"
      ]
     },
     "execution_count": 13,
     "metadata": {},
     "output_type": "execute_result"
    }
   ],
   "source": [
    "x1-3"
   ]
  },
  {
   "cell_type": "code",
   "execution_count": 14,
   "id": "948b5df7",
   "metadata": {},
   "outputs": [
    {
     "data": {
      "text/plain": [
       "array([ 5,  6,  7,  8,  9, 10, 11, 12, 13, 14])"
      ]
     },
     "execution_count": 14,
     "metadata": {},
     "output_type": "execute_result"
    }
   ],
   "source": [
    "x1+4"
   ]
  },
  {
   "cell_type": "code",
   "execution_count": 15,
   "id": "74da544b",
   "metadata": {},
   "outputs": [
    {
     "data": {
      "text/plain": [
       "array([0.1, 0.2, 0.3, 0.4, 0.5, 0.6, 0.7, 0.8, 0.9, 1. ])"
      ]
     },
     "execution_count": 15,
     "metadata": {},
     "output_type": "execute_result"
    }
   ],
   "source": [
    "x1/10"
   ]
  },
  {
   "cell_type": "markdown",
   "id": "cd58408c",
   "metadata": {},
   "source": [
    "# statistical function"
   ]
  },
  {
   "cell_type": "code",
   "execution_count": 16,
   "id": "077630bf",
   "metadata": {},
   "outputs": [],
   "source": [
    "a=np.array([[1,2,3],[4,5,6]])"
   ]
  },
  {
   "cell_type": "code",
   "execution_count": 17,
   "id": "1e85dc04",
   "metadata": {},
   "outputs": [
    {
     "data": {
      "text/plain": [
       "array([[1, 2, 3],\n",
       "       [4, 5, 6]])"
      ]
     },
     "execution_count": 17,
     "metadata": {},
     "output_type": "execute_result"
    }
   ],
   "source": [
    "a"
   ]
  },
  {
   "cell_type": "code",
   "execution_count": 18,
   "id": "b473ec68",
   "metadata": {},
   "outputs": [
    {
     "data": {
      "text/plain": [
       "1"
      ]
     },
     "execution_count": 18,
     "metadata": {},
     "output_type": "execute_result"
    }
   ],
   "source": [
    "np.min(a)"
   ]
  },
  {
   "cell_type": "code",
   "execution_count": 19,
   "id": "5b2af853",
   "metadata": {},
   "outputs": [
    {
     "data": {
      "text/plain": [
       "6"
      ]
     },
     "execution_count": 19,
     "metadata": {},
     "output_type": "execute_result"
    }
   ],
   "source": [
    "np.max(a)"
   ]
  },
  {
   "cell_type": "code",
   "execution_count": 20,
   "id": "d4bb5d95",
   "metadata": {},
   "outputs": [
    {
     "data": {
      "text/plain": [
       "array([1, 4])"
      ]
     },
     "execution_count": 20,
     "metadata": {},
     "output_type": "execute_result"
    }
   ],
   "source": [
    "np.min(a,axis=1)   #axis =1 shows column wise"
   ]
  },
  {
   "cell_type": "code",
   "execution_count": 21,
   "id": "71d4924f",
   "metadata": {},
   "outputs": [
    {
     "data": {
      "text/plain": [
       "array([1, 2, 3])"
      ]
     },
     "execution_count": 21,
     "metadata": {},
     "output_type": "execute_result"
    }
   ],
   "source": [
    "np.min(a,axis=0)   #axis=0 shows row wise"
   ]
  },
  {
   "cell_type": "code",
   "execution_count": 22,
   "id": "b72077d1",
   "metadata": {},
   "outputs": [
    {
     "data": {
      "text/plain": [
       "3.5"
      ]
     },
     "execution_count": 22,
     "metadata": {},
     "output_type": "execute_result"
    }
   ],
   "source": [
    "np.average(a)"
   ]
  },
  {
   "cell_type": "code",
   "execution_count": 23,
   "id": "2d9dd6a5",
   "metadata": {},
   "outputs": [
    {
     "data": {
      "text/plain": [
       "3.5"
      ]
     },
     "execution_count": 23,
     "metadata": {},
     "output_type": "execute_result"
    }
   ],
   "source": [
    "np.mean(a)"
   ]
  },
  {
   "cell_type": "code",
   "execution_count": 24,
   "id": "ff550d4b",
   "metadata": {},
   "outputs": [
    {
     "data": {
      "text/plain": [
       "3.5"
      ]
     },
     "execution_count": 24,
     "metadata": {},
     "output_type": "execute_result"
    }
   ],
   "source": [
    "np.median(a)"
   ]
  },
  {
   "cell_type": "code",
   "execution_count": 27,
   "id": "7afaf8ef",
   "metadata": {},
   "outputs": [
    {
     "data": {
      "text/plain": [
       "21"
      ]
     },
     "execution_count": 27,
     "metadata": {},
     "output_type": "execute_result"
    }
   ],
   "source": [
    "np.sum(a)  #addition"
   ]
  },
  {
   "cell_type": "code",
   "execution_count": 30,
   "id": "28030870",
   "metadata": {},
   "outputs": [
    {
     "data": {
      "text/plain": [
       "2.9166666666666665"
      ]
     },
     "execution_count": 30,
     "metadata": {},
     "output_type": "execute_result"
    }
   ],
   "source": [
    "np.var(a)   #variance"
   ]
  },
  {
   "cell_type": "code",
   "execution_count": 31,
   "id": "3cc7a5fe",
   "metadata": {},
   "outputs": [
    {
     "data": {
      "text/plain": [
       "1.707825127659933"
      ]
     },
     "execution_count": 31,
     "metadata": {},
     "output_type": "execute_result"
    }
   ],
   "source": [
    "np.std(a)     #standard deviation"
   ]
  },
  {
   "cell_type": "code",
   "execution_count": 32,
   "id": "9248c262",
   "metadata": {},
   "outputs": [
    {
     "data": {
      "text/plain": [
       "21"
      ]
     },
     "execution_count": 32,
     "metadata": {},
     "output_type": "execute_result"
    }
   ],
   "source": [
    "np.sum(a)"
   ]
  },
  {
   "cell_type": "code",
   "execution_count": 33,
   "id": "983215b6",
   "metadata": {},
   "outputs": [
    {
     "data": {
      "text/plain": [
       "array([[1.        , 1.41421356, 1.73205081],\n",
       "       [2.        , 2.23606798, 2.44948974]])"
      ]
     },
     "execution_count": 33,
     "metadata": {},
     "output_type": "execute_result"
    }
   ],
   "source": [
    "np.sqrt(a)"
   ]
  },
  {
   "cell_type": "code",
   "execution_count": 34,
   "id": "bb9b61f5",
   "metadata": {},
   "outputs": [
    {
     "data": {
      "text/plain": [
       "array([[ 0.84147098,  0.90929743,  0.14112001],\n",
       "       [-0.7568025 , -0.95892427, -0.2794155 ]])"
      ]
     },
     "execution_count": 34,
     "metadata": {},
     "output_type": "execute_result"
    }
   ],
   "source": [
    "np.sin(a)"
   ]
  },
  {
   "cell_type": "code",
   "execution_count": 36,
   "id": "1c2c3571",
   "metadata": {},
   "outputs": [
    {
     "data": {
      "text/plain": [
       "array([[ 0.54030231, -0.41614684, -0.9899925 ],\n",
       "       [-0.65364362,  0.28366219,  0.96017029]])"
      ]
     },
     "execution_count": 36,
     "metadata": {},
     "output_type": "execute_result"
    }
   ],
   "source": [
    "np.cos(a)"
   ]
  },
  {
   "cell_type": "code",
   "execution_count": 37,
   "id": "baccd96a",
   "metadata": {},
   "outputs": [
    {
     "data": {
      "text/plain": [
       "array([[ 1.55740772, -2.18503986, -0.14254654],\n",
       "       [ 1.15782128, -3.38051501, -0.29100619]])"
      ]
     },
     "execution_count": 37,
     "metadata": {},
     "output_type": "execute_result"
    }
   ],
   "source": [
    "np.tan(a)"
   ]
  },
  {
   "cell_type": "markdown",
   "id": "8ad0e611",
   "metadata": {},
   "source": [
    "# concatination"
   ]
  },
  {
   "cell_type": "code",
   "execution_count": 38,
   "id": "310088a0",
   "metadata": {},
   "outputs": [
    {
     "data": {
      "text/plain": [
       "array([[1, 2, 3],\n",
       "       [4, 5, 6]])"
      ]
     },
     "execution_count": 38,
     "metadata": {},
     "output_type": "execute_result"
    }
   ],
   "source": [
    "a"
   ]
  },
  {
   "cell_type": "code",
   "execution_count": 39,
   "id": "f50655c8",
   "metadata": {},
   "outputs": [],
   "source": [
    "b=np.array([[7,8,9],[10,11,12]])"
   ]
  },
  {
   "cell_type": "code",
   "execution_count": 40,
   "id": "9e797423",
   "metadata": {},
   "outputs": [
    {
     "data": {
      "text/plain": [
       "array([[ 7,  8,  9],\n",
       "       [10, 11, 12]])"
      ]
     },
     "execution_count": 40,
     "metadata": {},
     "output_type": "execute_result"
    }
   ],
   "source": [
    "b"
   ]
  },
  {
   "cell_type": "code",
   "execution_count": 41,
   "id": "3fc668a3",
   "metadata": {},
   "outputs": [
    {
     "data": {
      "text/plain": [
       "array([[ 1,  2,  3],\n",
       "       [ 4,  5,  6],\n",
       "       [ 7,  8,  9],\n",
       "       [10, 11, 12]])"
      ]
     },
     "execution_count": 41,
     "metadata": {},
     "output_type": "execute_result"
    }
   ],
   "source": [
    "np.concatenate((a,b))"
   ]
  },
  {
   "cell_type": "code",
   "execution_count": 42,
   "id": "53c88460",
   "metadata": {},
   "outputs": [
    {
     "data": {
      "text/plain": [
       "array([ 1,  2,  3,  4,  5,  6,  7,  8,  9, 10])"
      ]
     },
     "execution_count": 42,
     "metadata": {},
     "output_type": "execute_result"
    }
   ],
   "source": [
    "x1"
   ]
  },
  {
   "cell_type": "markdown",
   "id": "81ea596b",
   "metadata": {},
   "source": [
    "# insert"
   ]
  },
  {
   "cell_type": "code",
   "execution_count": 43,
   "id": "1b8e3fa0",
   "metadata": {},
   "outputs": [
    {
     "data": {
      "text/plain": [
       "array([ 1,  2,  3,  4,  5,  6,  7,  8,  9, 10])"
      ]
     },
     "execution_count": 43,
     "metadata": {},
     "output_type": "execute_result"
    }
   ],
   "source": [
    "x1"
   ]
  },
  {
   "cell_type": "code",
   "execution_count": 47,
   "id": "18fdd186",
   "metadata": {},
   "outputs": [
    {
     "data": {
      "text/plain": [
       "array([ 1,  2,  3,  4, 55,  5,  6,  7,  8,  9, 10])"
      ]
     },
     "execution_count": 47,
     "metadata": {},
     "output_type": "execute_result"
    }
   ],
   "source": [
    "np.insert(x1,4,55)    #array , value in the array(index no), any value you have to insert "
   ]
  },
  {
   "cell_type": "markdown",
   "id": "75a423c2",
   "metadata": {},
   "source": [
    "# delete"
   ]
  },
  {
   "cell_type": "code",
   "execution_count": 48,
   "id": "92414b3e",
   "metadata": {},
   "outputs": [
    {
     "data": {
      "text/plain": [
       "array([ 1,  2,  3,  4,  5,  6,  7,  8,  9, 10])"
      ]
     },
     "execution_count": 48,
     "metadata": {},
     "output_type": "execute_result"
    }
   ],
   "source": [
    "x1"
   ]
  },
  {
   "cell_type": "code",
   "execution_count": 49,
   "id": "3b52f88f",
   "metadata": {},
   "outputs": [
    {
     "data": {
      "text/plain": [
       "array([ 1,  2,  3,  4,  5,  6,  7,  9, 10])"
      ]
     },
     "execution_count": 49,
     "metadata": {},
     "output_type": "execute_result"
    }
   ],
   "source": [
    "np.delete(x1,-3)"
   ]
  },
  {
   "cell_type": "markdown",
   "id": "05dd43c1",
   "metadata": {},
   "source": [
    "# Masking (vectorization)"
   ]
  },
  {
   "cell_type": "markdown",
   "id": "0ba0f252",
   "metadata": {},
   "source": [
    "#### if i want to apply a condition and based on condition i want output"
   ]
  },
  {
   "cell_type": "code",
   "execution_count": 50,
   "id": "c280fe81",
   "metadata": {},
   "outputs": [],
   "source": [
    "z=np.arange(1,16)"
   ]
  },
  {
   "cell_type": "code",
   "execution_count": 51,
   "id": "ce4911f3",
   "metadata": {},
   "outputs": [
    {
     "data": {
      "text/plain": [
       "array([ 1,  2,  3,  4,  5,  6,  7,  8,  9, 10, 11, 12, 13, 14, 15])"
      ]
     },
     "execution_count": 51,
     "metadata": {},
     "output_type": "execute_result"
    }
   ],
   "source": [
    "z"
   ]
  },
  {
   "cell_type": "code",
   "execution_count": 52,
   "id": "8c0310b0",
   "metadata": {},
   "outputs": [
    {
     "data": {
      "text/plain": [
       "array([False, False, False, False, False, False, False, False,  True,\n",
       "        True,  True,  True,  True,  True,  True])"
      ]
     },
     "execution_count": 52,
     "metadata": {},
     "output_type": "execute_result"
    }
   ],
   "source": [
    "z>8"
   ]
  },
  {
   "cell_type": "code",
   "execution_count": 53,
   "id": "ee9d22c1",
   "metadata": {},
   "outputs": [
    {
     "data": {
      "text/plain": [
       "array([ 9, 10, 11, 12, 13, 14, 15])"
      ]
     },
     "execution_count": 53,
     "metadata": {},
     "output_type": "execute_result"
    }
   ],
   "source": [
    "mask=z>8\n",
    "z[mask]"
   ]
  },
  {
   "cell_type": "code",
   "execution_count": 57,
   "id": "0c65eb62",
   "metadata": {},
   "outputs": [
    {
     "data": {
      "text/plain": [
       "array([ 1,  2,  3,  4,  5,  6,  7,  8,  9, 10, 11, 12, 13, 14, 15])"
      ]
     },
     "execution_count": 57,
     "metadata": {},
     "output_type": "execute_result"
    }
   ],
   "source": [
    "z"
   ]
  },
  {
   "cell_type": "code",
   "execution_count": 58,
   "id": "edaee81e",
   "metadata": {},
   "outputs": [
    {
     "data": {
      "text/plain": [
       "array([ 2,  4,  6,  8, 10, 12, 14])"
      ]
     },
     "execution_count": 58,
     "metadata": {},
     "output_type": "execute_result"
    }
   ],
   "source": [
    "z[z%2==0]          #finding even nos"
   ]
  },
  {
   "cell_type": "code",
   "execution_count": 59,
   "id": "ab5c929a",
   "metadata": {},
   "outputs": [
    {
     "data": {
      "text/plain": [
       "array([ 1,  3,  5,  7,  9, 11, 13, 15])"
      ]
     },
     "execution_count": 59,
     "metadata": {},
     "output_type": "execute_result"
    }
   ],
   "source": [
    "z[z%2!=0]           #finding odd nos"
   ]
  },
  {
   "cell_type": "markdown",
   "id": "1ddcb0a2",
   "metadata": {},
   "source": [
    "# Selection in array"
   ]
  },
  {
   "cell_type": "code",
   "execution_count": 60,
   "id": "1dc2deae",
   "metadata": {},
   "outputs": [],
   "source": [
    "names=np.array(['sejal','raj','tej','raj','tej','deep'])"
   ]
  },
  {
   "cell_type": "code",
   "execution_count": 61,
   "id": "3e707832",
   "metadata": {},
   "outputs": [
    {
     "data": {
      "text/plain": [
       "array(['sejal', 'raj', 'tej', 'raj', 'tej', 'deep'], dtype='<U5')"
      ]
     },
     "execution_count": 61,
     "metadata": {},
     "output_type": "execute_result"
    }
   ],
   "source": [
    "names"
   ]
  },
  {
   "cell_type": "markdown",
   "id": "547f747e",
   "metadata": {},
   "source": [
    "#### find names except raj"
   ]
  },
  {
   "cell_type": "code",
   "execution_count": 62,
   "id": "6d64537c",
   "metadata": {},
   "outputs": [
    {
     "data": {
      "text/plain": [
       "array(['sejal', 'tej', 'tej', 'deep'], dtype='<U5')"
      ]
     },
     "execution_count": 62,
     "metadata": {},
     "output_type": "execute_result"
    }
   ],
   "source": [
    "names[names!='raj']"
   ]
  },
  {
   "cell_type": "markdown",
   "id": "517c6c43",
   "metadata": {},
   "source": [
    "#### find names except raj and tej"
   ]
  },
  {
   "cell_type": "code",
   "execution_count": 63,
   "id": "0c7662c7",
   "metadata": {},
   "outputs": [
    {
     "data": {
      "text/plain": [
       "array(['sejal', 'deep'], dtype='<U5')"
      ]
     },
     "execution_count": 63,
     "metadata": {},
     "output_type": "execute_result"
    }
   ],
   "source": [
    "names[(names!='raj') & (names!='tej')]"
   ]
  },
  {
   "cell_type": "code",
   "execution_count": 64,
   "id": "abf5afa0",
   "metadata": {},
   "outputs": [],
   "source": [
    "A=np.array([2,5,7,8,19,17,15,16,55,7,9])"
   ]
  },
  {
   "cell_type": "code",
   "execution_count": 65,
   "id": "a9125ce4",
   "metadata": {},
   "outputs": [
    {
     "data": {
      "text/plain": [
       "array([ 2,  5,  7,  8, 19, 17, 15, 16, 55,  7,  9])"
      ]
     },
     "execution_count": 65,
     "metadata": {},
     "output_type": "execute_result"
    }
   ],
   "source": [
    "A"
   ]
  },
  {
   "cell_type": "markdown",
   "id": "bc846a61",
   "metadata": {},
   "source": [
    "#### find nos divisible 3 & 7"
   ]
  },
  {
   "cell_type": "code",
   "execution_count": 70,
   "id": "8ba6a13a",
   "metadata": {},
   "outputs": [
    {
     "data": {
      "text/plain": [
       "array([ 7, 15,  7,  9])"
      ]
     },
     "execution_count": 70,
     "metadata": {},
     "output_type": "execute_result"
    }
   ],
   "source": [
    "A[(A%3==0) | (A%7==0)]"
   ]
  },
  {
   "cell_type": "markdown",
   "id": "13c90894",
   "metadata": {},
   "source": [
    "#### find nos which are not divisible by 3 and 7"
   ]
  },
  {
   "cell_type": "code",
   "execution_count": 71,
   "id": "58cf2409",
   "metadata": {},
   "outputs": [
    {
     "data": {
      "text/plain": [
       "array([ 2,  5,  8, 19, 17, 16, 55])"
      ]
     },
     "execution_count": 71,
     "metadata": {},
     "output_type": "execute_result"
    }
   ],
   "source": [
    "A[(A%3!=0) & (A%7!=0)]"
   ]
  },
  {
   "cell_type": "code",
   "execution_count": null,
   "id": "103efc06",
   "metadata": {},
   "outputs": [],
   "source": []
  }
 ],
 "metadata": {
  "kernelspec": {
   "display_name": "Python 3 (ipykernel)",
   "language": "python",
   "name": "python3"
  },
  "language_info": {
   "codemirror_mode": {
    "name": "ipython",
    "version": 3
   },
   "file_extension": ".py",
   "mimetype": "text/x-python",
   "name": "python",
   "nbconvert_exporter": "python",
   "pygments_lexer": "ipython3",
   "version": "3.10.9"
  }
 },
 "nbformat": 4,
 "nbformat_minor": 5
}
