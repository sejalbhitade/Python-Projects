{
 "cells": [
  {
   "cell_type": "code",
   "execution_count": 1,
   "id": "03940cb5",
   "metadata": {},
   "outputs": [],
   "source": [
    "import numpy as np\n",
    "import pandas as pd\n",
    "import matplotlib.pyplot as plt\n",
    "import seaborn as sns\n",
    "import warnings \n",
    "warnings.filterwarnings('ignore')"
   ]
  },
  {
   "cell_type": "code",
   "execution_count": 2,
   "id": "28ad754f",
   "metadata": {},
   "outputs": [
    {
     "data": {
      "text/html": [
       "<div>\n",
       "<style scoped>\n",
       "    .dataframe tbody tr th:only-of-type {\n",
       "        vertical-align: middle;\n",
       "    }\n",
       "\n",
       "    .dataframe tbody tr th {\n",
       "        vertical-align: top;\n",
       "    }\n",
       "\n",
       "    .dataframe thead th {\n",
       "        text-align: right;\n",
       "    }\n",
       "</style>\n",
       "<table border=\"1\" class=\"dataframe\">\n",
       "  <thead>\n",
       "    <tr style=\"text-align: right;\">\n",
       "      <th></th>\n",
       "      <th>symboling</th>\n",
       "      <th>normalized-losses</th>\n",
       "      <th>make</th>\n",
       "      <th>fuel-type</th>\n",
       "      <th>body-style</th>\n",
       "      <th>drive-wheels</th>\n",
       "      <th>engine-location</th>\n",
       "      <th>width</th>\n",
       "      <th>height</th>\n",
       "      <th>engine-type</th>\n",
       "      <th>engine-size</th>\n",
       "      <th>horsepower</th>\n",
       "      <th>city-mpg</th>\n",
       "      <th>highway-mpg</th>\n",
       "      <th>price</th>\n",
       "    </tr>\n",
       "  </thead>\n",
       "  <tbody>\n",
       "    <tr>\n",
       "      <th>0</th>\n",
       "      <td>3</td>\n",
       "      <td>?</td>\n",
       "      <td>alfa-romero</td>\n",
       "      <td>gas</td>\n",
       "      <td>convertible</td>\n",
       "      <td>rwd</td>\n",
       "      <td>front</td>\n",
       "      <td>64.1</td>\n",
       "      <td>48.8</td>\n",
       "      <td>dohc</td>\n",
       "      <td>130</td>\n",
       "      <td>111</td>\n",
       "      <td>21</td>\n",
       "      <td>27</td>\n",
       "      <td>13495</td>\n",
       "    </tr>\n",
       "    <tr>\n",
       "      <th>1</th>\n",
       "      <td>3</td>\n",
       "      <td>?</td>\n",
       "      <td>alfa-romero</td>\n",
       "      <td>gas</td>\n",
       "      <td>convertible</td>\n",
       "      <td>rwd</td>\n",
       "      <td>front</td>\n",
       "      <td>64.1</td>\n",
       "      <td>48.8</td>\n",
       "      <td>dohc</td>\n",
       "      <td>130</td>\n",
       "      <td>111</td>\n",
       "      <td>21</td>\n",
       "      <td>27</td>\n",
       "      <td>16500</td>\n",
       "    </tr>\n",
       "    <tr>\n",
       "      <th>2</th>\n",
       "      <td>1</td>\n",
       "      <td>?</td>\n",
       "      <td>alfa-romero</td>\n",
       "      <td>gas</td>\n",
       "      <td>hatchback</td>\n",
       "      <td>rwd</td>\n",
       "      <td>front</td>\n",
       "      <td>65.5</td>\n",
       "      <td>52.4</td>\n",
       "      <td>ohcv</td>\n",
       "      <td>152</td>\n",
       "      <td>154</td>\n",
       "      <td>19</td>\n",
       "      <td>26</td>\n",
       "      <td>16500</td>\n",
       "    </tr>\n",
       "    <tr>\n",
       "      <th>3</th>\n",
       "      <td>2</td>\n",
       "      <td>164</td>\n",
       "      <td>audi</td>\n",
       "      <td>gas</td>\n",
       "      <td>sedan</td>\n",
       "      <td>fwd</td>\n",
       "      <td>front</td>\n",
       "      <td>66.2</td>\n",
       "      <td>54.3</td>\n",
       "      <td>ohc</td>\n",
       "      <td>109</td>\n",
       "      <td>102</td>\n",
       "      <td>24</td>\n",
       "      <td>30</td>\n",
       "      <td>13950</td>\n",
       "    </tr>\n",
       "    <tr>\n",
       "      <th>4</th>\n",
       "      <td>2</td>\n",
       "      <td>164</td>\n",
       "      <td>audi</td>\n",
       "      <td>gas</td>\n",
       "      <td>sedan</td>\n",
       "      <td>4wd</td>\n",
       "      <td>front</td>\n",
       "      <td>66.4</td>\n",
       "      <td>54.3</td>\n",
       "      <td>ohc</td>\n",
       "      <td>136</td>\n",
       "      <td>115</td>\n",
       "      <td>18</td>\n",
       "      <td>22</td>\n",
       "      <td>17450</td>\n",
       "    </tr>\n",
       "  </tbody>\n",
       "</table>\n",
       "</div>"
      ],
      "text/plain": [
       "   symboling normalized-losses         make fuel-type   body-style  \\\n",
       "0          3                 ?  alfa-romero       gas  convertible   \n",
       "1          3                 ?  alfa-romero       gas  convertible   \n",
       "2          1                 ?  alfa-romero       gas    hatchback   \n",
       "3          2               164         audi       gas        sedan   \n",
       "4          2               164         audi       gas        sedan   \n",
       "\n",
       "  drive-wheels engine-location  width  height engine-type  engine-size  \\\n",
       "0          rwd           front   64.1    48.8        dohc          130   \n",
       "1          rwd           front   64.1    48.8        dohc          130   \n",
       "2          rwd           front   65.5    52.4        ohcv          152   \n",
       "3          fwd           front   66.2    54.3         ohc          109   \n",
       "4          4wd           front   66.4    54.3         ohc          136   \n",
       "\n",
       "  horsepower  city-mpg  highway-mpg  price  \n",
       "0        111        21           27  13495  \n",
       "1        111        21           27  16500  \n",
       "2        154        19           26  16500  \n",
       "3        102        24           30  13950  \n",
       "4        115        18           22  17450  "
      ]
     },
     "execution_count": 2,
     "metadata": {},
     "output_type": "execute_result"
    }
   ],
   "source": [
    "df=pd.read_csv('cars.csv')\n",
    "df.head()"
   ]
  },
  {
   "cell_type": "markdown",
   "id": "4f5f8845",
   "metadata": {},
   "source": [
    "### RULES\n",
    "    \n",
    "-Features and target should be seperated from the dataset.\n",
    "\n",
    "-Features and target should be numeric (converting it using encoding)\n",
    "\n",
    "-Features and target should be in proper shape and dimension"
   ]
  },
  {
   "cell_type": "markdown",
   "id": "11b47d46",
   "metadata": {},
   "source": [
    "## Separating Features and target"
   ]
  },
  {
   "cell_type": "code",
   "execution_count": 4,
   "id": "73f26f85",
   "metadata": {},
   "outputs": [],
   "source": [
    "features=df.iloc[:,:-1]    #slicing----->2D\n",
    "target=df.iloc[:,-1]       #indexing ---->1D"
   ]
  },
  {
   "cell_type": "code",
   "execution_count": 5,
   "id": "a6190a8f",
   "metadata": {},
   "outputs": [
    {
     "data": {
      "text/plain": [
       "symboling            0\n",
       "normalized-losses    0\n",
       "make                 0\n",
       "fuel-type            0\n",
       "body-style           0\n",
       "drive-wheels         0\n",
       "engine-location      0\n",
       "width                0\n",
       "height               0\n",
       "engine-type          0\n",
       "engine-size          0\n",
       "horsepower           0\n",
       "city-mpg             0\n",
       "highway-mpg          0\n",
       "price                0\n",
       "dtype: int64"
      ]
     },
     "execution_count": 5,
     "metadata": {},
     "output_type": "execute_result"
    }
   ],
   "source": [
    "df.isnull().sum()"
   ]
  },
  {
   "cell_type": "code",
   "execution_count": 6,
   "id": "c50b1f95",
   "metadata": {},
   "outputs": [
    {
     "name": "stdout",
     "output_type": "stream",
     "text": [
      "<class 'pandas.core.frame.DataFrame'>\n",
      "RangeIndex: 205 entries, 0 to 204\n",
      "Data columns (total 15 columns):\n",
      " #   Column             Non-Null Count  Dtype  \n",
      "---  ------             --------------  -----  \n",
      " 0   symboling          205 non-null    int64  \n",
      " 1   normalized-losses  205 non-null    object \n",
      " 2   make               205 non-null    object \n",
      " 3   fuel-type          205 non-null    object \n",
      " 4   body-style         205 non-null    object \n",
      " 5   drive-wheels       205 non-null    object \n",
      " 6   engine-location    205 non-null    object \n",
      " 7   width              205 non-null    float64\n",
      " 8   height             205 non-null    float64\n",
      " 9   engine-type        205 non-null    object \n",
      " 10  engine-size        205 non-null    int64  \n",
      " 11  horsepower         205 non-null    object \n",
      " 12  city-mpg           205 non-null    int64  \n",
      " 13  highway-mpg        205 non-null    int64  \n",
      " 14  price              205 non-null    int64  \n",
      "dtypes: float64(2), int64(5), object(8)\n",
      "memory usage: 24.1+ KB\n"
     ]
    }
   ],
   "source": [
    "df.info()"
   ]
  },
  {
   "cell_type": "code",
   "execution_count": 7,
   "id": "49853c3b",
   "metadata": {},
   "outputs": [
    {
     "data": {
      "text/html": [
       "<div>\n",
       "<style scoped>\n",
       "    .dataframe tbody tr th:only-of-type {\n",
       "        vertical-align: middle;\n",
       "    }\n",
       "\n",
       "    .dataframe tbody tr th {\n",
       "        vertical-align: top;\n",
       "    }\n",
       "\n",
       "    .dataframe thead th {\n",
       "        text-align: right;\n",
       "    }\n",
       "</style>\n",
       "<table border=\"1\" class=\"dataframe\">\n",
       "  <thead>\n",
       "    <tr style=\"text-align: right;\">\n",
       "      <th></th>\n",
       "      <th>symboling</th>\n",
       "      <th>normalized-losses</th>\n",
       "      <th>make</th>\n",
       "      <th>fuel-type</th>\n",
       "      <th>body-style</th>\n",
       "      <th>drive-wheels</th>\n",
       "      <th>engine-location</th>\n",
       "      <th>width</th>\n",
       "      <th>height</th>\n",
       "      <th>engine-type</th>\n",
       "      <th>engine-size</th>\n",
       "      <th>horsepower</th>\n",
       "      <th>city-mpg</th>\n",
       "      <th>highway-mpg</th>\n",
       "      <th>price</th>\n",
       "    </tr>\n",
       "  </thead>\n",
       "  <tbody>\n",
       "    <tr>\n",
       "      <th>0</th>\n",
       "      <td>3</td>\n",
       "      <td>?</td>\n",
       "      <td>alfa-romero</td>\n",
       "      <td>gas</td>\n",
       "      <td>convertible</td>\n",
       "      <td>rwd</td>\n",
       "      <td>front</td>\n",
       "      <td>64.1</td>\n",
       "      <td>48.8</td>\n",
       "      <td>dohc</td>\n",
       "      <td>130</td>\n",
       "      <td>111</td>\n",
       "      <td>21</td>\n",
       "      <td>27</td>\n",
       "      <td>13495</td>\n",
       "    </tr>\n",
       "    <tr>\n",
       "      <th>1</th>\n",
       "      <td>3</td>\n",
       "      <td>?</td>\n",
       "      <td>alfa-romero</td>\n",
       "      <td>gas</td>\n",
       "      <td>convertible</td>\n",
       "      <td>rwd</td>\n",
       "      <td>front</td>\n",
       "      <td>64.1</td>\n",
       "      <td>48.8</td>\n",
       "      <td>dohc</td>\n",
       "      <td>130</td>\n",
       "      <td>111</td>\n",
       "      <td>21</td>\n",
       "      <td>27</td>\n",
       "      <td>16500</td>\n",
       "    </tr>\n",
       "    <tr>\n",
       "      <th>2</th>\n",
       "      <td>1</td>\n",
       "      <td>?</td>\n",
       "      <td>alfa-romero</td>\n",
       "      <td>gas</td>\n",
       "      <td>hatchback</td>\n",
       "      <td>rwd</td>\n",
       "      <td>front</td>\n",
       "      <td>65.5</td>\n",
       "      <td>52.4</td>\n",
       "      <td>ohcv</td>\n",
       "      <td>152</td>\n",
       "      <td>154</td>\n",
       "      <td>19</td>\n",
       "      <td>26</td>\n",
       "      <td>16500</td>\n",
       "    </tr>\n",
       "    <tr>\n",
       "      <th>3</th>\n",
       "      <td>2</td>\n",
       "      <td>164</td>\n",
       "      <td>audi</td>\n",
       "      <td>gas</td>\n",
       "      <td>sedan</td>\n",
       "      <td>fwd</td>\n",
       "      <td>front</td>\n",
       "      <td>66.2</td>\n",
       "      <td>54.3</td>\n",
       "      <td>ohc</td>\n",
       "      <td>109</td>\n",
       "      <td>102</td>\n",
       "      <td>24</td>\n",
       "      <td>30</td>\n",
       "      <td>13950</td>\n",
       "    </tr>\n",
       "    <tr>\n",
       "      <th>4</th>\n",
       "      <td>2</td>\n",
       "      <td>164</td>\n",
       "      <td>audi</td>\n",
       "      <td>gas</td>\n",
       "      <td>sedan</td>\n",
       "      <td>4wd</td>\n",
       "      <td>front</td>\n",
       "      <td>66.4</td>\n",
       "      <td>54.3</td>\n",
       "      <td>ohc</td>\n",
       "      <td>136</td>\n",
       "      <td>115</td>\n",
       "      <td>18</td>\n",
       "      <td>22</td>\n",
       "      <td>17450</td>\n",
       "    </tr>\n",
       "  </tbody>\n",
       "</table>\n",
       "</div>"
      ],
      "text/plain": [
       "   symboling normalized-losses         make fuel-type   body-style  \\\n",
       "0          3                 ?  alfa-romero       gas  convertible   \n",
       "1          3                 ?  alfa-romero       gas  convertible   \n",
       "2          1                 ?  alfa-romero       gas    hatchback   \n",
       "3          2               164         audi       gas        sedan   \n",
       "4          2               164         audi       gas        sedan   \n",
       "\n",
       "  drive-wheels engine-location  width  height engine-type  engine-size  \\\n",
       "0          rwd           front   64.1    48.8        dohc          130   \n",
       "1          rwd           front   64.1    48.8        dohc          130   \n",
       "2          rwd           front   65.5    52.4        ohcv          152   \n",
       "3          fwd           front   66.2    54.3         ohc          109   \n",
       "4          4wd           front   66.4    54.3         ohc          136   \n",
       "\n",
       "  horsepower  city-mpg  highway-mpg  price  \n",
       "0        111        21           27  13495  \n",
       "1        111        21           27  16500  \n",
       "2        154        19           26  16500  \n",
       "3        102        24           30  13950  \n",
       "4        115        18           22  17450  "
      ]
     },
     "execution_count": 7,
     "metadata": {},
     "output_type": "execute_result"
    }
   ],
   "source": [
    "df.head()"
   ]
  },
  {
   "cell_type": "code",
   "execution_count": 8,
   "id": "e00eae01",
   "metadata": {},
   "outputs": [
    {
     "data": {
      "text/plain": [
       "?      41\n",
       "161    11\n",
       "91      8\n",
       "150     7\n",
       "134     6\n",
       "128     6\n",
       "104     6\n",
       "85      5\n",
       "94      5\n",
       "65      5\n",
       "102     5\n",
       "74      5\n",
       "168     5\n",
       "103     5\n",
       "95      5\n",
       "106     4\n",
       "93      4\n",
       "118     4\n",
       "148     4\n",
       "122     4\n",
       "83      3\n",
       "125     3\n",
       "154     3\n",
       "115     3\n",
       "137     3\n",
       "101     3\n",
       "119     2\n",
       "87      2\n",
       "89      2\n",
       "192     2\n",
       "197     2\n",
       "158     2\n",
       "81      2\n",
       "188     2\n",
       "194     2\n",
       "153     2\n",
       "129     2\n",
       "108     2\n",
       "110     2\n",
       "164     2\n",
       "145     2\n",
       "113     2\n",
       "256     1\n",
       "107     1\n",
       "90      1\n",
       "231     1\n",
       "142     1\n",
       "121     1\n",
       "78      1\n",
       "98      1\n",
       "186     1\n",
       "77      1\n",
       "Name: normalized-losses, dtype: int64"
      ]
     },
     "execution_count": 8,
     "metadata": {},
     "output_type": "execute_result"
    }
   ],
   "source": [
    "features['normalized-losses'].value_counts()"
   ]
  },
  {
   "cell_type": "code",
   "execution_count": 9,
   "id": "19dfc776",
   "metadata": {},
   "outputs": [
    {
     "data": {
      "text/plain": [
       "68     19\n",
       "70     11\n",
       "69     10\n",
       "116     9\n",
       "110     8\n",
       "95      7\n",
       "88      6\n",
       "62      6\n",
       "101     6\n",
       "160     6\n",
       "114     6\n",
       "84      5\n",
       "97      5\n",
       "102     5\n",
       "145     5\n",
       "82      5\n",
       "76      5\n",
       "111     4\n",
       "92      4\n",
       "123     4\n",
       "86      4\n",
       "90      3\n",
       "73      3\n",
       "85      3\n",
       "207     3\n",
       "182     3\n",
       "121     3\n",
       "152     3\n",
       "112     2\n",
       "56      2\n",
       "161     2\n",
       "156     2\n",
       "94      2\n",
       "52      2\n",
       "?       2\n",
       "162     2\n",
       "155     2\n",
       "184     2\n",
       "100     2\n",
       "176     2\n",
       "55      1\n",
       "262     1\n",
       "134     1\n",
       "115     1\n",
       "140     1\n",
       "48      1\n",
       "58      1\n",
       "60      1\n",
       "78      1\n",
       "135     1\n",
       "200     1\n",
       "64      1\n",
       "120     1\n",
       "72      1\n",
       "154     1\n",
       "288     1\n",
       "143     1\n",
       "142     1\n",
       "175     1\n",
       "106     1\n",
       "Name: horsepower, dtype: int64"
      ]
     },
     "execution_count": 9,
     "metadata": {},
     "output_type": "execute_result"
    }
   ],
   "source": [
    "features['horsepower'].value_counts()"
   ]
  },
  {
   "cell_type": "code",
   "execution_count": 10,
   "id": "37c96e51",
   "metadata": {},
   "outputs": [],
   "source": [
    "features.replace('?',np.nan,inplace=True)"
   ]
  },
  {
   "cell_type": "code",
   "execution_count": 11,
   "id": "e92b259b",
   "metadata": {},
   "outputs": [
    {
     "data": {
      "text/html": [
       "<div>\n",
       "<style scoped>\n",
       "    .dataframe tbody tr th:only-of-type {\n",
       "        vertical-align: middle;\n",
       "    }\n",
       "\n",
       "    .dataframe tbody tr th {\n",
       "        vertical-align: top;\n",
       "    }\n",
       "\n",
       "    .dataframe thead th {\n",
       "        text-align: right;\n",
       "    }\n",
       "</style>\n",
       "<table border=\"1\" class=\"dataframe\">\n",
       "  <thead>\n",
       "    <tr style=\"text-align: right;\">\n",
       "      <th></th>\n",
       "      <th>symboling</th>\n",
       "      <th>normalized-losses</th>\n",
       "      <th>make</th>\n",
       "      <th>fuel-type</th>\n",
       "      <th>body-style</th>\n",
       "      <th>drive-wheels</th>\n",
       "      <th>engine-location</th>\n",
       "      <th>width</th>\n",
       "      <th>height</th>\n",
       "      <th>engine-type</th>\n",
       "      <th>engine-size</th>\n",
       "      <th>horsepower</th>\n",
       "      <th>city-mpg</th>\n",
       "      <th>highway-mpg</th>\n",
       "    </tr>\n",
       "  </thead>\n",
       "  <tbody>\n",
       "    <tr>\n",
       "      <th>0</th>\n",
       "      <td>3</td>\n",
       "      <td>NaN</td>\n",
       "      <td>alfa-romero</td>\n",
       "      <td>gas</td>\n",
       "      <td>convertible</td>\n",
       "      <td>rwd</td>\n",
       "      <td>front</td>\n",
       "      <td>64.1</td>\n",
       "      <td>48.8</td>\n",
       "      <td>dohc</td>\n",
       "      <td>130</td>\n",
       "      <td>111</td>\n",
       "      <td>21</td>\n",
       "      <td>27</td>\n",
       "    </tr>\n",
       "    <tr>\n",
       "      <th>1</th>\n",
       "      <td>3</td>\n",
       "      <td>NaN</td>\n",
       "      <td>alfa-romero</td>\n",
       "      <td>gas</td>\n",
       "      <td>convertible</td>\n",
       "      <td>rwd</td>\n",
       "      <td>front</td>\n",
       "      <td>64.1</td>\n",
       "      <td>48.8</td>\n",
       "      <td>dohc</td>\n",
       "      <td>130</td>\n",
       "      <td>111</td>\n",
       "      <td>21</td>\n",
       "      <td>27</td>\n",
       "    </tr>\n",
       "    <tr>\n",
       "      <th>2</th>\n",
       "      <td>1</td>\n",
       "      <td>NaN</td>\n",
       "      <td>alfa-romero</td>\n",
       "      <td>gas</td>\n",
       "      <td>hatchback</td>\n",
       "      <td>rwd</td>\n",
       "      <td>front</td>\n",
       "      <td>65.5</td>\n",
       "      <td>52.4</td>\n",
       "      <td>ohcv</td>\n",
       "      <td>152</td>\n",
       "      <td>154</td>\n",
       "      <td>19</td>\n",
       "      <td>26</td>\n",
       "    </tr>\n",
       "    <tr>\n",
       "      <th>3</th>\n",
       "      <td>2</td>\n",
       "      <td>164</td>\n",
       "      <td>audi</td>\n",
       "      <td>gas</td>\n",
       "      <td>sedan</td>\n",
       "      <td>fwd</td>\n",
       "      <td>front</td>\n",
       "      <td>66.2</td>\n",
       "      <td>54.3</td>\n",
       "      <td>ohc</td>\n",
       "      <td>109</td>\n",
       "      <td>102</td>\n",
       "      <td>24</td>\n",
       "      <td>30</td>\n",
       "    </tr>\n",
       "    <tr>\n",
       "      <th>4</th>\n",
       "      <td>2</td>\n",
       "      <td>164</td>\n",
       "      <td>audi</td>\n",
       "      <td>gas</td>\n",
       "      <td>sedan</td>\n",
       "      <td>4wd</td>\n",
       "      <td>front</td>\n",
       "      <td>66.4</td>\n",
       "      <td>54.3</td>\n",
       "      <td>ohc</td>\n",
       "      <td>136</td>\n",
       "      <td>115</td>\n",
       "      <td>18</td>\n",
       "      <td>22</td>\n",
       "    </tr>\n",
       "  </tbody>\n",
       "</table>\n",
       "</div>"
      ],
      "text/plain": [
       "   symboling normalized-losses         make fuel-type   body-style  \\\n",
       "0          3               NaN  alfa-romero       gas  convertible   \n",
       "1          3               NaN  alfa-romero       gas  convertible   \n",
       "2          1               NaN  alfa-romero       gas    hatchback   \n",
       "3          2               164         audi       gas        sedan   \n",
       "4          2               164         audi       gas        sedan   \n",
       "\n",
       "  drive-wheels engine-location  width  height engine-type  engine-size  \\\n",
       "0          rwd           front   64.1    48.8        dohc          130   \n",
       "1          rwd           front   64.1    48.8        dohc          130   \n",
       "2          rwd           front   65.5    52.4        ohcv          152   \n",
       "3          fwd           front   66.2    54.3         ohc          109   \n",
       "4          4wd           front   66.4    54.3         ohc          136   \n",
       "\n",
       "  horsepower  city-mpg  highway-mpg  \n",
       "0        111        21           27  \n",
       "1        111        21           27  \n",
       "2        154        19           26  \n",
       "3        102        24           30  \n",
       "4        115        18           22  "
      ]
     },
     "execution_count": 11,
     "metadata": {},
     "output_type": "execute_result"
    }
   ],
   "source": [
    "features.head()"
   ]
  },
  {
   "cell_type": "code",
   "execution_count": 12,
   "id": "d4190d4d",
   "metadata": {},
   "outputs": [],
   "source": [
    "from sklearn.impute import SimpleImputer\n",
    "si=SimpleImputer()\n",
    "features[['normalized-losses','horsepower']]=si.fit_transform(features[['normalized-losses','horsepower']])"
   ]
  },
  {
   "cell_type": "code",
   "execution_count": 13,
   "id": "276125b9",
   "metadata": {},
   "outputs": [
    {
     "data": {
      "text/html": [
       "<div>\n",
       "<style scoped>\n",
       "    .dataframe tbody tr th:only-of-type {\n",
       "        vertical-align: middle;\n",
       "    }\n",
       "\n",
       "    .dataframe tbody tr th {\n",
       "        vertical-align: top;\n",
       "    }\n",
       "\n",
       "    .dataframe thead th {\n",
       "        text-align: right;\n",
       "    }\n",
       "</style>\n",
       "<table border=\"1\" class=\"dataframe\">\n",
       "  <thead>\n",
       "    <tr style=\"text-align: right;\">\n",
       "      <th></th>\n",
       "      <th>symboling</th>\n",
       "      <th>normalized-losses</th>\n",
       "      <th>make</th>\n",
       "      <th>fuel-type</th>\n",
       "      <th>body-style</th>\n",
       "      <th>drive-wheels</th>\n",
       "      <th>engine-location</th>\n",
       "      <th>width</th>\n",
       "      <th>height</th>\n",
       "      <th>engine-type</th>\n",
       "      <th>engine-size</th>\n",
       "      <th>horsepower</th>\n",
       "      <th>city-mpg</th>\n",
       "      <th>highway-mpg</th>\n",
       "    </tr>\n",
       "  </thead>\n",
       "  <tbody>\n",
       "    <tr>\n",
       "      <th>0</th>\n",
       "      <td>3</td>\n",
       "      <td>122.0</td>\n",
       "      <td>alfa-romero</td>\n",
       "      <td>gas</td>\n",
       "      <td>convertible</td>\n",
       "      <td>rwd</td>\n",
       "      <td>front</td>\n",
       "      <td>64.1</td>\n",
       "      <td>48.8</td>\n",
       "      <td>dohc</td>\n",
       "      <td>130</td>\n",
       "      <td>111.0</td>\n",
       "      <td>21</td>\n",
       "      <td>27</td>\n",
       "    </tr>\n",
       "    <tr>\n",
       "      <th>1</th>\n",
       "      <td>3</td>\n",
       "      <td>122.0</td>\n",
       "      <td>alfa-romero</td>\n",
       "      <td>gas</td>\n",
       "      <td>convertible</td>\n",
       "      <td>rwd</td>\n",
       "      <td>front</td>\n",
       "      <td>64.1</td>\n",
       "      <td>48.8</td>\n",
       "      <td>dohc</td>\n",
       "      <td>130</td>\n",
       "      <td>111.0</td>\n",
       "      <td>21</td>\n",
       "      <td>27</td>\n",
       "    </tr>\n",
       "    <tr>\n",
       "      <th>2</th>\n",
       "      <td>1</td>\n",
       "      <td>122.0</td>\n",
       "      <td>alfa-romero</td>\n",
       "      <td>gas</td>\n",
       "      <td>hatchback</td>\n",
       "      <td>rwd</td>\n",
       "      <td>front</td>\n",
       "      <td>65.5</td>\n",
       "      <td>52.4</td>\n",
       "      <td>ohcv</td>\n",
       "      <td>152</td>\n",
       "      <td>154.0</td>\n",
       "      <td>19</td>\n",
       "      <td>26</td>\n",
       "    </tr>\n",
       "    <tr>\n",
       "      <th>3</th>\n",
       "      <td>2</td>\n",
       "      <td>164.0</td>\n",
       "      <td>audi</td>\n",
       "      <td>gas</td>\n",
       "      <td>sedan</td>\n",
       "      <td>fwd</td>\n",
       "      <td>front</td>\n",
       "      <td>66.2</td>\n",
       "      <td>54.3</td>\n",
       "      <td>ohc</td>\n",
       "      <td>109</td>\n",
       "      <td>102.0</td>\n",
       "      <td>24</td>\n",
       "      <td>30</td>\n",
       "    </tr>\n",
       "    <tr>\n",
       "      <th>4</th>\n",
       "      <td>2</td>\n",
       "      <td>164.0</td>\n",
       "      <td>audi</td>\n",
       "      <td>gas</td>\n",
       "      <td>sedan</td>\n",
       "      <td>4wd</td>\n",
       "      <td>front</td>\n",
       "      <td>66.4</td>\n",
       "      <td>54.3</td>\n",
       "      <td>ohc</td>\n",
       "      <td>136</td>\n",
       "      <td>115.0</td>\n",
       "      <td>18</td>\n",
       "      <td>22</td>\n",
       "    </tr>\n",
       "  </tbody>\n",
       "</table>\n",
       "</div>"
      ],
      "text/plain": [
       "   symboling  normalized-losses         make fuel-type   body-style  \\\n",
       "0          3              122.0  alfa-romero       gas  convertible   \n",
       "1          3              122.0  alfa-romero       gas  convertible   \n",
       "2          1              122.0  alfa-romero       gas    hatchback   \n",
       "3          2              164.0         audi       gas        sedan   \n",
       "4          2              164.0         audi       gas        sedan   \n",
       "\n",
       "  drive-wheels engine-location  width  height engine-type  engine-size  \\\n",
       "0          rwd           front   64.1    48.8        dohc          130   \n",
       "1          rwd           front   64.1    48.8        dohc          130   \n",
       "2          rwd           front   65.5    52.4        ohcv          152   \n",
       "3          fwd           front   66.2    54.3         ohc          109   \n",
       "4          4wd           front   66.4    54.3         ohc          136   \n",
       "\n",
       "   horsepower  city-mpg  highway-mpg  \n",
       "0       111.0        21           27  \n",
       "1       111.0        21           27  \n",
       "2       154.0        19           26  \n",
       "3       102.0        24           30  \n",
       "4       115.0        18           22  "
      ]
     },
     "execution_count": 13,
     "metadata": {},
     "output_type": "execute_result"
    }
   ],
   "source": [
    "features.head()"
   ]
  },
  {
   "cell_type": "markdown",
   "id": "e5e3f052",
   "metadata": {},
   "source": [
    "## Find and remove the Outliers"
   ]
  },
  {
   "cell_type": "markdown",
   "id": "104f1cfd",
   "metadata": {},
   "source": [
    "### Outliers is any observation that lies at an abnormal distance from the other values."
   ]
  },
  {
   "cell_type": "code",
   "execution_count": 14,
   "id": "9493161a",
   "metadata": {},
   "outputs": [
    {
     "data": {
      "image/png": "[encoded data removed]",
      "text/plain": [
       "<Figure size 640x480 with 1 Axes>"
      ]
     },
     "metadata": {},
     "output_type": "display_data"
    }
   ],
   "source": [
    "sns.boxplot(data=features,x=target,y='make')\n",
    "plt.grid()\n",
    "plt.show()"
   ]
  },
  {
   "cell_type": "code",
   "execution_count": 15,
   "id": "f3fb0e27",
   "metadata": {},
   "outputs": [],
   "source": [
    "i=features[(features.make=='dodge') & (target>10000)].index\n",
    "features.drop(i,axis=0,inplace=True)\n",
    "target.drop(i,axis=0,inplace=True)\n",
    "\n",
    "i=features[(features.make=='honda') & (target>12000)].index\n",
    "features.drop(i,axis=0,inplace=True)\n",
    "target.drop(i,axis=0,inplace=True)\n",
    "\n",
    "i=features[(features.make=='isuzu') & (target>20000)].index\n",
    "features.drop(i,axis=0,inplace=True)\n",
    "target.drop(i,axis=0,inplace=True)\n",
    "\n",
    "i=features[(features.make=='mitsubishi') & (target>13000)].index\n",
    "features.drop(i,axis=0,inplace=True)\n",
    "target.drop(i,axis=0,inplace=True)\n",
    "\n",
    "i=features[(features.make=='plymouth') & (target>10000)].index\n",
    "features.drop(i,axis=0,inplace=True)\n",
    "target.drop(i,axis=0,inplace=True)\n",
    "\n",
    "i=features[(features.make=='toyota') & (target>15000)].index\n",
    "features.drop(i,axis=0,inplace=True)\n",
    "target.drop(i,axis=0,inplace=True)\n",
    "\n",
    "\n",
    "\n"
   ]
  },
  {
   "cell_type": "code",
   "execution_count": 16,
   "id": "02d01cc2",
   "metadata": {},
   "outputs": [
    {
     "data": {
      "image/png": "[encoded data removed]",
      "text/plain": [
       "<Figure size 640x480 with 1 Axes>"
      ]
     },
     "metadata": {},
     "output_type": "display_data"
    }
   ],
   "source": [
    "sns.boxplot(data=features,x=target,y='make')\n",
    "plt.grid()\n",
    "plt.show()"
   ]
  },
  {
   "cell_type": "markdown",
   "id": "0a4cfc9f",
   "metadata": {},
   "source": [
    "### Skewness Removal"
   ]
  },
  {
   "cell_type": "markdown",
   "id": "120c6679",
   "metadata": {},
   "source": [
    "#### It is a measure of Kurtosis which shows us a asymetry of data"
   ]
  },
  {
   "cell_type": "markdown",
   "id": "813ce7c0",
   "metadata": {},
   "source": [
    "#### NOTE - skewness can be removed from only numerical column."
   ]
  },
  {
   "cell_type": "markdown",
   "id": "89580273",
   "metadata": {},
   "source": [
    "#### if the column that have skewness is showing good correlation with the target do not remove the skewness."
   ]
  },
  {
   "cell_type": "markdown",
   "id": "1a8f418a",
   "metadata": {},
   "source": [
    "#### if the column that have skewness which shows some negetive value do not remove the skewness."
   ]
  },
  {
   "cell_type": "code",
   "execution_count": 18,
   "id": "c2e862ce",
   "metadata": {},
   "outputs": [],
   "source": [
    "cols=features.select_dtypes(['int','float']).columns"
   ]
  },
  {
   "cell_type": "code",
   "execution_count": 19,
   "id": "464c601f",
   "metadata": {},
   "outputs": [
    {
     "data": {
      "text/plain": [
       "Index(['symboling', 'normalized-losses', 'width', 'height', 'engine-size',\n",
       "       'horsepower', 'city-mpg', 'highway-mpg'],\n",
       "      dtype='object')"
      ]
     },
     "execution_count": 19,
     "metadata": {},
     "output_type": "execute_result"
    }
   ],
   "source": [
    "cols"
   ]
  },
  {
   "cell_type": "code",
   "execution_count": 20,
   "id": "89f2459b",
   "metadata": {},
   "outputs": [
    {
     "data": {
      "text/html": [
       "<div>\n",
       "<style scoped>\n",
       "    .dataframe tbody tr th:only-of-type {\n",
       "        vertical-align: middle;\n",
       "    }\n",
       "\n",
       "    .dataframe tbody tr th {\n",
       "        vertical-align: top;\n",
       "    }\n",
       "\n",
       "    .dataframe thead th {\n",
       "        text-align: right;\n",
       "    }\n",
       "</style>\n",
       "<table border=\"1\" class=\"dataframe\">\n",
       "  <thead>\n",
       "    <tr style=\"text-align: right;\">\n",
       "      <th></th>\n",
       "      <th>symboling</th>\n",
       "      <th>normalized-losses</th>\n",
       "      <th>make</th>\n",
       "      <th>fuel-type</th>\n",
       "      <th>body-style</th>\n",
       "      <th>drive-wheels</th>\n",
       "      <th>engine-location</th>\n",
       "      <th>width</th>\n",
       "      <th>height</th>\n",
       "      <th>engine-type</th>\n",
       "      <th>engine-size</th>\n",
       "      <th>horsepower</th>\n",
       "      <th>city-mpg</th>\n",
       "      <th>highway-mpg</th>\n",
       "    </tr>\n",
       "  </thead>\n",
       "  <tbody>\n",
       "    <tr>\n",
       "      <th>0</th>\n",
       "      <td>3</td>\n",
       "      <td>122.0</td>\n",
       "      <td>alfa-romero</td>\n",
       "      <td>gas</td>\n",
       "      <td>convertible</td>\n",
       "      <td>rwd</td>\n",
       "      <td>front</td>\n",
       "      <td>64.1</td>\n",
       "      <td>48.8</td>\n",
       "      <td>dohc</td>\n",
       "      <td>130</td>\n",
       "      <td>111.0</td>\n",
       "      <td>21</td>\n",
       "      <td>27</td>\n",
       "    </tr>\n",
       "    <tr>\n",
       "      <th>1</th>\n",
       "      <td>3</td>\n",
       "      <td>122.0</td>\n",
       "      <td>alfa-romero</td>\n",
       "      <td>gas</td>\n",
       "      <td>convertible</td>\n",
       "      <td>rwd</td>\n",
       "      <td>front</td>\n",
       "      <td>64.1</td>\n",
       "      <td>48.8</td>\n",
       "      <td>dohc</td>\n",
       "      <td>130</td>\n",
       "      <td>111.0</td>\n",
       "      <td>21</td>\n",
       "      <td>27</td>\n",
       "    </tr>\n",
       "    <tr>\n",
       "      <th>2</th>\n",
       "      <td>1</td>\n",
       "      <td>122.0</td>\n",
       "      <td>alfa-romero</td>\n",
       "      <td>gas</td>\n",
       "      <td>hatchback</td>\n",
       "      <td>rwd</td>\n",
       "      <td>front</td>\n",
       "      <td>65.5</td>\n",
       "      <td>52.4</td>\n",
       "      <td>ohcv</td>\n",
       "      <td>152</td>\n",
       "      <td>154.0</td>\n",
       "      <td>19</td>\n",
       "      <td>26</td>\n",
       "    </tr>\n",
       "    <tr>\n",
       "      <th>3</th>\n",
       "      <td>2</td>\n",
       "      <td>164.0</td>\n",
       "      <td>audi</td>\n",
       "      <td>gas</td>\n",
       "      <td>sedan</td>\n",
       "      <td>fwd</td>\n",
       "      <td>front</td>\n",
       "      <td>66.2</td>\n",
       "      <td>54.3</td>\n",
       "      <td>ohc</td>\n",
       "      <td>109</td>\n",
       "      <td>102.0</td>\n",
       "      <td>24</td>\n",
       "      <td>30</td>\n",
       "    </tr>\n",
       "    <tr>\n",
       "      <th>4</th>\n",
       "      <td>2</td>\n",
       "      <td>164.0</td>\n",
       "      <td>audi</td>\n",
       "      <td>gas</td>\n",
       "      <td>sedan</td>\n",
       "      <td>4wd</td>\n",
       "      <td>front</td>\n",
       "      <td>66.4</td>\n",
       "      <td>54.3</td>\n",
       "      <td>ohc</td>\n",
       "      <td>136</td>\n",
       "      <td>115.0</td>\n",
       "      <td>18</td>\n",
       "      <td>22</td>\n",
       "    </tr>\n",
       "  </tbody>\n",
       "</table>\n",
       "</div>"
      ],
      "text/plain": [
       "   symboling  normalized-losses         make fuel-type   body-style  \\\n",
       "0          3              122.0  alfa-romero       gas  convertible   \n",
       "1          3              122.0  alfa-romero       gas  convertible   \n",
       "2          1              122.0  alfa-romero       gas    hatchback   \n",
       "3          2              164.0         audi       gas        sedan   \n",
       "4          2              164.0         audi       gas        sedan   \n",
       "\n",
       "  drive-wheels engine-location  width  height engine-type  engine-size  \\\n",
       "0          rwd           front   64.1    48.8        dohc          130   \n",
       "1          rwd           front   64.1    48.8        dohc          130   \n",
       "2          rwd           front   65.5    52.4        ohcv          152   \n",
       "3          fwd           front   66.2    54.3         ohc          109   \n",
       "4          4wd           front   66.4    54.3         ohc          136   \n",
       "\n",
       "   horsepower  city-mpg  highway-mpg  \n",
       "0       111.0        21           27  \n",
       "1       111.0        21           27  \n",
       "2       154.0        19           26  \n",
       "3       102.0        24           30  \n",
       "4       115.0        18           22  "
      ]
     },
     "execution_count": 20,
     "metadata": {},
     "output_type": "execute_result"
    }
   ],
   "source": [
    "features.head()"
   ]
  },
  {
   "cell_type": "markdown",
   "id": "81bdfed0",
   "metadata": {},
   "source": [
    "#### To remove the skewness"
   ]
  },
  {
   "cell_type": "code",
   "execution_count": 21,
   "id": "e18e7585",
   "metadata": {},
   "outputs": [],
   "source": [
    "from scipy.stats import skew"
   ]
  },
  {
   "cell_type": "code",
   "execution_count": 23,
   "id": "39be03ae",
   "metadata": {},
   "outputs": [
    {
     "data": {
      "text/plain": [
       "0.848205953606264"
      ]
     },
     "execution_count": 23,
     "metadata": {},
     "output_type": "execute_result"
    }
   ],
   "source": [
    "skew(features['normalized-losses'])"
   ]
  },
  {
   "cell_type": "code",
   "execution_count": 32,
   "id": "8dd75333",
   "metadata": {},
   "outputs": [
    {
     "name": "stdout",
     "output_type": "stream",
     "text": [
      "symboling\n",
      "0.21386866184357742\n"
     ]
    },
    {
     "data": {
      "image/png": "[encoded data removed]",
      "text/plain": [
       "<Figure size 400x400 with 1 Axes>"
      ]
     },
     "metadata": {},
     "output_type": "display_data"
    },
    {
     "name": "stdout",
     "output_type": "stream",
     "text": [
      "normalized-losses\n",
      "0.848205953606264\n"
     ]
    },
    {
     "data": {
      "image/png": "[encoded data removed]",
      "text/plain": [
       "<Figure size 400x400 with 1 Axes>"
      ]
     },
     "metadata": {},
     "output_type": "display_data"
    },
    {
     "name": "stdout",
     "output_type": "stream",
     "text": [
      "width\n",
      "0.9140400320504322\n"
     ]
    },
    {
     "data": {
      "image/png": "[encoded data removed]",
      "text/plain": [
       "<Figure size 400x400 with 1 Axes>"
      ]
     },
     "metadata": {},
     "output_type": "display_data"
    },
    {
     "name": "stdout",
     "output_type": "stream",
     "text": [
      "height\n",
      "0.013839962443639326\n"
     ]
    },
    {
     "data": {
      "image/png": "[encoded data removed]",
      "text/plain": [
       "<Figure size 400x400 with 1 Axes>"
      ]
     },
     "metadata": {},
     "output_type": "display_data"
    },
    {
     "name": "stdout",
     "output_type": "stream",
     "text": [
      "engine-size\n",
      "2.0541257626466156\n"
     ]
    },
    {
     "data": {
      "image/png": "[encoded data removed]",
      "text/plain": [
       "<Figure size 400x400 with 1 Axes>"
      ]
     },
     "metadata": {},
     "output_type": "display_data"
    },
    {
     "name": "stdout",
     "output_type": "stream",
     "text": [
      "horsepower\n",
      "1.5556576549504106\n"
     ]
    },
    {
     "data": {
      "image/png": "[encoded data removed]",
      "text/plain": [
       "<Figure size 400x400 with 1 Axes>"
      ]
     },
     "metadata": {},
     "output_type": "display_data"
    },
    {
     "name": "stdout",
     "output_type": "stream",
     "text": [
      "city-mpg\n",
      "0.5999073033714895\n"
     ]
    },
    {
     "data": {
      "image/png": "[encoded data removed]",
      "text/plain": [
       "<Figure size 400x400 with 1 Axes>"
      ]
     },
     "metadata": {},
     "output_type": "display_data"
    },
    {
     "name": "stdout",
     "output_type": "stream",
     "text": [
      "highway-mpg\n",
      "0.4760310091695327\n"
     ]
    },
    {
     "data": {
      "image/png": "[encoded data removed]",
      "text/plain": [
       "<Figure size 400x400 with 1 Axes>"
      ]
     },
     "metadata": {},
     "output_type": "display_data"
    }
   ],
   "source": [
    "for i in features[cols]:\n",
    "    print(i)\n",
    "    print(skew(features[i]))\n",
    "    \n",
    "    plt.figure(figsize=(4,4))\n",
    "    sns.distplot(features[i],color='cyan')\n",
    "    plt.show()"
   ]
  },
  {
   "cell_type": "code",
   "execution_count": 33,
   "id": "8d873e53",
   "metadata": {},
   "outputs": [
    {
     "data": {
      "text/plain": [
       "nan"
      ]
     },
     "execution_count": 33,
     "metadata": {},
     "output_type": "execute_result"
    }
   ],
   "source": [
    "np.log(-25)"
   ]
  },
  {
   "cell_type": "code",
   "execution_count": 34,
   "id": "76e20f25",
   "metadata": {},
   "outputs": [
    {
     "data": {
      "text/plain": [
       "3.2188758248682006"
      ]
     },
     "execution_count": 34,
     "metadata": {},
     "output_type": "execute_result"
    }
   ],
   "source": [
    "np.log(25)"
   ]
  },
  {
   "cell_type": "code",
   "execution_count": 35,
   "id": "50f0fa01",
   "metadata": {},
   "outputs": [
    {
     "data": {
      "text/plain": [
       "nan"
      ]
     },
     "execution_count": 35,
     "metadata": {},
     "output_type": "execute_result"
    }
   ],
   "source": [
    "np.sqrt(-25)"
   ]
  },
  {
   "cell_type": "code",
   "execution_count": 37,
   "id": "235ec448",
   "metadata": {},
   "outputs": [
    {
     "data": {
      "text/plain": [
       "5.0"
      ]
     },
     "execution_count": 37,
     "metadata": {},
     "output_type": "execute_result"
    }
   ],
   "source": [
    "np.sqrt(25)"
   ]
  },
  {
   "cell_type": "code",
   "execution_count": 50,
   "id": "46599532",
   "metadata": {},
   "outputs": [
    {
     "data": {
      "text/html": [
       "<style type=\"text/css\">\n",
       "#T_67638_row0_col0, #T_67638_row1_col1, #T_67638_row2_col2, #T_67638_row3_col3, #T_67638_row4_col4, #T_67638_row5_col5, #T_67638_row6_col6, #T_67638_row7_col7, #T_67638_row8_col8 {\n",
       "  background-color: #ff00ff;\n",
       "  color: #f1f1f1;\n",
       "}\n",
       "#T_67638_row0_col1 {\n",
       "  background-color: #9d62ff;\n",
       "  color: #f1f1f1;\n",
       "}\n",
       "#T_67638_row0_col2, #T_67638_row4_col0 {\n",
       "  background-color: #3dc2ff;\n",
       "  color: #000000;\n",
       "}\n",
       "#T_67638_row0_col3, #T_67638_row3_col0, #T_67638_row3_col1, #T_67638_row5_col6, #T_67638_row5_col7, #T_67638_row6_col5, #T_67638_row7_col2, #T_67638_row7_col4, #T_67638_row7_col8 {\n",
       "  background-color: #00ffff;\n",
       "  color: #000000;\n",
       "}\n",
       "#T_67638_row0_col4 {\n",
       "  background-color: #4eb1ff;\n",
       "  color: #f1f1f1;\n",
       "}\n",
       "#T_67638_row0_col5, #T_67638_row3_col4 {\n",
       "  background-color: #758aff;\n",
       "  color: #f1f1f1;\n",
       "}\n",
       "#T_67638_row0_col6, #T_67638_row1_col2 {\n",
       "  background-color: #728dff;\n",
       "  color: #f1f1f1;\n",
       "}\n",
       "#T_67638_row0_col7 {\n",
       "  background-color: #7a85ff;\n",
       "  color: #f1f1f1;\n",
       "}\n",
       "#T_67638_row0_col8 {\n",
       "  background-color: #5ba4ff;\n",
       "  color: #f1f1f1;\n",
       "}\n",
       "#T_67638_row1_col0 {\n",
       "  background-color: #a659ff;\n",
       "  color: #f1f1f1;\n",
       "}\n",
       "#T_67638_row1_col3 {\n",
       "  background-color: #17e8ff;\n",
       "  color: #000000;\n",
       "}\n",
       "#T_67638_row1_col4 {\n",
       "  background-color: #7689ff;\n",
       "  color: #f1f1f1;\n",
       "}\n",
       "#T_67638_row1_col5 {\n",
       "  background-color: #8d72ff;\n",
       "  color: #f1f1f1;\n",
       "}\n",
       "#T_67638_row1_col6 {\n",
       "  background-color: #52adff;\n",
       "  color: #f1f1f1;\n",
       "}\n",
       "#T_67638_row1_col7 {\n",
       "  background-color: #56a9ff;\n",
       "  color: #f1f1f1;\n",
       "}\n",
       "#T_67638_row1_col8, #T_67638_row3_col8 {\n",
       "  background-color: #7f80ff;\n",
       "  color: #f1f1f1;\n",
       "}\n",
       "#T_67638_row2_col0 {\n",
       "  background-color: #29d6ff;\n",
       "  color: #000000;\n",
       "}\n",
       "#T_67638_row2_col1 {\n",
       "  background-color: #54abff;\n",
       "  color: #f1f1f1;\n",
       "}\n",
       "#T_67638_row2_col3 {\n",
       "  background-color: #8976ff;\n",
       "  color: #f1f1f1;\n",
       "}\n",
       "#T_67638_row2_col4, #T_67638_row2_col8, #T_67638_row4_col2 {\n",
       "  background-color: #d728ff;\n",
       "  color: #f1f1f1;\n",
       "}\n",
       "#T_67638_row2_col5 {\n",
       "  background-color: #cd32ff;\n",
       "  color: #f1f1f1;\n",
       "}\n",
       "#T_67638_row2_col6, #T_67638_row4_col6 {\n",
       "  background-color: #16e9ff;\n",
       "  color: #000000;\n",
       "}\n",
       "#T_67638_row2_col7 {\n",
       "  background-color: #0cf3ff;\n",
       "  color: #000000;\n",
       "}\n",
       "#T_67638_row3_col2 {\n",
       "  background-color: #946bff;\n",
       "  color: #f1f1f1;\n",
       "}\n",
       "#T_67638_row3_col5, #T_67638_row3_col6 {\n",
       "  background-color: #6699ff;\n",
       "  color: #f1f1f1;\n",
       "}\n",
       "#T_67638_row3_col7, #T_67638_row4_col1 {\n",
       "  background-color: #59a6ff;\n",
       "  color: #f1f1f1;\n",
       "}\n",
       "#T_67638_row4_col3 {\n",
       "  background-color: #6798ff;\n",
       "  color: #f1f1f1;\n",
       "}\n",
       "#T_67638_row4_col5 {\n",
       "  background-color: #e41bff;\n",
       "  color: #f1f1f1;\n",
       "}\n",
       "#T_67638_row4_col7 {\n",
       "  background-color: #0df2ff;\n",
       "  color: #000000;\n",
       "}\n",
       "#T_67638_row4_col8 {\n",
       "  background-color: #ec13ff;\n",
       "  color: #f1f1f1;\n",
       "}\n",
       "#T_67638_row5_col0 {\n",
       "  background-color: #5ca3ff;\n",
       "  color: #f1f1f1;\n",
       "}\n",
       "#T_67638_row5_col1 {\n",
       "  background-color: #6a95ff;\n",
       "  color: #f1f1f1;\n",
       "}\n",
       "#T_67638_row5_col2 {\n",
       "  background-color: #c936ff;\n",
       "  color: #f1f1f1;\n",
       "}\n",
       "#T_67638_row5_col3, #T_67638_row6_col3 {\n",
       "  background-color: #4ab5ff;\n",
       "  color: #000000;\n",
       "}\n",
       "#T_67638_row5_col4 {\n",
       "  background-color: #e11eff;\n",
       "  color: #f1f1f1;\n",
       "}\n",
       "#T_67638_row5_col8 {\n",
       "  background-color: #dd22ff;\n",
       "  color: #f1f1f1;\n",
       "}\n",
       "#T_67638_row6_col0 {\n",
       "  background-color: #58a7ff;\n",
       "  color: #f1f1f1;\n",
       "}\n",
       "#T_67638_row6_col1 {\n",
       "  background-color: #1ee1ff;\n",
       "  color: #000000;\n",
       "}\n",
       "#T_67638_row6_col2, #T_67638_row7_col5 {\n",
       "  background-color: #05faff;\n",
       "  color: #000000;\n",
       "}\n",
       "#T_67638_row6_col4, #T_67638_row6_col8 {\n",
       "  background-color: #03fcff;\n",
       "  color: #000000;\n",
       "}\n",
       "#T_67638_row6_col7, #T_67638_row7_col6 {\n",
       "  background-color: #fb04ff;\n",
       "  color: #f1f1f1;\n",
       "}\n",
       "#T_67638_row7_col0 {\n",
       "  background-color: #659aff;\n",
       "  color: #f1f1f1;\n",
       "}\n",
       "#T_67638_row7_col1 {\n",
       "  background-color: #27d8ff;\n",
       "  color: #000000;\n",
       "}\n",
       "#T_67638_row7_col3 {\n",
       "  background-color: #3fc0ff;\n",
       "  color: #000000;\n",
       "}\n",
       "#T_67638_row8_col0 {\n",
       "  background-color: #47b8ff;\n",
       "  color: #000000;\n",
       "}\n",
       "#T_67638_row8_col1 {\n",
       "  background-color: #609fff;\n",
       "  color: #f1f1f1;\n",
       "}\n",
       "#T_67638_row8_col2 {\n",
       "  background-color: #d629ff;\n",
       "  color: #f1f1f1;\n",
       "}\n",
       "#T_67638_row8_col3 {\n",
       "  background-color: #708fff;\n",
       "  color: #f1f1f1;\n",
       "}\n",
       "#T_67638_row8_col4 {\n",
       "  background-color: #eb14ff;\n",
       "  color: #f1f1f1;\n",
       "}\n",
       "#T_67638_row8_col5 {\n",
       "  background-color: #df20ff;\n",
       "  color: #f1f1f1;\n",
       "}\n",
       "#T_67638_row8_col6 {\n",
       "  background-color: #10efff;\n",
       "  color: #000000;\n",
       "}\n",
       "#T_67638_row8_col7 {\n",
       "  background-color: #08f7ff;\n",
       "  color: #000000;\n",
       "}\n",
       "</style>\n",
       "<table id=\"T_67638\">\n",
       "  <thead>\n",
       "    <tr>\n",
       "      <th class=\"blank level0\" >&nbsp;</th>\n",
       "      <th id=\"T_67638_level0_col0\" class=\"col_heading level0 col0\" >symboling</th>\n",
       "      <th id=\"T_67638_level0_col1\" class=\"col_heading level0 col1\" >normalized-losses</th>\n",
       "      <th id=\"T_67638_level0_col2\" class=\"col_heading level0 col2\" >width</th>\n",
       "      <th id=\"T_67638_level0_col3\" class=\"col_heading level0 col3\" >height</th>\n",
       "      <th id=\"T_67638_level0_col4\" class=\"col_heading level0 col4\" >engine-size</th>\n",
       "      <th id=\"T_67638_level0_col5\" class=\"col_heading level0 col5\" >horsepower</th>\n",
       "      <th id=\"T_67638_level0_col6\" class=\"col_heading level0 col6\" >city-mpg</th>\n",
       "      <th id=\"T_67638_level0_col7\" class=\"col_heading level0 col7\" >highway-mpg</th>\n",
       "      <th id=\"T_67638_level0_col8\" class=\"col_heading level0 col8\" >price</th>\n",
       "    </tr>\n",
       "  </thead>\n",
       "  <tbody>\n",
       "    <tr>\n",
       "      <th id=\"T_67638_level0_row0\" class=\"row_heading level0 row0\" >symboling</th>\n",
       "      <td id=\"T_67638_row0_col0\" class=\"data row0 col0\" >1.000000</td>\n",
       "      <td id=\"T_67638_row0_col1\" class=\"data row0 col1\" >0.469376</td>\n",
       "      <td id=\"T_67638_row0_col2\" class=\"data row0 col2\" >-0.272388</td>\n",
       "      <td id=\"T_67638_row0_col3\" class=\"data row0 col3\" >-0.521495</td>\n",
       "      <td id=\"T_67638_row0_col4\" class=\"data row0 col4\" >-0.153671</td>\n",
       "      <td id=\"T_67638_row0_col5\" class=\"data row0 col5\" >0.027074</td>\n",
       "      <td id=\"T_67638_row0_col6\" class=\"data row0 col6\" >0.007189</td>\n",
       "      <td id=\"T_67638_row0_col7\" class=\"data row0 col7\" >0.084238</td>\n",
       "      <td id=\"T_67638_row0_col8\" class=\"data row0 col8\" >-0.095905</td>\n",
       "    </tr>\n",
       "    <tr>\n",
       "      <th id=\"T_67638_level0_row1\" class=\"row_heading level0 row1\" >normalized-losses</th>\n",
       "      <td id=\"T_67638_row1_col0\" class=\"data row1 col0\" >0.469376</td>\n",
       "      <td id=\"T_67638_row1_col1\" class=\"data row1 col1\" >1.000000</td>\n",
       "      <td id=\"T_67638_row1_col2\" class=\"data row1 col2\" >0.075228</td>\n",
       "      <td id=\"T_67638_row1_col3\" class=\"data row1 col3\" >-0.379698</td>\n",
       "      <td id=\"T_67638_row1_col4\" class=\"data row1 col4\" >0.103697</td>\n",
       "      <td id=\"T_67638_row1_col5\" class=\"data row1 col5\" >0.195058</td>\n",
       "      <td id=\"T_67638_row1_col6\" class=\"data row1 col6\" >-0.215628</td>\n",
       "      <td id=\"T_67638_row1_col7\" class=\"data row1 col7\" >-0.168380</td>\n",
       "      <td id=\"T_67638_row1_col8\" class=\"data row1 col8\" >0.142736</td>\n",
       "    </tr>\n",
       "    <tr>\n",
       "      <th id=\"T_67638_level0_row2\" class=\"row_heading level0 row2\" >width</th>\n",
       "      <td id=\"T_67638_row2_col0\" class=\"data row2 col0\" >-0.272388</td>\n",
       "      <td id=\"T_67638_row2_col1\" class=\"data row2 col1\" >0.075228</td>\n",
       "      <td id=\"T_67638_row2_col2\" class=\"data row2 col2\" >1.000000</td>\n",
       "      <td id=\"T_67638_row2_col3\" class=\"data row2 col3\" >0.296011</td>\n",
       "      <td id=\"T_67638_row2_col4\" class=\"data row2 col4\" >0.735112</td>\n",
       "      <td id=\"T_67638_row2_col5\" class=\"data row2 col5\" >0.643906</td>\n",
       "      <td id=\"T_67638_row2_col6\" class=\"data row2 col6\" >-0.641401</td>\n",
       "      <td id=\"T_67638_row2_col7\" class=\"data row2 col7\" >-0.677911</td>\n",
       "      <td id=\"T_67638_row2_col8\" class=\"data row2 col8\" >0.730503</td>\n",
       "    </tr>\n",
       "    <tr>\n",
       "      <th id=\"T_67638_level0_row3\" class=\"row_heading level0 row3\" >height</th>\n",
       "      <td id=\"T_67638_row3_col0\" class=\"data row3 col0\" >-0.521495</td>\n",
       "      <td id=\"T_67638_row3_col1\" class=\"data row3 col1\" >-0.379698</td>\n",
       "      <td id=\"T_67638_row3_col2\" class=\"data row3 col2\" >0.296011</td>\n",
       "      <td id=\"T_67638_row3_col3\" class=\"data row3 col3\" >1.000000</td>\n",
       "      <td id=\"T_67638_row3_col4\" class=\"data row3 col4\" >0.096041</td>\n",
       "      <td id=\"T_67638_row3_col5\" class=\"data row3 col5\" >-0.078245</td>\n",
       "      <td id=\"T_67638_row3_col6\" class=\"data row3 col6\" >-0.078815</td>\n",
       "      <td id=\"T_67638_row3_col7\" class=\"data row3 col7\" >-0.142926</td>\n",
       "      <td id=\"T_67638_row3_col8\" class=\"data row3 col8\" >0.147010</td>\n",
       "    </tr>\n",
       "    <tr>\n",
       "      <th id=\"T_67638_level0_row4\" class=\"row_heading level0 row4\" >engine-size</th>\n",
       "      <td id=\"T_67638_row4_col0\" class=\"data row4 col0\" >-0.153671</td>\n",
       "      <td id=\"T_67638_row4_col1\" class=\"data row4 col1\" >0.103697</td>\n",
       "      <td id=\"T_67638_row4_col2\" class=\"data row4 col2\" >0.735112</td>\n",
       "      <td id=\"T_67638_row4_col3\" class=\"data row4 col3\" >0.096041</td>\n",
       "      <td id=\"T_67638_row4_col4\" class=\"data row4 col4\" >1.000000</td>\n",
       "      <td id=\"T_67638_row4_col5\" class=\"data row4 col5\" >0.803956</td>\n",
       "      <td id=\"T_67638_row4_col6\" class=\"data row4 col6\" >-0.642711</td>\n",
       "      <td id=\"T_67638_row4_col7\" class=\"data row4 col7\" >-0.667078</td>\n",
       "      <td id=\"T_67638_row4_col8\" class=\"data row4 col8\" >0.869638</td>\n",
       "    </tr>\n",
       "    <tr>\n",
       "      <th id=\"T_67638_level0_row5\" class=\"row_heading level0 row5\" >horsepower</th>\n",
       "      <td id=\"T_67638_row5_col0\" class=\"data row5 col0\" >0.027074</td>\n",
       "      <td id=\"T_67638_row5_col1\" class=\"data row5 col1\" >0.195058</td>\n",
       "      <td id=\"T_67638_row5_col2\" class=\"data row5 col2\" >0.643906</td>\n",
       "      <td id=\"T_67638_row5_col3\" class=\"data row5 col3\" >-0.078245</td>\n",
       "      <td id=\"T_67638_row5_col4\" class=\"data row5 col4\" >0.803956</td>\n",
       "      <td id=\"T_67638_row5_col5\" class=\"data row5 col5\" >1.000000</td>\n",
       "      <td id=\"T_67638_row5_col6\" class=\"data row5 col6\" >-0.797166</td>\n",
       "      <td id=\"T_67638_row5_col7\" class=\"data row5 col7\" >-0.761009</td>\n",
       "      <td id=\"T_67638_row5_col8\" class=\"data row5 col8\" >0.768921</td>\n",
       "    </tr>\n",
       "    <tr>\n",
       "      <th id=\"T_67638_level0_row6\" class=\"row_heading level0 row6\" >city-mpg</th>\n",
       "      <td id=\"T_67638_row6_col0\" class=\"data row6 col0\" >0.007189</td>\n",
       "      <td id=\"T_67638_row6_col1\" class=\"data row6 col1\" >-0.215628</td>\n",
       "      <td id=\"T_67638_row6_col2\" class=\"data row6 col2\" >-0.641401</td>\n",
       "      <td id=\"T_67638_row6_col3\" class=\"data row6 col3\" >-0.078815</td>\n",
       "      <td id=\"T_67638_row6_col4\" class=\"data row6 col4\" >-0.642711</td>\n",
       "      <td id=\"T_67638_row6_col5\" class=\"data row6 col5\" >-0.797166</td>\n",
       "      <td id=\"T_67638_row6_col6\" class=\"data row6 col6\" >1.000000</td>\n",
       "      <td id=\"T_67638_row6_col7\" class=\"data row6 col7\" >0.970113</td>\n",
       "      <td id=\"T_67638_row6_col8\" class=\"data row6 col8\" >-0.680412</td>\n",
       "    </tr>\n",
       "    <tr>\n",
       "      <th id=\"T_67638_level0_row7\" class=\"row_heading level0 row7\" >highway-mpg</th>\n",
       "      <td id=\"T_67638_row7_col0\" class=\"data row7 col0\" >0.084238</td>\n",
       "      <td id=\"T_67638_row7_col1\" class=\"data row7 col1\" >-0.168380</td>\n",
       "      <td id=\"T_67638_row7_col2\" class=\"data row7 col2\" >-0.677911</td>\n",
       "      <td id=\"T_67638_row7_col3\" class=\"data row7 col3\" >-0.142926</td>\n",
       "      <td id=\"T_67638_row7_col4\" class=\"data row7 col4\" >-0.667078</td>\n",
       "      <td id=\"T_67638_row7_col5\" class=\"data row7 col5\" >-0.761009</td>\n",
       "      <td id=\"T_67638_row7_col6\" class=\"data row7 col6\" >0.970113</td>\n",
       "      <td id=\"T_67638_row7_col7\" class=\"data row7 col7\" >1.000000</td>\n",
       "      <td id=\"T_67638_row7_col8\" class=\"data row7 col8\" >-0.704846</td>\n",
       "    </tr>\n",
       "    <tr>\n",
       "      <th id=\"T_67638_level0_row8\" class=\"row_heading level0 row8\" >price</th>\n",
       "      <td id=\"T_67638_row8_col0\" class=\"data row8 col0\" >-0.095905</td>\n",
       "      <td id=\"T_67638_row8_col1\" class=\"data row8 col1\" >0.142736</td>\n",
       "      <td id=\"T_67638_row8_col2\" class=\"data row8 col2\" >0.730503</td>\n",
       "      <td id=\"T_67638_row8_col3\" class=\"data row8 col3\" >0.147010</td>\n",
       "      <td id=\"T_67638_row8_col4\" class=\"data row8 col4\" >0.869638</td>\n",
       "      <td id=\"T_67638_row8_col5\" class=\"data row8 col5\" >0.768921</td>\n",
       "      <td id=\"T_67638_row8_col6\" class=\"data row8 col6\" >-0.680412</td>\n",
       "      <td id=\"T_67638_row8_col7\" class=\"data row8 col7\" >-0.704846</td>\n",
       "      <td id=\"T_67638_row8_col8\" class=\"data row8 col8\" >1.000000</td>\n",
       "    </tr>\n",
       "  </tbody>\n",
       "</table>\n"
      ],
      "text/plain": [
       "<pandas.io.formats.style.Styler at 0x1d8d27198a0>"
      ]
     },
     "execution_count": 50,
     "metadata": {},
     "output_type": "execute_result"
    }
   ],
   "source": [
    "pd.concat([features,target],axis=1).corr().style.background_gradient('cool')"
   ]
  },
  {
   "cell_type": "code",
   "execution_count": 43,
   "id": "976600da",
   "metadata": {},
   "outputs": [],
   "source": [
    "features['normalized-losses']=np.log(features['normalized-losses'])"
   ]
  },
  {
   "cell_type": "code",
   "execution_count": 44,
   "id": "85a10c60",
   "metadata": {},
   "outputs": [
    {
     "data": {
      "text/plain": [
       "0.018468899462087518"
      ]
     },
     "execution_count": 44,
     "metadata": {},
     "output_type": "execute_result"
    }
   ],
   "source": [
    "skew(features['normalized-losses'])"
   ]
  },
  {
   "cell_type": "code",
   "execution_count": null,
   "id": "5c44c8b2",
   "metadata": {},
   "outputs": [],
   "source": []
  }
 ],
 "metadata": {
  "kernelspec": {
   "display_name": "Python 3 (ipykernel)",
   "language": "python",
   "name": "python3"
  },
  "language_info": {
   "codemirror_mode": {
    "name": "ipython",
    "version": 3
   },
   "file_extension": ".py",
   "mimetype": "text/x-python",
   "name": "python",
   "nbconvert_exporter": "python",
   "pygments_lexer": "ipython3",
   "version": "3.10.9"
  }
 },
 "nbformat": 4,
 "nbformat_minor": 5
}
