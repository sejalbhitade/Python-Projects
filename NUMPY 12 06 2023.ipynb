{
 "cells": [
  {
   "cell_type": "code",
   "execution_count": 1,
   "id": "54c250a0",
   "metadata": {
    "scrolled": true
   },
   "outputs": [
    {
     "name": "stdout",
     "output_type": "stream",
     "text": [
      "Defaulting to user installation because normal site-packages is not writeable\n",
      "Requirement already satisfied: numpy in d:\\anaconda python\\lib\\site-packages (1.23.5)\n",
      "Could not fetch URL https://pypi.org/simple/pip/: There was a problem confirming the ssl certificate: HTTPSConnectionPool(host='pypi.org', port=443): Max retries exceeded with url: /simple/pip/ (Caused by SSLError(SSLCertVerificationError(1, '[SSL: CERTIFICATE_VERIFY_FAILED] certificate verify failed: unable to get local issuer certificate (_ssl.c:997)'))) - skipping\n",
      "Note: you may need to restart the kernel to use updated packages.\n"
     ]
    },
    {
     "name": "stderr",
     "output_type": "stream",
     "text": [
      "WARNING: There was an error checking the latest version of pip.\n"
     ]
    }
   ],
   "source": [
    "pip install numpy"
   ]
  },
  {
   "cell_type": "code",
   "execution_count": 2,
   "id": "d7f1fc53",
   "metadata": {},
   "outputs": [],
   "source": [
    "import numpy as np"
   ]
  },
  {
   "cell_type": "code",
   "execution_count": 3,
   "id": "658fac70",
   "metadata": {},
   "outputs": [],
   "source": [
    "a2=np.array(((1,2,3),(4,5,6)))"
   ]
  },
  {
   "cell_type": "code",
   "execution_count": 4,
   "id": "0e3f1dd9",
   "metadata": {},
   "outputs": [
    {
     "data": {
      "text/plain": [
       "array([[1, 2, 3],\n",
       "       [4, 5, 6]])"
      ]
     },
     "execution_count": 4,
     "metadata": {},
     "output_type": "execute_result"
    }
   ],
   "source": [
    "a2"
   ]
  },
  {
   "cell_type": "code",
   "execution_count": 5,
   "id": "dfc980b1",
   "metadata": {},
   "outputs": [
    {
     "data": {
      "text/plain": [
       "numpy.ndarray"
      ]
     },
     "execution_count": 5,
     "metadata": {},
     "output_type": "execute_result"
    }
   ],
   "source": [
    "type(a2)"
   ]
  },
  {
   "cell_type": "code",
   "execution_count": 6,
   "id": "0a59a8cd",
   "metadata": {},
   "outputs": [
    {
     "data": {
      "text/plain": [
       "2"
      ]
     },
     "execution_count": 6,
     "metadata": {},
     "output_type": "execute_result"
    }
   ],
   "source": [
    "a2.ndim"
   ]
  },
  {
   "cell_type": "code",
   "execution_count": 7,
   "id": "48363338",
   "metadata": {},
   "outputs": [],
   "source": [
    "a3=np.zeros((4,4))"
   ]
  },
  {
   "cell_type": "code",
   "execution_count": 8,
   "id": "1616c8e7",
   "metadata": {},
   "outputs": [
    {
     "data": {
      "text/plain": [
       "array([[0., 0., 0., 0.],\n",
       "       [0., 0., 0., 0.],\n",
       "       [0., 0., 0., 0.],\n",
       "       [0., 0., 0., 0.]])"
      ]
     },
     "execution_count": 8,
     "metadata": {},
     "output_type": "execute_result"
    }
   ],
   "source": [
    "a3"
   ]
  },
  {
   "cell_type": "code",
   "execution_count": 9,
   "id": "c8376f4f",
   "metadata": {},
   "outputs": [],
   "source": [
    "a4=np.ones((3,4))"
   ]
  },
  {
   "cell_type": "code",
   "execution_count": 10,
   "id": "b27be705",
   "metadata": {},
   "outputs": [
    {
     "data": {
      "text/plain": [
       "array([[1., 1., 1., 1.],\n",
       "       [1., 1., 1., 1.],\n",
       "       [1., 1., 1., 1.]])"
      ]
     },
     "execution_count": 10,
     "metadata": {},
     "output_type": "execute_result"
    }
   ],
   "source": [
    "a4"
   ]
  },
  {
   "cell_type": "code",
   "execution_count": 11,
   "id": "dc199667",
   "metadata": {},
   "outputs": [],
   "source": [
    "a5=np.random.random((3,9))"
   ]
  },
  {
   "cell_type": "code",
   "execution_count": 12,
   "id": "73678992",
   "metadata": {},
   "outputs": [
    {
     "data": {
      "text/plain": [
       "array([[0.0538738 , 0.23165116, 0.4997054 , 0.29213835, 0.64922224,\n",
       "        0.22417657, 0.22047405, 0.64310428, 0.10818975],\n",
       "       [0.72406218, 0.10835026, 0.26163441, 0.34142369, 0.44830223,\n",
       "        0.36670127, 0.52447082, 0.18388506, 0.79961134],\n",
       "       [0.57871161, 0.61613178, 0.43514711, 0.59544573, 0.50898217,\n",
       "        0.32679115, 0.94830963, 0.38394138, 0.3538194 ]])"
      ]
     },
     "execution_count": 12,
     "metadata": {},
     "output_type": "execute_result"
    }
   ],
   "source": [
    "a5"
   ]
  },
  {
   "cell_type": "code",
   "execution_count": 13,
   "id": "3e51a443",
   "metadata": {},
   "outputs": [
    {
     "data": {
      "text/plain": [
       "array([10,  9,  8,  7,  6,  5,  4,  3,  2,  1])"
      ]
     },
     "execution_count": 13,
     "metadata": {},
     "output_type": "execute_result"
    }
   ],
   "source": [
    "a6=np.arange(10,0,-1)\n",
    "a6"
   ]
  },
  {
   "cell_type": "markdown",
   "id": "d3d8de6b",
   "metadata": {},
   "source": [
    "#### NOTE - if floating value is given it will convert into complex value .if complex value is given it will convert into integer too"
   ]
  },
  {
   "cell_type": "code",
   "execution_count": 14,
   "id": "eedbddf6",
   "metadata": {},
   "outputs": [],
   "source": [
    "l1=np.linspace(1,10,retstep=True,endpoint=False,dtype='int')"
   ]
  },
  {
   "cell_type": "code",
   "execution_count": 15,
   "id": "4bf408ff",
   "metadata": {},
   "outputs": [
    {
     "data": {
      "text/plain": [
       "(array([1, 1, 1, 1, 1, 1, 2, 2, 2, 2, 2, 2, 3, 3, 3, 3, 3, 4, 4, 4, 4, 4,\n",
       "        4, 5, 5, 5, 5, 5, 6, 6, 6, 6, 6, 6, 7, 7, 7, 7, 7, 8, 8, 8, 8, 8,\n",
       "        8, 9, 9, 9, 9, 9]),\n",
       " 0.18)"
      ]
     },
     "execution_count": 15,
     "metadata": {},
     "output_type": "execute_result"
    }
   ],
   "source": [
    "l1"
   ]
  },
  {
   "cell_type": "code",
   "execution_count": 16,
   "id": "f3cf576f",
   "metadata": {},
   "outputs": [],
   "source": [
    "l2=a5.reshape((9,3))  #it shape an array without changing data of array"
   ]
  },
  {
   "cell_type": "code",
   "execution_count": 17,
   "id": "19037481",
   "metadata": {},
   "outputs": [
    {
     "data": {
      "text/plain": [
       "array([[0.0538738 , 0.23165116, 0.4997054 ],\n",
       "       [0.29213835, 0.64922224, 0.22417657],\n",
       "       [0.22047405, 0.64310428, 0.10818975],\n",
       "       [0.72406218, 0.10835026, 0.26163441],\n",
       "       [0.34142369, 0.44830223, 0.36670127],\n",
       "       [0.52447082, 0.18388506, 0.79961134],\n",
       "       [0.57871161, 0.61613178, 0.43514711],\n",
       "       [0.59544573, 0.50898217, 0.32679115],\n",
       "       [0.94830963, 0.38394138, 0.3538194 ]])"
      ]
     },
     "execution_count": 17,
     "metadata": {},
     "output_type": "execute_result"
    }
   ],
   "source": [
    "l2"
   ]
  },
  {
   "cell_type": "code",
   "execution_count": 18,
   "id": "f7192728",
   "metadata": {},
   "outputs": [],
   "source": [
    "l3=l2.flatten()"
   ]
  },
  {
   "cell_type": "code",
   "execution_count": 19,
   "id": "38b83bfa",
   "metadata": {},
   "outputs": [
    {
     "data": {
      "text/plain": [
       "array([0.0538738 , 0.23165116, 0.4997054 , 0.29213835, 0.64922224,\n",
       "       0.22417657, 0.22047405, 0.64310428, 0.10818975, 0.72406218,\n",
       "       0.10835026, 0.26163441, 0.34142369, 0.44830223, 0.36670127,\n",
       "       0.52447082, 0.18388506, 0.79961134, 0.57871161, 0.61613178,\n",
       "       0.43514711, 0.59544573, 0.50898217, 0.32679115, 0.94830963,\n",
       "       0.38394138, 0.3538194 ])"
      ]
     },
     "execution_count": 19,
     "metadata": {},
     "output_type": "execute_result"
    }
   ],
   "source": [
    "l3"
   ]
  },
  {
   "cell_type": "code",
   "execution_count": 20,
   "id": "4b35f6f8",
   "metadata": {},
   "outputs": [
    {
     "data": {
      "text/plain": [
       "1"
      ]
     },
     "execution_count": 20,
     "metadata": {},
     "output_type": "execute_result"
    }
   ],
   "source": [
    "l3.ndim"
   ]
  },
  {
   "cell_type": "code",
   "execution_count": 21,
   "id": "d0cad1f1",
   "metadata": {},
   "outputs": [],
   "source": [
    "l4=np.array([[10,2+5j],[11,3+5j]])"
   ]
  },
  {
   "cell_type": "code",
   "execution_count": 22,
   "id": "94fbfb98",
   "metadata": {},
   "outputs": [
    {
     "data": {
      "text/plain": [
       "array([[10.+0.j,  2.+5.j],\n",
       "       [11.+0.j,  3.+5.j]])"
      ]
     },
     "execution_count": 22,
     "metadata": {},
     "output_type": "execute_result"
    }
   ],
   "source": [
    "l4"
   ]
  },
  {
   "cell_type": "code",
   "execution_count": 23,
   "id": "cd0ec5dc",
   "metadata": {},
   "outputs": [
    {
     "data": {
      "text/plain": [
       "dtype('complex128')"
      ]
     },
     "execution_count": 23,
     "metadata": {},
     "output_type": "execute_result"
    }
   ],
   "source": [
    "l4.dtype"
   ]
  },
  {
   "cell_type": "code",
   "execution_count": 24,
   "id": "ea760583",
   "metadata": {},
   "outputs": [],
   "source": [
    "l5=np.array([[11,12.3],[12,8.9]])"
   ]
  },
  {
   "cell_type": "code",
   "execution_count": 25,
   "id": "f7787791",
   "metadata": {},
   "outputs": [
    {
     "data": {
      "text/plain": [
       "array([[11. , 12.3],\n",
       "       [12. ,  8.9]])"
      ]
     },
     "execution_count": 25,
     "metadata": {},
     "output_type": "execute_result"
    }
   ],
   "source": [
    "l5"
   ]
  },
  {
   "cell_type": "code",
   "execution_count": 26,
   "id": "bae307cd",
   "metadata": {},
   "outputs": [
    {
     "data": {
      "text/plain": [
       "dtype('float64')"
      ]
     },
     "execution_count": 26,
     "metadata": {},
     "output_type": "execute_result"
    }
   ],
   "source": [
    "l5.dtype"
   ]
  },
  {
   "cell_type": "code",
   "execution_count": 27,
   "id": "13b9ba08",
   "metadata": {},
   "outputs": [
    {
     "data": {
      "text/plain": [
       "2"
      ]
     },
     "execution_count": 27,
     "metadata": {},
     "output_type": "execute_result"
    }
   ],
   "source": [
    "len(l5)"
   ]
  },
  {
   "cell_type": "code",
   "execution_count": 28,
   "id": "05974af1",
   "metadata": {},
   "outputs": [
    {
     "data": {
      "text/plain": [
       "27"
      ]
     },
     "execution_count": 28,
     "metadata": {},
     "output_type": "execute_result"
    }
   ],
   "source": [
    "len(l3)"
   ]
  },
  {
   "cell_type": "markdown",
   "id": "2156a8c7",
   "metadata": {},
   "source": [
    "#### size - shows the no.of elements in the array"
   ]
  },
  {
   "cell_type": "code",
   "execution_count": 29,
   "id": "9b0f5ca9",
   "metadata": {},
   "outputs": [
    {
     "data": {
      "text/plain": [
       "array([[0.0538738 , 0.23165116, 0.4997054 , 0.29213835, 0.64922224,\n",
       "        0.22417657, 0.22047405, 0.64310428, 0.10818975],\n",
       "       [0.72406218, 0.10835026, 0.26163441, 0.34142369, 0.44830223,\n",
       "        0.36670127, 0.52447082, 0.18388506, 0.79961134],\n",
       "       [0.57871161, 0.61613178, 0.43514711, 0.59544573, 0.50898217,\n",
       "        0.32679115, 0.94830963, 0.38394138, 0.3538194 ]])"
      ]
     },
     "execution_count": 29,
     "metadata": {},
     "output_type": "execute_result"
    }
   ],
   "source": [
    "a5"
   ]
  },
  {
   "cell_type": "code",
   "execution_count": 30,
   "id": "278a07c2",
   "metadata": {},
   "outputs": [
    {
     "data": {
      "text/plain": [
       "4"
      ]
     },
     "execution_count": 30,
     "metadata": {},
     "output_type": "execute_result"
    }
   ],
   "source": [
    "l5.size"
   ]
  },
  {
   "cell_type": "code",
   "execution_count": 31,
   "id": "9581c4b3",
   "metadata": {},
   "outputs": [
    {
     "data": {
      "text/plain": [
       "27"
      ]
     },
     "execution_count": 31,
     "metadata": {},
     "output_type": "execute_result"
    }
   ],
   "source": [
    "a5.size"
   ]
  },
  {
   "cell_type": "code",
   "execution_count": 32,
   "id": "b99fb426",
   "metadata": {},
   "outputs": [
    {
     "data": {
      "text/plain": [
       "8"
      ]
     },
     "execution_count": 32,
     "metadata": {},
     "output_type": "execute_result"
    }
   ],
   "source": [
    "a5.itemsize"
   ]
  },
  {
   "cell_type": "code",
   "execution_count": 33,
   "id": "2b9cefd1",
   "metadata": {},
   "outputs": [
    {
     "data": {
      "text/plain": [
       "16"
      ]
     },
     "execution_count": 33,
     "metadata": {},
     "output_type": "execute_result"
    }
   ],
   "source": [
    "l4.itemsize"
   ]
  },
  {
   "cell_type": "code",
   "execution_count": 34,
   "id": "2f6d88a4",
   "metadata": {},
   "outputs": [
    {
     "data": {
      "text/plain": [
       "(2, 2)"
      ]
     },
     "execution_count": 34,
     "metadata": {},
     "output_type": "execute_result"
    }
   ],
   "source": [
    "l4.shape"
   ]
  },
  {
   "cell_type": "code",
   "execution_count": 35,
   "id": "15c164a9",
   "metadata": {},
   "outputs": [
    {
     "data": {
      "text/plain": [
       "(3, 9)"
      ]
     },
     "execution_count": 35,
     "metadata": {},
     "output_type": "execute_result"
    }
   ],
   "source": [
    "a5.shape"
   ]
  },
  {
   "cell_type": "code",
   "execution_count": 36,
   "id": "4914d266",
   "metadata": {},
   "outputs": [
    {
     "data": {
      "text/plain": [
       "numpy.ndarray"
      ]
     },
     "execution_count": 36,
     "metadata": {},
     "output_type": "execute_result"
    }
   ],
   "source": [
    "type(l4)"
   ]
  },
  {
   "cell_type": "code",
   "execution_count": 37,
   "id": "191303c8",
   "metadata": {},
   "outputs": [
    {
     "data": {
      "text/plain": [
       "array([[0.0538738 , 0.72406218, 0.57871161],\n",
       "       [0.23165116, 0.10835026, 0.61613178],\n",
       "       [0.4997054 , 0.26163441, 0.43514711],\n",
       "       [0.29213835, 0.34142369, 0.59544573],\n",
       "       [0.64922224, 0.44830223, 0.50898217],\n",
       "       [0.22417657, 0.36670127, 0.32679115],\n",
       "       [0.22047405, 0.52447082, 0.94830963],\n",
       "       [0.64310428, 0.18388506, 0.38394138],\n",
       "       [0.10818975, 0.79961134, 0.3538194 ]])"
      ]
     },
     "execution_count": 37,
     "metadata": {},
     "output_type": "execute_result"
    }
   ],
   "source": [
    "a5.T   #T stands for transpose property"
   ]
  },
  {
   "cell_type": "code",
   "execution_count": 38,
   "id": "aac4a672",
   "metadata": {},
   "outputs": [
    {
     "data": {
      "text/plain": [
       "array([[0.0538738 , 0.72406218, 0.57871161],\n",
       "       [0.23165116, 0.10835026, 0.61613178],\n",
       "       [0.4997054 , 0.26163441, 0.43514711],\n",
       "       [0.29213835, 0.34142369, 0.59544573],\n",
       "       [0.64922224, 0.44830223, 0.50898217],\n",
       "       [0.22417657, 0.36670127, 0.32679115],\n",
       "       [0.22047405, 0.52447082, 0.94830963],\n",
       "       [0.64310428, 0.18388506, 0.38394138],\n",
       "       [0.10818975, 0.79961134, 0.3538194 ]])"
      ]
     },
     "execution_count": 38,
     "metadata": {},
     "output_type": "execute_result"
    }
   ],
   "source": [
    "a5.transpose()   #tranpsose is a function "
   ]
  },
  {
   "cell_type": "markdown",
   "id": "22dbd450",
   "metadata": {},
   "source": [
    "## indexing and slicing"
   ]
  },
  {
   "cell_type": "code",
   "execution_count": 39,
   "id": "23a2dec5",
   "metadata": {},
   "outputs": [],
   "source": [
    "a11=np.arange(21,31)"
   ]
  },
  {
   "cell_type": "code",
   "execution_count": 40,
   "id": "f845d2cb",
   "metadata": {},
   "outputs": [
    {
     "data": {
      "text/plain": [
       "array([21, 22, 23, 24, 25, 26, 27, 28, 29, 30])"
      ]
     },
     "execution_count": 40,
     "metadata": {},
     "output_type": "execute_result"
    }
   ],
   "source": [
    "a11"
   ]
  },
  {
   "cell_type": "code",
   "execution_count": 41,
   "id": "c7a7466a",
   "metadata": {},
   "outputs": [
    {
     "data": {
      "text/plain": [
       "30"
      ]
     },
     "execution_count": 41,
     "metadata": {},
     "output_type": "execute_result"
    }
   ],
   "source": [
    "a11[-1]"
   ]
  },
  {
   "cell_type": "code",
   "execution_count": 42,
   "id": "ad2e0966",
   "metadata": {},
   "outputs": [],
   "source": [
    "a12=np.array([[1,2,3],[4,5,6],[7,8,9]])"
   ]
  },
  {
   "cell_type": "code",
   "execution_count": 43,
   "id": "a6b907b7",
   "metadata": {},
   "outputs": [
    {
     "data": {
      "text/plain": [
       "array([[1, 2, 3],\n",
       "       [4, 5, 6],\n",
       "       [7, 8, 9]])"
      ]
     },
     "execution_count": 43,
     "metadata": {},
     "output_type": "execute_result"
    }
   ],
   "source": [
    "a12"
   ]
  },
  {
   "cell_type": "code",
   "execution_count": 44,
   "id": "fdf9d9d7",
   "metadata": {},
   "outputs": [
    {
     "data": {
      "text/plain": [
       "6"
      ]
     },
     "execution_count": 44,
     "metadata": {},
     "output_type": "execute_result"
    }
   ],
   "source": [
    "a12[1][2]"
   ]
  },
  {
   "cell_type": "code",
   "execution_count": 45,
   "id": "26b5aa13",
   "metadata": {},
   "outputs": [
    {
     "data": {
      "text/plain": [
       "9"
      ]
     },
     "execution_count": 45,
     "metadata": {},
     "output_type": "execute_result"
    }
   ],
   "source": [
    "a12[2][2]"
   ]
  },
  {
   "cell_type": "markdown",
   "id": "4fd21e6c",
   "metadata": {},
   "source": [
    "## Slicing"
   ]
  },
  {
   "cell_type": "code",
   "execution_count": 46,
   "id": "ae2c7cda",
   "metadata": {},
   "outputs": [
    {
     "data": {
      "text/plain": [
       "array([21, 22, 23, 24, 25, 26, 27, 28, 29, 30])"
      ]
     },
     "execution_count": 46,
     "metadata": {},
     "output_type": "execute_result"
    }
   ],
   "source": [
    "a11"
   ]
  },
  {
   "cell_type": "code",
   "execution_count": 47,
   "id": "fbd50b2f",
   "metadata": {},
   "outputs": [
    {
     "data": {
      "text/plain": [
       "array([25, 26, 27, 28])"
      ]
     },
     "execution_count": 47,
     "metadata": {},
     "output_type": "execute_result"
    }
   ],
   "source": [
    "a11[4:8:1]"
   ]
  },
  {
   "cell_type": "code",
   "execution_count": 48,
   "id": "5d24a1d1",
   "metadata": {},
   "outputs": [
    {
     "data": {
      "text/plain": [
       "array([[1, 2, 3],\n",
       "       [4, 5, 6],\n",
       "       [7, 8, 9]])"
      ]
     },
     "execution_count": 48,
     "metadata": {},
     "output_type": "execute_result"
    }
   ],
   "source": [
    "a12"
   ]
  },
  {
   "cell_type": "markdown",
   "id": "c445c941",
   "metadata": {},
   "source": [
    "#### array[row,col]"
   ]
  },
  {
   "cell_type": "code",
   "execution_count": 49,
   "id": "c87f5eb9",
   "metadata": {},
   "outputs": [
    {
     "data": {
      "text/plain": [
       "array([1, 2, 3])"
      ]
     },
     "execution_count": 49,
     "metadata": {},
     "output_type": "execute_result"
    }
   ],
   "source": [
    "a12[0,0:3]"
   ]
  },
  {
   "cell_type": "code",
   "execution_count": 50,
   "id": "eb8f30a9",
   "metadata": {},
   "outputs": [
    {
     "data": {
      "text/plain": [
       "array([[1, 2],\n",
       "       [4, 5]])"
      ]
     },
     "execution_count": 50,
     "metadata": {},
     "output_type": "execute_result"
    }
   ],
   "source": [
    "a12[0:2,0:2]"
   ]
  },
  {
   "cell_type": "code",
   "execution_count": 51,
   "id": "6166254a",
   "metadata": {},
   "outputs": [
    {
     "data": {
      "text/plain": [
       "array([[1, 2],\n",
       "       [4, 5]])"
      ]
     },
     "execution_count": 51,
     "metadata": {},
     "output_type": "execute_result"
    }
   ],
   "source": [
    "a12[0:2,0:2]"
   ]
  },
  {
   "cell_type": "code",
   "execution_count": 52,
   "id": "c2ad772d",
   "metadata": {},
   "outputs": [
    {
     "data": {
      "text/plain": [
       "array([[5, 6],\n",
       "       [8, 9]])"
      ]
     },
     "execution_count": 52,
     "metadata": {},
     "output_type": "execute_result"
    }
   ],
   "source": [
    "a12[1:3,1:3]"
   ]
  },
  {
   "cell_type": "code",
   "execution_count": 53,
   "id": "98cd13db",
   "metadata": {},
   "outputs": [
    {
     "data": {
      "text/plain": [
       "9"
      ]
     },
     "execution_count": 53,
     "metadata": {},
     "output_type": "execute_result"
    }
   ],
   "source": [
    "a12[2:3,2:3][0][0]"
   ]
  },
  {
   "cell_type": "code",
   "execution_count": 54,
   "id": "5b021c47",
   "metadata": {},
   "outputs": [
    {
     "data": {
      "text/plain": [
       "array([7, 8])"
      ]
     },
     "execution_count": 54,
     "metadata": {},
     "output_type": "execute_result"
    }
   ],
   "source": [
    "a12[2,0:2]"
   ]
  },
  {
   "cell_type": "markdown",
   "id": "f004417d",
   "metadata": {},
   "source": [
    "# Arithmetic operator"
   ]
  },
  {
   "cell_type": "code",
   "execution_count": 55,
   "id": "55722f74",
   "metadata": {},
   "outputs": [],
   "source": [
    "b=np.array([[1,2,3],[4,5,6]])"
   ]
  },
  {
   "cell_type": "code",
   "execution_count": 56,
   "id": "c961d302",
   "metadata": {},
   "outputs": [],
   "source": [
    "c=np.array([[7,8,9],[10,11,12]])"
   ]
  },
  {
   "cell_type": "code",
   "execution_count": 57,
   "id": "af03cff4",
   "metadata": {},
   "outputs": [
    {
     "data": {
      "text/plain": [
       "array([[ 8, 10, 12],\n",
       "       [14, 16, 18]])"
      ]
     },
     "execution_count": 57,
     "metadata": {},
     "output_type": "execute_result"
    }
   ],
   "source": [
    "np.add(b,c)"
   ]
  },
  {
   "cell_type": "code",
   "execution_count": 58,
   "id": "aa7712ea",
   "metadata": {},
   "outputs": [
    {
     "data": {
      "text/plain": [
       "array([[6, 6, 6],\n",
       "       [6, 6, 6]])"
      ]
     },
     "execution_count": 58,
     "metadata": {},
     "output_type": "execute_result"
    }
   ],
   "source": [
    "np.subtract(c,b)"
   ]
  },
  {
   "cell_type": "code",
   "execution_count": 59,
   "id": "36486976",
   "metadata": {},
   "outputs": [
    {
     "data": {
      "text/plain": [
       "array([[ 7, 16, 27],\n",
       "       [40, 55, 72]])"
      ]
     },
     "execution_count": 59,
     "metadata": {},
     "output_type": "execute_result"
    }
   ],
   "source": [
    "np.multiply(c,b)"
   ]
  },
  {
   "cell_type": "code",
   "execution_count": 60,
   "id": "9bfe0f1c",
   "metadata": {},
   "outputs": [
    {
     "data": {
      "text/plain": [
       "array([[0.14285714, 0.25      , 0.33333333],\n",
       "       [0.4       , 0.45454545, 0.5       ]])"
      ]
     },
     "execution_count": 60,
     "metadata": {},
     "output_type": "execute_result"
    }
   ],
   "source": [
    "np.divide(b,c)"
   ]
  },
  {
   "cell_type": "code",
   "execution_count": 61,
   "id": "33c44477",
   "metadata": {},
   "outputs": [
    {
     "data": {
      "text/plain": [
       "array([[0, 0, 0],\n",
       "       [2, 1, 0]])"
      ]
     },
     "execution_count": 61,
     "metadata": {},
     "output_type": "execute_result"
    }
   ],
   "source": [
    "np.mod(c,b)"
   ]
  },
  {
   "cell_type": "code",
   "execution_count": null,
   "id": "249c27d8",
   "metadata": {},
   "outputs": [],
   "source": []
  }
 ],
 "metadata": {
  "kernelspec": {
   "display_name": "Python 3 (ipykernel)",
   "language": "python",
   "name": "python3"
  },
  "language_info": {
   "codemirror_mode": {
    "name": "ipython",
    "version": 3
   },
   "file_extension": ".py",
   "mimetype": "text/x-python",
   "name": "python",
   "nbconvert_exporter": "python",
   "pygments_lexer": "ipython3",
   "version": "3.10.9"
  }
 },
 "nbformat": 4,
 "nbformat_minor": 5
}
