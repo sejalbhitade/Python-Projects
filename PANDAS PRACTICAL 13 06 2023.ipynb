{
 "cells": [
  {
   "cell_type": "code",
   "execution_count": 1,
   "id": "bd88e123",
   "metadata": {},
   "outputs": [],
   "source": [
    "import pandas as pd"
   ]
  },
  {
   "cell_type": "code",
   "execution_count": 2,
   "id": "825cc4fe",
   "metadata": {},
   "outputs": [],
   "source": [
    "import numpy as np"
   ]
  },
  {
   "cell_type": "code",
   "execution_count": 3,
   "id": "9765cd96",
   "metadata": {},
   "outputs": [],
   "source": [
    "import warnings\n",
    "warnings.filterwarnings('ignore')"
   ]
  },
  {
   "cell_type": "markdown",
   "id": "a3671e55",
   "metadata": {},
   "source": [
    "# Series"
   ]
  },
  {
   "cell_type": "code",
   "execution_count": 4,
   "id": "7bcca861",
   "metadata": {},
   "outputs": [
    {
     "data": {
      "text/plain": [
       "Series([], dtype: float64)"
      ]
     },
     "execution_count": 4,
     "metadata": {},
     "output_type": "execute_result"
    }
   ],
   "source": [
    "#empty series\n",
    "\n",
    "s=pd.Series()\n",
    "s"
   ]
  },
  {
   "cell_type": "code",
   "execution_count": 6,
   "id": "def7890a",
   "metadata": {},
   "outputs": [],
   "source": [
    "s=pd.Series(data=[1,2,3,4])"
   ]
  },
  {
   "cell_type": "code",
   "execution_count": 7,
   "id": "52658859",
   "metadata": {},
   "outputs": [
    {
     "data": {
      "text/plain": [
       "0    1\n",
       "1    2\n",
       "2    3\n",
       "3    4\n",
       "dtype: int64"
      ]
     },
     "execution_count": 7,
     "metadata": {},
     "output_type": "execute_result"
    }
   ],
   "source": [
    "s"
   ]
  },
  {
   "cell_type": "code",
   "execution_count": 8,
   "id": "8b1b1d1b",
   "metadata": {},
   "outputs": [],
   "source": [
    "#label based index ----> convert a list into a series\n",
    "\n",
    "s1=pd.Series([100,200,300,400],index=['a','b','c','d'])"
   ]
  },
  {
   "cell_type": "code",
   "execution_count": 9,
   "id": "2e747e4e",
   "metadata": {},
   "outputs": [
    {
     "data": {
      "text/plain": [
       "a    100\n",
       "b    200\n",
       "c    300\n",
       "d    400\n",
       "dtype: int64"
      ]
     },
     "execution_count": 9,
     "metadata": {},
     "output_type": "execute_result"
    }
   ],
   "source": [
    "s1"
   ]
  },
  {
   "cell_type": "code",
   "execution_count": 10,
   "id": "479179aa",
   "metadata": {},
   "outputs": [
    {
     "data": {
      "text/plain": [
       "b    200.0\n",
       "d      NaN\n",
       "e      NaN\n",
       "a    100.0\n",
       "dtype: float64"
      ]
     },
     "execution_count": 10,
     "metadata": {},
     "output_type": "execute_result"
    }
   ],
   "source": [
    "#convert dictionery into series\n",
    "\n",
    "d={'a':100,'b':200,'c':300}\n",
    "s2=pd.Series(d,index=['b','d','e','a'])\n",
    "s2"
   ]
  },
  {
   "cell_type": "code",
   "execution_count": 12,
   "id": "ad37d5fa",
   "metadata": {},
   "outputs": [],
   "source": [
    "#convert array into series\n",
    "\n",
    "ar=np.array([100,200,300,400])\n",
    "x=np.array(['a','b','v','g'])\n",
    "\n",
    "s5=pd.Series(data=ar,index=x)"
   ]
  },
  {
   "cell_type": "code",
   "execution_count": 13,
   "id": "fa62b6a8",
   "metadata": {},
   "outputs": [
    {
     "data": {
      "text/plain": [
       "a    100\n",
       "b    200\n",
       "v    300\n",
       "g    400\n",
       "dtype: int32"
      ]
     },
     "execution_count": 13,
     "metadata": {},
     "output_type": "execute_result"
    }
   ],
   "source": [
    "s5"
   ]
  },
  {
   "cell_type": "code",
   "execution_count": 14,
   "id": "43d16e1f",
   "metadata": {},
   "outputs": [],
   "source": [
    "#series on a repeated element\n",
    "\n",
    "s6=pd.Series(8,index=['a','b','c','d'])"
   ]
  },
  {
   "cell_type": "code",
   "execution_count": 15,
   "id": "2ad162e6",
   "metadata": {},
   "outputs": [
    {
     "data": {
      "text/plain": [
       "a    8\n",
       "b    8\n",
       "c    8\n",
       "d    8\n",
       "dtype: int64"
      ]
     },
     "execution_count": 15,
     "metadata": {},
     "output_type": "execute_result"
    }
   ],
   "source": [
    "s6"
   ]
  },
  {
   "cell_type": "code",
   "execution_count": 16,
   "id": "117c02c6",
   "metadata": {},
   "outputs": [
    {
     "data": {
      "text/plain": [
       "a    100\n",
       "b    200\n",
       "v    300\n",
       "g    400\n",
       "dtype: int32"
      ]
     },
     "execution_count": 16,
     "metadata": {},
     "output_type": "execute_result"
    }
   ],
   "source": [
    "s5"
   ]
  },
  {
   "cell_type": "code",
   "execution_count": 17,
   "id": "842f80a1",
   "metadata": {},
   "outputs": [
    {
     "data": {
      "text/plain": [
       "300"
      ]
     },
     "execution_count": 17,
     "metadata": {},
     "output_type": "execute_result"
    }
   ],
   "source": [
    "#indexing\n",
    "\n",
    "s5[2]"
   ]
  },
  {
   "cell_type": "code",
   "execution_count": 18,
   "id": "24ec280c",
   "metadata": {},
   "outputs": [
    {
     "data": {
      "text/plain": [
       "b    200\n",
       "v    300\n",
       "g    400\n",
       "dtype: int32"
      ]
     },
     "execution_count": 18,
     "metadata": {},
     "output_type": "execute_result"
    }
   ],
   "source": [
    "s5[1:]"
   ]
  },
  {
   "cell_type": "markdown",
   "id": "e079b7b1",
   "metadata": {},
   "source": [
    "# Functions in pandas"
   ]
  },
  {
   "cell_type": "code",
   "execution_count": 19,
   "id": "bc5677f8",
   "metadata": {},
   "outputs": [
    {
     "data": {
      "text/plain": [
       "a    100\n",
       "b    200\n",
       "v    300\n",
       "g    400\n",
       "dtype: int32"
      ]
     },
     "execution_count": 19,
     "metadata": {},
     "output_type": "execute_result"
    }
   ],
   "source": [
    "s5"
   ]
  },
  {
   "cell_type": "markdown",
   "id": "d4876e8d",
   "metadata": {},
   "source": [
    "### axes: It returns labels of the series"
   ]
  },
  {
   "cell_type": "code",
   "execution_count": 20,
   "id": "6fb8f879",
   "metadata": {},
   "outputs": [
    {
     "data": {
      "text/plain": [
       "[Index(['a', 'b', 'v', 'g'], dtype='object')]"
      ]
     },
     "execution_count": 20,
     "metadata": {},
     "output_type": "execute_result"
    }
   ],
   "source": [
    "s5.axes"
   ]
  },
  {
   "cell_type": "code",
   "execution_count": 21,
   "id": "071bd34c",
   "metadata": {},
   "outputs": [
    {
     "data": {
      "text/plain": [
       "1"
      ]
     },
     "execution_count": 21,
     "metadata": {},
     "output_type": "execute_result"
    }
   ],
   "source": [
    "s5.ndim  #returns the dimensu=ions in series"
   ]
  },
  {
   "cell_type": "code",
   "execution_count": 22,
   "id": "474d0fbc",
   "metadata": {},
   "outputs": [
    {
     "data": {
      "text/plain": [
       "4"
      ]
     },
     "execution_count": 22,
     "metadata": {},
     "output_type": "execute_result"
    }
   ],
   "source": [
    "s5.size   #returns the size and len of series"
   ]
  },
  {
   "cell_type": "markdown",
   "id": "da7086c0",
   "metadata": {},
   "source": [
    "### head: by default returns first 5 records"
   ]
  },
  {
   "cell_type": "code",
   "execution_count": 23,
   "id": "4f84b921",
   "metadata": {},
   "outputs": [
    {
     "data": {
      "text/plain": [
       "a    100\n",
       "b    200\n",
       "v    300\n",
       "g    400\n",
       "dtype: int32"
      ]
     },
     "execution_count": 23,
     "metadata": {},
     "output_type": "execute_result"
    }
   ],
   "source": [
    "s5.head()"
   ]
  },
  {
   "cell_type": "code",
   "execution_count": 24,
   "id": "946adcfb",
   "metadata": {},
   "outputs": [
    {
     "data": {
      "text/plain": [
       "a    100\n",
       "b    200\n",
       "v    300\n",
       "dtype: int32"
      ]
     },
     "execution_count": 24,
     "metadata": {},
     "output_type": "execute_result"
    }
   ],
   "source": [
    "s5.head(3)"
   ]
  },
  {
   "cell_type": "markdown",
   "id": "7463f1ef",
   "metadata": {},
   "source": [
    "### tail: by default returns last 5 records"
   ]
  },
  {
   "cell_type": "code",
   "execution_count": 25,
   "id": "0928c143",
   "metadata": {},
   "outputs": [
    {
     "data": {
      "text/plain": [
       "a    100\n",
       "b    200\n",
       "v    300\n",
       "g    400\n",
       "dtype: int32"
      ]
     },
     "execution_count": 25,
     "metadata": {},
     "output_type": "execute_result"
    }
   ],
   "source": [
    "s5.tail()"
   ]
  },
  {
   "cell_type": "code",
   "execution_count": 26,
   "id": "9eb4fa7c",
   "metadata": {},
   "outputs": [
    {
     "data": {
      "text/plain": [
       "b    200\n",
       "v    300\n",
       "g    400\n",
       "dtype: int32"
      ]
     },
     "execution_count": 26,
     "metadata": {},
     "output_type": "execute_result"
    }
   ],
   "source": [
    "s5.tail(3)"
   ]
  },
  {
   "cell_type": "code",
   "execution_count": null,
   "id": "93c98689",
   "metadata": {},
   "outputs": [],
   "source": []
  }
 ],
 "metadata": {
  "kernelspec": {
   "display_name": "Python 3 (ipykernel)",
   "language": "python",
   "name": "python3"
  },
  "language_info": {
   "codemirror_mode": {
    "name": "ipython",
    "version": 3
   },
   "file_extension": ".py",
   "mimetype": "text/x-python",
   "name": "python",
   "nbconvert_exporter": "python",
   "pygments_lexer": "ipython3",
   "version": "3.10.9"
  }
 },
 "nbformat": 4,
 "nbformat_minor": 5
}
