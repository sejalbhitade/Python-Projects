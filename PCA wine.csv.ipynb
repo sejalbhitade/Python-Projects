{
 "cells": [
  {
   "cell_type": "code",
   "execution_count": 1,
   "id": "b4d8c536",
   "metadata": {},
   "outputs": [],
   "source": [
    "import numpy as np\n",
    "import pandas as pd\n",
    "import matplotlib.pyplot as plt \n",
    "import warnings\n",
    "warnings.filterwarnings('ignore')\n",
    "import seaborn as sns"
   ]
  },
  {
   "cell_type": "code",
   "execution_count": 2,
   "id": "126d102d",
   "metadata": {},
   "outputs": [
    {
     "data": {
      "text/html": [
       "<div>\n",
       "<style scoped>\n",
       "    .dataframe tbody tr th:only-of-type {\n",
       "        vertical-align: middle;\n",
       "    }\n",
       "\n",
       "    .dataframe tbody tr th {\n",
       "        vertical-align: top;\n",
       "    }\n",
       "\n",
       "    .dataframe thead th {\n",
       "        text-align: right;\n",
       "    }\n",
       "</style>\n",
       "<table border=\"1\" class=\"dataframe\">\n",
       "  <thead>\n",
       "    <tr style=\"text-align: right;\">\n",
       "      <th></th>\n",
       "      <th>Alcohol</th>\n",
       "      <th>Malic_Acid</th>\n",
       "      <th>Ash</th>\n",
       "      <th>Ash_Alcanity</th>\n",
       "      <th>Magnesium</th>\n",
       "      <th>Total_Phenols</th>\n",
       "      <th>Flavanoids</th>\n",
       "      <th>Nonflavanoid_Phenols</th>\n",
       "      <th>Proanthocyanins</th>\n",
       "      <th>Color_Intensity</th>\n",
       "      <th>Hue</th>\n",
       "      <th>OD280</th>\n",
       "      <th>Proline</th>\n",
       "      <th>Customer_Segment</th>\n",
       "    </tr>\n",
       "  </thead>\n",
       "  <tbody>\n",
       "    <tr>\n",
       "      <th>0</th>\n",
       "      <td>14.23</td>\n",
       "      <td>1.71</td>\n",
       "      <td>2.43</td>\n",
       "      <td>15.6</td>\n",
       "      <td>127</td>\n",
       "      <td>2.80</td>\n",
       "      <td>3.06</td>\n",
       "      <td>0.28</td>\n",
       "      <td>2.29</td>\n",
       "      <td>5.64</td>\n",
       "      <td>1.04</td>\n",
       "      <td>3.92</td>\n",
       "      <td>1065</td>\n",
       "      <td>1</td>\n",
       "    </tr>\n",
       "    <tr>\n",
       "      <th>1</th>\n",
       "      <td>13.20</td>\n",
       "      <td>1.78</td>\n",
       "      <td>2.14</td>\n",
       "      <td>11.2</td>\n",
       "      <td>100</td>\n",
       "      <td>2.65</td>\n",
       "      <td>2.76</td>\n",
       "      <td>0.26</td>\n",
       "      <td>1.28</td>\n",
       "      <td>4.38</td>\n",
       "      <td>1.05</td>\n",
       "      <td>3.40</td>\n",
       "      <td>1050</td>\n",
       "      <td>1</td>\n",
       "    </tr>\n",
       "    <tr>\n",
       "      <th>2</th>\n",
       "      <td>13.16</td>\n",
       "      <td>2.36</td>\n",
       "      <td>2.67</td>\n",
       "      <td>18.6</td>\n",
       "      <td>101</td>\n",
       "      <td>2.80</td>\n",
       "      <td>3.24</td>\n",
       "      <td>0.30</td>\n",
       "      <td>2.81</td>\n",
       "      <td>5.68</td>\n",
       "      <td>1.03</td>\n",
       "      <td>3.17</td>\n",
       "      <td>1185</td>\n",
       "      <td>1</td>\n",
       "    </tr>\n",
       "    <tr>\n",
       "      <th>3</th>\n",
       "      <td>14.37</td>\n",
       "      <td>1.95</td>\n",
       "      <td>2.50</td>\n",
       "      <td>16.8</td>\n",
       "      <td>113</td>\n",
       "      <td>3.85</td>\n",
       "      <td>3.49</td>\n",
       "      <td>0.24</td>\n",
       "      <td>2.18</td>\n",
       "      <td>7.80</td>\n",
       "      <td>0.86</td>\n",
       "      <td>3.45</td>\n",
       "      <td>1480</td>\n",
       "      <td>1</td>\n",
       "    </tr>\n",
       "    <tr>\n",
       "      <th>4</th>\n",
       "      <td>13.24</td>\n",
       "      <td>2.59</td>\n",
       "      <td>2.87</td>\n",
       "      <td>21.0</td>\n",
       "      <td>118</td>\n",
       "      <td>2.80</td>\n",
       "      <td>2.69</td>\n",
       "      <td>0.39</td>\n",
       "      <td>1.82</td>\n",
       "      <td>4.32</td>\n",
       "      <td>1.04</td>\n",
       "      <td>2.93</td>\n",
       "      <td>735</td>\n",
       "      <td>1</td>\n",
       "    </tr>\n",
       "  </tbody>\n",
       "</table>\n",
       "</div>"
      ],
      "text/plain": [
       "   Alcohol  Malic_Acid   Ash  Ash_Alcanity  Magnesium  Total_Phenols  \\\n",
       "0    14.23        1.71  2.43          15.6        127           2.80   \n",
       "1    13.20        1.78  2.14          11.2        100           2.65   \n",
       "2    13.16        2.36  2.67          18.6        101           2.80   \n",
       "3    14.37        1.95  2.50          16.8        113           3.85   \n",
       "4    13.24        2.59  2.87          21.0        118           2.80   \n",
       "\n",
       "   Flavanoids  Nonflavanoid_Phenols  Proanthocyanins  Color_Intensity   Hue  \\\n",
       "0        3.06                  0.28             2.29             5.64  1.04   \n",
       "1        2.76                  0.26             1.28             4.38  1.05   \n",
       "2        3.24                  0.30             2.81             5.68  1.03   \n",
       "3        3.49                  0.24             2.18             7.80  0.86   \n",
       "4        2.69                  0.39             1.82             4.32  1.04   \n",
       "\n",
       "   OD280  Proline  Customer_Segment  \n",
       "0   3.92     1065                 1  \n",
       "1   3.40     1050                 1  \n",
       "2   3.17     1185                 1  \n",
       "3   3.45     1480                 1  \n",
       "4   2.93      735                 1  "
      ]
     },
     "execution_count": 2,
     "metadata": {},
     "output_type": "execute_result"
    }
   ],
   "source": [
    "df=pd.read_csv('wine.csv')\n",
    "df.head()"
   ]
  },
  {
   "cell_type": "code",
   "execution_count": 4,
   "id": "f66e4f39",
   "metadata": {},
   "outputs": [
    {
     "name": "stdout",
     "output_type": "stream",
     "text": [
      "<class 'pandas.core.frame.DataFrame'>\n",
      "RangeIndex: 178 entries, 0 to 177\n",
      "Data columns (total 14 columns):\n",
      " #   Column                Non-Null Count  Dtype  \n",
      "---  ------                --------------  -----  \n",
      " 0   Alcohol               178 non-null    float64\n",
      " 1   Malic_Acid            178 non-null    float64\n",
      " 2   Ash                   178 non-null    float64\n",
      " 3   Ash_Alcanity          178 non-null    float64\n",
      " 4   Magnesium             178 non-null    int64  \n",
      " 5   Total_Phenols         178 non-null    float64\n",
      " 6   Flavanoids            178 non-null    float64\n",
      " 7   Nonflavanoid_Phenols  178 non-null    float64\n",
      " 8   Proanthocyanins       178 non-null    float64\n",
      " 9   Color_Intensity       178 non-null    float64\n",
      " 10  Hue                   178 non-null    float64\n",
      " 11  OD280                 178 non-null    float64\n",
      " 12  Proline               178 non-null    int64  \n",
      " 13  Customer_Segment      178 non-null    int64  \n",
      "dtypes: float64(11), int64(3)\n",
      "memory usage: 19.6 KB\n"
     ]
    }
   ],
   "source": [
    "df.info()"
   ]
  },
  {
   "cell_type": "code",
   "execution_count": 6,
   "id": "93016b84",
   "metadata": {},
   "outputs": [],
   "source": [
    "x=df.iloc[:,:-1]\n",
    "y=df.iloc[:,-1]"
   ]
  },
  {
   "cell_type": "code",
   "execution_count": 7,
   "id": "1a42c0e9",
   "metadata": {},
   "outputs": [],
   "source": [
    "from sklearn.model_selection import train_test_split\n",
    "xtrain,xtest,ytrain,ytest=train_test_split(x,y,test_size=0.2,random_state=1)"
   ]
  },
  {
   "cell_type": "code",
   "execution_count": 8,
   "id": "c31681b0",
   "metadata": {},
   "outputs": [],
   "source": [
    "def mymodel(model):\n",
    "    model.fit(xtrain,ytrain)\n",
    "    ypred=model.predict(xtest)\n",
    "    \n",
    "    train=model.score(xtrain,ytrain)\n",
    "    test=model.score(xtest,ytest)\n",
    "    \n",
    "    print(f'training acc: {train}\\n testing acc: {test}\\n\\n')\n",
    "    print(classification_report(ytest,ypred))\n",
    "    return model"
   ]
  },
  {
   "cell_type": "code",
   "execution_count": 10,
   "id": "5d438936",
   "metadata": {},
   "outputs": [
    {
     "name": "stdout",
     "output_type": "stream",
     "text": [
      "training acc: 0.9647887323943662\n",
      " testing acc: 0.9444444444444444\n",
      "\n",
      "\n",
      "              precision    recall  f1-score   support\n",
      "\n",
      "           1       1.00      0.93      0.96        14\n",
      "           2       0.87      1.00      0.93        13\n",
      "           3       1.00      0.89      0.94         9\n",
      "\n",
      "    accuracy                           0.94        36\n",
      "   macro avg       0.96      0.94      0.94        36\n",
      "weighted avg       0.95      0.94      0.95        36\n",
      "\n"
     ]
    }
   ],
   "source": [
    "from sklearn.linear_model import LogisticRegression\n",
    "from sklearn.metrics import classification_report\n",
    "logreg=mymodel(LogisticRegression())"
   ]
  },
  {
   "cell_type": "markdown",
   "id": "108be2bb",
   "metadata": {},
   "source": [
    "## PCA"
   ]
  },
  {
   "cell_type": "code",
   "execution_count": 11,
   "id": "ef04e606",
   "metadata": {},
   "outputs": [],
   "source": [
    "from sklearn.preprocessing import StandardScaler\n",
    "sc=StandardScaler()\n",
    "xtrain=sc.fit_transform(xtrain)\n",
    "xtest=sc.fit_transform(xtest)"
   ]
  },
  {
   "cell_type": "code",
   "execution_count": 12,
   "id": "dfe0b55c",
   "metadata": {},
   "outputs": [],
   "source": [
    "from sklearn.decomposition import PCA\n",
    "pca=PCA(n_components=2)\n",
    "xtrain=pca.fit_transform(xtrain)"
   ]
  },
  {
   "cell_type": "code",
   "execution_count": 13,
   "id": "6741d236",
   "metadata": {},
   "outputs": [
    {
     "data": {
      "text/plain": [
       "array([[ 1.45106785,  1.85914043],\n",
       "       [-1.16342695,  1.41297331],\n",
       "       [ 0.34393861,  1.93870926],\n",
       "       [-2.07390734, -1.34699026],\n",
       "       [-2.23752594, -1.19567755],\n",
       "       [ 0.7828473 ,  3.0422216 ],\n",
       "       [ 3.43658215, -0.77277023],\n",
       "       [-2.62885478, -1.98362772],\n",
       "       [-2.80963595, -1.6148153 ],\n",
       "       [-2.20232818, -0.08703376],\n",
       "       [-1.31986145,  0.49139954],\n",
       "       [-1.97911028, -1.83895989],\n",
       "       [-3.61043285, -2.64964226],\n",
       "       [-3.2259453 , -1.87544577],\n",
       "       [ 1.47273339,  1.2067983 ],\n",
       "       [ 2.41322827, -2.10176234],\n",
       "       [ 2.72253833, -1.49073541],\n",
       "       [-2.21048357, -0.73591746],\n",
       "       [ 1.22981038,  2.13708256],\n",
       "       [-2.59662572, -0.57316588],\n",
       "       [-2.28538266, -0.79400766],\n",
       "       [-1.14029108,  1.4207965 ],\n",
       "       [ 2.97735484, -0.31157243],\n",
       "       [-2.34420508,  1.84502004],\n",
       "       [ 0.29998197,  0.63284081],\n",
       "       [-1.97134055, -1.75622297],\n",
       "       [ 2.87846692, -1.45084492],\n",
       "       [ 0.40424353,  2.67636222],\n",
       "       [ 3.07957409,  0.29560768],\n",
       "       [-3.49667734, -1.22010861],\n",
       "       [ 0.23737414,  2.1574701 ],\n",
       "       [-1.2576631 , -1.87767574],\n",
       "       [-0.89970236,  2.28471158],\n",
       "       [-1.49231796, -0.75242762],\n",
       "       [ 3.58819777, -0.71855615],\n",
       "       [ 2.3386701 , -2.53886618],\n",
       "       [ 2.11655553, -2.05173216],\n",
       "       [ 2.60596472, -2.77487973],\n",
       "       [ 2.29312559,  1.32299794],\n",
       "       [ 0.72585968,  2.42011849],\n",
       "       [-1.22425063, -0.30532515],\n",
       "       [ 3.26421458, -2.11242824],\n",
       "       [-2.60390905, -1.14896656],\n",
       "       [ 1.4640849 ,  0.80683649],\n",
       "       [ 2.48461806, -0.70199326],\n",
       "       [-2.5273457 , -1.28913972],\n",
       "       [-0.91150053,  1.94217707],\n",
       "       [-3.37797943, -1.68897326],\n",
       "       [ 3.76479433, -0.05565105],\n",
       "       [ 1.30907056,  1.29978205],\n",
       "       [-1.00080883,  0.71055616],\n",
       "       [-2.54704691, -1.49813538],\n",
       "       [-1.53218762,  2.13062475],\n",
       "       [ 0.96689193,  1.80100439],\n",
       "       [ 0.01123292,  1.10284359],\n",
       "       [-2.82665841, -1.30247024],\n",
       "       [-0.14426337,  1.23227335],\n",
       "       [-1.98896711,  1.16362638],\n",
       "       [ 1.84170482,  1.586006  ],\n",
       "       [ 2.33921578, -2.35128068],\n",
       "       [ 0.10265364,  2.75976279],\n",
       "       [ 0.39618401,  2.17443143],\n",
       "       [-0.05780086,  2.08339334],\n",
       "       [-1.54406003,  1.25043937],\n",
       "       [-3.56414469, -1.45787795],\n",
       "       [-1.51562953, -0.81922141],\n",
       "       [-1.71156748, -0.17168922],\n",
       "       [ 2.52068167, -0.591434  ],\n",
       "       [-1.62288287,  0.67114524],\n",
       "       [ 2.43963729,  0.15249742],\n",
       "       [ 2.67894684, -0.43395857],\n",
       "       [ 3.14506071, -2.65379388],\n",
       "       [-1.35543303, -0.00442203],\n",
       "       [-0.94815094,  2.2875128 ],\n",
       "       [-1.77963394,  0.42530764],\n",
       "       [ 0.5131416 ,  2.65061405],\n",
       "       [-0.32943116,  2.43105499],\n",
       "       [-2.84062274, -0.89163528],\n",
       "       [ 2.24014559, -2.36809862],\n",
       "       [-0.53187828,  2.03958217],\n",
       "       [ 1.0220859 ,  0.63708911],\n",
       "       [ 2.82040967, -0.22232122],\n",
       "       [ 2.72021027, -2.08424806],\n",
       "       [ 0.39874204,  2.36945563],\n",
       "       [-2.3805157 ,  1.36875584],\n",
       "       [ 0.11926059,  1.91824887],\n",
       "       [ 2.82849052, -1.15286851],\n",
       "       [ 1.06278603, -3.46872186],\n",
       "       [ 0.47885698,  1.88490198],\n",
       "       [-2.40154097, -1.76547798],\n",
       "       [ 0.35076294,  2.40500762],\n",
       "       [-0.80910278, -0.2089866 ],\n",
       "       [ 2.24561545, -0.40684302],\n",
       "       [-1.71167469,  1.36098753],\n",
       "       [-0.90973066,  3.34472654],\n",
       "       [-3.59088678, -1.76581498],\n",
       "       [-1.8900712 , -0.76430183],\n",
       "       [-0.47592792,  2.13857629],\n",
       "       [-0.59128212, -0.39625754],\n",
       "       [-1.88178812,  0.2287239 ],\n",
       "       [-3.82791441, -2.93453453],\n",
       "       [ 2.80945873, -2.00913704],\n",
       "       [-2.76934533, -1.87526511],\n",
       "       [ 2.2588611 , -0.34979114],\n",
       "       [ 2.26371866, -2.53591194],\n",
       "       [-2.58035366, -1.34164215],\n",
       "       [-1.46786878, -0.3760007 ],\n",
       "       [-0.63193202,  3.85292629],\n",
       "       [ 3.51571859, -1.70995835],\n",
       "       [-2.57380844, -1.01686769],\n",
       "       [ 1.42538487,  1.35902226],\n",
       "       [ 0.35858287,  1.90046614],\n",
       "       [-2.33449166,  0.21017017],\n",
       "       [-2.28222589, -1.3016012 ],\n",
       "       [-2.64797328, -0.05029854],\n",
       "       [ 1.7373947 ,  0.83280427],\n",
       "       [-2.18822543,  1.89837139],\n",
       "       [-2.15998642, -1.79108085],\n",
       "       [ 2.51108491, -1.71504541],\n",
       "       [ 2.16976948, -0.33565634],\n",
       "       [ 0.67932913,  2.22789586],\n",
       "       [ 0.40425972,  0.20072188],\n",
       "       [ 0.71289592,  0.14195627],\n",
       "       [-3.29536769, -0.26713448],\n",
       "       [ 2.86817935, -0.42733875],\n",
       "       [ 3.29539356, -1.26282768],\n",
       "       [ 2.82072945, -1.80932282],\n",
       "       [ 2.25219057, -0.26678119],\n",
       "       [ 4.15648867, -0.49065408],\n",
       "       [ 0.42368943,  2.24573849],\n",
       "       [-3.19678328, -1.00459746],\n",
       "       [-1.08782274, -1.09282469],\n",
       "       [ 2.28735985,  0.49842514],\n",
       "       [-1.7755648 ,  0.96351785],\n",
       "       [ 1.62168851,  1.20300749],\n",
       "       [ 2.08783154, -1.18328795],\n",
       "       [-0.51672944,  0.97388534],\n",
       "       [ 2.00001677, -0.34619017],\n",
       "       [ 3.79951869, -0.56012047],\n",
       "       [ 0.60278404,  1.07267568],\n",
       "       [ 2.66258996, -0.25271424],\n",
       "       [-1.24174808, -0.18142054]])"
      ]
     },
     "execution_count": 13,
     "metadata": {},
     "output_type": "execute_result"
    }
   ],
   "source": [
    "xtrain"
   ]
  },
  {
   "cell_type": "code",
   "execution_count": 14,
   "id": "552ac76e",
   "metadata": {},
   "outputs": [],
   "source": [
    "xtest=pca.fit_transform(xtest)"
   ]
  },
  {
   "cell_type": "code",
   "execution_count": 15,
   "id": "cbb36f70",
   "metadata": {},
   "outputs": [
    {
     "data": {
      "text/plain": [
       "array([0.38497714, 0.18333702])"
      ]
     },
     "execution_count": 15,
     "metadata": {},
     "output_type": "execute_result"
    }
   ],
   "source": [
    "pca.explained_variance_ratio_"
   ]
  },
  {
   "cell_type": "code",
   "execution_count": 16,
   "id": "19f44be4",
   "metadata": {},
   "outputs": [
    {
     "data": {
      "text/plain": [
       "<BarContainer object of 2 artists>"
      ]
     },
     "execution_count": 16,
     "metadata": {},
     "output_type": "execute_result"
    },
    {
     "data": {
      "image/png": "[encoded data removed]",
      "text/plain": [
       "<Figure size 640x480 with 1 Axes>"
      ]
     },
     "metadata": {},
     "output_type": "display_data"
    }
   ],
   "source": [
    "plt.bar(range(1,3),pca.explained_variance_ratio_)"
   ]
  },
  {
   "cell_type": "code",
   "execution_count": 17,
   "id": "dab712a9",
   "metadata": {},
   "outputs": [
    {
     "name": "stdout",
     "output_type": "stream",
     "text": [
      "training acc: 0.9647887323943662\n",
      " testing acc: 0.9722222222222222\n",
      "\n",
      "\n",
      "              precision    recall  f1-score   support\n",
      "\n",
      "           1       1.00      1.00      1.00        14\n",
      "           2       0.93      1.00      0.96        13\n",
      "           3       1.00      0.89      0.94         9\n",
      "\n",
      "    accuracy                           0.97        36\n",
      "   macro avg       0.98      0.96      0.97        36\n",
      "weighted avg       0.97      0.97      0.97        36\n",
      "\n"
     ]
    }
   ],
   "source": [
    "logreg=mymodel(LogisticRegression())"
   ]
  },
  {
   "cell_type": "code",
   "execution_count": null,
   "id": "f1b85490",
   "metadata": {},
   "outputs": [],
   "source": []
  }
 ],
 "metadata": {
  "kernelspec": {
   "display_name": "Python 3 (ipykernel)",
   "language": "python",
   "name": "python3"
  },
  "language_info": {
   "codemirror_mode": {
    "name": "ipython",
    "version": 3
   },
   "file_extension": ".py",
   "mimetype": "text/x-python",
   "name": "python",
   "nbconvert_exporter": "python",
   "pygments_lexer": "ipython3",
   "version": "3.10.9"
  }
 },
 "nbformat": 4,
 "nbformat_minor": 5
}
