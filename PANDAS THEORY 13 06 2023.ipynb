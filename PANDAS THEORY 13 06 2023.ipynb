{
 "cells": [
  {
   "cell_type": "markdown",
   "id": "0fef89bd",
   "metadata": {},
   "source": [
    "# PANDAS"
   ]
  },
  {
   "cell_type": "markdown",
   "id": "6ad18a94",
   "metadata": {},
   "source": [
    "#### It is a panel data"
   ]
  },
  {
   "cell_type": "markdown",
   "id": "23b34105",
   "metadata": {},
   "source": [
    "#### It is a open source python library"
   ]
  },
  {
   "cell_type": "markdown",
   "id": "c948406a",
   "metadata": {},
   "source": [
    "#### It is builtd on numpy --------> has all the features"
   ]
  },
  {
   "cell_type": "markdown",
   "id": "ed059236",
   "metadata": {},
   "source": [
    "#### It is used for Analysis of data -------> manipulation ------> add, drop, n=manage existing data "
   ]
  },
  {
   "cell_type": "markdown",
   "id": "8cb15af2",
   "metadata": {},
   "source": [
    "# FEATURES OF PANDAS"
   ]
  },
  {
   "cell_type": "markdown",
   "id": "1fc7f1a4",
   "metadata": {},
   "source": [
    "### 1.) Can load any file into the memory (any file format - CSV, EXCEL, XML, DB, JASON)"
   ]
  },
  {
   "cell_type": "markdown",
   "id": "62b525ce",
   "metadata": {},
   "source": [
    "### 2.) Pandas offers 2 types of indexing 1. Integer based indexing (starts @ '0')   2. label - based indexing "
   ]
  },
  {
   "cell_type": "markdown",
   "id": "ce00682d",
   "metadata": {},
   "source": [
    "### 3.) It can handle null / missing values\n",
    "drop() missing value 3%  \n",
    "\n",
    "dropna() missing value between 3%-40%\n",
    "\n",
    "fillna() missing value greater than >40%"
   ]
  },
  {
   "cell_type": "markdown",
   "id": "bb6adcd3",
   "metadata": {},
   "source": [
    "### 4.) Pandas has group - by clause \n",
    "\n",
    "eg- 20-30 ---> birth year----> 99,97,88,2003\n",
    "\n",
    "find mean of marks - '99'\n",
    "\n",
    "so, target ---> birth = 99\n",
    "     "
   ]
  },
  {
   "cell_type": "markdown",
   "id": "595da474",
   "metadata": {},
   "source": [
    "## 5.) Pandas has 2 data structures: (series and DataFrame)\n",
    "    \n",
    "    series                  data frame\n",
    "    \n",
    "    1D array                2D array\n",
    "    \n",
    "    it is homgeneous        it is hetrogeneous\n",
    "    \n",
    "    size immutable          size mutable (add/remove cols)"
   ]
  },
  {
   "cell_type": "code",
   "execution_count": null,
   "id": "9e011094",
   "metadata": {},
   "outputs": [],
   "source": []
  }
 ],
 "metadata": {
  "kernelspec": {
   "display_name": "Python 3 (ipykernel)",
   "language": "python",
   "name": "python3"
  },
  "language_info": {
   "codemirror_mode": {
    "name": "ipython",
    "version": 3
   },
   "file_extension": ".py",
   "mimetype": "text/x-python",
   "name": "python",
   "nbconvert_exporter": "python",
   "pygments_lexer": "ipython3",
   "version": "3.10.9"
  }
 },
 "nbformat": 4,
 "nbformat_minor": 5
}
