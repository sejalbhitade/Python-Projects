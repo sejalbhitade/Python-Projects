{
 "cells": [
  {
   "cell_type": "code",
   "execution_count": 2,
   "id": "8ad05243",
   "metadata": {},
   "outputs": [],
   "source": [
    "import pandas as pd\n",
    "import numpy as np\n",
    "import seaborn as sns\n",
    "import matplotlib.pyplot as plt\n",
    "%matplotlib inline\n",
    "import warnings\n",
    "warnings.filterwarnings(\"ignore\")"
   ]
  },
  {
   "cell_type": "code",
   "execution_count": 3,
   "id": "99e63027",
   "metadata": {},
   "outputs": [
    {
     "name": "stdout",
     "output_type": "stream",
     "text": [
      "************************************************************************************************************************\n",
      " \t\t\t\t**************DATASET:- AIRBNB NYC***************\n",
      "\n",
      "AIRBNB:-Air Bed and Breakfast,is a service that lets property owners rent out their spaces to travellers looking for a place to stay.Travelers cant rent a space for multiple people to share space with private rooms, or the entire property for themselves.\n",
      "\n",
      "OBJECTIVE:- To find out key metrics that influence the listings of properties on the platform.For this i will explore and visualize the dataset for AIRBNB NEW YORK(NYC)\n",
      "************************************************************************************************************************\n"
     ]
    }
   ],
   "source": [
    "print((\"*\")*120)\n",
    "print(\" \\t\\t\\t\\t**************DATASET:- AIRBNB NYC***************\\n\\nAIRBNB:-Air Bed and Breakfast,is a service that lets property owners rent out their spaces to travellers looking for a place to stay.Travelers cant rent a space for multiple people to share space with private rooms, or the entire property for themselves.\\n\\nOBJECTIVE:- To find out key metrics that influence the listings of properties on the platform.For this i will explore and visualize the dataset for AIRBNB NEW YORK(NYC)\")\n",
    "print((\"*\")*120)"
   ]
  },
  {
   "cell_type": "code",
   "execution_count": 4,
   "id": "f52c0c0a",
   "metadata": {},
   "outputs": [
    {
     "data": {
      "text/html": [
       "<div>\n",
       "<style scoped>\n",
       "    .dataframe tbody tr th:only-of-type {\n",
       "        vertical-align: middle;\n",
       "    }\n",
       "\n",
       "    .dataframe tbody tr th {\n",
       "        vertical-align: top;\n",
       "    }\n",
       "\n",
       "    .dataframe thead th {\n",
       "        text-align: right;\n",
       "    }\n",
       "</style>\n",
       "<table border=\"1\" class=\"dataframe\">\n",
       "  <thead>\n",
       "    <tr style=\"text-align: right;\">\n",
       "      <th></th>\n",
       "      <th>id</th>\n",
       "      <th>name</th>\n",
       "      <th>host_id</th>\n",
       "      <th>host_name</th>\n",
       "      <th>neighbourhood_group</th>\n",
       "      <th>neighbourhood</th>\n",
       "      <th>latitude</th>\n",
       "      <th>longitude</th>\n",
       "      <th>room_type</th>\n",
       "      <th>price</th>\n",
       "      <th>minimum_nights</th>\n",
       "      <th>number_of_reviews</th>\n",
       "      <th>last_review</th>\n",
       "      <th>reviews_per_month</th>\n",
       "      <th>calculated_host_listings_count</th>\n",
       "      <th>availability_365</th>\n",
       "    </tr>\n",
       "  </thead>\n",
       "  <tbody>\n",
       "    <tr>\n",
       "      <th>0</th>\n",
       "      <td>2539</td>\n",
       "      <td>Clean &amp; quiet apt home by the park</td>\n",
       "      <td>2787</td>\n",
       "      <td>John</td>\n",
       "      <td>Brooklyn</td>\n",
       "      <td>Kensington</td>\n",
       "      <td>40.64749</td>\n",
       "      <td>-73.97237</td>\n",
       "      <td>Private room</td>\n",
       "      <td>149</td>\n",
       "      <td>1</td>\n",
       "      <td>9</td>\n",
       "      <td>2018-10-19</td>\n",
       "      <td>0.21</td>\n",
       "      <td>6</td>\n",
       "      <td>365</td>\n",
       "    </tr>\n",
       "    <tr>\n",
       "      <th>1</th>\n",
       "      <td>2595</td>\n",
       "      <td>Skylit Midtown Castle</td>\n",
       "      <td>2845</td>\n",
       "      <td>Jennifer</td>\n",
       "      <td>Manhattan</td>\n",
       "      <td>Midtown</td>\n",
       "      <td>40.75362</td>\n",
       "      <td>-73.98377</td>\n",
       "      <td>Entire home/apt</td>\n",
       "      <td>225</td>\n",
       "      <td>1</td>\n",
       "      <td>45</td>\n",
       "      <td>2019-05-21</td>\n",
       "      <td>0.38</td>\n",
       "      <td>2</td>\n",
       "      <td>355</td>\n",
       "    </tr>\n",
       "    <tr>\n",
       "      <th>2</th>\n",
       "      <td>3647</td>\n",
       "      <td>THE VILLAGE OF HARLEM....NEW YORK !</td>\n",
       "      <td>4632</td>\n",
       "      <td>Elisabeth</td>\n",
       "      <td>Manhattan</td>\n",
       "      <td>Harlem</td>\n",
       "      <td>40.80902</td>\n",
       "      <td>-73.94190</td>\n",
       "      <td>Private room</td>\n",
       "      <td>150</td>\n",
       "      <td>3</td>\n",
       "      <td>0</td>\n",
       "      <td>NaN</td>\n",
       "      <td>NaN</td>\n",
       "      <td>1</td>\n",
       "      <td>365</td>\n",
       "    </tr>\n",
       "    <tr>\n",
       "      <th>3</th>\n",
       "      <td>3831</td>\n",
       "      <td>Cozy Entire Floor of Brownstone</td>\n",
       "      <td>4869</td>\n",
       "      <td>LisaRoxanne</td>\n",
       "      <td>Brooklyn</td>\n",
       "      <td>Clinton Hill</td>\n",
       "      <td>40.68514</td>\n",
       "      <td>-73.95976</td>\n",
       "      <td>Entire home/apt</td>\n",
       "      <td>89</td>\n",
       "      <td>1</td>\n",
       "      <td>270</td>\n",
       "      <td>2019-07-05</td>\n",
       "      <td>4.64</td>\n",
       "      <td>1</td>\n",
       "      <td>194</td>\n",
       "    </tr>\n",
       "    <tr>\n",
       "      <th>4</th>\n",
       "      <td>5022</td>\n",
       "      <td>Entire Apt: Spacious Studio/Loft by central park</td>\n",
       "      <td>7192</td>\n",
       "      <td>Laura</td>\n",
       "      <td>Manhattan</td>\n",
       "      <td>East Harlem</td>\n",
       "      <td>40.79851</td>\n",
       "      <td>-73.94399</td>\n",
       "      <td>Entire home/apt</td>\n",
       "      <td>80</td>\n",
       "      <td>10</td>\n",
       "      <td>9</td>\n",
       "      <td>2018-11-19</td>\n",
       "      <td>0.10</td>\n",
       "      <td>1</td>\n",
       "      <td>0</td>\n",
       "    </tr>\n",
       "    <tr>\n",
       "      <th>...</th>\n",
       "      <td>...</td>\n",
       "      <td>...</td>\n",
       "      <td>...</td>\n",
       "      <td>...</td>\n",
       "      <td>...</td>\n",
       "      <td>...</td>\n",
       "      <td>...</td>\n",
       "      <td>...</td>\n",
       "      <td>...</td>\n",
       "      <td>...</td>\n",
       "      <td>...</td>\n",
       "      <td>...</td>\n",
       "      <td>...</td>\n",
       "      <td>...</td>\n",
       "      <td>...</td>\n",
       "      <td>...</td>\n",
       "    </tr>\n",
       "    <tr>\n",
       "      <th>48890</th>\n",
       "      <td>36484665</td>\n",
       "      <td>Charming one bedroom - newly renovated rowhouse</td>\n",
       "      <td>8232441</td>\n",
       "      <td>Sabrina</td>\n",
       "      <td>Brooklyn</td>\n",
       "      <td>Bedford-Stuyvesant</td>\n",
       "      <td>40.67853</td>\n",
       "      <td>-73.94995</td>\n",
       "      <td>Private room</td>\n",
       "      <td>70</td>\n",
       "      <td>2</td>\n",
       "      <td>0</td>\n",
       "      <td>NaN</td>\n",
       "      <td>NaN</td>\n",
       "      <td>2</td>\n",
       "      <td>9</td>\n",
       "    </tr>\n",
       "    <tr>\n",
       "      <th>48891</th>\n",
       "      <td>36485057</td>\n",
       "      <td>Affordable room in Bushwick/East Williamsburg</td>\n",
       "      <td>6570630</td>\n",
       "      <td>Marisol</td>\n",
       "      <td>Brooklyn</td>\n",
       "      <td>Bushwick</td>\n",
       "      <td>40.70184</td>\n",
       "      <td>-73.93317</td>\n",
       "      <td>Private room</td>\n",
       "      <td>40</td>\n",
       "      <td>4</td>\n",
       "      <td>0</td>\n",
       "      <td>NaN</td>\n",
       "      <td>NaN</td>\n",
       "      <td>2</td>\n",
       "      <td>36</td>\n",
       "    </tr>\n",
       "    <tr>\n",
       "      <th>48892</th>\n",
       "      <td>36485431</td>\n",
       "      <td>Sunny Studio at Historical Neighborhood</td>\n",
       "      <td>23492952</td>\n",
       "      <td>Ilgar &amp; Aysel</td>\n",
       "      <td>Manhattan</td>\n",
       "      <td>Harlem</td>\n",
       "      <td>40.81475</td>\n",
       "      <td>-73.94867</td>\n",
       "      <td>Entire home/apt</td>\n",
       "      <td>115</td>\n",
       "      <td>10</td>\n",
       "      <td>0</td>\n",
       "      <td>NaN</td>\n",
       "      <td>NaN</td>\n",
       "      <td>1</td>\n",
       "      <td>27</td>\n",
       "    </tr>\n",
       "    <tr>\n",
       "      <th>48893</th>\n",
       "      <td>36485609</td>\n",
       "      <td>43rd St. Time Square-cozy single bed</td>\n",
       "      <td>30985759</td>\n",
       "      <td>Taz</td>\n",
       "      <td>Manhattan</td>\n",
       "      <td>Hell's Kitchen</td>\n",
       "      <td>40.75751</td>\n",
       "      <td>-73.99112</td>\n",
       "      <td>Shared room</td>\n",
       "      <td>55</td>\n",
       "      <td>1</td>\n",
       "      <td>0</td>\n",
       "      <td>NaN</td>\n",
       "      <td>NaN</td>\n",
       "      <td>6</td>\n",
       "      <td>2</td>\n",
       "    </tr>\n",
       "    <tr>\n",
       "      <th>48894</th>\n",
       "      <td>36487245</td>\n",
       "      <td>Trendy duplex in the very heart of Hell's Kitchen</td>\n",
       "      <td>68119814</td>\n",
       "      <td>Christophe</td>\n",
       "      <td>Manhattan</td>\n",
       "      <td>Hell's Kitchen</td>\n",
       "      <td>40.76404</td>\n",
       "      <td>-73.98933</td>\n",
       "      <td>Private room</td>\n",
       "      <td>90</td>\n",
       "      <td>7</td>\n",
       "      <td>0</td>\n",
       "      <td>NaN</td>\n",
       "      <td>NaN</td>\n",
       "      <td>1</td>\n",
       "      <td>23</td>\n",
       "    </tr>\n",
       "  </tbody>\n",
       "</table>\n",
       "<p>48895 rows × 16 columns</p>\n",
       "</div>"
      ],
      "text/plain": [
       "             id                                               name   host_id  \\\n",
       "0          2539                 Clean & quiet apt home by the park      2787   \n",
       "1          2595                              Skylit Midtown Castle      2845   \n",
       "2          3647                THE VILLAGE OF HARLEM....NEW YORK !      4632   \n",
       "3          3831                    Cozy Entire Floor of Brownstone      4869   \n",
       "4          5022   Entire Apt: Spacious Studio/Loft by central park      7192   \n",
       "...         ...                                                ...       ...   \n",
       "48890  36484665    Charming one bedroom - newly renovated rowhouse   8232441   \n",
       "48891  36485057      Affordable room in Bushwick/East Williamsburg   6570630   \n",
       "48892  36485431            Sunny Studio at Historical Neighborhood  23492952   \n",
       "48893  36485609               43rd St. Time Square-cozy single bed  30985759   \n",
       "48894  36487245  Trendy duplex in the very heart of Hell's Kitchen  68119814   \n",
       "\n",
       "           host_name neighbourhood_group       neighbourhood  latitude  \\\n",
       "0               John            Brooklyn          Kensington  40.64749   \n",
       "1           Jennifer           Manhattan             Midtown  40.75362   \n",
       "2          Elisabeth           Manhattan              Harlem  40.80902   \n",
       "3        LisaRoxanne            Brooklyn        Clinton Hill  40.68514   \n",
       "4              Laura           Manhattan         East Harlem  40.79851   \n",
       "...              ...                 ...                 ...       ...   \n",
       "48890        Sabrina            Brooklyn  Bedford-Stuyvesant  40.67853   \n",
       "48891        Marisol            Brooklyn            Bushwick  40.70184   \n",
       "48892  Ilgar & Aysel           Manhattan              Harlem  40.81475   \n",
       "48893            Taz           Manhattan      Hell's Kitchen  40.75751   \n",
       "48894     Christophe           Manhattan      Hell's Kitchen  40.76404   \n",
       "\n",
       "       longitude        room_type  price  minimum_nights  number_of_reviews  \\\n",
       "0      -73.97237     Private room    149               1                  9   \n",
       "1      -73.98377  Entire home/apt    225               1                 45   \n",
       "2      -73.94190     Private room    150               3                  0   \n",
       "3      -73.95976  Entire home/apt     89               1                270   \n",
       "4      -73.94399  Entire home/apt     80              10                  9   \n",
       "...          ...              ...    ...             ...                ...   \n",
       "48890  -73.94995     Private room     70               2                  0   \n",
       "48891  -73.93317     Private room     40               4                  0   \n",
       "48892  -73.94867  Entire home/apt    115              10                  0   \n",
       "48893  -73.99112      Shared room     55               1                  0   \n",
       "48894  -73.98933     Private room     90               7                  0   \n",
       "\n",
       "      last_review  reviews_per_month  calculated_host_listings_count  \\\n",
       "0      2018-10-19               0.21                               6   \n",
       "1      2019-05-21               0.38                               2   \n",
       "2             NaN                NaN                               1   \n",
       "3      2019-07-05               4.64                               1   \n",
       "4      2018-11-19               0.10                               1   \n",
       "...           ...                ...                             ...   \n",
       "48890         NaN                NaN                               2   \n",
       "48891         NaN                NaN                               2   \n",
       "48892         NaN                NaN                               1   \n",
       "48893         NaN                NaN                               6   \n",
       "48894         NaN                NaN                               1   \n",
       "\n",
       "       availability_365  \n",
       "0                   365  \n",
       "1                   355  \n",
       "2                   365  \n",
       "3                   194  \n",
       "4                     0  \n",
       "...                 ...  \n",
       "48890                 9  \n",
       "48891                36  \n",
       "48892                27  \n",
       "48893                 2  \n",
       "48894                23  \n",
       "\n",
       "[48895 rows x 16 columns]"
      ]
     },
     "execution_count": 4,
     "metadata": {},
     "output_type": "execute_result"
    }
   ],
   "source": [
    "p=pd.read_csv(\"data\\AB_NYC_2019.csv\")\n",
    "p"
   ]
  },
  {
   "cell_type": "code",
   "execution_count": 5,
   "id": "1ccd76c1",
   "metadata": {},
   "outputs": [
    {
     "name": "stdout",
     "output_type": "stream",
     "text": [
      "************************************************************************************************************************\n",
      " \t\t\t\t**************UNDERSTANDING OF DATA GIVEN***************\n",
      "\n",
      "(a) ID- These gives us the listing id.\n",
      "\n",
      "(b) Name- listing name(property names)\n",
      "\n",
      "(c) Host_id- Host names\n",
      "\n",
      "(d) Neghbourhood_ghroup- NYC borough(Each neighbourhood group has multiple neighbourhoods)\n",
      "\n",
      "(e) neighbourhood- NYC neighbourhood(These are locations where AIRBNB properties are located)\n",
      "\n",
      "(f) Latitude- listing latitude\n",
      "\n",
      "(g) longitude- listing longitude\n",
      "\n",
      "(h) room_type- Types of room(entire home,private room,shared room\n",
      "\n",
      "(i) Price- Rent per night of AIRBNB\n",
      "\n",
      "(j) minimum nights- minimum stay of people\n",
      "\n",
      "(k) Number of reviews- Total number of reviews\n",
      "\n",
      "(l) Reviews per month- Average number of reviews per month\n",
      "\n",
      "(m) Calculated_host_listing_counts- Total number of listings of this host\n",
      "\n",
      "(n) Availability 365- Number of days airbnb is available in particular neighbourhood.\n",
      "************************************************************************************************************************\n"
     ]
    }
   ],
   "source": [
    "print((\"*\")*120)\n",
    "print(\" \\t\\t\\t\\t**************UNDERSTANDING OF DATA GIVEN***************\\n\\n(a) ID- These gives us the listing id.\\n\\n(b) Name- listing name(property names)\\n\\n(c) Host_id- Host names\\n\\n(d) Neghbourhood_ghroup- NYC borough(Each neighbourhood group has multiple neighbourhoods)\\n\\n(e) neighbourhood- NYC neighbourhood(These are locations where AIRBNB properties are located)\\n\\n(f) Latitude- listing latitude\\n\\n(g) longitude- listing longitude\\n\\n(h) room_type- Types of room(entire home,private room,shared room\\n\\n(i) Price- Rent per night of AIRBNB\\n\\n(j) minimum nights- minimum stay of people\\n\\n(k) Number of reviews- Total number of reviews\\n\\n(l) Reviews per month- Average number of reviews per month\\n\\n(m) Calculated_host_listing_counts- Total number of listings of this host\\n\\n(n) Availability 365- Number of days airbnb is available in particular neighbourhood.\")\n",
    "print((\"*\")*120)\n"
   ]
  },
  {
   "cell_type": "code",
   "execution_count": null,
   "id": "a1319c41",
   "metadata": {},
   "outputs": [],
   "source": []
  },
  {
   "cell_type": "markdown",
   "id": "e05e7ff7",
   "metadata": {},
   "source": [
    "# BASIC INFORMATION OF THE DATASET"
   ]
  },
  {
   "cell_type": "code",
   "execution_count": 6,
   "id": "2e11e815",
   "metadata": {},
   "outputs": [
    {
     "name": "stdout",
     "output_type": "stream",
     "text": [
      "************************************************************************************************************************\n",
      " \t\t\t\t**************ANALYSIS***************\n",
      "\t\t\t\tMY DATASET HAS 16 COLUMNS AND 48895 ROWS.\n",
      "\t\t\t\tIT HAS 10 NUMERICAL COLUMNS AND 6 CATEGORICAL COLUMNS.\n",
      "\t\t\t\t4 COLUMNS HAS NULL VALUES.\n",
      "************************************************************************************************************************\n",
      "<class 'pandas.core.frame.DataFrame'>\n",
      "RangeIndex: 48895 entries, 0 to 48894\n",
      "Data columns (total 16 columns):\n",
      " #   Column                          Non-Null Count  Dtype  \n",
      "---  ------                          --------------  -----  \n",
      " 0   id                              48895 non-null  int64  \n",
      " 1   name                            48879 non-null  object \n",
      " 2   host_id                         48895 non-null  int64  \n",
      " 3   host_name                       48874 non-null  object \n",
      " 4   neighbourhood_group             48895 non-null  object \n",
      " 5   neighbourhood                   48895 non-null  object \n",
      " 6   latitude                        48895 non-null  float64\n",
      " 7   longitude                       48895 non-null  float64\n",
      " 8   room_type                       48895 non-null  object \n",
      " 9   price                           48895 non-null  int64  \n",
      " 10  minimum_nights                  48895 non-null  int64  \n",
      " 11  number_of_reviews               48895 non-null  int64  \n",
      " 12  last_review                     38843 non-null  object \n",
      " 13  reviews_per_month               38843 non-null  float64\n",
      " 14  calculated_host_listings_count  48895 non-null  int64  \n",
      " 15  availability_365                48895 non-null  int64  \n",
      "dtypes: float64(3), int64(7), object(6)\n",
      "memory usage: 6.0+ MB\n"
     ]
    }
   ],
   "source": [
    "print((\"*\")*120)\n",
    "print(\" \\t\\t\\t\\t**************ANALYSIS***************\\n\\t\\t\\t\\tMY DATASET HAS 16 COLUMNS AND 48895 ROWS.\\n\\t\\t\\t\\tIT HAS 10 NUMERICAL COLUMNS AND 6 CATEGORICAL COLUMNS.\\n\\t\\t\\t\\t4 COLUMNS HAS NULL VALUES.\")\n",
    "print((\"*\")*120)\n",
    "p.info()"
   ]
  },
  {
   "cell_type": "markdown",
   "id": "468e200c",
   "metadata": {},
   "source": [
    "# FEATURES OF DATASET"
   ]
  },
  {
   "cell_type": "code",
   "execution_count": 7,
   "id": "317fc41e",
   "metadata": {},
   "outputs": [
    {
     "name": "stdout",
     "output_type": "stream",
     "text": [
      "************************************************************************************************************************\n",
      "\t\t\t\t**************ANALYSIS***************\n",
      "~ PRICE:-Price of airbnb ranges between 0$ to 10000$, mean cost of an airbnb is 152$,but median cost is 106$ this implies there are large number of outliers present in price column.\n",
      "~ ALL FEATURES OF DATASET WILL BE ANALYSED IN DETAIL AS WE GO AHEAD IN PROJECT.\n",
      "************************************************************************************************************************\n"
     ]
    },
    {
     "data": {
      "text/html": [
       "<div>\n",
       "<style scoped>\n",
       "    .dataframe tbody tr th:only-of-type {\n",
       "        vertical-align: middle;\n",
       "    }\n",
       "\n",
       "    .dataframe tbody tr th {\n",
       "        vertical-align: top;\n",
       "    }\n",
       "\n",
       "    .dataframe thead th {\n",
       "        text-align: right;\n",
       "    }\n",
       "</style>\n",
       "<table border=\"1\" class=\"dataframe\">\n",
       "  <thead>\n",
       "    <tr style=\"text-align: right;\">\n",
       "      <th></th>\n",
       "      <th>id</th>\n",
       "      <th>host_id</th>\n",
       "      <th>latitude</th>\n",
       "      <th>longitude</th>\n",
       "      <th>price</th>\n",
       "      <th>minimum_nights</th>\n",
       "      <th>number_of_reviews</th>\n",
       "      <th>reviews_per_month</th>\n",
       "      <th>calculated_host_listings_count</th>\n",
       "      <th>availability_365</th>\n",
       "    </tr>\n",
       "  </thead>\n",
       "  <tbody>\n",
       "    <tr>\n",
       "      <th>count</th>\n",
       "      <td>4.889500e+04</td>\n",
       "      <td>4.889500e+04</td>\n",
       "      <td>48895.000000</td>\n",
       "      <td>48895.000000</td>\n",
       "      <td>48895.000000</td>\n",
       "      <td>48895.000000</td>\n",
       "      <td>48895.000000</td>\n",
       "      <td>38843.000000</td>\n",
       "      <td>48895.000000</td>\n",
       "      <td>48895.000000</td>\n",
       "    </tr>\n",
       "    <tr>\n",
       "      <th>mean</th>\n",
       "      <td>1.901714e+07</td>\n",
       "      <td>6.762001e+07</td>\n",
       "      <td>40.728949</td>\n",
       "      <td>-73.952170</td>\n",
       "      <td>152.720687</td>\n",
       "      <td>7.029962</td>\n",
       "      <td>23.274466</td>\n",
       "      <td>1.373221</td>\n",
       "      <td>7.143982</td>\n",
       "      <td>112.781327</td>\n",
       "    </tr>\n",
       "    <tr>\n",
       "      <th>std</th>\n",
       "      <td>1.098311e+07</td>\n",
       "      <td>7.861097e+07</td>\n",
       "      <td>0.054530</td>\n",
       "      <td>0.046157</td>\n",
       "      <td>240.154170</td>\n",
       "      <td>20.510550</td>\n",
       "      <td>44.550582</td>\n",
       "      <td>1.680442</td>\n",
       "      <td>32.952519</td>\n",
       "      <td>131.622289</td>\n",
       "    </tr>\n",
       "    <tr>\n",
       "      <th>min</th>\n",
       "      <td>2.539000e+03</td>\n",
       "      <td>2.438000e+03</td>\n",
       "      <td>40.499790</td>\n",
       "      <td>-74.244420</td>\n",
       "      <td>0.000000</td>\n",
       "      <td>1.000000</td>\n",
       "      <td>0.000000</td>\n",
       "      <td>0.010000</td>\n",
       "      <td>1.000000</td>\n",
       "      <td>0.000000</td>\n",
       "    </tr>\n",
       "    <tr>\n",
       "      <th>25%</th>\n",
       "      <td>9.471945e+06</td>\n",
       "      <td>7.822033e+06</td>\n",
       "      <td>40.690100</td>\n",
       "      <td>-73.983070</td>\n",
       "      <td>69.000000</td>\n",
       "      <td>1.000000</td>\n",
       "      <td>1.000000</td>\n",
       "      <td>0.190000</td>\n",
       "      <td>1.000000</td>\n",
       "      <td>0.000000</td>\n",
       "    </tr>\n",
       "    <tr>\n",
       "      <th>50%</th>\n",
       "      <td>1.967728e+07</td>\n",
       "      <td>3.079382e+07</td>\n",
       "      <td>40.723070</td>\n",
       "      <td>-73.955680</td>\n",
       "      <td>106.000000</td>\n",
       "      <td>3.000000</td>\n",
       "      <td>5.000000</td>\n",
       "      <td>0.720000</td>\n",
       "      <td>1.000000</td>\n",
       "      <td>45.000000</td>\n",
       "    </tr>\n",
       "    <tr>\n",
       "      <th>75%</th>\n",
       "      <td>2.915218e+07</td>\n",
       "      <td>1.074344e+08</td>\n",
       "      <td>40.763115</td>\n",
       "      <td>-73.936275</td>\n",
       "      <td>175.000000</td>\n",
       "      <td>5.000000</td>\n",
       "      <td>24.000000</td>\n",
       "      <td>2.020000</td>\n",
       "      <td>2.000000</td>\n",
       "      <td>227.000000</td>\n",
       "    </tr>\n",
       "    <tr>\n",
       "      <th>max</th>\n",
       "      <td>3.648724e+07</td>\n",
       "      <td>2.743213e+08</td>\n",
       "      <td>40.913060</td>\n",
       "      <td>-73.712990</td>\n",
       "      <td>10000.000000</td>\n",
       "      <td>1250.000000</td>\n",
       "      <td>629.000000</td>\n",
       "      <td>58.500000</td>\n",
       "      <td>327.000000</td>\n",
       "      <td>365.000000</td>\n",
       "    </tr>\n",
       "  </tbody>\n",
       "</table>\n",
       "</div>"
      ],
      "text/plain": [
       "                 id       host_id      latitude     longitude         price  \\\n",
       "count  4.889500e+04  4.889500e+04  48895.000000  48895.000000  48895.000000   \n",
       "mean   1.901714e+07  6.762001e+07     40.728949    -73.952170    152.720687   \n",
       "std    1.098311e+07  7.861097e+07      0.054530      0.046157    240.154170   \n",
       "min    2.539000e+03  2.438000e+03     40.499790    -74.244420      0.000000   \n",
       "25%    9.471945e+06  7.822033e+06     40.690100    -73.983070     69.000000   \n",
       "50%    1.967728e+07  3.079382e+07     40.723070    -73.955680    106.000000   \n",
       "75%    2.915218e+07  1.074344e+08     40.763115    -73.936275    175.000000   \n",
       "max    3.648724e+07  2.743213e+08     40.913060    -73.712990  10000.000000   \n",
       "\n",
       "       minimum_nights  number_of_reviews  reviews_per_month  \\\n",
       "count    48895.000000       48895.000000       38843.000000   \n",
       "mean         7.029962          23.274466           1.373221   \n",
       "std         20.510550          44.550582           1.680442   \n",
       "min          1.000000           0.000000           0.010000   \n",
       "25%          1.000000           1.000000           0.190000   \n",
       "50%          3.000000           5.000000           0.720000   \n",
       "75%          5.000000          24.000000           2.020000   \n",
       "max       1250.000000         629.000000          58.500000   \n",
       "\n",
       "       calculated_host_listings_count  availability_365  \n",
       "count                    48895.000000      48895.000000  \n",
       "mean                         7.143982        112.781327  \n",
       "std                         32.952519        131.622289  \n",
       "min                          1.000000          0.000000  \n",
       "25%                          1.000000          0.000000  \n",
       "50%                          1.000000         45.000000  \n",
       "75%                          2.000000        227.000000  \n",
       "max                        327.000000        365.000000  "
      ]
     },
     "execution_count": 7,
     "metadata": {},
     "output_type": "execute_result"
    }
   ],
   "source": [
    "print((\"*\")*120)\n",
    "print(\"\\t\\t\\t\\t**************ANALYSIS***************\\n~ PRICE:-Price of airbnb ranges between 0$ to 10000$, mean cost of an airbnb is 152$,but median cost is 106$ this implies there are large number of outliers present in price column.\\n~ ALL FEATURES OF DATASET WILL BE ANALYSED IN DETAIL AS WE GO AHEAD IN PROJECT.\")\n",
    "print((\"*\")*120)\n",
    "p.describe()"
   ]
  },
  {
   "cell_type": "code",
   "execution_count": 8,
   "id": "61cc18d5",
   "metadata": {},
   "outputs": [
    {
     "name": "stdout",
     "output_type": "stream",
     "text": [
      "************************************************************************************************************************\n",
      "\t\t\t\t**************ANALYSIS***************\n",
      "\t\t\t\t~ WE HAVE 47906 UNIQUE RECORDS IN NAME.\n",
      "\t\t\t\t~ WE HAVE 11452 UBNIQUE ROWS IN HOST_NAME\n",
      "\t\t\t\t~ Neighbourhood_group has 5 unique columns with highest frequency of Manhattan\n",
      "\t\t\t\t~ neighbourhood has 221 unique columns\n",
      "\t\t\t~~ ALL THIS FEATIRES WE WILL ANALYSED IN DETAIL AS WE GO AHEAD IN THIS PROJECT\n",
      "************************************************************************************************************************\n"
     ]
    },
    {
     "data": {
      "text/html": [
       "<div>\n",
       "<style scoped>\n",
       "    .dataframe tbody tr th:only-of-type {\n",
       "        vertical-align: middle;\n",
       "    }\n",
       "\n",
       "    .dataframe tbody tr th {\n",
       "        vertical-align: top;\n",
       "    }\n",
       "\n",
       "    .dataframe thead th {\n",
       "        text-align: right;\n",
       "    }\n",
       "</style>\n",
       "<table border=\"1\" class=\"dataframe\">\n",
       "  <thead>\n",
       "    <tr style=\"text-align: right;\">\n",
       "      <th></th>\n",
       "      <th>name</th>\n",
       "      <th>host_name</th>\n",
       "      <th>neighbourhood_group</th>\n",
       "      <th>neighbourhood</th>\n",
       "      <th>room_type</th>\n",
       "      <th>last_review</th>\n",
       "    </tr>\n",
       "  </thead>\n",
       "  <tbody>\n",
       "    <tr>\n",
       "      <th>count</th>\n",
       "      <td>48879</td>\n",
       "      <td>48874</td>\n",
       "      <td>48895</td>\n",
       "      <td>48895</td>\n",
       "      <td>48895</td>\n",
       "      <td>38843</td>\n",
       "    </tr>\n",
       "    <tr>\n",
       "      <th>unique</th>\n",
       "      <td>47905</td>\n",
       "      <td>11452</td>\n",
       "      <td>5</td>\n",
       "      <td>221</td>\n",
       "      <td>3</td>\n",
       "      <td>1764</td>\n",
       "    </tr>\n",
       "    <tr>\n",
       "      <th>top</th>\n",
       "      <td>Hillside Hotel</td>\n",
       "      <td>Michael</td>\n",
       "      <td>Manhattan</td>\n",
       "      <td>Williamsburg</td>\n",
       "      <td>Entire home/apt</td>\n",
       "      <td>2019-06-23</td>\n",
       "    </tr>\n",
       "    <tr>\n",
       "      <th>freq</th>\n",
       "      <td>18</td>\n",
       "      <td>417</td>\n",
       "      <td>21661</td>\n",
       "      <td>3920</td>\n",
       "      <td>25409</td>\n",
       "      <td>1413</td>\n",
       "    </tr>\n",
       "  </tbody>\n",
       "</table>\n",
       "</div>"
      ],
      "text/plain": [
       "                  name host_name neighbourhood_group neighbourhood  \\\n",
       "count            48879     48874               48895         48895   \n",
       "unique           47905     11452                   5           221   \n",
       "top     Hillside Hotel   Michael           Manhattan  Williamsburg   \n",
       "freq                18       417               21661          3920   \n",
       "\n",
       "              room_type last_review  \n",
       "count             48895       38843  \n",
       "unique                3        1764  \n",
       "top     Entire home/apt  2019-06-23  \n",
       "freq              25409        1413  "
      ]
     },
     "execution_count": 8,
     "metadata": {},
     "output_type": "execute_result"
    }
   ],
   "source": [
    "print((\"*\")*120)\n",
    "print(\"\\t\\t\\t\\t**************ANALYSIS***************\\n\\t\\t\\t\\t~ WE HAVE 47906 UNIQUE RECORDS IN NAME.\\n\\t\\t\\t\\t~ WE HAVE 11452 UBNIQUE ROWS IN HOST_NAME\\n\\t\\t\\t\\t~ Neighbourhood_group has 5 unique columns with highest frequency of Manhattan\\n\\t\\t\\t\\t~ neighbourhood has 221 unique columns\\n\\t\\t\\t~~ ALL THIS FEATIRES WE WILL ANALYSED IN DETAIL AS WE GO AHEAD IN THIS PROJECT\")\n",
    "print((\"*\")*120)\n",
    "p.describe(include=\"O\")"
   ]
  },
  {
   "cell_type": "code",
   "execution_count": null,
   "id": "a6b2683d",
   "metadata": {},
   "outputs": [],
   "source": []
  },
  {
   "cell_type": "markdown",
   "id": "267c16a4",
   "metadata": {},
   "source": [
    "# SEPARATING NUMERICAL AND CATEGORICAL COLUMNS"
   ]
  },
  {
   "cell_type": "code",
   "execution_count": 9,
   "id": "6590050d",
   "metadata": {},
   "outputs": [
    {
     "data": {
      "text/html": [
       "<div>\n",
       "<style scoped>\n",
       "    .dataframe tbody tr th:only-of-type {\n",
       "        vertical-align: middle;\n",
       "    }\n",
       "\n",
       "    .dataframe tbody tr th {\n",
       "        vertical-align: top;\n",
       "    }\n",
       "\n",
       "    .dataframe thead th {\n",
       "        text-align: right;\n",
       "    }\n",
       "</style>\n",
       "<table border=\"1\" class=\"dataframe\">\n",
       "  <thead>\n",
       "    <tr style=\"text-align: right;\">\n",
       "      <th></th>\n",
       "      <th>id</th>\n",
       "      <th>host_id</th>\n",
       "      <th>latitude</th>\n",
       "      <th>longitude</th>\n",
       "      <th>price</th>\n",
       "      <th>minimum_nights</th>\n",
       "      <th>number_of_reviews</th>\n",
       "      <th>reviews_per_month</th>\n",
       "      <th>calculated_host_listings_count</th>\n",
       "      <th>availability_365</th>\n",
       "    </tr>\n",
       "  </thead>\n",
       "  <tbody>\n",
       "    <tr>\n",
       "      <th>0</th>\n",
       "      <td>2539</td>\n",
       "      <td>2787</td>\n",
       "      <td>40.64749</td>\n",
       "      <td>-73.97237</td>\n",
       "      <td>149</td>\n",
       "      <td>1</td>\n",
       "      <td>9</td>\n",
       "      <td>0.21</td>\n",
       "      <td>6</td>\n",
       "      <td>365</td>\n",
       "    </tr>\n",
       "    <tr>\n",
       "      <th>1</th>\n",
       "      <td>2595</td>\n",
       "      <td>2845</td>\n",
       "      <td>40.75362</td>\n",
       "      <td>-73.98377</td>\n",
       "      <td>225</td>\n",
       "      <td>1</td>\n",
       "      <td>45</td>\n",
       "      <td>0.38</td>\n",
       "      <td>2</td>\n",
       "      <td>355</td>\n",
       "    </tr>\n",
       "    <tr>\n",
       "      <th>2</th>\n",
       "      <td>3647</td>\n",
       "      <td>4632</td>\n",
       "      <td>40.80902</td>\n",
       "      <td>-73.94190</td>\n",
       "      <td>150</td>\n",
       "      <td>3</td>\n",
       "      <td>0</td>\n",
       "      <td>NaN</td>\n",
       "      <td>1</td>\n",
       "      <td>365</td>\n",
       "    </tr>\n",
       "    <tr>\n",
       "      <th>3</th>\n",
       "      <td>3831</td>\n",
       "      <td>4869</td>\n",
       "      <td>40.68514</td>\n",
       "      <td>-73.95976</td>\n",
       "      <td>89</td>\n",
       "      <td>1</td>\n",
       "      <td>270</td>\n",
       "      <td>4.64</td>\n",
       "      <td>1</td>\n",
       "      <td>194</td>\n",
       "    </tr>\n",
       "    <tr>\n",
       "      <th>4</th>\n",
       "      <td>5022</td>\n",
       "      <td>7192</td>\n",
       "      <td>40.79851</td>\n",
       "      <td>-73.94399</td>\n",
       "      <td>80</td>\n",
       "      <td>10</td>\n",
       "      <td>9</td>\n",
       "      <td>0.10</td>\n",
       "      <td>1</td>\n",
       "      <td>0</td>\n",
       "    </tr>\n",
       "    <tr>\n",
       "      <th>...</th>\n",
       "      <td>...</td>\n",
       "      <td>...</td>\n",
       "      <td>...</td>\n",
       "      <td>...</td>\n",
       "      <td>...</td>\n",
       "      <td>...</td>\n",
       "      <td>...</td>\n",
       "      <td>...</td>\n",
       "      <td>...</td>\n",
       "      <td>...</td>\n",
       "    </tr>\n",
       "    <tr>\n",
       "      <th>48890</th>\n",
       "      <td>36484665</td>\n",
       "      <td>8232441</td>\n",
       "      <td>40.67853</td>\n",
       "      <td>-73.94995</td>\n",
       "      <td>70</td>\n",
       "      <td>2</td>\n",
       "      <td>0</td>\n",
       "      <td>NaN</td>\n",
       "      <td>2</td>\n",
       "      <td>9</td>\n",
       "    </tr>\n",
       "    <tr>\n",
       "      <th>48891</th>\n",
       "      <td>36485057</td>\n",
       "      <td>6570630</td>\n",
       "      <td>40.70184</td>\n",
       "      <td>-73.93317</td>\n",
       "      <td>40</td>\n",
       "      <td>4</td>\n",
       "      <td>0</td>\n",
       "      <td>NaN</td>\n",
       "      <td>2</td>\n",
       "      <td>36</td>\n",
       "    </tr>\n",
       "    <tr>\n",
       "      <th>48892</th>\n",
       "      <td>36485431</td>\n",
       "      <td>23492952</td>\n",
       "      <td>40.81475</td>\n",
       "      <td>-73.94867</td>\n",
       "      <td>115</td>\n",
       "      <td>10</td>\n",
       "      <td>0</td>\n",
       "      <td>NaN</td>\n",
       "      <td>1</td>\n",
       "      <td>27</td>\n",
       "    </tr>\n",
       "    <tr>\n",
       "      <th>48893</th>\n",
       "      <td>36485609</td>\n",
       "      <td>30985759</td>\n",
       "      <td>40.75751</td>\n",
       "      <td>-73.99112</td>\n",
       "      <td>55</td>\n",
       "      <td>1</td>\n",
       "      <td>0</td>\n",
       "      <td>NaN</td>\n",
       "      <td>6</td>\n",
       "      <td>2</td>\n",
       "    </tr>\n",
       "    <tr>\n",
       "      <th>48894</th>\n",
       "      <td>36487245</td>\n",
       "      <td>68119814</td>\n",
       "      <td>40.76404</td>\n",
       "      <td>-73.98933</td>\n",
       "      <td>90</td>\n",
       "      <td>7</td>\n",
       "      <td>0</td>\n",
       "      <td>NaN</td>\n",
       "      <td>1</td>\n",
       "      <td>23</td>\n",
       "    </tr>\n",
       "  </tbody>\n",
       "</table>\n",
       "<p>48895 rows × 10 columns</p>\n",
       "</div>"
      ],
      "text/plain": [
       "             id   host_id  latitude  longitude  price  minimum_nights  \\\n",
       "0          2539      2787  40.64749  -73.97237    149               1   \n",
       "1          2595      2845  40.75362  -73.98377    225               1   \n",
       "2          3647      4632  40.80902  -73.94190    150               3   \n",
       "3          3831      4869  40.68514  -73.95976     89               1   \n",
       "4          5022      7192  40.79851  -73.94399     80              10   \n",
       "...         ...       ...       ...        ...    ...             ...   \n",
       "48890  36484665   8232441  40.67853  -73.94995     70               2   \n",
       "48891  36485057   6570630  40.70184  -73.93317     40               4   \n",
       "48892  36485431  23492952  40.81475  -73.94867    115              10   \n",
       "48893  36485609  30985759  40.75751  -73.99112     55               1   \n",
       "48894  36487245  68119814  40.76404  -73.98933     90               7   \n",
       "\n",
       "       number_of_reviews  reviews_per_month  calculated_host_listings_count  \\\n",
       "0                      9               0.21                               6   \n",
       "1                     45               0.38                               2   \n",
       "2                      0                NaN                               1   \n",
       "3                    270               4.64                               1   \n",
       "4                      9               0.10                               1   \n",
       "...                  ...                ...                             ...   \n",
       "48890                  0                NaN                               2   \n",
       "48891                  0                NaN                               2   \n",
       "48892                  0                NaN                               1   \n",
       "48893                  0                NaN                               6   \n",
       "48894                  0                NaN                               1   \n",
       "\n",
       "       availability_365  \n",
       "0                   365  \n",
       "1                   355  \n",
       "2                   365  \n",
       "3                   194  \n",
       "4                     0  \n",
       "...                 ...  \n",
       "48890                 9  \n",
       "48891                36  \n",
       "48892                27  \n",
       "48893                 2  \n",
       "48894                23  \n",
       "\n",
       "[48895 rows x 10 columns]"
      ]
     },
     "execution_count": 9,
     "metadata": {},
     "output_type": "execute_result"
    }
   ],
   "source": [
    "num_cols=p.select_dtypes(include=[\"int\",\"float\"])\n",
    "num_cols"
   ]
  },
  {
   "cell_type": "code",
   "execution_count": 10,
   "id": "b62aa719",
   "metadata": {},
   "outputs": [
    {
     "data": {
      "text/html": [
       "<div>\n",
       "<style scoped>\n",
       "    .dataframe tbody tr th:only-of-type {\n",
       "        vertical-align: middle;\n",
       "    }\n",
       "\n",
       "    .dataframe tbody tr th {\n",
       "        vertical-align: top;\n",
       "    }\n",
       "\n",
       "    .dataframe thead th {\n",
       "        text-align: right;\n",
       "    }\n",
       "</style>\n",
       "<table border=\"1\" class=\"dataframe\">\n",
       "  <thead>\n",
       "    <tr style=\"text-align: right;\">\n",
       "      <th></th>\n",
       "      <th>name</th>\n",
       "      <th>host_name</th>\n",
       "      <th>neighbourhood_group</th>\n",
       "      <th>neighbourhood</th>\n",
       "      <th>room_type</th>\n",
       "      <th>last_review</th>\n",
       "    </tr>\n",
       "  </thead>\n",
       "  <tbody>\n",
       "    <tr>\n",
       "      <th>0</th>\n",
       "      <td>Clean &amp; quiet apt home by the park</td>\n",
       "      <td>John</td>\n",
       "      <td>Brooklyn</td>\n",
       "      <td>Kensington</td>\n",
       "      <td>Private room</td>\n",
       "      <td>2018-10-19</td>\n",
       "    </tr>\n",
       "    <tr>\n",
       "      <th>1</th>\n",
       "      <td>Skylit Midtown Castle</td>\n",
       "      <td>Jennifer</td>\n",
       "      <td>Manhattan</td>\n",
       "      <td>Midtown</td>\n",
       "      <td>Entire home/apt</td>\n",
       "      <td>2019-05-21</td>\n",
       "    </tr>\n",
       "    <tr>\n",
       "      <th>2</th>\n",
       "      <td>THE VILLAGE OF HARLEM....NEW YORK !</td>\n",
       "      <td>Elisabeth</td>\n",
       "      <td>Manhattan</td>\n",
       "      <td>Harlem</td>\n",
       "      <td>Private room</td>\n",
       "      <td>NaN</td>\n",
       "    </tr>\n",
       "    <tr>\n",
       "      <th>3</th>\n",
       "      <td>Cozy Entire Floor of Brownstone</td>\n",
       "      <td>LisaRoxanne</td>\n",
       "      <td>Brooklyn</td>\n",
       "      <td>Clinton Hill</td>\n",
       "      <td>Entire home/apt</td>\n",
       "      <td>2019-07-05</td>\n",
       "    </tr>\n",
       "    <tr>\n",
       "      <th>4</th>\n",
       "      <td>Entire Apt: Spacious Studio/Loft by central park</td>\n",
       "      <td>Laura</td>\n",
       "      <td>Manhattan</td>\n",
       "      <td>East Harlem</td>\n",
       "      <td>Entire home/apt</td>\n",
       "      <td>2018-11-19</td>\n",
       "    </tr>\n",
       "    <tr>\n",
       "      <th>...</th>\n",
       "      <td>...</td>\n",
       "      <td>...</td>\n",
       "      <td>...</td>\n",
       "      <td>...</td>\n",
       "      <td>...</td>\n",
       "      <td>...</td>\n",
       "    </tr>\n",
       "    <tr>\n",
       "      <th>48890</th>\n",
       "      <td>Charming one bedroom - newly renovated rowhouse</td>\n",
       "      <td>Sabrina</td>\n",
       "      <td>Brooklyn</td>\n",
       "      <td>Bedford-Stuyvesant</td>\n",
       "      <td>Private room</td>\n",
       "      <td>NaN</td>\n",
       "    </tr>\n",
       "    <tr>\n",
       "      <th>48891</th>\n",
       "      <td>Affordable room in Bushwick/East Williamsburg</td>\n",
       "      <td>Marisol</td>\n",
       "      <td>Brooklyn</td>\n",
       "      <td>Bushwick</td>\n",
       "      <td>Private room</td>\n",
       "      <td>NaN</td>\n",
       "    </tr>\n",
       "    <tr>\n",
       "      <th>48892</th>\n",
       "      <td>Sunny Studio at Historical Neighborhood</td>\n",
       "      <td>Ilgar &amp; Aysel</td>\n",
       "      <td>Manhattan</td>\n",
       "      <td>Harlem</td>\n",
       "      <td>Entire home/apt</td>\n",
       "      <td>NaN</td>\n",
       "    </tr>\n",
       "    <tr>\n",
       "      <th>48893</th>\n",
       "      <td>43rd St. Time Square-cozy single bed</td>\n",
       "      <td>Taz</td>\n",
       "      <td>Manhattan</td>\n",
       "      <td>Hell's Kitchen</td>\n",
       "      <td>Shared room</td>\n",
       "      <td>NaN</td>\n",
       "    </tr>\n",
       "    <tr>\n",
       "      <th>48894</th>\n",
       "      <td>Trendy duplex in the very heart of Hell's Kitchen</td>\n",
       "      <td>Christophe</td>\n",
       "      <td>Manhattan</td>\n",
       "      <td>Hell's Kitchen</td>\n",
       "      <td>Private room</td>\n",
       "      <td>NaN</td>\n",
       "    </tr>\n",
       "  </tbody>\n",
       "</table>\n",
       "<p>48895 rows × 6 columns</p>\n",
       "</div>"
      ],
      "text/plain": [
       "                                                    name      host_name  \\\n",
       "0                     Clean & quiet apt home by the park           John   \n",
       "1                                  Skylit Midtown Castle       Jennifer   \n",
       "2                    THE VILLAGE OF HARLEM....NEW YORK !      Elisabeth   \n",
       "3                        Cozy Entire Floor of Brownstone    LisaRoxanne   \n",
       "4       Entire Apt: Spacious Studio/Loft by central park          Laura   \n",
       "...                                                  ...            ...   \n",
       "48890    Charming one bedroom - newly renovated rowhouse        Sabrina   \n",
       "48891      Affordable room in Bushwick/East Williamsburg        Marisol   \n",
       "48892            Sunny Studio at Historical Neighborhood  Ilgar & Aysel   \n",
       "48893               43rd St. Time Square-cozy single bed            Taz   \n",
       "48894  Trendy duplex in the very heart of Hell's Kitchen     Christophe   \n",
       "\n",
       "      neighbourhood_group       neighbourhood        room_type last_review  \n",
       "0                Brooklyn          Kensington     Private room  2018-10-19  \n",
       "1               Manhattan             Midtown  Entire home/apt  2019-05-21  \n",
       "2               Manhattan              Harlem     Private room         NaN  \n",
       "3                Brooklyn        Clinton Hill  Entire home/apt  2019-07-05  \n",
       "4               Manhattan         East Harlem  Entire home/apt  2018-11-19  \n",
       "...                   ...                 ...              ...         ...  \n",
       "48890            Brooklyn  Bedford-Stuyvesant     Private room         NaN  \n",
       "48891            Brooklyn            Bushwick     Private room         NaN  \n",
       "48892           Manhattan              Harlem  Entire home/apt         NaN  \n",
       "48893           Manhattan      Hell's Kitchen      Shared room         NaN  \n",
       "48894           Manhattan      Hell's Kitchen     Private room         NaN  \n",
       "\n",
       "[48895 rows x 6 columns]"
      ]
     },
     "execution_count": 10,
     "metadata": {},
     "output_type": "execute_result"
    }
   ],
   "source": [
    "num_cols=p.select_dtypes(include=[\"O\"])\n",
    "num_cols"
   ]
  },
  {
   "cell_type": "code",
   "execution_count": null,
   "id": "1f417257",
   "metadata": {},
   "outputs": [],
   "source": []
  },
  {
   "cell_type": "markdown",
   "id": "a2f09374",
   "metadata": {},
   "source": [
    "# CLEANING DATA"
   ]
  },
  {
   "cell_type": "markdown",
   "id": "5fe07abf",
   "metadata": {},
   "source": [
    "# Finding null/missing values in the data if any."
   ]
  },
  {
   "cell_type": "code",
   "execution_count": 11,
   "id": "6d7a57ca",
   "metadata": {},
   "outputs": [
    {
     "name": "stdout",
     "output_type": "stream",
     "text": [
      "************************************************************************************************************************\n",
      "\t\t\t\t**************ANALYSIS***************\n",
      "\t\t\t~We can clearly see True in output of some columns which contains null values\n",
      "************************************************************************************************************************\n"
     ]
    },
    {
     "data": {
      "text/plain": [
       "id                                False\n",
       "name                               True\n",
       "host_id                           False\n",
       "host_name                          True\n",
       "neighbourhood_group               False\n",
       "neighbourhood                     False\n",
       "latitude                          False\n",
       "longitude                         False\n",
       "room_type                         False\n",
       "price                             False\n",
       "minimum_nights                    False\n",
       "number_of_reviews                 False\n",
       "last_review                        True\n",
       "reviews_per_month                  True\n",
       "calculated_host_listings_count    False\n",
       "availability_365                  False\n",
       "dtype: bool"
      ]
     },
     "execution_count": 11,
     "metadata": {},
     "output_type": "execute_result"
    }
   ],
   "source": [
    "print((\"*\")*120)\n",
    "print(\"\\t\\t\\t\\t**************ANALYSIS***************\\n\\t\\t\\t~We can clearly see True in output of some columns which contains null values\")\n",
    "print((\"*\")*120)\n",
    "p.isnull().any()"
   ]
  },
  {
   "cell_type": "markdown",
   "id": "87439758",
   "metadata": {},
   "source": [
    "# finding % of null values "
   ]
  },
  {
   "cell_type": "code",
   "execution_count": 12,
   "id": "e9ec60c3",
   "metadata": {},
   "outputs": [
    {
     "name": "stdout",
     "output_type": "stream",
     "text": [
      "************************************************************************************************************************\n",
      "\t\t\t\t**************ANALYSIS***************\n",
      "~ reviews_per_month column has approximately 20% null values which i will fill with mean value of this columns.\n",
      "~ last_review column also has 20% null values,for my analysis i donot require this column so i will be droping whole column\n",
      "~ name and host_name has less than 0.05% null values,i will be droping this null rows.\n",
      "************************************************************************************************************************\n"
     ]
    },
    {
     "data": {
      "text/plain": [
       "id                                 0.000000\n",
       "name                               0.032723\n",
       "host_id                            0.000000\n",
       "host_name                          0.042949\n",
       "neighbourhood_group                0.000000\n",
       "neighbourhood                      0.000000\n",
       "latitude                           0.000000\n",
       "longitude                          0.000000\n",
       "room_type                          0.000000\n",
       "price                              0.000000\n",
       "minimum_nights                     0.000000\n",
       "number_of_reviews                  0.000000\n",
       "last_review                       20.558339\n",
       "reviews_per_month                 20.558339\n",
       "calculated_host_listings_count     0.000000\n",
       "availability_365                   0.000000\n",
       "dtype: float64"
      ]
     },
     "execution_count": 12,
     "metadata": {},
     "output_type": "execute_result"
    }
   ],
   "source": [
    "print((\"*\")*120)\n",
    "print(\"\\t\\t\\t\\t**************ANALYSIS***************\\n~ reviews_per_month column has approximately 20% null values which i will fill with mean value of this columns.\\n~ last_review column also has 20% null values,for my analysis i donot require this column so i will be droping whole column\\n~ name and host_name has less than 0.05% null values,i will be droping this null rows.\")\n",
    "print((\"*\")*120)\n",
    "p.isnull().sum()/len(p)*100"
   ]
  },
  {
   "cell_type": "code",
   "execution_count": 13,
   "id": "89c70cd6",
   "metadata": {},
   "outputs": [
    {
     "name": "stdout",
     "output_type": "stream",
     "text": [
      "************************************************************************************************************************\n",
      "\t\t\t\tDROPING COLUMN last_review AS IT HAS NO USE IN ANALYSIS\n",
      "************************************************************************************************************************\n"
     ]
    },
    {
     "data": {
      "text/html": [
       "<div>\n",
       "<style scoped>\n",
       "    .dataframe tbody tr th:only-of-type {\n",
       "        vertical-align: middle;\n",
       "    }\n",
       "\n",
       "    .dataframe tbody tr th {\n",
       "        vertical-align: top;\n",
       "    }\n",
       "\n",
       "    .dataframe thead th {\n",
       "        text-align: right;\n",
       "    }\n",
       "</style>\n",
       "<table border=\"1\" class=\"dataframe\">\n",
       "  <thead>\n",
       "    <tr style=\"text-align: right;\">\n",
       "      <th></th>\n",
       "      <th>id</th>\n",
       "      <th>name</th>\n",
       "      <th>host_id</th>\n",
       "      <th>host_name</th>\n",
       "      <th>neighbourhood_group</th>\n",
       "      <th>neighbourhood</th>\n",
       "      <th>latitude</th>\n",
       "      <th>longitude</th>\n",
       "      <th>room_type</th>\n",
       "      <th>price</th>\n",
       "      <th>minimum_nights</th>\n",
       "      <th>number_of_reviews</th>\n",
       "      <th>reviews_per_month</th>\n",
       "      <th>calculated_host_listings_count</th>\n",
       "      <th>availability_365</th>\n",
       "    </tr>\n",
       "  </thead>\n",
       "  <tbody>\n",
       "    <tr>\n",
       "      <th>0</th>\n",
       "      <td>2539</td>\n",
       "      <td>Clean &amp; quiet apt home by the park</td>\n",
       "      <td>2787</td>\n",
       "      <td>John</td>\n",
       "      <td>Brooklyn</td>\n",
       "      <td>Kensington</td>\n",
       "      <td>40.64749</td>\n",
       "      <td>-73.97237</td>\n",
       "      <td>Private room</td>\n",
       "      <td>149</td>\n",
       "      <td>1</td>\n",
       "      <td>9</td>\n",
       "      <td>0.21</td>\n",
       "      <td>6</td>\n",
       "      <td>365</td>\n",
       "    </tr>\n",
       "    <tr>\n",
       "      <th>1</th>\n",
       "      <td>2595</td>\n",
       "      <td>Skylit Midtown Castle</td>\n",
       "      <td>2845</td>\n",
       "      <td>Jennifer</td>\n",
       "      <td>Manhattan</td>\n",
       "      <td>Midtown</td>\n",
       "      <td>40.75362</td>\n",
       "      <td>-73.98377</td>\n",
       "      <td>Entire home/apt</td>\n",
       "      <td>225</td>\n",
       "      <td>1</td>\n",
       "      <td>45</td>\n",
       "      <td>0.38</td>\n",
       "      <td>2</td>\n",
       "      <td>355</td>\n",
       "    </tr>\n",
       "    <tr>\n",
       "      <th>2</th>\n",
       "      <td>3647</td>\n",
       "      <td>THE VILLAGE OF HARLEM....NEW YORK !</td>\n",
       "      <td>4632</td>\n",
       "      <td>Elisabeth</td>\n",
       "      <td>Manhattan</td>\n",
       "      <td>Harlem</td>\n",
       "      <td>40.80902</td>\n",
       "      <td>-73.94190</td>\n",
       "      <td>Private room</td>\n",
       "      <td>150</td>\n",
       "      <td>3</td>\n",
       "      <td>0</td>\n",
       "      <td>NaN</td>\n",
       "      <td>1</td>\n",
       "      <td>365</td>\n",
       "    </tr>\n",
       "    <tr>\n",
       "      <th>3</th>\n",
       "      <td>3831</td>\n",
       "      <td>Cozy Entire Floor of Brownstone</td>\n",
       "      <td>4869</td>\n",
       "      <td>LisaRoxanne</td>\n",
       "      <td>Brooklyn</td>\n",
       "      <td>Clinton Hill</td>\n",
       "      <td>40.68514</td>\n",
       "      <td>-73.95976</td>\n",
       "      <td>Entire home/apt</td>\n",
       "      <td>89</td>\n",
       "      <td>1</td>\n",
       "      <td>270</td>\n",
       "      <td>4.64</td>\n",
       "      <td>1</td>\n",
       "      <td>194</td>\n",
       "    </tr>\n",
       "    <tr>\n",
       "      <th>4</th>\n",
       "      <td>5022</td>\n",
       "      <td>Entire Apt: Spacious Studio/Loft by central park</td>\n",
       "      <td>7192</td>\n",
       "      <td>Laura</td>\n",
       "      <td>Manhattan</td>\n",
       "      <td>East Harlem</td>\n",
       "      <td>40.79851</td>\n",
       "      <td>-73.94399</td>\n",
       "      <td>Entire home/apt</td>\n",
       "      <td>80</td>\n",
       "      <td>10</td>\n",
       "      <td>9</td>\n",
       "      <td>0.10</td>\n",
       "      <td>1</td>\n",
       "      <td>0</td>\n",
       "    </tr>\n",
       "    <tr>\n",
       "      <th>...</th>\n",
       "      <td>...</td>\n",
       "      <td>...</td>\n",
       "      <td>...</td>\n",
       "      <td>...</td>\n",
       "      <td>...</td>\n",
       "      <td>...</td>\n",
       "      <td>...</td>\n",
       "      <td>...</td>\n",
       "      <td>...</td>\n",
       "      <td>...</td>\n",
       "      <td>...</td>\n",
       "      <td>...</td>\n",
       "      <td>...</td>\n",
       "      <td>...</td>\n",
       "      <td>...</td>\n",
       "    </tr>\n",
       "    <tr>\n",
       "      <th>48890</th>\n",
       "      <td>36484665</td>\n",
       "      <td>Charming one bedroom - newly renovated rowhouse</td>\n",
       "      <td>8232441</td>\n",
       "      <td>Sabrina</td>\n",
       "      <td>Brooklyn</td>\n",
       "      <td>Bedford-Stuyvesant</td>\n",
       "      <td>40.67853</td>\n",
       "      <td>-73.94995</td>\n",
       "      <td>Private room</td>\n",
       "      <td>70</td>\n",
       "      <td>2</td>\n",
       "      <td>0</td>\n",
       "      <td>NaN</td>\n",
       "      <td>2</td>\n",
       "      <td>9</td>\n",
       "    </tr>\n",
       "    <tr>\n",
       "      <th>48891</th>\n",
       "      <td>36485057</td>\n",
       "      <td>Affordable room in Bushwick/East Williamsburg</td>\n",
       "      <td>6570630</td>\n",
       "      <td>Marisol</td>\n",
       "      <td>Brooklyn</td>\n",
       "      <td>Bushwick</td>\n",
       "      <td>40.70184</td>\n",
       "      <td>-73.93317</td>\n",
       "      <td>Private room</td>\n",
       "      <td>40</td>\n",
       "      <td>4</td>\n",
       "      <td>0</td>\n",
       "      <td>NaN</td>\n",
       "      <td>2</td>\n",
       "      <td>36</td>\n",
       "    </tr>\n",
       "    <tr>\n",
       "      <th>48892</th>\n",
       "      <td>36485431</td>\n",
       "      <td>Sunny Studio at Historical Neighborhood</td>\n",
       "      <td>23492952</td>\n",
       "      <td>Ilgar &amp; Aysel</td>\n",
       "      <td>Manhattan</td>\n",
       "      <td>Harlem</td>\n",
       "      <td>40.81475</td>\n",
       "      <td>-73.94867</td>\n",
       "      <td>Entire home/apt</td>\n",
       "      <td>115</td>\n",
       "      <td>10</td>\n",
       "      <td>0</td>\n",
       "      <td>NaN</td>\n",
       "      <td>1</td>\n",
       "      <td>27</td>\n",
       "    </tr>\n",
       "    <tr>\n",
       "      <th>48893</th>\n",
       "      <td>36485609</td>\n",
       "      <td>43rd St. Time Square-cozy single bed</td>\n",
       "      <td>30985759</td>\n",
       "      <td>Taz</td>\n",
       "      <td>Manhattan</td>\n",
       "      <td>Hell's Kitchen</td>\n",
       "      <td>40.75751</td>\n",
       "      <td>-73.99112</td>\n",
       "      <td>Shared room</td>\n",
       "      <td>55</td>\n",
       "      <td>1</td>\n",
       "      <td>0</td>\n",
       "      <td>NaN</td>\n",
       "      <td>6</td>\n",
       "      <td>2</td>\n",
       "    </tr>\n",
       "    <tr>\n",
       "      <th>48894</th>\n",
       "      <td>36487245</td>\n",
       "      <td>Trendy duplex in the very heart of Hell's Kitchen</td>\n",
       "      <td>68119814</td>\n",
       "      <td>Christophe</td>\n",
       "      <td>Manhattan</td>\n",
       "      <td>Hell's Kitchen</td>\n",
       "      <td>40.76404</td>\n",
       "      <td>-73.98933</td>\n",
       "      <td>Private room</td>\n",
       "      <td>90</td>\n",
       "      <td>7</td>\n",
       "      <td>0</td>\n",
       "      <td>NaN</td>\n",
       "      <td>1</td>\n",
       "      <td>23</td>\n",
       "    </tr>\n",
       "  </tbody>\n",
       "</table>\n",
       "<p>48895 rows × 15 columns</p>\n",
       "</div>"
      ],
      "text/plain": [
       "             id                                               name   host_id  \\\n",
       "0          2539                 Clean & quiet apt home by the park      2787   \n",
       "1          2595                              Skylit Midtown Castle      2845   \n",
       "2          3647                THE VILLAGE OF HARLEM....NEW YORK !      4632   \n",
       "3          3831                    Cozy Entire Floor of Brownstone      4869   \n",
       "4          5022   Entire Apt: Spacious Studio/Loft by central park      7192   \n",
       "...         ...                                                ...       ...   \n",
       "48890  36484665    Charming one bedroom - newly renovated rowhouse   8232441   \n",
       "48891  36485057      Affordable room in Bushwick/East Williamsburg   6570630   \n",
       "48892  36485431            Sunny Studio at Historical Neighborhood  23492952   \n",
       "48893  36485609               43rd St. Time Square-cozy single bed  30985759   \n",
       "48894  36487245  Trendy duplex in the very heart of Hell's Kitchen  68119814   \n",
       "\n",
       "           host_name neighbourhood_group       neighbourhood  latitude  \\\n",
       "0               John            Brooklyn          Kensington  40.64749   \n",
       "1           Jennifer           Manhattan             Midtown  40.75362   \n",
       "2          Elisabeth           Manhattan              Harlem  40.80902   \n",
       "3        LisaRoxanne            Brooklyn        Clinton Hill  40.68514   \n",
       "4              Laura           Manhattan         East Harlem  40.79851   \n",
       "...              ...                 ...                 ...       ...   \n",
       "48890        Sabrina            Brooklyn  Bedford-Stuyvesant  40.67853   \n",
       "48891        Marisol            Brooklyn            Bushwick  40.70184   \n",
       "48892  Ilgar & Aysel           Manhattan              Harlem  40.81475   \n",
       "48893            Taz           Manhattan      Hell's Kitchen  40.75751   \n",
       "48894     Christophe           Manhattan      Hell's Kitchen  40.76404   \n",
       "\n",
       "       longitude        room_type  price  minimum_nights  number_of_reviews  \\\n",
       "0      -73.97237     Private room    149               1                  9   \n",
       "1      -73.98377  Entire home/apt    225               1                 45   \n",
       "2      -73.94190     Private room    150               3                  0   \n",
       "3      -73.95976  Entire home/apt     89               1                270   \n",
       "4      -73.94399  Entire home/apt     80              10                  9   \n",
       "...          ...              ...    ...             ...                ...   \n",
       "48890  -73.94995     Private room     70               2                  0   \n",
       "48891  -73.93317     Private room     40               4                  0   \n",
       "48892  -73.94867  Entire home/apt    115              10                  0   \n",
       "48893  -73.99112      Shared room     55               1                  0   \n",
       "48894  -73.98933     Private room     90               7                  0   \n",
       "\n",
       "       reviews_per_month  calculated_host_listings_count  availability_365  \n",
       "0                   0.21                               6               365  \n",
       "1                   0.38                               2               355  \n",
       "2                    NaN                               1               365  \n",
       "3                   4.64                               1               194  \n",
       "4                   0.10                               1                 0  \n",
       "...                  ...                             ...               ...  \n",
       "48890                NaN                               2                 9  \n",
       "48891                NaN                               2                36  \n",
       "48892                NaN                               1                27  \n",
       "48893                NaN                               6                 2  \n",
       "48894                NaN                               1                23  \n",
       "\n",
       "[48895 rows x 15 columns]"
      ]
     },
     "execution_count": 13,
     "metadata": {},
     "output_type": "execute_result"
    }
   ],
   "source": [
    "print((\"*\")*120)\n",
    "print(\"\\t\\t\\t\\tDROPING COLUMN last_review AS IT HAS NO USE IN ANALYSIS\")\n",
    "print((\"*\")*120)\n",
    "p.drop([\"last_review\"],axis=1,inplace=True)\n",
    "p"
   ]
  },
  {
   "cell_type": "code",
   "execution_count": null,
   "id": "0c9a326c",
   "metadata": {},
   "outputs": [],
   "source": []
  },
  {
   "cell_type": "code",
   "execution_count": 14,
   "id": "bf1272fa",
   "metadata": {},
   "outputs": [
    {
     "name": "stdout",
     "output_type": "stream",
     "text": [
      "************************************************************************************************************************\n",
      "\t\t\t\tFilling null values with mean value in reviews_per_month column\n",
      "************************************************************************************************************************\n"
     ]
    },
    {
     "data": {
      "text/html": [
       "<div>\n",
       "<style scoped>\n",
       "    .dataframe tbody tr th:only-of-type {\n",
       "        vertical-align: middle;\n",
       "    }\n",
       "\n",
       "    .dataframe tbody tr th {\n",
       "        vertical-align: top;\n",
       "    }\n",
       "\n",
       "    .dataframe thead th {\n",
       "        text-align: right;\n",
       "    }\n",
       "</style>\n",
       "<table border=\"1\" class=\"dataframe\">\n",
       "  <thead>\n",
       "    <tr style=\"text-align: right;\">\n",
       "      <th></th>\n",
       "      <th>id</th>\n",
       "      <th>name</th>\n",
       "      <th>host_id</th>\n",
       "      <th>host_name</th>\n",
       "      <th>neighbourhood_group</th>\n",
       "      <th>neighbourhood</th>\n",
       "      <th>latitude</th>\n",
       "      <th>longitude</th>\n",
       "      <th>room_type</th>\n",
       "      <th>price</th>\n",
       "      <th>minimum_nights</th>\n",
       "      <th>number_of_reviews</th>\n",
       "      <th>reviews_per_month</th>\n",
       "      <th>calculated_host_listings_count</th>\n",
       "      <th>availability_365</th>\n",
       "    </tr>\n",
       "  </thead>\n",
       "  <tbody>\n",
       "    <tr>\n",
       "      <th>0</th>\n",
       "      <td>2539</td>\n",
       "      <td>Clean &amp; quiet apt home by the park</td>\n",
       "      <td>2787</td>\n",
       "      <td>John</td>\n",
       "      <td>Brooklyn</td>\n",
       "      <td>Kensington</td>\n",
       "      <td>40.64749</td>\n",
       "      <td>-73.97237</td>\n",
       "      <td>Private room</td>\n",
       "      <td>149</td>\n",
       "      <td>1</td>\n",
       "      <td>9</td>\n",
       "      <td>0</td>\n",
       "      <td>6</td>\n",
       "      <td>365</td>\n",
       "    </tr>\n",
       "    <tr>\n",
       "      <th>1</th>\n",
       "      <td>2595</td>\n",
       "      <td>Skylit Midtown Castle</td>\n",
       "      <td>2845</td>\n",
       "      <td>Jennifer</td>\n",
       "      <td>Manhattan</td>\n",
       "      <td>Midtown</td>\n",
       "      <td>40.75362</td>\n",
       "      <td>-73.98377</td>\n",
       "      <td>Entire home/apt</td>\n",
       "      <td>225</td>\n",
       "      <td>1</td>\n",
       "      <td>45</td>\n",
       "      <td>0</td>\n",
       "      <td>2</td>\n",
       "      <td>355</td>\n",
       "    </tr>\n",
       "    <tr>\n",
       "      <th>2</th>\n",
       "      <td>3647</td>\n",
       "      <td>THE VILLAGE OF HARLEM....NEW YORK !</td>\n",
       "      <td>4632</td>\n",
       "      <td>Elisabeth</td>\n",
       "      <td>Manhattan</td>\n",
       "      <td>Harlem</td>\n",
       "      <td>40.80902</td>\n",
       "      <td>-73.94190</td>\n",
       "      <td>Private room</td>\n",
       "      <td>150</td>\n",
       "      <td>3</td>\n",
       "      <td>0</td>\n",
       "      <td>1</td>\n",
       "      <td>1</td>\n",
       "      <td>365</td>\n",
       "    </tr>\n",
       "    <tr>\n",
       "      <th>3</th>\n",
       "      <td>3831</td>\n",
       "      <td>Cozy Entire Floor of Brownstone</td>\n",
       "      <td>4869</td>\n",
       "      <td>LisaRoxanne</td>\n",
       "      <td>Brooklyn</td>\n",
       "      <td>Clinton Hill</td>\n",
       "      <td>40.68514</td>\n",
       "      <td>-73.95976</td>\n",
       "      <td>Entire home/apt</td>\n",
       "      <td>89</td>\n",
       "      <td>1</td>\n",
       "      <td>270</td>\n",
       "      <td>4</td>\n",
       "      <td>1</td>\n",
       "      <td>194</td>\n",
       "    </tr>\n",
       "    <tr>\n",
       "      <th>4</th>\n",
       "      <td>5022</td>\n",
       "      <td>Entire Apt: Spacious Studio/Loft by central park</td>\n",
       "      <td>7192</td>\n",
       "      <td>Laura</td>\n",
       "      <td>Manhattan</td>\n",
       "      <td>East Harlem</td>\n",
       "      <td>40.79851</td>\n",
       "      <td>-73.94399</td>\n",
       "      <td>Entire home/apt</td>\n",
       "      <td>80</td>\n",
       "      <td>10</td>\n",
       "      <td>9</td>\n",
       "      <td>0</td>\n",
       "      <td>1</td>\n",
       "      <td>0</td>\n",
       "    </tr>\n",
       "    <tr>\n",
       "      <th>...</th>\n",
       "      <td>...</td>\n",
       "      <td>...</td>\n",
       "      <td>...</td>\n",
       "      <td>...</td>\n",
       "      <td>...</td>\n",
       "      <td>...</td>\n",
       "      <td>...</td>\n",
       "      <td>...</td>\n",
       "      <td>...</td>\n",
       "      <td>...</td>\n",
       "      <td>...</td>\n",
       "      <td>...</td>\n",
       "      <td>...</td>\n",
       "      <td>...</td>\n",
       "      <td>...</td>\n",
       "    </tr>\n",
       "    <tr>\n",
       "      <th>48890</th>\n",
       "      <td>36484665</td>\n",
       "      <td>Charming one bedroom - newly renovated rowhouse</td>\n",
       "      <td>8232441</td>\n",
       "      <td>Sabrina</td>\n",
       "      <td>Brooklyn</td>\n",
       "      <td>Bedford-Stuyvesant</td>\n",
       "      <td>40.67853</td>\n",
       "      <td>-73.94995</td>\n",
       "      <td>Private room</td>\n",
       "      <td>70</td>\n",
       "      <td>2</td>\n",
       "      <td>0</td>\n",
       "      <td>1</td>\n",
       "      <td>2</td>\n",
       "      <td>9</td>\n",
       "    </tr>\n",
       "    <tr>\n",
       "      <th>48891</th>\n",
       "      <td>36485057</td>\n",
       "      <td>Affordable room in Bushwick/East Williamsburg</td>\n",
       "      <td>6570630</td>\n",
       "      <td>Marisol</td>\n",
       "      <td>Brooklyn</td>\n",
       "      <td>Bushwick</td>\n",
       "      <td>40.70184</td>\n",
       "      <td>-73.93317</td>\n",
       "      <td>Private room</td>\n",
       "      <td>40</td>\n",
       "      <td>4</td>\n",
       "      <td>0</td>\n",
       "      <td>1</td>\n",
       "      <td>2</td>\n",
       "      <td>36</td>\n",
       "    </tr>\n",
       "    <tr>\n",
       "      <th>48892</th>\n",
       "      <td>36485431</td>\n",
       "      <td>Sunny Studio at Historical Neighborhood</td>\n",
       "      <td>23492952</td>\n",
       "      <td>Ilgar &amp; Aysel</td>\n",
       "      <td>Manhattan</td>\n",
       "      <td>Harlem</td>\n",
       "      <td>40.81475</td>\n",
       "      <td>-73.94867</td>\n",
       "      <td>Entire home/apt</td>\n",
       "      <td>115</td>\n",
       "      <td>10</td>\n",
       "      <td>0</td>\n",
       "      <td>1</td>\n",
       "      <td>1</td>\n",
       "      <td>27</td>\n",
       "    </tr>\n",
       "    <tr>\n",
       "      <th>48893</th>\n",
       "      <td>36485609</td>\n",
       "      <td>43rd St. Time Square-cozy single bed</td>\n",
       "      <td>30985759</td>\n",
       "      <td>Taz</td>\n",
       "      <td>Manhattan</td>\n",
       "      <td>Hell's Kitchen</td>\n",
       "      <td>40.75751</td>\n",
       "      <td>-73.99112</td>\n",
       "      <td>Shared room</td>\n",
       "      <td>55</td>\n",
       "      <td>1</td>\n",
       "      <td>0</td>\n",
       "      <td>1</td>\n",
       "      <td>6</td>\n",
       "      <td>2</td>\n",
       "    </tr>\n",
       "    <tr>\n",
       "      <th>48894</th>\n",
       "      <td>36487245</td>\n",
       "      <td>Trendy duplex in the very heart of Hell's Kitchen</td>\n",
       "      <td>68119814</td>\n",
       "      <td>Christophe</td>\n",
       "      <td>Manhattan</td>\n",
       "      <td>Hell's Kitchen</td>\n",
       "      <td>40.76404</td>\n",
       "      <td>-73.98933</td>\n",
       "      <td>Private room</td>\n",
       "      <td>90</td>\n",
       "      <td>7</td>\n",
       "      <td>0</td>\n",
       "      <td>1</td>\n",
       "      <td>1</td>\n",
       "      <td>23</td>\n",
       "    </tr>\n",
       "  </tbody>\n",
       "</table>\n",
       "<p>48895 rows × 15 columns</p>\n",
       "</div>"
      ],
      "text/plain": [
       "             id                                               name   host_id  \\\n",
       "0          2539                 Clean & quiet apt home by the park      2787   \n",
       "1          2595                              Skylit Midtown Castle      2845   \n",
       "2          3647                THE VILLAGE OF HARLEM....NEW YORK !      4632   \n",
       "3          3831                    Cozy Entire Floor of Brownstone      4869   \n",
       "4          5022   Entire Apt: Spacious Studio/Loft by central park      7192   \n",
       "...         ...                                                ...       ...   \n",
       "48890  36484665    Charming one bedroom - newly renovated rowhouse   8232441   \n",
       "48891  36485057      Affordable room in Bushwick/East Williamsburg   6570630   \n",
       "48892  36485431            Sunny Studio at Historical Neighborhood  23492952   \n",
       "48893  36485609               43rd St. Time Square-cozy single bed  30985759   \n",
       "48894  36487245  Trendy duplex in the very heart of Hell's Kitchen  68119814   \n",
       "\n",
       "           host_name neighbourhood_group       neighbourhood  latitude  \\\n",
       "0               John            Brooklyn          Kensington  40.64749   \n",
       "1           Jennifer           Manhattan             Midtown  40.75362   \n",
       "2          Elisabeth           Manhattan              Harlem  40.80902   \n",
       "3        LisaRoxanne            Brooklyn        Clinton Hill  40.68514   \n",
       "4              Laura           Manhattan         East Harlem  40.79851   \n",
       "...              ...                 ...                 ...       ...   \n",
       "48890        Sabrina            Brooklyn  Bedford-Stuyvesant  40.67853   \n",
       "48891        Marisol            Brooklyn            Bushwick  40.70184   \n",
       "48892  Ilgar & Aysel           Manhattan              Harlem  40.81475   \n",
       "48893            Taz           Manhattan      Hell's Kitchen  40.75751   \n",
       "48894     Christophe           Manhattan      Hell's Kitchen  40.76404   \n",
       "\n",
       "       longitude        room_type  price  minimum_nights  number_of_reviews  \\\n",
       "0      -73.97237     Private room    149               1                  9   \n",
       "1      -73.98377  Entire home/apt    225               1                 45   \n",
       "2      -73.94190     Private room    150               3                  0   \n",
       "3      -73.95976  Entire home/apt     89               1                270   \n",
       "4      -73.94399  Entire home/apt     80              10                  9   \n",
       "...          ...              ...    ...             ...                ...   \n",
       "48890  -73.94995     Private room     70               2                  0   \n",
       "48891  -73.93317     Private room     40               4                  0   \n",
       "48892  -73.94867  Entire home/apt    115              10                  0   \n",
       "48893  -73.99112      Shared room     55               1                  0   \n",
       "48894  -73.98933     Private room     90               7                  0   \n",
       "\n",
       "       reviews_per_month  calculated_host_listings_count  availability_365  \n",
       "0                      0                               6               365  \n",
       "1                      0                               2               355  \n",
       "2                      1                               1               365  \n",
       "3                      4                               1               194  \n",
       "4                      0                               1                 0  \n",
       "...                  ...                             ...               ...  \n",
       "48890                  1                               2                 9  \n",
       "48891                  1                               2                36  \n",
       "48892                  1                               1                27  \n",
       "48893                  1                               6                 2  \n",
       "48894                  1                               1                23  \n",
       "\n",
       "[48895 rows x 15 columns]"
      ]
     },
     "execution_count": 14,
     "metadata": {},
     "output_type": "execute_result"
    }
   ],
   "source": [
    "print((\"*\")*120)\n",
    "print(\"\\t\\t\\t\\tFilling null values with mean value in reviews_per_month column\")\n",
    "print((\"*\")*120)\n",
    "p[\"reviews_per_month\"]=p[\"reviews_per_month\"].fillna(p[\"reviews_per_month\"].mean())\n",
    "p[\"reviews_per_month\"]=p[\"reviews_per_month\"].astype(\"int\")\n",
    "p"
   ]
  },
  {
   "cell_type": "code",
   "execution_count": null,
   "id": "225aacc3",
   "metadata": {},
   "outputs": [],
   "source": []
  },
  {
   "cell_type": "code",
   "execution_count": 15,
   "id": "fc235251",
   "metadata": {},
   "outputs": [
    {
     "name": "stdout",
     "output_type": "stream",
     "text": [
      "************************************************************************************************************************\n",
      "\t\t\t\tDroping null rows of columns name and host_name\n",
      "************************************************************************************************************************\n"
     ]
    },
    {
     "data": {
      "text/html": [
       "<div>\n",
       "<style scoped>\n",
       "    .dataframe tbody tr th:only-of-type {\n",
       "        vertical-align: middle;\n",
       "    }\n",
       "\n",
       "    .dataframe tbody tr th {\n",
       "        vertical-align: top;\n",
       "    }\n",
       "\n",
       "    .dataframe thead th {\n",
       "        text-align: right;\n",
       "    }\n",
       "</style>\n",
       "<table border=\"1\" class=\"dataframe\">\n",
       "  <thead>\n",
       "    <tr style=\"text-align: right;\">\n",
       "      <th></th>\n",
       "      <th>id</th>\n",
       "      <th>name</th>\n",
       "      <th>host_id</th>\n",
       "      <th>host_name</th>\n",
       "      <th>neighbourhood_group</th>\n",
       "      <th>neighbourhood</th>\n",
       "      <th>latitude</th>\n",
       "      <th>longitude</th>\n",
       "      <th>room_type</th>\n",
       "      <th>price</th>\n",
       "      <th>minimum_nights</th>\n",
       "      <th>number_of_reviews</th>\n",
       "      <th>reviews_per_month</th>\n",
       "      <th>calculated_host_listings_count</th>\n",
       "      <th>availability_365</th>\n",
       "    </tr>\n",
       "  </thead>\n",
       "  <tbody>\n",
       "    <tr>\n",
       "      <th>0</th>\n",
       "      <td>2539</td>\n",
       "      <td>Clean &amp; quiet apt home by the park</td>\n",
       "      <td>2787</td>\n",
       "      <td>John</td>\n",
       "      <td>Brooklyn</td>\n",
       "      <td>Kensington</td>\n",
       "      <td>40.64749</td>\n",
       "      <td>-73.97237</td>\n",
       "      <td>Private room</td>\n",
       "      <td>149</td>\n",
       "      <td>1</td>\n",
       "      <td>9</td>\n",
       "      <td>0</td>\n",
       "      <td>6</td>\n",
       "      <td>365</td>\n",
       "    </tr>\n",
       "    <tr>\n",
       "      <th>1</th>\n",
       "      <td>2595</td>\n",
       "      <td>Skylit Midtown Castle</td>\n",
       "      <td>2845</td>\n",
       "      <td>Jennifer</td>\n",
       "      <td>Manhattan</td>\n",
       "      <td>Midtown</td>\n",
       "      <td>40.75362</td>\n",
       "      <td>-73.98377</td>\n",
       "      <td>Entire home/apt</td>\n",
       "      <td>225</td>\n",
       "      <td>1</td>\n",
       "      <td>45</td>\n",
       "      <td>0</td>\n",
       "      <td>2</td>\n",
       "      <td>355</td>\n",
       "    </tr>\n",
       "    <tr>\n",
       "      <th>2</th>\n",
       "      <td>3647</td>\n",
       "      <td>THE VILLAGE OF HARLEM....NEW YORK !</td>\n",
       "      <td>4632</td>\n",
       "      <td>Elisabeth</td>\n",
       "      <td>Manhattan</td>\n",
       "      <td>Harlem</td>\n",
       "      <td>40.80902</td>\n",
       "      <td>-73.94190</td>\n",
       "      <td>Private room</td>\n",
       "      <td>150</td>\n",
       "      <td>3</td>\n",
       "      <td>0</td>\n",
       "      <td>1</td>\n",
       "      <td>1</td>\n",
       "      <td>365</td>\n",
       "    </tr>\n",
       "    <tr>\n",
       "      <th>3</th>\n",
       "      <td>3831</td>\n",
       "      <td>Cozy Entire Floor of Brownstone</td>\n",
       "      <td>4869</td>\n",
       "      <td>LisaRoxanne</td>\n",
       "      <td>Brooklyn</td>\n",
       "      <td>Clinton Hill</td>\n",
       "      <td>40.68514</td>\n",
       "      <td>-73.95976</td>\n",
       "      <td>Entire home/apt</td>\n",
       "      <td>89</td>\n",
       "      <td>1</td>\n",
       "      <td>270</td>\n",
       "      <td>4</td>\n",
       "      <td>1</td>\n",
       "      <td>194</td>\n",
       "    </tr>\n",
       "    <tr>\n",
       "      <th>4</th>\n",
       "      <td>5022</td>\n",
       "      <td>Entire Apt: Spacious Studio/Loft by central park</td>\n",
       "      <td>7192</td>\n",
       "      <td>Laura</td>\n",
       "      <td>Manhattan</td>\n",
       "      <td>East Harlem</td>\n",
       "      <td>40.79851</td>\n",
       "      <td>-73.94399</td>\n",
       "      <td>Entire home/apt</td>\n",
       "      <td>80</td>\n",
       "      <td>10</td>\n",
       "      <td>9</td>\n",
       "      <td>0</td>\n",
       "      <td>1</td>\n",
       "      <td>0</td>\n",
       "    </tr>\n",
       "    <tr>\n",
       "      <th>...</th>\n",
       "      <td>...</td>\n",
       "      <td>...</td>\n",
       "      <td>...</td>\n",
       "      <td>...</td>\n",
       "      <td>...</td>\n",
       "      <td>...</td>\n",
       "      <td>...</td>\n",
       "      <td>...</td>\n",
       "      <td>...</td>\n",
       "      <td>...</td>\n",
       "      <td>...</td>\n",
       "      <td>...</td>\n",
       "      <td>...</td>\n",
       "      <td>...</td>\n",
       "      <td>...</td>\n",
       "    </tr>\n",
       "    <tr>\n",
       "      <th>48890</th>\n",
       "      <td>36484665</td>\n",
       "      <td>Charming one bedroom - newly renovated rowhouse</td>\n",
       "      <td>8232441</td>\n",
       "      <td>Sabrina</td>\n",
       "      <td>Brooklyn</td>\n",
       "      <td>Bedford-Stuyvesant</td>\n",
       "      <td>40.67853</td>\n",
       "      <td>-73.94995</td>\n",
       "      <td>Private room</td>\n",
       "      <td>70</td>\n",
       "      <td>2</td>\n",
       "      <td>0</td>\n",
       "      <td>1</td>\n",
       "      <td>2</td>\n",
       "      <td>9</td>\n",
       "    </tr>\n",
       "    <tr>\n",
       "      <th>48891</th>\n",
       "      <td>36485057</td>\n",
       "      <td>Affordable room in Bushwick/East Williamsburg</td>\n",
       "      <td>6570630</td>\n",
       "      <td>Marisol</td>\n",
       "      <td>Brooklyn</td>\n",
       "      <td>Bushwick</td>\n",
       "      <td>40.70184</td>\n",
       "      <td>-73.93317</td>\n",
       "      <td>Private room</td>\n",
       "      <td>40</td>\n",
       "      <td>4</td>\n",
       "      <td>0</td>\n",
       "      <td>1</td>\n",
       "      <td>2</td>\n",
       "      <td>36</td>\n",
       "    </tr>\n",
       "    <tr>\n",
       "      <th>48892</th>\n",
       "      <td>36485431</td>\n",
       "      <td>Sunny Studio at Historical Neighborhood</td>\n",
       "      <td>23492952</td>\n",
       "      <td>Ilgar &amp; Aysel</td>\n",
       "      <td>Manhattan</td>\n",
       "      <td>Harlem</td>\n",
       "      <td>40.81475</td>\n",
       "      <td>-73.94867</td>\n",
       "      <td>Entire home/apt</td>\n",
       "      <td>115</td>\n",
       "      <td>10</td>\n",
       "      <td>0</td>\n",
       "      <td>1</td>\n",
       "      <td>1</td>\n",
       "      <td>27</td>\n",
       "    </tr>\n",
       "    <tr>\n",
       "      <th>48893</th>\n",
       "      <td>36485609</td>\n",
       "      <td>43rd St. Time Square-cozy single bed</td>\n",
       "      <td>30985759</td>\n",
       "      <td>Taz</td>\n",
       "      <td>Manhattan</td>\n",
       "      <td>Hell's Kitchen</td>\n",
       "      <td>40.75751</td>\n",
       "      <td>-73.99112</td>\n",
       "      <td>Shared room</td>\n",
       "      <td>55</td>\n",
       "      <td>1</td>\n",
       "      <td>0</td>\n",
       "      <td>1</td>\n",
       "      <td>6</td>\n",
       "      <td>2</td>\n",
       "    </tr>\n",
       "    <tr>\n",
       "      <th>48894</th>\n",
       "      <td>36487245</td>\n",
       "      <td>Trendy duplex in the very heart of Hell's Kitchen</td>\n",
       "      <td>68119814</td>\n",
       "      <td>Christophe</td>\n",
       "      <td>Manhattan</td>\n",
       "      <td>Hell's Kitchen</td>\n",
       "      <td>40.76404</td>\n",
       "      <td>-73.98933</td>\n",
       "      <td>Private room</td>\n",
       "      <td>90</td>\n",
       "      <td>7</td>\n",
       "      <td>0</td>\n",
       "      <td>1</td>\n",
       "      <td>1</td>\n",
       "      <td>23</td>\n",
       "    </tr>\n",
       "  </tbody>\n",
       "</table>\n",
       "<p>48858 rows × 15 columns</p>\n",
       "</div>"
      ],
      "text/plain": [
       "             id                                               name   host_id  \\\n",
       "0          2539                 Clean & quiet apt home by the park      2787   \n",
       "1          2595                              Skylit Midtown Castle      2845   \n",
       "2          3647                THE VILLAGE OF HARLEM....NEW YORK !      4632   \n",
       "3          3831                    Cozy Entire Floor of Brownstone      4869   \n",
       "4          5022   Entire Apt: Spacious Studio/Loft by central park      7192   \n",
       "...         ...                                                ...       ...   \n",
       "48890  36484665    Charming one bedroom - newly renovated rowhouse   8232441   \n",
       "48891  36485057      Affordable room in Bushwick/East Williamsburg   6570630   \n",
       "48892  36485431            Sunny Studio at Historical Neighborhood  23492952   \n",
       "48893  36485609               43rd St. Time Square-cozy single bed  30985759   \n",
       "48894  36487245  Trendy duplex in the very heart of Hell's Kitchen  68119814   \n",
       "\n",
       "           host_name neighbourhood_group       neighbourhood  latitude  \\\n",
       "0               John            Brooklyn          Kensington  40.64749   \n",
       "1           Jennifer           Manhattan             Midtown  40.75362   \n",
       "2          Elisabeth           Manhattan              Harlem  40.80902   \n",
       "3        LisaRoxanne            Brooklyn        Clinton Hill  40.68514   \n",
       "4              Laura           Manhattan         East Harlem  40.79851   \n",
       "...              ...                 ...                 ...       ...   \n",
       "48890        Sabrina            Brooklyn  Bedford-Stuyvesant  40.67853   \n",
       "48891        Marisol            Brooklyn            Bushwick  40.70184   \n",
       "48892  Ilgar & Aysel           Manhattan              Harlem  40.81475   \n",
       "48893            Taz           Manhattan      Hell's Kitchen  40.75751   \n",
       "48894     Christophe           Manhattan      Hell's Kitchen  40.76404   \n",
       "\n",
       "       longitude        room_type  price  minimum_nights  number_of_reviews  \\\n",
       "0      -73.97237     Private room    149               1                  9   \n",
       "1      -73.98377  Entire home/apt    225               1                 45   \n",
       "2      -73.94190     Private room    150               3                  0   \n",
       "3      -73.95976  Entire home/apt     89               1                270   \n",
       "4      -73.94399  Entire home/apt     80              10                  9   \n",
       "...          ...              ...    ...             ...                ...   \n",
       "48890  -73.94995     Private room     70               2                  0   \n",
       "48891  -73.93317     Private room     40               4                  0   \n",
       "48892  -73.94867  Entire home/apt    115              10                  0   \n",
       "48893  -73.99112      Shared room     55               1                  0   \n",
       "48894  -73.98933     Private room     90               7                  0   \n",
       "\n",
       "       reviews_per_month  calculated_host_listings_count  availability_365  \n",
       "0                      0                               6               365  \n",
       "1                      0                               2               355  \n",
       "2                      1                               1               365  \n",
       "3                      4                               1               194  \n",
       "4                      0                               1                 0  \n",
       "...                  ...                             ...               ...  \n",
       "48890                  1                               2                 9  \n",
       "48891                  1                               2                36  \n",
       "48892                  1                               1                27  \n",
       "48893                  1                               6                 2  \n",
       "48894                  1                               1                23  \n",
       "\n",
       "[48858 rows x 15 columns]"
      ]
     },
     "execution_count": 15,
     "metadata": {},
     "output_type": "execute_result"
    }
   ],
   "source": [
    "print((\"*\")*120)\n",
    "print(\"\\t\\t\\t\\tDroping null rows of columns name and host_name\")\n",
    "print((\"*\")*120)\n",
    "p.dropna(inplace=True)\n",
    "p"
   ]
  },
  {
   "cell_type": "code",
   "execution_count": null,
   "id": "d8439d6a",
   "metadata": {},
   "outputs": [],
   "source": []
  },
  {
   "cell_type": "code",
   "execution_count": 16,
   "id": "4b01097e",
   "metadata": {},
   "outputs": [
    {
     "name": "stdout",
     "output_type": "stream",
     "text": [
      "************************************************************************************************************************\n",
      "\t\t\t\tDROPING COLUMN id AS IT IS NOT REQURIED IN MY ANALYSIS\n",
      "************************************************************************************************************************\n"
     ]
    },
    {
     "data": {
      "text/html": [
       "<div>\n",
       "<style scoped>\n",
       "    .dataframe tbody tr th:only-of-type {\n",
       "        vertical-align: middle;\n",
       "    }\n",
       "\n",
       "    .dataframe tbody tr th {\n",
       "        vertical-align: top;\n",
       "    }\n",
       "\n",
       "    .dataframe thead th {\n",
       "        text-align: right;\n",
       "    }\n",
       "</style>\n",
       "<table border=\"1\" class=\"dataframe\">\n",
       "  <thead>\n",
       "    <tr style=\"text-align: right;\">\n",
       "      <th></th>\n",
       "      <th>name</th>\n",
       "      <th>host_id</th>\n",
       "      <th>host_name</th>\n",
       "      <th>neighbourhood_group</th>\n",
       "      <th>neighbourhood</th>\n",
       "      <th>latitude</th>\n",
       "      <th>longitude</th>\n",
       "      <th>room_type</th>\n",
       "      <th>price</th>\n",
       "      <th>minimum_nights</th>\n",
       "      <th>number_of_reviews</th>\n",
       "      <th>reviews_per_month</th>\n",
       "      <th>calculated_host_listings_count</th>\n",
       "      <th>availability_365</th>\n",
       "    </tr>\n",
       "  </thead>\n",
       "  <tbody>\n",
       "    <tr>\n",
       "      <th>0</th>\n",
       "      <td>Clean &amp; quiet apt home by the park</td>\n",
       "      <td>2787</td>\n",
       "      <td>John</td>\n",
       "      <td>Brooklyn</td>\n",
       "      <td>Kensington</td>\n",
       "      <td>40.64749</td>\n",
       "      <td>-73.97237</td>\n",
       "      <td>Private room</td>\n",
       "      <td>149</td>\n",
       "      <td>1</td>\n",
       "      <td>9</td>\n",
       "      <td>0</td>\n",
       "      <td>6</td>\n",
       "      <td>365</td>\n",
       "    </tr>\n",
       "    <tr>\n",
       "      <th>1</th>\n",
       "      <td>Skylit Midtown Castle</td>\n",
       "      <td>2845</td>\n",
       "      <td>Jennifer</td>\n",
       "      <td>Manhattan</td>\n",
       "      <td>Midtown</td>\n",
       "      <td>40.75362</td>\n",
       "      <td>-73.98377</td>\n",
       "      <td>Entire home/apt</td>\n",
       "      <td>225</td>\n",
       "      <td>1</td>\n",
       "      <td>45</td>\n",
       "      <td>0</td>\n",
       "      <td>2</td>\n",
       "      <td>355</td>\n",
       "    </tr>\n",
       "    <tr>\n",
       "      <th>2</th>\n",
       "      <td>THE VILLAGE OF HARLEM....NEW YORK !</td>\n",
       "      <td>4632</td>\n",
       "      <td>Elisabeth</td>\n",
       "      <td>Manhattan</td>\n",
       "      <td>Harlem</td>\n",
       "      <td>40.80902</td>\n",
       "      <td>-73.94190</td>\n",
       "      <td>Private room</td>\n",
       "      <td>150</td>\n",
       "      <td>3</td>\n",
       "      <td>0</td>\n",
       "      <td>1</td>\n",
       "      <td>1</td>\n",
       "      <td>365</td>\n",
       "    </tr>\n",
       "    <tr>\n",
       "      <th>3</th>\n",
       "      <td>Cozy Entire Floor of Brownstone</td>\n",
       "      <td>4869</td>\n",
       "      <td>LisaRoxanne</td>\n",
       "      <td>Brooklyn</td>\n",
       "      <td>Clinton Hill</td>\n",
       "      <td>40.68514</td>\n",
       "      <td>-73.95976</td>\n",
       "      <td>Entire home/apt</td>\n",
       "      <td>89</td>\n",
       "      <td>1</td>\n",
       "      <td>270</td>\n",
       "      <td>4</td>\n",
       "      <td>1</td>\n",
       "      <td>194</td>\n",
       "    </tr>\n",
       "    <tr>\n",
       "      <th>4</th>\n",
       "      <td>Entire Apt: Spacious Studio/Loft by central park</td>\n",
       "      <td>7192</td>\n",
       "      <td>Laura</td>\n",
       "      <td>Manhattan</td>\n",
       "      <td>East Harlem</td>\n",
       "      <td>40.79851</td>\n",
       "      <td>-73.94399</td>\n",
       "      <td>Entire home/apt</td>\n",
       "      <td>80</td>\n",
       "      <td>10</td>\n",
       "      <td>9</td>\n",
       "      <td>0</td>\n",
       "      <td>1</td>\n",
       "      <td>0</td>\n",
       "    </tr>\n",
       "    <tr>\n",
       "      <th>...</th>\n",
       "      <td>...</td>\n",
       "      <td>...</td>\n",
       "      <td>...</td>\n",
       "      <td>...</td>\n",
       "      <td>...</td>\n",
       "      <td>...</td>\n",
       "      <td>...</td>\n",
       "      <td>...</td>\n",
       "      <td>...</td>\n",
       "      <td>...</td>\n",
       "      <td>...</td>\n",
       "      <td>...</td>\n",
       "      <td>...</td>\n",
       "      <td>...</td>\n",
       "    </tr>\n",
       "    <tr>\n",
       "      <th>48890</th>\n",
       "      <td>Charming one bedroom - newly renovated rowhouse</td>\n",
       "      <td>8232441</td>\n",
       "      <td>Sabrina</td>\n",
       "      <td>Brooklyn</td>\n",
       "      <td>Bedford-Stuyvesant</td>\n",
       "      <td>40.67853</td>\n",
       "      <td>-73.94995</td>\n",
       "      <td>Private room</td>\n",
       "      <td>70</td>\n",
       "      <td>2</td>\n",
       "      <td>0</td>\n",
       "      <td>1</td>\n",
       "      <td>2</td>\n",
       "      <td>9</td>\n",
       "    </tr>\n",
       "    <tr>\n",
       "      <th>48891</th>\n",
       "      <td>Affordable room in Bushwick/East Williamsburg</td>\n",
       "      <td>6570630</td>\n",
       "      <td>Marisol</td>\n",
       "      <td>Brooklyn</td>\n",
       "      <td>Bushwick</td>\n",
       "      <td>40.70184</td>\n",
       "      <td>-73.93317</td>\n",
       "      <td>Private room</td>\n",
       "      <td>40</td>\n",
       "      <td>4</td>\n",
       "      <td>0</td>\n",
       "      <td>1</td>\n",
       "      <td>2</td>\n",
       "      <td>36</td>\n",
       "    </tr>\n",
       "    <tr>\n",
       "      <th>48892</th>\n",
       "      <td>Sunny Studio at Historical Neighborhood</td>\n",
       "      <td>23492952</td>\n",
       "      <td>Ilgar &amp; Aysel</td>\n",
       "      <td>Manhattan</td>\n",
       "      <td>Harlem</td>\n",
       "      <td>40.81475</td>\n",
       "      <td>-73.94867</td>\n",
       "      <td>Entire home/apt</td>\n",
       "      <td>115</td>\n",
       "      <td>10</td>\n",
       "      <td>0</td>\n",
       "      <td>1</td>\n",
       "      <td>1</td>\n",
       "      <td>27</td>\n",
       "    </tr>\n",
       "    <tr>\n",
       "      <th>48893</th>\n",
       "      <td>43rd St. Time Square-cozy single bed</td>\n",
       "      <td>30985759</td>\n",
       "      <td>Taz</td>\n",
       "      <td>Manhattan</td>\n",
       "      <td>Hell's Kitchen</td>\n",
       "      <td>40.75751</td>\n",
       "      <td>-73.99112</td>\n",
       "      <td>Shared room</td>\n",
       "      <td>55</td>\n",
       "      <td>1</td>\n",
       "      <td>0</td>\n",
       "      <td>1</td>\n",
       "      <td>6</td>\n",
       "      <td>2</td>\n",
       "    </tr>\n",
       "    <tr>\n",
       "      <th>48894</th>\n",
       "      <td>Trendy duplex in the very heart of Hell's Kitchen</td>\n",
       "      <td>68119814</td>\n",
       "      <td>Christophe</td>\n",
       "      <td>Manhattan</td>\n",
       "      <td>Hell's Kitchen</td>\n",
       "      <td>40.76404</td>\n",
       "      <td>-73.98933</td>\n",
       "      <td>Private room</td>\n",
       "      <td>90</td>\n",
       "      <td>7</td>\n",
       "      <td>0</td>\n",
       "      <td>1</td>\n",
       "      <td>1</td>\n",
       "      <td>23</td>\n",
       "    </tr>\n",
       "  </tbody>\n",
       "</table>\n",
       "<p>48858 rows × 14 columns</p>\n",
       "</div>"
      ],
      "text/plain": [
       "                                                    name   host_id  \\\n",
       "0                     Clean & quiet apt home by the park      2787   \n",
       "1                                  Skylit Midtown Castle      2845   \n",
       "2                    THE VILLAGE OF HARLEM....NEW YORK !      4632   \n",
       "3                        Cozy Entire Floor of Brownstone      4869   \n",
       "4       Entire Apt: Spacious Studio/Loft by central park      7192   \n",
       "...                                                  ...       ...   \n",
       "48890    Charming one bedroom - newly renovated rowhouse   8232441   \n",
       "48891      Affordable room in Bushwick/East Williamsburg   6570630   \n",
       "48892            Sunny Studio at Historical Neighborhood  23492952   \n",
       "48893               43rd St. Time Square-cozy single bed  30985759   \n",
       "48894  Trendy duplex in the very heart of Hell's Kitchen  68119814   \n",
       "\n",
       "           host_name neighbourhood_group       neighbourhood  latitude  \\\n",
       "0               John            Brooklyn          Kensington  40.64749   \n",
       "1           Jennifer           Manhattan             Midtown  40.75362   \n",
       "2          Elisabeth           Manhattan              Harlem  40.80902   \n",
       "3        LisaRoxanne            Brooklyn        Clinton Hill  40.68514   \n",
       "4              Laura           Manhattan         East Harlem  40.79851   \n",
       "...              ...                 ...                 ...       ...   \n",
       "48890        Sabrina            Brooklyn  Bedford-Stuyvesant  40.67853   \n",
       "48891        Marisol            Brooklyn            Bushwick  40.70184   \n",
       "48892  Ilgar & Aysel           Manhattan              Harlem  40.81475   \n",
       "48893            Taz           Manhattan      Hell's Kitchen  40.75751   \n",
       "48894     Christophe           Manhattan      Hell's Kitchen  40.76404   \n",
       "\n",
       "       longitude        room_type  price  minimum_nights  number_of_reviews  \\\n",
       "0      -73.97237     Private room    149               1                  9   \n",
       "1      -73.98377  Entire home/apt    225               1                 45   \n",
       "2      -73.94190     Private room    150               3                  0   \n",
       "3      -73.95976  Entire home/apt     89               1                270   \n",
       "4      -73.94399  Entire home/apt     80              10                  9   \n",
       "...          ...              ...    ...             ...                ...   \n",
       "48890  -73.94995     Private room     70               2                  0   \n",
       "48891  -73.93317     Private room     40               4                  0   \n",
       "48892  -73.94867  Entire home/apt    115              10                  0   \n",
       "48893  -73.99112      Shared room     55               1                  0   \n",
       "48894  -73.98933     Private room     90               7                  0   \n",
       "\n",
       "       reviews_per_month  calculated_host_listings_count  availability_365  \n",
       "0                      0                               6               365  \n",
       "1                      0                               2               355  \n",
       "2                      1                               1               365  \n",
       "3                      4                               1               194  \n",
       "4                      0                               1                 0  \n",
       "...                  ...                             ...               ...  \n",
       "48890                  1                               2                 9  \n",
       "48891                  1                               2                36  \n",
       "48892                  1                               1                27  \n",
       "48893                  1                               6                 2  \n",
       "48894                  1                               1                23  \n",
       "\n",
       "[48858 rows x 14 columns]"
      ]
     },
     "execution_count": 16,
     "metadata": {},
     "output_type": "execute_result"
    }
   ],
   "source": [
    "print((\"*\")*120)\n",
    "print(\"\\t\\t\\t\\tDROPING COLUMN id AS IT IS NOT REQURIED IN MY ANALYSIS\")\n",
    "print((\"*\")*120)\n",
    "p.drop([\"id\"],axis=1,inplace=True)\n",
    "p"
   ]
  },
  {
   "cell_type": "code",
   "execution_count": null,
   "id": "a036da02",
   "metadata": {},
   "outputs": [],
   "source": []
  },
  {
   "cell_type": "code",
   "execution_count": 17,
   "id": "5840e409",
   "metadata": {},
   "outputs": [
    {
     "name": "stdout",
     "output_type": "stream",
     "text": [
      "************************************************************************************************************************\n",
      "\t\t\t\tNOW RESETING INDEX TO GET DEFAULT INDEXES.\n",
      "************************************************************************************************************************\n"
     ]
    },
    {
     "data": {
      "text/html": [
       "<div>\n",
       "<style scoped>\n",
       "    .dataframe tbody tr th:only-of-type {\n",
       "        vertical-align: middle;\n",
       "    }\n",
       "\n",
       "    .dataframe tbody tr th {\n",
       "        vertical-align: top;\n",
       "    }\n",
       "\n",
       "    .dataframe thead th {\n",
       "        text-align: right;\n",
       "    }\n",
       "</style>\n",
       "<table border=\"1\" class=\"dataframe\">\n",
       "  <thead>\n",
       "    <tr style=\"text-align: right;\">\n",
       "      <th></th>\n",
       "      <th>name</th>\n",
       "      <th>host_id</th>\n",
       "      <th>host_name</th>\n",
       "      <th>neighbourhood_group</th>\n",
       "      <th>neighbourhood</th>\n",
       "      <th>latitude</th>\n",
       "      <th>longitude</th>\n",
       "      <th>room_type</th>\n",
       "      <th>price</th>\n",
       "      <th>minimum_nights</th>\n",
       "      <th>number_of_reviews</th>\n",
       "      <th>reviews_per_month</th>\n",
       "      <th>calculated_host_listings_count</th>\n",
       "      <th>availability_365</th>\n",
       "    </tr>\n",
       "  </thead>\n",
       "  <tbody>\n",
       "    <tr>\n",
       "      <th>0</th>\n",
       "      <td>Clean &amp; quiet apt home by the park</td>\n",
       "      <td>2787</td>\n",
       "      <td>John</td>\n",
       "      <td>Brooklyn</td>\n",
       "      <td>Kensington</td>\n",
       "      <td>40.64749</td>\n",
       "      <td>-73.97237</td>\n",
       "      <td>Private room</td>\n",
       "      <td>149</td>\n",
       "      <td>1</td>\n",
       "      <td>9</td>\n",
       "      <td>0</td>\n",
       "      <td>6</td>\n",
       "      <td>365</td>\n",
       "    </tr>\n",
       "    <tr>\n",
       "      <th>1</th>\n",
       "      <td>Skylit Midtown Castle</td>\n",
       "      <td>2845</td>\n",
       "      <td>Jennifer</td>\n",
       "      <td>Manhattan</td>\n",
       "      <td>Midtown</td>\n",
       "      <td>40.75362</td>\n",
       "      <td>-73.98377</td>\n",
       "      <td>Entire home/apt</td>\n",
       "      <td>225</td>\n",
       "      <td>1</td>\n",
       "      <td>45</td>\n",
       "      <td>0</td>\n",
       "      <td>2</td>\n",
       "      <td>355</td>\n",
       "    </tr>\n",
       "    <tr>\n",
       "      <th>2</th>\n",
       "      <td>THE VILLAGE OF HARLEM....NEW YORK !</td>\n",
       "      <td>4632</td>\n",
       "      <td>Elisabeth</td>\n",
       "      <td>Manhattan</td>\n",
       "      <td>Harlem</td>\n",
       "      <td>40.80902</td>\n",
       "      <td>-73.94190</td>\n",
       "      <td>Private room</td>\n",
       "      <td>150</td>\n",
       "      <td>3</td>\n",
       "      <td>0</td>\n",
       "      <td>1</td>\n",
       "      <td>1</td>\n",
       "      <td>365</td>\n",
       "    </tr>\n",
       "    <tr>\n",
       "      <th>3</th>\n",
       "      <td>Cozy Entire Floor of Brownstone</td>\n",
       "      <td>4869</td>\n",
       "      <td>LisaRoxanne</td>\n",
       "      <td>Brooklyn</td>\n",
       "      <td>Clinton Hill</td>\n",
       "      <td>40.68514</td>\n",
       "      <td>-73.95976</td>\n",
       "      <td>Entire home/apt</td>\n",
       "      <td>89</td>\n",
       "      <td>1</td>\n",
       "      <td>270</td>\n",
       "      <td>4</td>\n",
       "      <td>1</td>\n",
       "      <td>194</td>\n",
       "    </tr>\n",
       "    <tr>\n",
       "      <th>4</th>\n",
       "      <td>Entire Apt: Spacious Studio/Loft by central park</td>\n",
       "      <td>7192</td>\n",
       "      <td>Laura</td>\n",
       "      <td>Manhattan</td>\n",
       "      <td>East Harlem</td>\n",
       "      <td>40.79851</td>\n",
       "      <td>-73.94399</td>\n",
       "      <td>Entire home/apt</td>\n",
       "      <td>80</td>\n",
       "      <td>10</td>\n",
       "      <td>9</td>\n",
       "      <td>0</td>\n",
       "      <td>1</td>\n",
       "      <td>0</td>\n",
       "    </tr>\n",
       "    <tr>\n",
       "      <th>...</th>\n",
       "      <td>...</td>\n",
       "      <td>...</td>\n",
       "      <td>...</td>\n",
       "      <td>...</td>\n",
       "      <td>...</td>\n",
       "      <td>...</td>\n",
       "      <td>...</td>\n",
       "      <td>...</td>\n",
       "      <td>...</td>\n",
       "      <td>...</td>\n",
       "      <td>...</td>\n",
       "      <td>...</td>\n",
       "      <td>...</td>\n",
       "      <td>...</td>\n",
       "    </tr>\n",
       "    <tr>\n",
       "      <th>48853</th>\n",
       "      <td>Charming one bedroom - newly renovated rowhouse</td>\n",
       "      <td>8232441</td>\n",
       "      <td>Sabrina</td>\n",
       "      <td>Brooklyn</td>\n",
       "      <td>Bedford-Stuyvesant</td>\n",
       "      <td>40.67853</td>\n",
       "      <td>-73.94995</td>\n",
       "      <td>Private room</td>\n",
       "      <td>70</td>\n",
       "      <td>2</td>\n",
       "      <td>0</td>\n",
       "      <td>1</td>\n",
       "      <td>2</td>\n",
       "      <td>9</td>\n",
       "    </tr>\n",
       "    <tr>\n",
       "      <th>48854</th>\n",
       "      <td>Affordable room in Bushwick/East Williamsburg</td>\n",
       "      <td>6570630</td>\n",
       "      <td>Marisol</td>\n",
       "      <td>Brooklyn</td>\n",
       "      <td>Bushwick</td>\n",
       "      <td>40.70184</td>\n",
       "      <td>-73.93317</td>\n",
       "      <td>Private room</td>\n",
       "      <td>40</td>\n",
       "      <td>4</td>\n",
       "      <td>0</td>\n",
       "      <td>1</td>\n",
       "      <td>2</td>\n",
       "      <td>36</td>\n",
       "    </tr>\n",
       "    <tr>\n",
       "      <th>48855</th>\n",
       "      <td>Sunny Studio at Historical Neighborhood</td>\n",
       "      <td>23492952</td>\n",
       "      <td>Ilgar &amp; Aysel</td>\n",
       "      <td>Manhattan</td>\n",
       "      <td>Harlem</td>\n",
       "      <td>40.81475</td>\n",
       "      <td>-73.94867</td>\n",
       "      <td>Entire home/apt</td>\n",
       "      <td>115</td>\n",
       "      <td>10</td>\n",
       "      <td>0</td>\n",
       "      <td>1</td>\n",
       "      <td>1</td>\n",
       "      <td>27</td>\n",
       "    </tr>\n",
       "    <tr>\n",
       "      <th>48856</th>\n",
       "      <td>43rd St. Time Square-cozy single bed</td>\n",
       "      <td>30985759</td>\n",
       "      <td>Taz</td>\n",
       "      <td>Manhattan</td>\n",
       "      <td>Hell's Kitchen</td>\n",
       "      <td>40.75751</td>\n",
       "      <td>-73.99112</td>\n",
       "      <td>Shared room</td>\n",
       "      <td>55</td>\n",
       "      <td>1</td>\n",
       "      <td>0</td>\n",
       "      <td>1</td>\n",
       "      <td>6</td>\n",
       "      <td>2</td>\n",
       "    </tr>\n",
       "    <tr>\n",
       "      <th>48857</th>\n",
       "      <td>Trendy duplex in the very heart of Hell's Kitchen</td>\n",
       "      <td>68119814</td>\n",
       "      <td>Christophe</td>\n",
       "      <td>Manhattan</td>\n",
       "      <td>Hell's Kitchen</td>\n",
       "      <td>40.76404</td>\n",
       "      <td>-73.98933</td>\n",
       "      <td>Private room</td>\n",
       "      <td>90</td>\n",
       "      <td>7</td>\n",
       "      <td>0</td>\n",
       "      <td>1</td>\n",
       "      <td>1</td>\n",
       "      <td>23</td>\n",
       "    </tr>\n",
       "  </tbody>\n",
       "</table>\n",
       "<p>48858 rows × 14 columns</p>\n",
       "</div>"
      ],
      "text/plain": [
       "                                                    name   host_id  \\\n",
       "0                     Clean & quiet apt home by the park      2787   \n",
       "1                                  Skylit Midtown Castle      2845   \n",
       "2                    THE VILLAGE OF HARLEM....NEW YORK !      4632   \n",
       "3                        Cozy Entire Floor of Brownstone      4869   \n",
       "4       Entire Apt: Spacious Studio/Loft by central park      7192   \n",
       "...                                                  ...       ...   \n",
       "48853    Charming one bedroom - newly renovated rowhouse   8232441   \n",
       "48854      Affordable room in Bushwick/East Williamsburg   6570630   \n",
       "48855            Sunny Studio at Historical Neighborhood  23492952   \n",
       "48856               43rd St. Time Square-cozy single bed  30985759   \n",
       "48857  Trendy duplex in the very heart of Hell's Kitchen  68119814   \n",
       "\n",
       "           host_name neighbourhood_group       neighbourhood  latitude  \\\n",
       "0               John            Brooklyn          Kensington  40.64749   \n",
       "1           Jennifer           Manhattan             Midtown  40.75362   \n",
       "2          Elisabeth           Manhattan              Harlem  40.80902   \n",
       "3        LisaRoxanne            Brooklyn        Clinton Hill  40.68514   \n",
       "4              Laura           Manhattan         East Harlem  40.79851   \n",
       "...              ...                 ...                 ...       ...   \n",
       "48853        Sabrina            Brooklyn  Bedford-Stuyvesant  40.67853   \n",
       "48854        Marisol            Brooklyn            Bushwick  40.70184   \n",
       "48855  Ilgar & Aysel           Manhattan              Harlem  40.81475   \n",
       "48856            Taz           Manhattan      Hell's Kitchen  40.75751   \n",
       "48857     Christophe           Manhattan      Hell's Kitchen  40.76404   \n",
       "\n",
       "       longitude        room_type  price  minimum_nights  number_of_reviews  \\\n",
       "0      -73.97237     Private room    149               1                  9   \n",
       "1      -73.98377  Entire home/apt    225               1                 45   \n",
       "2      -73.94190     Private room    150               3                  0   \n",
       "3      -73.95976  Entire home/apt     89               1                270   \n",
       "4      -73.94399  Entire home/apt     80              10                  9   \n",
       "...          ...              ...    ...             ...                ...   \n",
       "48853  -73.94995     Private room     70               2                  0   \n",
       "48854  -73.93317     Private room     40               4                  0   \n",
       "48855  -73.94867  Entire home/apt    115              10                  0   \n",
       "48856  -73.99112      Shared room     55               1                  0   \n",
       "48857  -73.98933     Private room     90               7                  0   \n",
       "\n",
       "       reviews_per_month  calculated_host_listings_count  availability_365  \n",
       "0                      0                               6               365  \n",
       "1                      0                               2               355  \n",
       "2                      1                               1               365  \n",
       "3                      4                               1               194  \n",
       "4                      0                               1                 0  \n",
       "...                  ...                             ...               ...  \n",
       "48853                  1                               2                 9  \n",
       "48854                  1                               2                36  \n",
       "48855                  1                               1                27  \n",
       "48856                  1                               6                 2  \n",
       "48857                  1                               1                23  \n",
       "\n",
       "[48858 rows x 14 columns]"
      ]
     },
     "execution_count": 17,
     "metadata": {},
     "output_type": "execute_result"
    }
   ],
   "source": [
    "print((\"*\")*120)\n",
    "print(\"\\t\\t\\t\\tNOW RESETING INDEX TO GET DEFAULT INDEXES.\")\n",
    "print((\"*\")*120)\n",
    "p.reset_index(drop=True,inplace=True)\n",
    "p"
   ]
  },
  {
   "cell_type": "code",
   "execution_count": null,
   "id": "8e34263d",
   "metadata": {},
   "outputs": [],
   "source": []
  },
  {
   "cell_type": "code",
   "execution_count": 18,
   "id": "554292da",
   "metadata": {},
   "outputs": [
    {
     "name": "stdout",
     "output_type": "stream",
     "text": [
      "************************************************************************************************************************\n",
      "\t\t\t\tI HAVE CLEANED ALL NULL VALUES AND UNWANTED COLUMNS FROM MY DATA SET.\n",
      "************************************************************************************************************************\n"
     ]
    },
    {
     "data": {
      "text/plain": [
       "name                              0.0\n",
       "host_id                           0.0\n",
       "host_name                         0.0\n",
       "neighbourhood_group               0.0\n",
       "neighbourhood                     0.0\n",
       "latitude                          0.0\n",
       "longitude                         0.0\n",
       "room_type                         0.0\n",
       "price                             0.0\n",
       "minimum_nights                    0.0\n",
       "number_of_reviews                 0.0\n",
       "reviews_per_month                 0.0\n",
       "calculated_host_listings_count    0.0\n",
       "availability_365                  0.0\n",
       "dtype: float64"
      ]
     },
     "execution_count": 18,
     "metadata": {},
     "output_type": "execute_result"
    }
   ],
   "source": [
    "print((\"*\")*120)\n",
    "print(\"\\t\\t\\t\\tI HAVE CLEANED ALL NULL VALUES AND UNWANTED COLUMNS FROM MY DATA SET.\")\n",
    "print((\"*\")*120)\n",
    "p.isnull().sum()/len(p)*100"
   ]
  },
  {
   "cell_type": "code",
   "execution_count": null,
   "id": "2fb72ed4",
   "metadata": {},
   "outputs": [],
   "source": []
  },
  {
   "cell_type": "markdown",
   "id": "3f849365",
   "metadata": {},
   "source": [
    "# Removing outliers from price column for better analysis "
   ]
  },
  {
   "cell_type": "markdown",
   "id": "29d446c3",
   "metadata": {},
   "source": [
    "# USING QUANTILE METHOD"
   ]
  },
  {
   "cell_type": "code",
   "execution_count": 19,
   "id": "c914049c",
   "metadata": {},
   "outputs": [
    {
     "data": {
      "text/plain": [
       "0.0"
      ]
     },
     "execution_count": 19,
     "metadata": {},
     "output_type": "execute_result"
    }
   ],
   "source": [
    "m1=p.price.quantile(0)\n",
    "m1"
   ]
  },
  {
   "cell_type": "code",
   "execution_count": 20,
   "id": "8724b03b",
   "metadata": {},
   "outputs": [
    {
     "data": {
      "text/plain": [
       "69.0"
      ]
     },
     "execution_count": 20,
     "metadata": {},
     "output_type": "execute_result"
    }
   ],
   "source": [
    "q1=p.price.quantile(0.25)\n",
    "q1"
   ]
  },
  {
   "cell_type": "code",
   "execution_count": 21,
   "id": "18d436de",
   "metadata": {},
   "outputs": [
    {
     "data": {
      "text/plain": [
       "106.0"
      ]
     },
     "execution_count": 21,
     "metadata": {},
     "output_type": "execute_result"
    }
   ],
   "source": [
    "q2=p.price.quantile(0.50)\n",
    "q2"
   ]
  },
  {
   "cell_type": "code",
   "execution_count": 22,
   "id": "571599c1",
   "metadata": {},
   "outputs": [
    {
     "data": {
      "text/plain": [
       "175.0"
      ]
     },
     "execution_count": 22,
     "metadata": {},
     "output_type": "execute_result"
    }
   ],
   "source": [
    "q3=p.price.quantile(0.75)\n",
    "q3"
   ]
  },
  {
   "cell_type": "code",
   "execution_count": 23,
   "id": "2e01d594",
   "metadata": {},
   "outputs": [
    {
     "data": {
      "text/plain": [
       "10000.0"
      ]
     },
     "execution_count": 23,
     "metadata": {},
     "output_type": "execute_result"
    }
   ],
   "source": [
    "m2=p.price.quantile(1)\n",
    "m2"
   ]
  },
  {
   "cell_type": "code",
   "execution_count": 24,
   "id": "01c05e53",
   "metadata": {},
   "outputs": [
    {
     "data": {
      "text/plain": [
       "106.0"
      ]
     },
     "execution_count": 24,
     "metadata": {},
     "output_type": "execute_result"
    }
   ],
   "source": [
    "IQR=q3-q1\n",
    "IQR"
   ]
  },
  {
   "cell_type": "code",
   "execution_count": 25,
   "id": "7ec7b295",
   "metadata": {},
   "outputs": [
    {
     "data": {
      "text/plain": [
       "-90.0"
      ]
     },
     "execution_count": 25,
     "metadata": {},
     "output_type": "execute_result"
    }
   ],
   "source": [
    "LF=q1-1.5*IQR\n",
    "LF"
   ]
  },
  {
   "cell_type": "code",
   "execution_count": 26,
   "id": "6130e790",
   "metadata": {},
   "outputs": [
    {
     "data": {
      "text/plain": [
       "334.0"
      ]
     },
     "execution_count": 26,
     "metadata": {},
     "output_type": "execute_result"
    }
   ],
   "source": [
    "UF=q3+1.5*IQR\n",
    "UF"
   ]
  },
  {
   "cell_type": "code",
   "execution_count": 27,
   "id": "f0a7f856",
   "metadata": {},
   "outputs": [
    {
     "data": {
      "text/html": [
       "<div>\n",
       "<style scoped>\n",
       "    .dataframe tbody tr th:only-of-type {\n",
       "        vertical-align: middle;\n",
       "    }\n",
       "\n",
       "    .dataframe tbody tr th {\n",
       "        vertical-align: top;\n",
       "    }\n",
       "\n",
       "    .dataframe thead th {\n",
       "        text-align: right;\n",
       "    }\n",
       "</style>\n",
       "<table border=\"1\" class=\"dataframe\">\n",
       "  <thead>\n",
       "    <tr style=\"text-align: right;\">\n",
       "      <th></th>\n",
       "      <th>name</th>\n",
       "      <th>host_id</th>\n",
       "      <th>host_name</th>\n",
       "      <th>neighbourhood_group</th>\n",
       "      <th>neighbourhood</th>\n",
       "      <th>latitude</th>\n",
       "      <th>longitude</th>\n",
       "      <th>room_type</th>\n",
       "      <th>price</th>\n",
       "      <th>minimum_nights</th>\n",
       "      <th>number_of_reviews</th>\n",
       "      <th>reviews_per_month</th>\n",
       "      <th>calculated_host_listings_count</th>\n",
       "      <th>availability_365</th>\n",
       "    </tr>\n",
       "  </thead>\n",
       "  <tbody>\n",
       "    <tr>\n",
       "      <th>61</th>\n",
       "      <td>Sunny &amp; Spacious Chelsea Apartment</td>\n",
       "      <td>60278</td>\n",
       "      <td>Petra</td>\n",
       "      <td>Manhattan</td>\n",
       "      <td>Chelsea</td>\n",
       "      <td>40.74623</td>\n",
       "      <td>-73.99530</td>\n",
       "      <td>Entire home/apt</td>\n",
       "      <td>375</td>\n",
       "      <td>180</td>\n",
       "      <td>5</td>\n",
       "      <td>0</td>\n",
       "      <td>1</td>\n",
       "      <td>180</td>\n",
       "    </tr>\n",
       "    <tr>\n",
       "      <th>85</th>\n",
       "      <td>perfect for a family or small group</td>\n",
       "      <td>74303</td>\n",
       "      <td>Maggie</td>\n",
       "      <td>Brooklyn</td>\n",
       "      <td>Brooklyn Heights</td>\n",
       "      <td>40.69723</td>\n",
       "      <td>-73.99268</td>\n",
       "      <td>Entire home/apt</td>\n",
       "      <td>800</td>\n",
       "      <td>1</td>\n",
       "      <td>25</td>\n",
       "      <td>0</td>\n",
       "      <td>1</td>\n",
       "      <td>7</td>\n",
       "    </tr>\n",
       "    <tr>\n",
       "      <th>103</th>\n",
       "      <td>2000 SF 3br 2bath West Village private  townhouse</td>\n",
       "      <td>93790</td>\n",
       "      <td>Ann</td>\n",
       "      <td>Manhattan</td>\n",
       "      <td>West Village</td>\n",
       "      <td>40.73096</td>\n",
       "      <td>-74.00319</td>\n",
       "      <td>Entire home/apt</td>\n",
       "      <td>500</td>\n",
       "      <td>4</td>\n",
       "      <td>46</td>\n",
       "      <td>0</td>\n",
       "      <td>2</td>\n",
       "      <td>243</td>\n",
       "    </tr>\n",
       "    <tr>\n",
       "      <th>114</th>\n",
       "      <td>2 BR / 2 Bath Duplex Apt with patio! East Village</td>\n",
       "      <td>72062</td>\n",
       "      <td>Bruce</td>\n",
       "      <td>Manhattan</td>\n",
       "      <td>East Village</td>\n",
       "      <td>40.72540</td>\n",
       "      <td>-73.98157</td>\n",
       "      <td>Entire home/apt</td>\n",
       "      <td>350</td>\n",
       "      <td>2</td>\n",
       "      <td>7</td>\n",
       "      <td>0</td>\n",
       "      <td>4</td>\n",
       "      <td>298</td>\n",
       "    </tr>\n",
       "    <tr>\n",
       "      <th>121</th>\n",
       "      <td>3 Story Town House in Park Slope</td>\n",
       "      <td>119588</td>\n",
       "      <td>Vero</td>\n",
       "      <td>Brooklyn</td>\n",
       "      <td>South Slope</td>\n",
       "      <td>40.66499</td>\n",
       "      <td>-73.97925</td>\n",
       "      <td>Entire home/apt</td>\n",
       "      <td>400</td>\n",
       "      <td>2</td>\n",
       "      <td>16</td>\n",
       "      <td>0</td>\n",
       "      <td>2</td>\n",
       "      <td>216</td>\n",
       "    </tr>\n",
       "    <tr>\n",
       "      <th>...</th>\n",
       "      <td>...</td>\n",
       "      <td>...</td>\n",
       "      <td>...</td>\n",
       "      <td>...</td>\n",
       "      <td>...</td>\n",
       "      <td>...</td>\n",
       "      <td>...</td>\n",
       "      <td>...</td>\n",
       "      <td>...</td>\n",
       "      <td>...</td>\n",
       "      <td>...</td>\n",
       "      <td>...</td>\n",
       "      <td>...</td>\n",
       "      <td>...</td>\n",
       "    </tr>\n",
       "    <tr>\n",
       "      <th>48721</th>\n",
       "      <td>Rustic Garden House Apt, 2 stops from Manhattan</td>\n",
       "      <td>73211393</td>\n",
       "      <td>LaGabrell</td>\n",
       "      <td>Queens</td>\n",
       "      <td>Long Island City</td>\n",
       "      <td>40.75508</td>\n",
       "      <td>-73.93258</td>\n",
       "      <td>Entire home/apt</td>\n",
       "      <td>350</td>\n",
       "      <td>2</td>\n",
       "      <td>0</td>\n",
       "      <td>1</td>\n",
       "      <td>1</td>\n",
       "      <td>364</td>\n",
       "    </tr>\n",
       "    <tr>\n",
       "      <th>48796</th>\n",
       "      <td>Brand New 3-Bed Apt in the Best Location of FiDi</td>\n",
       "      <td>29741813</td>\n",
       "      <td>Yue</td>\n",
       "      <td>Manhattan</td>\n",
       "      <td>Financial District</td>\n",
       "      <td>40.70605</td>\n",
       "      <td>-74.01042</td>\n",
       "      <td>Entire home/apt</td>\n",
       "      <td>475</td>\n",
       "      <td>2</td>\n",
       "      <td>0</td>\n",
       "      <td>1</td>\n",
       "      <td>1</td>\n",
       "      <td>64</td>\n",
       "    </tr>\n",
       "    <tr>\n",
       "      <th>48802</th>\n",
       "      <td>Massage Spa. Stay overnight. Authors Artist dr...</td>\n",
       "      <td>274079964</td>\n",
       "      <td>Richard</td>\n",
       "      <td>Brooklyn</td>\n",
       "      <td>Sheepshead Bay</td>\n",
       "      <td>40.59866</td>\n",
       "      <td>-73.95661</td>\n",
       "      <td>Private room</td>\n",
       "      <td>800</td>\n",
       "      <td>1</td>\n",
       "      <td>0</td>\n",
       "      <td>1</td>\n",
       "      <td>1</td>\n",
       "      <td>23</td>\n",
       "    </tr>\n",
       "    <tr>\n",
       "      <th>48805</th>\n",
       "      <td>LUXURY MANHATTAN PENTHOUSE+HUDSON RIVER+EMPIRE...</td>\n",
       "      <td>224171371</td>\n",
       "      <td>LuxuryApartmentsByAmber</td>\n",
       "      <td>Manhattan</td>\n",
       "      <td>Chelsea</td>\n",
       "      <td>40.75204</td>\n",
       "      <td>-74.00292</td>\n",
       "      <td>Entire home/apt</td>\n",
       "      <td>350</td>\n",
       "      <td>1</td>\n",
       "      <td>0</td>\n",
       "      <td>1</td>\n",
       "      <td>1</td>\n",
       "      <td>9</td>\n",
       "    </tr>\n",
       "    <tr>\n",
       "      <th>48819</th>\n",
       "      <td>Large 3 bed, 2 bath , garden , bbq , all you need</td>\n",
       "      <td>66993395</td>\n",
       "      <td>Thomas</td>\n",
       "      <td>Brooklyn</td>\n",
       "      <td>Bedford-Stuyvesant</td>\n",
       "      <td>40.68886</td>\n",
       "      <td>-73.92879</td>\n",
       "      <td>Entire home/apt</td>\n",
       "      <td>345</td>\n",
       "      <td>4</td>\n",
       "      <td>0</td>\n",
       "      <td>1</td>\n",
       "      <td>3</td>\n",
       "      <td>354</td>\n",
       "    </tr>\n",
       "  </tbody>\n",
       "</table>\n",
       "<p>2971 rows × 14 columns</p>\n",
       "</div>"
      ],
      "text/plain": [
       "                                                    name    host_id  \\\n",
       "61                    Sunny & Spacious Chelsea Apartment      60278   \n",
       "85                   perfect for a family or small group      74303   \n",
       "103    2000 SF 3br 2bath West Village private  townhouse      93790   \n",
       "114    2 BR / 2 Bath Duplex Apt with patio! East Village      72062   \n",
       "121                     3 Story Town House in Park Slope     119588   \n",
       "...                                                  ...        ...   \n",
       "48721    Rustic Garden House Apt, 2 stops from Manhattan   73211393   \n",
       "48796   Brand New 3-Bed Apt in the Best Location of FiDi   29741813   \n",
       "48802  Massage Spa. Stay overnight. Authors Artist dr...  274079964   \n",
       "48805  LUXURY MANHATTAN PENTHOUSE+HUDSON RIVER+EMPIRE...  224171371   \n",
       "48819  Large 3 bed, 2 bath , garden , bbq , all you need   66993395   \n",
       "\n",
       "                     host_name neighbourhood_group       neighbourhood  \\\n",
       "61                       Petra           Manhattan             Chelsea   \n",
       "85                      Maggie            Brooklyn    Brooklyn Heights   \n",
       "103                        Ann           Manhattan        West Village   \n",
       "114                      Bruce           Manhattan        East Village   \n",
       "121                       Vero            Brooklyn         South Slope   \n",
       "...                        ...                 ...                 ...   \n",
       "48721                LaGabrell              Queens    Long Island City   \n",
       "48796                      Yue           Manhattan  Financial District   \n",
       "48802                  Richard            Brooklyn      Sheepshead Bay   \n",
       "48805  LuxuryApartmentsByAmber           Manhattan             Chelsea   \n",
       "48819                   Thomas            Brooklyn  Bedford-Stuyvesant   \n",
       "\n",
       "       latitude  longitude        room_type  price  minimum_nights  \\\n",
       "61     40.74623  -73.99530  Entire home/apt    375             180   \n",
       "85     40.69723  -73.99268  Entire home/apt    800               1   \n",
       "103    40.73096  -74.00319  Entire home/apt    500               4   \n",
       "114    40.72540  -73.98157  Entire home/apt    350               2   \n",
       "121    40.66499  -73.97925  Entire home/apt    400               2   \n",
       "...         ...        ...              ...    ...             ...   \n",
       "48721  40.75508  -73.93258  Entire home/apt    350               2   \n",
       "48796  40.70605  -74.01042  Entire home/apt    475               2   \n",
       "48802  40.59866  -73.95661     Private room    800               1   \n",
       "48805  40.75204  -74.00292  Entire home/apt    350               1   \n",
       "48819  40.68886  -73.92879  Entire home/apt    345               4   \n",
       "\n",
       "       number_of_reviews  reviews_per_month  calculated_host_listings_count  \\\n",
       "61                     5                  0                               1   \n",
       "85                    25                  0                               1   \n",
       "103                   46                  0                               2   \n",
       "114                    7                  0                               4   \n",
       "121                   16                  0                               2   \n",
       "...                  ...                ...                             ...   \n",
       "48721                  0                  1                               1   \n",
       "48796                  0                  1                               1   \n",
       "48802                  0                  1                               1   \n",
       "48805                  0                  1                               1   \n",
       "48819                  0                  1                               3   \n",
       "\n",
       "       availability_365  \n",
       "61                  180  \n",
       "85                    7  \n",
       "103                 243  \n",
       "114                 298  \n",
       "121                 216  \n",
       "...                 ...  \n",
       "48721               364  \n",
       "48796                64  \n",
       "48802                23  \n",
       "48805                 9  \n",
       "48819               354  \n",
       "\n",
       "[2971 rows x 14 columns]"
      ]
     },
     "execution_count": 27,
     "metadata": {},
     "output_type": "execute_result"
    }
   ],
   "source": [
    "p[p.price>UF]"
   ]
  },
  {
   "cell_type": "code",
   "execution_count": 28,
   "id": "85c34bf8",
   "metadata": {},
   "outputs": [
    {
     "name": "stdout",
     "output_type": "stream",
     "text": [
      "************************************************************************************************************************\n",
      "\t\t\t\t**************ANALYSIS***************\n",
      "~\t\t\t~~ After removing outliers from price column we have 45882 records.\n",
      "************************************************************************************************************************\n"
     ]
    },
    {
     "data": {
      "text/html": [
       "<div>\n",
       "<style scoped>\n",
       "    .dataframe tbody tr th:only-of-type {\n",
       "        vertical-align: middle;\n",
       "    }\n",
       "\n",
       "    .dataframe tbody tr th {\n",
       "        vertical-align: top;\n",
       "    }\n",
       "\n",
       "    .dataframe thead th {\n",
       "        text-align: right;\n",
       "    }\n",
       "</style>\n",
       "<table border=\"1\" class=\"dataframe\">\n",
       "  <thead>\n",
       "    <tr style=\"text-align: right;\">\n",
       "      <th></th>\n",
       "      <th>name</th>\n",
       "      <th>host_id</th>\n",
       "      <th>host_name</th>\n",
       "      <th>neighbourhood_group</th>\n",
       "      <th>neighbourhood</th>\n",
       "      <th>latitude</th>\n",
       "      <th>longitude</th>\n",
       "      <th>room_type</th>\n",
       "      <th>price</th>\n",
       "      <th>minimum_nights</th>\n",
       "      <th>number_of_reviews</th>\n",
       "      <th>reviews_per_month</th>\n",
       "      <th>calculated_host_listings_count</th>\n",
       "      <th>availability_365</th>\n",
       "    </tr>\n",
       "  </thead>\n",
       "  <tbody>\n",
       "    <tr>\n",
       "      <th>0</th>\n",
       "      <td>Clean &amp; quiet apt home by the park</td>\n",
       "      <td>2787</td>\n",
       "      <td>John</td>\n",
       "      <td>Brooklyn</td>\n",
       "      <td>Kensington</td>\n",
       "      <td>40.64749</td>\n",
       "      <td>-73.97237</td>\n",
       "      <td>Private room</td>\n",
       "      <td>149</td>\n",
       "      <td>1</td>\n",
       "      <td>9</td>\n",
       "      <td>0</td>\n",
       "      <td>6</td>\n",
       "      <td>365</td>\n",
       "    </tr>\n",
       "    <tr>\n",
       "      <th>1</th>\n",
       "      <td>Skylit Midtown Castle</td>\n",
       "      <td>2845</td>\n",
       "      <td>Jennifer</td>\n",
       "      <td>Manhattan</td>\n",
       "      <td>Midtown</td>\n",
       "      <td>40.75362</td>\n",
       "      <td>-73.98377</td>\n",
       "      <td>Entire home/apt</td>\n",
       "      <td>225</td>\n",
       "      <td>1</td>\n",
       "      <td>45</td>\n",
       "      <td>0</td>\n",
       "      <td>2</td>\n",
       "      <td>355</td>\n",
       "    </tr>\n",
       "    <tr>\n",
       "      <th>2</th>\n",
       "      <td>THE VILLAGE OF HARLEM....NEW YORK !</td>\n",
       "      <td>4632</td>\n",
       "      <td>Elisabeth</td>\n",
       "      <td>Manhattan</td>\n",
       "      <td>Harlem</td>\n",
       "      <td>40.80902</td>\n",
       "      <td>-73.94190</td>\n",
       "      <td>Private room</td>\n",
       "      <td>150</td>\n",
       "      <td>3</td>\n",
       "      <td>0</td>\n",
       "      <td>1</td>\n",
       "      <td>1</td>\n",
       "      <td>365</td>\n",
       "    </tr>\n",
       "    <tr>\n",
       "      <th>3</th>\n",
       "      <td>Cozy Entire Floor of Brownstone</td>\n",
       "      <td>4869</td>\n",
       "      <td>LisaRoxanne</td>\n",
       "      <td>Brooklyn</td>\n",
       "      <td>Clinton Hill</td>\n",
       "      <td>40.68514</td>\n",
       "      <td>-73.95976</td>\n",
       "      <td>Entire home/apt</td>\n",
       "      <td>89</td>\n",
       "      <td>1</td>\n",
       "      <td>270</td>\n",
       "      <td>4</td>\n",
       "      <td>1</td>\n",
       "      <td>194</td>\n",
       "    </tr>\n",
       "    <tr>\n",
       "      <th>4</th>\n",
       "      <td>Entire Apt: Spacious Studio/Loft by central park</td>\n",
       "      <td>7192</td>\n",
       "      <td>Laura</td>\n",
       "      <td>Manhattan</td>\n",
       "      <td>East Harlem</td>\n",
       "      <td>40.79851</td>\n",
       "      <td>-73.94399</td>\n",
       "      <td>Entire home/apt</td>\n",
       "      <td>80</td>\n",
       "      <td>10</td>\n",
       "      <td>9</td>\n",
       "      <td>0</td>\n",
       "      <td>1</td>\n",
       "      <td>0</td>\n",
       "    </tr>\n",
       "    <tr>\n",
       "      <th>...</th>\n",
       "      <td>...</td>\n",
       "      <td>...</td>\n",
       "      <td>...</td>\n",
       "      <td>...</td>\n",
       "      <td>...</td>\n",
       "      <td>...</td>\n",
       "      <td>...</td>\n",
       "      <td>...</td>\n",
       "      <td>...</td>\n",
       "      <td>...</td>\n",
       "      <td>...</td>\n",
       "      <td>...</td>\n",
       "      <td>...</td>\n",
       "      <td>...</td>\n",
       "    </tr>\n",
       "    <tr>\n",
       "      <th>48853</th>\n",
       "      <td>Charming one bedroom - newly renovated rowhouse</td>\n",
       "      <td>8232441</td>\n",
       "      <td>Sabrina</td>\n",
       "      <td>Brooklyn</td>\n",
       "      <td>Bedford-Stuyvesant</td>\n",
       "      <td>40.67853</td>\n",
       "      <td>-73.94995</td>\n",
       "      <td>Private room</td>\n",
       "      <td>70</td>\n",
       "      <td>2</td>\n",
       "      <td>0</td>\n",
       "      <td>1</td>\n",
       "      <td>2</td>\n",
       "      <td>9</td>\n",
       "    </tr>\n",
       "    <tr>\n",
       "      <th>48854</th>\n",
       "      <td>Affordable room in Bushwick/East Williamsburg</td>\n",
       "      <td>6570630</td>\n",
       "      <td>Marisol</td>\n",
       "      <td>Brooklyn</td>\n",
       "      <td>Bushwick</td>\n",
       "      <td>40.70184</td>\n",
       "      <td>-73.93317</td>\n",
       "      <td>Private room</td>\n",
       "      <td>40</td>\n",
       "      <td>4</td>\n",
       "      <td>0</td>\n",
       "      <td>1</td>\n",
       "      <td>2</td>\n",
       "      <td>36</td>\n",
       "    </tr>\n",
       "    <tr>\n",
       "      <th>48855</th>\n",
       "      <td>Sunny Studio at Historical Neighborhood</td>\n",
       "      <td>23492952</td>\n",
       "      <td>Ilgar &amp; Aysel</td>\n",
       "      <td>Manhattan</td>\n",
       "      <td>Harlem</td>\n",
       "      <td>40.81475</td>\n",
       "      <td>-73.94867</td>\n",
       "      <td>Entire home/apt</td>\n",
       "      <td>115</td>\n",
       "      <td>10</td>\n",
       "      <td>0</td>\n",
       "      <td>1</td>\n",
       "      <td>1</td>\n",
       "      <td>27</td>\n",
       "    </tr>\n",
       "    <tr>\n",
       "      <th>48856</th>\n",
       "      <td>43rd St. Time Square-cozy single bed</td>\n",
       "      <td>30985759</td>\n",
       "      <td>Taz</td>\n",
       "      <td>Manhattan</td>\n",
       "      <td>Hell's Kitchen</td>\n",
       "      <td>40.75751</td>\n",
       "      <td>-73.99112</td>\n",
       "      <td>Shared room</td>\n",
       "      <td>55</td>\n",
       "      <td>1</td>\n",
       "      <td>0</td>\n",
       "      <td>1</td>\n",
       "      <td>6</td>\n",
       "      <td>2</td>\n",
       "    </tr>\n",
       "    <tr>\n",
       "      <th>48857</th>\n",
       "      <td>Trendy duplex in the very heart of Hell's Kitchen</td>\n",
       "      <td>68119814</td>\n",
       "      <td>Christophe</td>\n",
       "      <td>Manhattan</td>\n",
       "      <td>Hell's Kitchen</td>\n",
       "      <td>40.76404</td>\n",
       "      <td>-73.98933</td>\n",
       "      <td>Private room</td>\n",
       "      <td>90</td>\n",
       "      <td>7</td>\n",
       "      <td>0</td>\n",
       "      <td>1</td>\n",
       "      <td>1</td>\n",
       "      <td>23</td>\n",
       "    </tr>\n",
       "  </tbody>\n",
       "</table>\n",
       "<p>45882 rows × 14 columns</p>\n",
       "</div>"
      ],
      "text/plain": [
       "                                                    name   host_id  \\\n",
       "0                     Clean & quiet apt home by the park      2787   \n",
       "1                                  Skylit Midtown Castle      2845   \n",
       "2                    THE VILLAGE OF HARLEM....NEW YORK !      4632   \n",
       "3                        Cozy Entire Floor of Brownstone      4869   \n",
       "4       Entire Apt: Spacious Studio/Loft by central park      7192   \n",
       "...                                                  ...       ...   \n",
       "48853    Charming one bedroom - newly renovated rowhouse   8232441   \n",
       "48854      Affordable room in Bushwick/East Williamsburg   6570630   \n",
       "48855            Sunny Studio at Historical Neighborhood  23492952   \n",
       "48856               43rd St. Time Square-cozy single bed  30985759   \n",
       "48857  Trendy duplex in the very heart of Hell's Kitchen  68119814   \n",
       "\n",
       "           host_name neighbourhood_group       neighbourhood  latitude  \\\n",
       "0               John            Brooklyn          Kensington  40.64749   \n",
       "1           Jennifer           Manhattan             Midtown  40.75362   \n",
       "2          Elisabeth           Manhattan              Harlem  40.80902   \n",
       "3        LisaRoxanne            Brooklyn        Clinton Hill  40.68514   \n",
       "4              Laura           Manhattan         East Harlem  40.79851   \n",
       "...              ...                 ...                 ...       ...   \n",
       "48853        Sabrina            Brooklyn  Bedford-Stuyvesant  40.67853   \n",
       "48854        Marisol            Brooklyn            Bushwick  40.70184   \n",
       "48855  Ilgar & Aysel           Manhattan              Harlem  40.81475   \n",
       "48856            Taz           Manhattan      Hell's Kitchen  40.75751   \n",
       "48857     Christophe           Manhattan      Hell's Kitchen  40.76404   \n",
       "\n",
       "       longitude        room_type  price  minimum_nights  number_of_reviews  \\\n",
       "0      -73.97237     Private room    149               1                  9   \n",
       "1      -73.98377  Entire home/apt    225               1                 45   \n",
       "2      -73.94190     Private room    150               3                  0   \n",
       "3      -73.95976  Entire home/apt     89               1                270   \n",
       "4      -73.94399  Entire home/apt     80              10                  9   \n",
       "...          ...              ...    ...             ...                ...   \n",
       "48853  -73.94995     Private room     70               2                  0   \n",
       "48854  -73.93317     Private room     40               4                  0   \n",
       "48855  -73.94867  Entire home/apt    115              10                  0   \n",
       "48856  -73.99112      Shared room     55               1                  0   \n",
       "48857  -73.98933     Private room     90               7                  0   \n",
       "\n",
       "       reviews_per_month  calculated_host_listings_count  availability_365  \n",
       "0                      0                               6               365  \n",
       "1                      0                               2               355  \n",
       "2                      1                               1               365  \n",
       "3                      4                               1               194  \n",
       "4                      0                               1                 0  \n",
       "...                  ...                             ...               ...  \n",
       "48853                  1                               2                 9  \n",
       "48854                  1                               2                36  \n",
       "48855                  1                               1                27  \n",
       "48856                  1                               6                 2  \n",
       "48857                  1                               1                23  \n",
       "\n",
       "[45882 rows x 14 columns]"
      ]
     },
     "execution_count": 28,
     "metadata": {},
     "output_type": "execute_result"
    }
   ],
   "source": [
    "print((\"*\")*120)\n",
    "print(\"\\t\\t\\t\\t**************ANALYSIS***************\\n~\\t\\t\\t~~ After removing outliers from price column we have 45882 records.\")\n",
    "print((\"*\")*120)\n",
    "cleaned_price=p[p.price<UF]\n",
    "cleaned_price"
   ]
  },
  {
   "cell_type": "code",
   "execution_count": null,
   "id": "df3c69dd",
   "metadata": {},
   "outputs": [],
   "source": []
  },
  {
   "cell_type": "markdown",
   "id": "4a5b1e6f",
   "metadata": {},
   "source": [
    "# Q1) FIND TOTAL NUMBER OF AIRBNB IN EACH NEIGHBOURHOOD GROUP AND ALSO PLOT YOUR OUTPUT"
   ]
  },
  {
   "cell_type": "code",
   "execution_count": 29,
   "id": "949e9f23",
   "metadata": {},
   "outputs": [
    {
     "data": {
      "text/plain": [
       "neighbourhood_group\n",
       "Manhattan        19484\n",
       "Brooklyn         19400\n",
       "Queens            5565\n",
       "Bronx             1068\n",
       "Staten Island      365\n",
       "Name: name, dtype: int64"
      ]
     },
     "execution_count": 29,
     "metadata": {},
     "output_type": "execute_result"
    }
   ],
   "source": [
    "p1=cleaned_price.groupby(\"neighbourhood_group\")[\"name\"].count().sort_values(ascending=False)\n",
    "p1"
   ]
  },
  {
   "cell_type": "code",
   "execution_count": 30,
   "id": "c5c0c493",
   "metadata": {},
   "outputs": [
    {
     "name": "stdout",
     "output_type": "stream",
     "text": [
      "************************************************************************************************************************\n",
      "\t\t\t\t**************ANALYSIS***************\n",
      "\n",
      "\t\t(1) Manhattan and Brooklyn has highest number of Airbnb(and neighbourhood) in newyork city\n",
      "\n",
      "\t\t(2) Staten island has least number of airbnb(and neighbourhood) in newyork city\n",
      "************************************************************************************************************************\n"
     ]
    },
    {
     "data": {
      "image/png": "[encoded data removed]",
      "text/plain": [
       "<Figure size 432x288 with 1 Axes>"
      ]
     },
     "metadata": {
      "needs_background": "light"
     },
     "output_type": "display_data"
    }
   ],
   "source": [
    "print((\"*\")*120)\n",
    "print(\"\\t\\t\\t\\t**************ANALYSIS***************\\n\\n\\t\\t(1) Manhattan and Brooklyn has highest number of Airbnb(and neighbourhood) in newyork city\\n\\n\\t\\t(2) Staten island has least number of airbnb(and neighbourhood) in newyork city\")\n",
    "print((\"*\")*120)\n",
    "p1=cleaned_price.groupby(\"neighbourhood_group\")[\"name\"].count().sort_values(ascending=False).plot(kind=\"bar\")\n",
    "p1\n",
    "plt.ylabel(\"Number of Airbnb\")\n",
    "plt.show()"
   ]
  },
  {
   "cell_type": "code",
   "execution_count": null,
   "id": "ea44f760",
   "metadata": {},
   "outputs": [],
   "source": []
  },
  {
   "cell_type": "markdown",
   "id": "388b6c79",
   "metadata": {},
   "source": [
    "# Q2)FIND AVERAGE COSTING OF AIRBNB PER NIGHT IN EACH NEIGHBOURHOOD GROUP"
   ]
  },
  {
   "cell_type": "code",
   "execution_count": 31,
   "id": "d441cf93",
   "metadata": {},
   "outputs": [
    {
     "data": {
      "text/plain": [
       "neighbourhood_group\n",
       "Bronx             77.318352\n",
       "Brooklyn         105.713454\n",
       "Manhattan        145.894631\n",
       "Queens            88.919317\n",
       "Staten Island     89.235616\n",
       "Name: price, dtype: float64"
      ]
     },
     "execution_count": 31,
     "metadata": {},
     "output_type": "execute_result"
    }
   ],
   "source": [
    "p2=cleaned_price.groupby(\"neighbourhood_group\")[\"price\"].mean()\n",
    "p2"
   ]
  },
  {
   "cell_type": "code",
   "execution_count": 32,
   "id": "386bafd6",
   "metadata": {},
   "outputs": [
    {
     "name": "stdout",
     "output_type": "stream",
     "text": [
      "************************************************************************************************************************\n",
      "\t\t\t\t**************ANALYSIS***************\n",
      "\t\t\t(1) Average AIRBNb cost in Brooklyn neighbourhood group is around 100$. \n",
      "\t\t\t(2) Average AIRBNb cost in Manhattan neighbourhood group is around 150$.\n",
      "\t\t\t(3) Average AIRBNb cost in Queens and Staten Island neighbourhood group is around 88$.\n",
      "\t\t\t(4) Average AIRBNb cost in Bronyx is around 80$.\n",
      "\t\t\t(5) We can also conclude all neighbourhood groups have Costliest Airbnb costing around 300$ per night.\n",
      "************************************************************************************************************************\n"
     ]
    },
    {
     "data": {
      "image/png": "[encoded data removed]",
      "text/plain": [
       "<Figure size 432x288 with 1 Axes>"
      ]
     },
     "metadata": {
      "needs_background": "light"
     },
     "output_type": "display_data"
    }
   ],
   "source": [
    "print((\"*\")*120)\n",
    "print(\"\\t\\t\\t\\t**************ANALYSIS***************\\n\\t\\t\\t(1) Average AIRBNb cost in Brooklyn neighbourhood group is around 100$. \\n\\t\\t\\t(2) Average AIRBNb cost in Manhattan neighbourhood group is around 150$.\\n\\t\\t\\t(3) Average AIRBNb cost in Queens and Staten Island neighbourhood group is around 88$.\\n\\t\\t\\t(4) Average AIRBNb cost in Bronyx is around 80$.\\n\\t\\t\\t(5) We can also conclude all neighbourhood groups have Costliest Airbnb costing around 300$ per night.\")\n",
    "print((\"*\")*120)\n",
    "sns.violinplot(x=\"neighbourhood_group\",y=\"price\",data=cleaned_price)\n",
    "plt.show()"
   ]
  },
  {
   "cell_type": "code",
   "execution_count": null,
   "id": "8c9ca472",
   "metadata": {},
   "outputs": [],
   "source": []
  },
  {
   "cell_type": "code",
   "execution_count": 33,
   "id": "a3523923",
   "metadata": {},
   "outputs": [
    {
     "name": "stdout",
     "output_type": "stream",
     "text": [
      "************************************************************************************************************************\n",
      "\t\t\t\t**************COMBINED ANALYSIS OF 1ST AND 2ND QUESTION***************\n",
      "\n",
      "~~ (1) We can clearly see that highest number of ARIBNB are present in Manhattan and Brooklyn eventhough they have high average costing for AIRBNB So we can conclude that tourists are ready to pay high for best local experience\n",
      "\n",
      "~~ (2)We can also say that rents are high because this 2 neighbourhood groups have best tourism spots than other groups\n",
      "************************************************************************************************************************\n"
     ]
    }
   ],
   "source": [
    "print((\"*\")*120)\n",
    "print(\"\\t\\t\\t\\t**************COMBINED ANALYSIS OF 1ST AND 2ND QUESTION***************\\n\\n~~ (1) We can clearly see that highest number of ARIBNB are present in Manhattan and Brooklyn eventhough they have high average costing for AIRBNB So we can conclude that tourists are ready to pay high for best local experience\\n\\n~~ (2)We can also say that rents are high because this 2 neighbourhood groups have best tourism spots than other groups\") \n",
    "print((\"*\")*120)"
   ]
  },
  {
   "cell_type": "code",
   "execution_count": null,
   "id": "fdf292ed",
   "metadata": {},
   "outputs": [],
   "source": []
  },
  {
   "cell_type": "markdown",
   "id": "5a528342",
   "metadata": {},
   "source": [
    "# Q3)FIND TOP 10 NEIGHBOURHOOD WITH HIGHEST LSITINGS. "
   ]
  },
  {
   "cell_type": "code",
   "execution_count": 34,
   "id": "6690eff7",
   "metadata": {},
   "outputs": [
    {
     "data": {
      "text/plain": [
       "neighbourhood\n",
       "Williamsburg          3729\n",
       "Bedford-Stuyvesant    3637\n",
       "Harlem                2582\n",
       "Bushwick              2435\n",
       "Upper West Side       1786\n",
       "Hell's Kitchen        1727\n",
       "East Village          1713\n",
       "Upper East Side       1669\n",
       "Crown Heights         1518\n",
       "Midtown               1143\n",
       "Name: name, dtype: int64"
      ]
     },
     "execution_count": 34,
     "metadata": {},
     "output_type": "execute_result"
    }
   ],
   "source": [
    "cleaned_price.groupby(\"neighbourhood\")[\"name\"].count().sort_values(ascending=False).head(10)"
   ]
  },
  {
   "cell_type": "code",
   "execution_count": 35,
   "id": "764852ce",
   "metadata": {},
   "outputs": [
    {
     "name": "stdout",
     "output_type": "stream",
     "text": [
      "************************************************************************************************************************\n",
      "\t\t\t\t**************ANALYSIS***************\n",
      "\n",
      "~~(1) From this plot we can see that Williamsburg and Bedford-Stuyvesant are top 1&2 in highest number of AIRBNB in neighbourhood.\n",
      "************************************************************************************************************************\n"
     ]
    },
    {
     "data": {
      "image/png": "[encoded data removed]",
      "text/plain": [
       "<Figure size 432x288 with 1 Axes>"
      ]
     },
     "metadata": {
      "needs_background": "light"
     },
     "output_type": "display_data"
    }
   ],
   "source": [
    "print((\"*\")*120)\n",
    "print(\"\\t\\t\\t\\t**************ANALYSIS***************\\n\\n~~(1) From this plot we can see that Williamsburg and Bedford-Stuyvesant are top 1&2 in highest number of AIRBNB in neighbourhood.\") \n",
    "print((\"*\")*120)\n",
    "cleaned_price.groupby(\"neighbourhood\")[\"name\"].count().sort_values(ascending=False).head(10).plot(kind=\"barh\")\n",
    "plt.xlabel(\"Total listings\")\n",
    "plt.show()"
   ]
  },
  {
   "cell_type": "markdown",
   "id": "6a8909b1",
   "metadata": {},
   "source": [
    "# Q3A) NOW FIND WILLIAMSBURG AND Bedford-Stuyvesant BELONGS TO WHICH NEIGHBOURHOOD GROUP"
   ]
  },
  {
   "cell_type": "code",
   "execution_count": 36,
   "id": "a5a267f7",
   "metadata": {},
   "outputs": [
    {
     "data": {
      "text/plain": [
       "15       Brooklyn\n",
       "20       Brooklyn\n",
       "52       Brooklyn\n",
       "55       Brooklyn\n",
       "60       Brooklyn\n",
       "           ...   \n",
       "48833    Brooklyn\n",
       "48842    Brooklyn\n",
       "48843    Brooklyn\n",
       "48847    Brooklyn\n",
       "48850    Brooklyn\n",
       "Name: neighbourhood_group, Length: 3729, dtype: object"
      ]
     },
     "execution_count": 36,
     "metadata": {},
     "output_type": "execute_result"
    }
   ],
   "source": [
    "cleaned_price[cleaned_price[\"neighbourhood\"]==\"Williamsburg\"][\"neighbourhood_group\"]"
   ]
  },
  {
   "cell_type": "code",
   "execution_count": 37,
   "id": "98c781f8",
   "metadata": {},
   "outputs": [
    {
     "data": {
      "text/plain": [
       "6        Brooklyn\n",
       "24       Brooklyn\n",
       "34       Brooklyn\n",
       "36       Brooklyn\n",
       "47       Brooklyn\n",
       "           ...   \n",
       "48788    Brooklyn\n",
       "48799    Brooklyn\n",
       "48806    Brooklyn\n",
       "48832    Brooklyn\n",
       "48853    Brooklyn\n",
       "Name: neighbourhood_group, Length: 3637, dtype: object"
      ]
     },
     "execution_count": 37,
     "metadata": {},
     "output_type": "execute_result"
    }
   ],
   "source": [
    "cleaned_price[cleaned_price[\"neighbourhood\"]==\"Bedford-Stuyvesant\"][\"neighbourhood_group\"]"
   ]
  },
  {
   "cell_type": "code",
   "execution_count": 38,
   "id": "5c1ffc39",
   "metadata": {},
   "outputs": [
    {
     "name": "stdout",
     "output_type": "stream",
     "text": [
      "************************************************************************************************************************\n",
      "\t\t\t\t**************ANALYSIS***************\n",
      "\n",
      "~~(1) IT is clear that Williamsburg and Bedford-Stuyvesant belongs to Brooklyn neighbourhood group NYC.\n",
      "\n",
      "~~ (2) Tourists are more interested in the sights of Brooklyn and it is also more pocket friendly than Manhattan.\n",
      "************************************************************************************************************************\n"
     ]
    }
   ],
   "source": [
    "print((\"*\")*120)\n",
    "print(\"\\t\\t\\t\\t**************ANALYSIS***************\\n\\n~~(1) IT is clear that Williamsburg and Bedford-Stuyvesant belongs to Brooklyn neighbourhood group NYC.\\n\\n~~ (2) Tourists are more interested in the sights of Brooklyn and it is also more pocket friendly than Manhattan.\") \n",
    "print((\"*\")*120)"
   ]
  },
  {
   "cell_type": "code",
   "execution_count": null,
   "id": "3043ca04",
   "metadata": {},
   "outputs": [],
   "source": []
  },
  {
   "cell_type": "code",
   "execution_count": null,
   "id": "71040df6",
   "metadata": {},
   "outputs": [],
   "source": []
  },
  {
   "cell_type": "markdown",
   "id": "3a2d9889",
   "metadata": {},
   "source": [
    "# Q4)FIND 5 NEIGHBOURHOOD WITH LOWEST LSITINGS."
   ]
  },
  {
   "cell_type": "code",
   "execution_count": 39,
   "id": "8c215725",
   "metadata": {},
   "outputs": [
    {
     "data": {
      "text/plain": [
       "neighbourhood\n",
       "Co-op City      2\n",
       "New Dorp        1\n",
       "Willowbrook     1\n",
       "Rossville       1\n",
       "Richmondtown    1\n",
       "Name: name, dtype: int64"
      ]
     },
     "execution_count": 39,
     "metadata": {},
     "output_type": "execute_result"
    }
   ],
   "source": [
    "cleaned_price.groupby(\"neighbourhood\")[\"name\"].count().sort_values(ascending=False).tail(5)"
   ]
  },
  {
   "cell_type": "code",
   "execution_count": 40,
   "id": "59a960e6",
   "metadata": {},
   "outputs": [
    {
     "name": "stdout",
     "output_type": "stream",
     "text": [
      "************************************************************************************************************************\n",
      "\t\t\t\t**************ANALYSIS***************\n",
      "\n",
      "~~(1) We can see that there are multiple neighbourhoods with only 1 AIRBNB, tourists are least intersted in this places.\n",
      "************************************************************************************************************************\n"
     ]
    },
    {
     "data": {
      "image/png": "[encoded data removed]",
      "text/plain": [
       "<Figure size 432x288 with 1 Axes>"
      ]
     },
     "metadata": {
      "needs_background": "light"
     },
     "output_type": "display_data"
    }
   ],
   "source": [
    "print((\"*\")*120)\n",
    "print(\"\\t\\t\\t\\t**************ANALYSIS***************\\n\\n~~(1) We can see that there are multiple neighbourhoods with only 1 AIRBNB, tourists are least intersted in this places.\") \n",
    "print((\"*\")*120)\n",
    "cleaned_price.groupby(\"neighbourhood\")[\"name\"].count().sort_values(ascending=False).tail(5).plot(kind=\"barh\")\n",
    "plt.show()"
   ]
  },
  {
   "cell_type": "code",
   "execution_count": null,
   "id": "01496c3d",
   "metadata": {},
   "outputs": [],
   "source": []
  },
  {
   "cell_type": "code",
   "execution_count": null,
   "id": "a8d0af36",
   "metadata": {},
   "outputs": [],
   "source": []
  },
  {
   "cell_type": "markdown",
   "id": "bf4b410e",
   "metadata": {},
   "source": [
    "# Q5)FIND TOP 10 NEIGHBOURHOOD WITH HIGHEST AVERAGE AIRBNB COST."
   ]
  },
  {
   "cell_type": "code",
   "execution_count": 41,
   "id": "b48e20b2",
   "metadata": {},
   "outputs": [
    {
     "data": {
      "text/plain": [
       "neighbourhood\n",
       "Willowbrook           249.000000\n",
       "Neponsit              237.000000\n",
       "Breezy Point          213.333333\n",
       "Tribeca               212.495327\n",
       "NoHo                  205.290909\n",
       "West Village          192.901235\n",
       "Flatiron District     188.090909\n",
       "Financial District    183.973926\n",
       "Midtown               180.948381\n",
       "Mill Basin            179.750000\n",
       "Name: price, dtype: float64"
      ]
     },
     "execution_count": 41,
     "metadata": {},
     "output_type": "execute_result"
    }
   ],
   "source": [
    "cleaned_price.groupby(\"neighbourhood\")[\"price\"].mean().sort_values(ascending=False).head(10)"
   ]
  },
  {
   "cell_type": "code",
   "execution_count": 42,
   "id": "e71eefe2",
   "metadata": {},
   "outputs": [
    {
     "name": "stdout",
     "output_type": "stream",
     "text": [
      "************************************************************************************************************************\n",
      "\t\t\t\t**************ANALYSIS***************\n",
      "\n",
      "~~\t\t\t(1)Willowbrook and Neponsit has highest average costing of AIRBNB.\n",
      "************************************************************************************************************************\n"
     ]
    },
    {
     "data": {
      "image/png": "[encoded data removed]",
      "text/plain": [
       "<Figure size 432x288 with 1 Axes>"
      ]
     },
     "metadata": {
      "needs_background": "light"
     },
     "output_type": "display_data"
    }
   ],
   "source": [
    "print((\"*\")*120)\n",
    "print(\"\\t\\t\\t\\t**************ANALYSIS***************\\n\\n~~\\t\\t\\t(1)Willowbrook and Neponsit has highest average costing of AIRBNB.\") \n",
    "print((\"*\")*120)\n",
    "cleaned_price.groupby(\"neighbourhood\")[\"price\"].mean().sort_values(ascending=False).head(10).plot(kind=\"bar\")\n",
    "plt.show()"
   ]
  },
  {
   "cell_type": "markdown",
   "id": "17946a6b",
   "metadata": {},
   "source": [
    "# Q5A)Now find Willowbrook and Neponsit belongs to which neighbourhood."
   ]
  },
  {
   "cell_type": "code",
   "execution_count": 43,
   "id": "a5dbf4d2",
   "metadata": {},
   "outputs": [
    {
     "data": {
      "text/plain": [
       "34125    Staten Island\n",
       "Name: neighbourhood_group, dtype: object"
      ]
     },
     "execution_count": 43,
     "metadata": {},
     "output_type": "execute_result"
    }
   ],
   "source": [
    "cleaned_price[cleaned_price[\"neighbourhood\"]==\"Willowbrook\"][\"neighbourhood_group\"]"
   ]
  },
  {
   "cell_type": "code",
   "execution_count": 44,
   "id": "b1ce81fc",
   "metadata": {},
   "outputs": [
    {
     "data": {
      "text/plain": [
       "23854    Queens\n",
       "31877    Queens\n",
       "Name: neighbourhood_group, dtype: object"
      ]
     },
     "execution_count": 44,
     "metadata": {},
     "output_type": "execute_result"
    }
   ],
   "source": [
    "cleaned_price[cleaned_price[\"neighbourhood\"]==\"Neponsit\"][\"neighbourhood_group\"]"
   ]
  },
  {
   "cell_type": "code",
   "execution_count": 45,
   "id": "53d26f0b",
   "metadata": {},
   "outputs": [
    {
     "name": "stdout",
     "output_type": "stream",
     "text": [
      "************************************************************************************************************************\n",
      "\t\t\t\t**************ANALYSIS***************\n",
      "\n",
      "~~\t(1)Surprisingly Willobrook and Neponsit which has highest average costing of AIRBNB doesnot belong to Manhattan, Insted they belong to Staten Island and Queens neioghbourhood groups which are amongst least AIRBNB listings , we also know Willobrook has only 1 AIRBNB and therefore it is the costilest.\n",
      "************************************************************************************************************************\n"
     ]
    }
   ],
   "source": [
    "print((\"*\")*120)\n",
    "print(\"\\t\\t\\t\\t**************ANALYSIS***************\\n\\n~~\\t(1)Surprisingly Willobrook and Neponsit which has highest average costing of AIRBNB doesnot belong to Manhattan, Insted they belong to Staten Island and Queens neioghbourhood groups which are amongst least AIRBNB listings , we also know Willobrook has only 1 AIRBNB and therefore it is the costilest.\") \n",
    "print((\"*\")*120)"
   ]
  },
  {
   "cell_type": "code",
   "execution_count": null,
   "id": "b3ffb2e5",
   "metadata": {},
   "outputs": [],
   "source": []
  },
  {
   "cell_type": "markdown",
   "id": "4604631c",
   "metadata": {},
   "source": [
    "# Q6)FIND 5 NEIGHBOURHOOD WITH LOWEST AVERAGE AIRBNB COST."
   ]
  },
  {
   "cell_type": "code",
   "execution_count": 46,
   "id": "90a0ee09",
   "metadata": {},
   "outputs": [
    {
     "data": {
      "text/plain": [
       "neighbourhood\n",
       "Corona         54.412698\n",
       "Soundview      53.466667\n",
       "Tremont        51.545455\n",
       "Hunts Point    50.500000\n",
       "Bull's Head    47.333333\n",
       "Name: price, dtype: float64"
      ]
     },
     "execution_count": 46,
     "metadata": {},
     "output_type": "execute_result"
    }
   ],
   "source": [
    "cleaned_price.groupby(\"neighbourhood\")[\"price\"].mean().sort_values(ascending=False).tail(5)"
   ]
  },
  {
   "cell_type": "code",
   "execution_count": 47,
   "id": "c462192a",
   "metadata": {},
   "outputs": [
    {
     "name": "stdout",
     "output_type": "stream",
     "text": [
      "************************************************************************************************************************\n",
      "\t\t\t\t**************ANALYSIS***************\n",
      "\n",
      "~~\t\t\t(1)Bull's Head has cheapest AIRBNB.\n",
      "************************************************************************************************************************\n"
     ]
    },
    {
     "data": {
      "image/png": "[encoded data removed]",
      "text/plain": [
       "<Figure size 432x288 with 1 Axes>"
      ]
     },
     "metadata": {
      "needs_background": "light"
     },
     "output_type": "display_data"
    }
   ],
   "source": [
    "print((\"*\")*120)\n",
    "print(\"\\t\\t\\t\\t**************ANALYSIS***************\\n\\n~~\\t\\t\\t(1)Bull's Head has cheapest AIRBNB.\") \n",
    "print((\"*\")*120)\n",
    "cleaned_price.groupby(\"neighbourhood\")[\"price\"].mean().sort_values(ascending=False).tail(5).plot(kind=\"bar\")\n",
    "plt.show()"
   ]
  },
  {
   "cell_type": "code",
   "execution_count": 48,
   "id": "603ccab7",
   "metadata": {},
   "outputs": [
    {
     "name": "stdout",
     "output_type": "stream",
     "text": [
      "************************************************************************************************************************\n",
      "\t\t\t\t**************ANALYSIS***************\n",
      "\n",
      "~~\t\t\t(1)Bull's Head belongs to Staten Island.\n",
      "************************************************************************************************************************\n"
     ]
    },
    {
     "data": {
      "text/plain": [
       "29704    Staten Island\n",
       "29777    Staten Island\n",
       "35757    Staten Island\n",
       "37008    Staten Island\n",
       "48217    Staten Island\n",
       "48218    Staten Island\n",
       "Name: neighbourhood_group, dtype: object"
      ]
     },
     "execution_count": 48,
     "metadata": {},
     "output_type": "execute_result"
    }
   ],
   "source": [
    "print((\"*\")*120)\n",
    "print(\"\\t\\t\\t\\t**************ANALYSIS***************\\n\\n~~\\t\\t\\t(1)Bull's Head belongs to Staten Island.\") \n",
    "print((\"*\")*120)\n",
    "cleaned_price[cleaned_price[\"neighbourhood\"]==\"Bull's Head\"][\"neighbourhood_group\"]"
   ]
  },
  {
   "cell_type": "code",
   "execution_count": null,
   "id": "460543a0",
   "metadata": {},
   "outputs": [],
   "source": []
  },
  {
   "cell_type": "code",
   "execution_count": 49,
   "id": "04ea1d09",
   "metadata": {},
   "outputs": [
    {
     "name": "stdout",
     "output_type": "stream",
     "text": [
      "************************************************************************************************************************\n",
      "\t\t\t\t**************COMBINED ANALYSIS OF Q5 AND Q6***************\n",
      "\n",
      "\t\t\t\t~~ Staten island has most Costliest and most cheapest AIRBNB in NYC.\n",
      "************************************************************************************************************************\n"
     ]
    }
   ],
   "source": [
    "print((\"*\")*120)\n",
    "print(\"\\t\\t\\t\\t**************COMBINED ANALYSIS OF Q5 AND Q6***************\\n\\n\\t\\t\\t\\t~~ Staten island has most Costliest and most cheapest AIRBNB in NYC.\") \n",
    "print((\"*\")*120)"
   ]
  },
  {
   "cell_type": "code",
   "execution_count": null,
   "id": "6dd88848",
   "metadata": {},
   "outputs": [],
   "source": []
  },
  {
   "cell_type": "markdown",
   "id": "c12ae462",
   "metadata": {},
   "source": [
    "# Q7)Find Neighbourhood of Manhattan with Highest and lowest number of AIRBNB"
   ]
  },
  {
   "cell_type": "code",
   "execution_count": 50,
   "id": "b61ed465",
   "metadata": {},
   "outputs": [
    {
     "name": "stdout",
     "output_type": "stream",
     "text": [
      "************************************************************************************************************************\n",
      "\t\t\t\t**************ANALYSIS***************\n",
      "\n",
      "\t\t\t\t~~ Harlem has highest numbre of AIRBNB in Manhattan\n",
      "************************************************************************************************************************\n"
     ]
    },
    {
     "data": {
      "text/plain": [
       "Harlem    2582\n",
       "Name: neighbourhood, dtype: int64"
      ]
     },
     "execution_count": 50,
     "metadata": {},
     "output_type": "execute_result"
    }
   ],
   "source": [
    "print((\"*\")*120)\n",
    "print(\"\\t\\t\\t\\t**************ANALYSIS***************\\n\\n\\t\\t\\t\\t~~ Harlem has highest numbre of AIRBNB in Manhattan\") \n",
    "print((\"*\")*120)\n",
    "cleaned_price[cleaned_price[\"neighbourhood_group\"]==\"Manhattan\"][\"neighbourhood\"].value_counts().sort_values(ascending=False).head(1)"
   ]
  },
  {
   "cell_type": "code",
   "execution_count": 51,
   "id": "76ecfd41",
   "metadata": {},
   "outputs": [
    {
     "name": "stdout",
     "output_type": "stream",
     "text": [
      "************************************************************************************************************************\n",
      "\t\t\t\t**************ANALYSIS***************\n",
      "\n",
      "\t\t\t\t~~ Marble Hill has least numbre of AIRBNB in Manhattan\n",
      "************************************************************************************************************************\n"
     ]
    },
    {
     "data": {
      "text/plain": [
       "Marble Hill    12\n",
       "Name: neighbourhood, dtype: int64"
      ]
     },
     "execution_count": 51,
     "metadata": {},
     "output_type": "execute_result"
    }
   ],
   "source": [
    "print((\"*\")*120)\n",
    "print(\"\\t\\t\\t\\t**************ANALYSIS***************\\n\\n\\t\\t\\t\\t~~ Marble Hill has least numbre of AIRBNB in Manhattan\") \n",
    "print((\"*\")*120)\n",
    "cleaned_price[cleaned_price[\"neighbourhood_group\"]==\"Manhattan\"][\"neighbourhood\"].value_counts().sort_values(ascending=False).tail(1)"
   ]
  },
  {
   "cell_type": "code",
   "execution_count": null,
   "id": "4c09d2a3",
   "metadata": {},
   "outputs": [],
   "source": []
  },
  {
   "cell_type": "markdown",
   "id": "7e2e2038",
   "metadata": {},
   "source": [
    "# Q8)Find all details of Neighbourhood from manhattan with costliest AIRBNB and Analyse."
   ]
  },
  {
   "cell_type": "code",
   "execution_count": 52,
   "id": "fe090acc",
   "metadata": {},
   "outputs": [
    {
     "data": {
      "text/plain": [
       "333"
      ]
     },
     "execution_count": 52,
     "metadata": {},
     "output_type": "execute_result"
    }
   ],
   "source": [
    "cleaned_price[cleaned_price[\"neighbourhood_group\"]==\"Manhattan\"][\"price\"].max()"
   ]
  },
  {
   "cell_type": "code",
   "execution_count": 53,
   "id": "22656afb",
   "metadata": {},
   "outputs": [
    {
     "data": {
      "text/html": [
       "<div>\n",
       "<style scoped>\n",
       "    .dataframe tbody tr th:only-of-type {\n",
       "        vertical-align: middle;\n",
       "    }\n",
       "\n",
       "    .dataframe tbody tr th {\n",
       "        vertical-align: top;\n",
       "    }\n",
       "\n",
       "    .dataframe thead th {\n",
       "        text-align: right;\n",
       "    }\n",
       "</style>\n",
       "<table border=\"1\" class=\"dataframe\">\n",
       "  <thead>\n",
       "    <tr style=\"text-align: right;\">\n",
       "      <th></th>\n",
       "      <th>name</th>\n",
       "      <th>host_id</th>\n",
       "      <th>host_name</th>\n",
       "      <th>neighbourhood_group</th>\n",
       "      <th>neighbourhood</th>\n",
       "      <th>latitude</th>\n",
       "      <th>longitude</th>\n",
       "      <th>room_type</th>\n",
       "      <th>price</th>\n",
       "      <th>minimum_nights</th>\n",
       "      <th>number_of_reviews</th>\n",
       "      <th>reviews_per_month</th>\n",
       "      <th>calculated_host_listings_count</th>\n",
       "      <th>availability_365</th>\n",
       "    </tr>\n",
       "  </thead>\n",
       "  <tbody>\n",
       "    <tr>\n",
       "      <th>15126</th>\n",
       "      <td>Midtown Sleep 6 Central Convenience</td>\n",
       "      <td>62031986</td>\n",
       "      <td>Adam</td>\n",
       "      <td>Manhattan</td>\n",
       "      <td>Midtown</td>\n",
       "      <td>40.75237</td>\n",
       "      <td>-73.98769</td>\n",
       "      <td>Entire home/apt</td>\n",
       "      <td>333</td>\n",
       "      <td>1</td>\n",
       "      <td>246</td>\n",
       "      <td>6</td>\n",
       "      <td>1</td>\n",
       "      <td>323</td>\n",
       "    </tr>\n",
       "    <tr>\n",
       "      <th>19612</th>\n",
       "      <td>SOMMwhere in NYC/ a unique, conscious artists ...</td>\n",
       "      <td>148108</td>\n",
       "      <td>Fatima</td>\n",
       "      <td>Manhattan</td>\n",
       "      <td>Lower East Side</td>\n",
       "      <td>40.72297</td>\n",
       "      <td>-73.98946</td>\n",
       "      <td>Private room</td>\n",
       "      <td>333</td>\n",
       "      <td>1</td>\n",
       "      <td>40</td>\n",
       "      <td>1</td>\n",
       "      <td>2</td>\n",
       "      <td>62</td>\n",
       "    </tr>\n",
       "    <tr>\n",
       "      <th>25132</th>\n",
       "      <td>Flatiron Loft 3BR/1.5 Bath Best Location\\n30 days</td>\n",
       "      <td>35635299</td>\n",
       "      <td>Mel</td>\n",
       "      <td>Manhattan</td>\n",
       "      <td>Midtown</td>\n",
       "      <td>40.74353</td>\n",
       "      <td>-73.98364</td>\n",
       "      <td>Entire home/apt</td>\n",
       "      <td>333</td>\n",
       "      <td>30</td>\n",
       "      <td>66</td>\n",
       "      <td>2</td>\n",
       "      <td>1</td>\n",
       "      <td>210</td>\n",
       "    </tr>\n",
       "    <tr>\n",
       "      <th>28030</th>\n",
       "      <td>27 FLR VIEWS!LINCOLN SQR-LUXURY 2BR MIDTOWN W ...</td>\n",
       "      <td>76104209</td>\n",
       "      <td>Rated</td>\n",
       "      <td>Manhattan</td>\n",
       "      <td>Upper West Side</td>\n",
       "      <td>40.77055</td>\n",
       "      <td>-73.98615</td>\n",
       "      <td>Entire home/apt</td>\n",
       "      <td>333</td>\n",
       "      <td>30</td>\n",
       "      <td>0</td>\n",
       "      <td>1</td>\n",
       "      <td>33</td>\n",
       "      <td>330</td>\n",
       "    </tr>\n",
       "    <tr>\n",
       "      <th>32940</th>\n",
       "      <td>Luxurious 2bed/2.5bath with Central Park Views</td>\n",
       "      <td>4876826</td>\n",
       "      <td>Alex</td>\n",
       "      <td>Manhattan</td>\n",
       "      <td>Midtown</td>\n",
       "      <td>40.76591</td>\n",
       "      <td>-73.97886</td>\n",
       "      <td>Entire home/apt</td>\n",
       "      <td>333</td>\n",
       "      <td>12</td>\n",
       "      <td>1</td>\n",
       "      <td>0</td>\n",
       "      <td>1</td>\n",
       "      <td>110</td>\n",
       "    </tr>\n",
       "    <tr>\n",
       "      <th>38529</th>\n",
       "      <td>Parisian Palace in Heart of Manhattan</td>\n",
       "      <td>224001464</td>\n",
       "      <td>Aleszea</td>\n",
       "      <td>Manhattan</td>\n",
       "      <td>Chelsea</td>\n",
       "      <td>40.73734</td>\n",
       "      <td>-73.99327</td>\n",
       "      <td>Entire home/apt</td>\n",
       "      <td>333</td>\n",
       "      <td>4</td>\n",
       "      <td>4</td>\n",
       "      <td>1</td>\n",
       "      <td>1</td>\n",
       "      <td>80</td>\n",
       "    </tr>\n",
       "    <tr>\n",
       "      <th>45266</th>\n",
       "      <td>Five-star luxury Apt in Chelsea !</td>\n",
       "      <td>152747338</td>\n",
       "      <td>Paola</td>\n",
       "      <td>Manhattan</td>\n",
       "      <td>Chelsea</td>\n",
       "      <td>40.74674</td>\n",
       "      <td>-74.00316</td>\n",
       "      <td>Entire home/apt</td>\n",
       "      <td>333</td>\n",
       "      <td>1</td>\n",
       "      <td>4</td>\n",
       "      <td>2</td>\n",
       "      <td>1</td>\n",
       "      <td>365</td>\n",
       "    </tr>\n",
       "    <tr>\n",
       "      <th>48530</th>\n",
       "      <td>Your Private Duplex Mansion in the HEART of NYC!</td>\n",
       "      <td>269146714</td>\n",
       "      <td>Clinton</td>\n",
       "      <td>Manhattan</td>\n",
       "      <td>West Village</td>\n",
       "      <td>40.73670</td>\n",
       "      <td>-74.00105</td>\n",
       "      <td>Entire home/apt</td>\n",
       "      <td>333</td>\n",
       "      <td>2</td>\n",
       "      <td>0</td>\n",
       "      <td>1</td>\n",
       "      <td>1</td>\n",
       "      <td>336</td>\n",
       "    </tr>\n",
       "  </tbody>\n",
       "</table>\n",
       "</div>"
      ],
      "text/plain": [
       "                                                    name    host_id host_name  \\\n",
       "15126                Midtown Sleep 6 Central Convenience   62031986      Adam   \n",
       "19612  SOMMwhere in NYC/ a unique, conscious artists ...     148108    Fatima   \n",
       "25132  Flatiron Loft 3BR/1.5 Bath Best Location\\n30 days   35635299       Mel   \n",
       "28030  27 FLR VIEWS!LINCOLN SQR-LUXURY 2BR MIDTOWN W ...   76104209     Rated   \n",
       "32940     Luxurious 2bed/2.5bath with Central Park Views    4876826      Alex   \n",
       "38529              Parisian Palace in Heart of Manhattan  224001464   Aleszea   \n",
       "45266                  Five-star luxury Apt in Chelsea !  152747338     Paola   \n",
       "48530   Your Private Duplex Mansion in the HEART of NYC!  269146714   Clinton   \n",
       "\n",
       "      neighbourhood_group    neighbourhood  latitude  longitude  \\\n",
       "15126           Manhattan          Midtown  40.75237  -73.98769   \n",
       "19612           Manhattan  Lower East Side  40.72297  -73.98946   \n",
       "25132           Manhattan          Midtown  40.74353  -73.98364   \n",
       "28030           Manhattan  Upper West Side  40.77055  -73.98615   \n",
       "32940           Manhattan          Midtown  40.76591  -73.97886   \n",
       "38529           Manhattan          Chelsea  40.73734  -73.99327   \n",
       "45266           Manhattan          Chelsea  40.74674  -74.00316   \n",
       "48530           Manhattan     West Village  40.73670  -74.00105   \n",
       "\n",
       "             room_type  price  minimum_nights  number_of_reviews  \\\n",
       "15126  Entire home/apt    333               1                246   \n",
       "19612     Private room    333               1                 40   \n",
       "25132  Entire home/apt    333              30                 66   \n",
       "28030  Entire home/apt    333              30                  0   \n",
       "32940  Entire home/apt    333              12                  1   \n",
       "38529  Entire home/apt    333               4                  4   \n",
       "45266  Entire home/apt    333               1                  4   \n",
       "48530  Entire home/apt    333               2                  0   \n",
       "\n",
       "       reviews_per_month  calculated_host_listings_count  availability_365  \n",
       "15126                  6                               1               323  \n",
       "19612                  1                               2                62  \n",
       "25132                  2                               1               210  \n",
       "28030                  1                              33               330  \n",
       "32940                  0                               1               110  \n",
       "38529                  1                               1                80  \n",
       "45266                  2                               1               365  \n",
       "48530                  1                               1               336  "
      ]
     },
     "execution_count": 53,
     "metadata": {},
     "output_type": "execute_result"
    }
   ],
   "source": [
    "cleaned_price[(cleaned_price[\"neighbourhood_group\"]==\"Manhattan\")&(cleaned_price[\"price\"]==333)]"
   ]
  },
  {
   "cell_type": "code",
   "execution_count": 54,
   "id": "63cca4cc",
   "metadata": {},
   "outputs": [
    {
     "name": "stdout",
     "output_type": "stream",
     "text": [
      "************************************************************************************************************************\n",
      "\t\t\t\t**************ANALYSIS***************\n",
      "\n",
      "~~ (1 )WE got total 8 records out of which 7 are of Entire home/apt room type ,this tells us this room type is costliest.\n",
      "\n",
      "~~ (2) We can also see 4 out of 8 records have availability more than 300 days throughtout the year.\n",
      "************************************************************************************************************************\n"
     ]
    }
   ],
   "source": [
    "print((\"*\")*120)\n",
    "print(\"\\t\\t\\t\\t**************ANALYSIS***************\\n\\n~~ (1 )WE got total 8 records out of which 7 are of Entire home/apt room type ,this tells us this room type is costliest.\\n\\n~~ (2) We can also see 4 out of 8 records have availability more than 300 days throughtout the year.\") \n",
    "print((\"*\")*120)"
   ]
  },
  {
   "cell_type": "code",
   "execution_count": null,
   "id": "a5452bf8",
   "metadata": {},
   "outputs": [],
   "source": []
  },
  {
   "cell_type": "markdown",
   "id": "41c59c62",
   "metadata": {},
   "source": [
    "# Q9)Find busiest hosts and also find in which neighbourhood group they have highest listings.   "
   ]
  },
  {
   "cell_type": "code",
   "execution_count": 55,
   "id": "bc8dbd00",
   "metadata": {},
   "outputs": [
    {
     "data": {
      "text/plain": [
       "Michael         383\n",
       "David           368\n",
       "John            276\n",
       "Sonder (NYC)    272\n",
       "Alex            253\n",
       "Name: host_name, dtype: int64"
      ]
     },
     "execution_count": 55,
     "metadata": {},
     "output_type": "execute_result"
    }
   ],
   "source": [
    "cleaned_price[\"host_name\"].value_counts().sort_values(ascending=False).head(5)"
   ]
  },
  {
   "cell_type": "code",
   "execution_count": 56,
   "id": "95e5b59d",
   "metadata": {},
   "outputs": [
    {
     "name": "stdout",
     "output_type": "stream",
     "text": [
      "************************************************************************************************************************\n",
      "\t\t\t\t**************ANALYSIS***************\n",
      "\n",
      "\t\t\t\t~~ Michael and David are the busiest hosts in NYC AIRBNB listings.\n",
      "************************************************************************************************************************\n"
     ]
    },
    {
     "data": {
      "image/png": "[encoded data removed]",
      "text/plain": [
       "<Figure size 432x288 with 1 Axes>"
      ]
     },
     "metadata": {
      "needs_background": "light"
     },
     "output_type": "display_data"
    }
   ],
   "source": [
    "print((\"*\")*120)\n",
    "print(\"\\t\\t\\t\\t**************ANALYSIS***************\\n\\n\\t\\t\\t\\t~~ Michael and David are the busiest hosts in NYC AIRBNB listings.\") \n",
    "print((\"*\")*120)\n",
    "cleaned_price[\"host_name\"].value_counts().sort_values(ascending=False).head(5).plot(kind=\"bar\")\n",
    "plt.ylabel(\"Total number of listings\")\n",
    "plt.xlabel(\"Host name\")\n",
    "plt.show()"
   ]
  },
  {
   "cell_type": "code",
   "execution_count": 57,
   "id": "037a9eb7",
   "metadata": {},
   "outputs": [
    {
     "data": {
      "text/plain": [
       "Manhattan        182\n",
       "Brooklyn         157\n",
       "Queens            35\n",
       "Bronx              5\n",
       "Staten Island      4\n",
       "Name: neighbourhood_group, dtype: int64"
      ]
     },
     "execution_count": 57,
     "metadata": {},
     "output_type": "execute_result"
    }
   ],
   "source": [
    "cleaned_price[(cleaned_price[\"host_name\"]==\"Michael\")][\"neighbourhood_group\"].value_counts().sort_values(ascending=False)"
   ]
  },
  {
   "cell_type": "code",
   "execution_count": 58,
   "id": "19725faa",
   "metadata": {},
   "outputs": [
    {
     "data": {
      "image/png": "[encoded data removed]",
      "text/plain": [
       "<Figure size 432x288 with 1 Axes>"
      ]
     },
     "metadata": {
      "needs_background": "light"
     },
     "output_type": "display_data"
    }
   ],
   "source": [
    "cleaned_price[(cleaned_price[\"host_name\"]==\"Michael\")][\"neighbourhood_group\"].value_counts().sort_values(ascending=False).plot(kind=\"bar\")\n",
    "plt.xlabel(\"Neighbourhood group\")\n",
    "plt.show()"
   ]
  },
  {
   "cell_type": "code",
   "execution_count": 59,
   "id": "9e948029",
   "metadata": {},
   "outputs": [
    {
     "data": {
      "text/plain": [
       "Manhattan        174\n",
       "Brooklyn         135\n",
       "Queens            50\n",
       "Staten Island      5\n",
       "Bronx              4\n",
       "Name: neighbourhood_group, dtype: int64"
      ]
     },
     "execution_count": 59,
     "metadata": {},
     "output_type": "execute_result"
    }
   ],
   "source": [
    "cleaned_price[(cleaned_price[\"host_name\"]==\"David\")][\"neighbourhood_group\"].value_counts().sort_values(ascending=False)"
   ]
  },
  {
   "cell_type": "code",
   "execution_count": 60,
   "id": "3090e2a6",
   "metadata": {},
   "outputs": [
    {
     "data": {
      "image/png": "[encoded data removed]",
      "text/plain": [
       "<Figure size 432x288 with 1 Axes>"
      ]
     },
     "metadata": {
      "needs_background": "light"
     },
     "output_type": "display_data"
    }
   ],
   "source": [
    "cleaned_price[(cleaned_price[\"host_name\"]==\"David\")][\"neighbourhood_group\"].value_counts().sort_values(ascending=False).plot(kind=\"bar\")\n",
    "plt.xlabel(\"Neighbourhood group\")\n",
    "plt.show()"
   ]
  },
  {
   "cell_type": "code",
   "execution_count": 61,
   "id": "05e0f251",
   "metadata": {},
   "outputs": [
    {
     "name": "stdout",
     "output_type": "stream",
     "text": [
      "************************************************************************************************************************\n",
      "\t\t\t\t**************ANALYSIS***************\n",
      "\n",
      "\t~~(1) Michael and David are the busiest hosts in NYC AIRBNB listings and both of them have highest AIRBNB listings in Manhattan which is costliest amongst the neighbourhood group. so we can conclude that Michale and David has good number of rich  clients\n",
      "\n",
      "\t~~ (2)Michael and David also have good number of listing in Brooklyn which has medium price airbnb,so we can also say they have all types of clients\n",
      "************************************************************************************************************************\n"
     ]
    }
   ],
   "source": [
    "print((\"*\")*120)\n",
    "print(\"\\t\\t\\t\\t**************ANALYSIS***************\\n\\n\\t~~(1) Michael and David are the busiest hosts in NYC AIRBNB listings and both of them have highest AIRBNB listings in Manhattan which is costliest amongst the neighbourhood group. so we can conclude that Michale and David has good number of rich  clients\\n\\n\\t~~ (2)Michael and David also have good number of listing in Brooklyn which has medium price airbnb,so we can also say they have all types of clients\") \n",
    "print((\"*\")*120)"
   ]
  },
  {
   "cell_type": "code",
   "execution_count": null,
   "id": "347e5416",
   "metadata": {},
   "outputs": [],
   "source": []
  },
  {
   "cell_type": "markdown",
   "id": "cf5fbbe5",
   "metadata": {},
   "source": [
    "# Q9A)Busiest host in Manhattan"
   ]
  },
  {
   "cell_type": "code",
   "execution_count": 62,
   "id": "4165153c",
   "metadata": {},
   "outputs": [
    {
     "data": {
      "text/plain": [
       "Sonder (NYC)    272\n",
       "Michael         182\n",
       "Blueground      174\n",
       "David           174\n",
       "John            139\n",
       "Name: host_name, dtype: int64"
      ]
     },
     "execution_count": 62,
     "metadata": {},
     "output_type": "execute_result"
    }
   ],
   "source": [
    "cleaned_price[(cleaned_price[\"neighbourhood_group\"]==\"Manhattan\")][\"host_name\"].value_counts().head(5)"
   ]
  },
  {
   "cell_type": "code",
   "execution_count": 63,
   "id": "f7c6753d",
   "metadata": {},
   "outputs": [
    {
     "name": "stdout",
     "output_type": "stream",
     "text": [
      "************************************************************************************************************************\n",
      "\t\t\t\t**************ANALYSIS***************\n",
      "\n",
      "\t~~ It is clear from the plot that Sonder is busiest host in Manhattan , we can conclude that sonder has highest number of clients who preffer to book AIRBNB in Manhattan eventhough it is costliest neighbourhood_group.\n",
      "************************************************************************************************************************\n"
     ]
    },
    {
     "data": {
      "image/png": "[encoded data removed]",
      "text/plain": [
       "<Figure size 432x288 with 1 Axes>"
      ]
     },
     "metadata": {
      "needs_background": "light"
     },
     "output_type": "display_data"
    }
   ],
   "source": [
    "print((\"*\")*120)\n",
    "print(\"\\t\\t\\t\\t**************ANALYSIS***************\\n\\n\\t~~ It is clear from the plot that Sonder is busiest host in Manhattan , we can conclude that sonder has highest number of clients who preffer to book AIRBNB in Manhattan eventhough it is costliest neighbourhood_group.\") \n",
    "print((\"*\")*120)\n",
    "cleaned_price[(cleaned_price[\"neighbourhood_group\"]==\"Manhattan\")][\"host_name\"].value_counts().head(5).plot(kind=\"bar\")\n",
    "plt.xlabel(\"Host name\")\n",
    "plt.ylabel(\"listings in manhattan\")\n",
    "plt.show()"
   ]
  },
  {
   "cell_type": "code",
   "execution_count": null,
   "id": "96441e5b",
   "metadata": {},
   "outputs": [],
   "source": []
  },
  {
   "cell_type": "markdown",
   "id": "59998e5e",
   "metadata": {},
   "source": [
    "# 9B)Find Busiest host in Brooklyn plot your output and analyse."
   ]
  },
  {
   "cell_type": "code",
   "execution_count": 64,
   "id": "9051a2e2",
   "metadata": {},
   "outputs": [
    {
     "data": {
      "image/png": "[encoded data removed]",
      "text/plain": [
       "<Figure size 432x288 with 1 Axes>"
      ]
     },
     "metadata": {
      "needs_background": "light"
     },
     "output_type": "display_data"
    }
   ],
   "source": [
    "cleaned_price[(cleaned_price[\"neighbourhood_group\"]==\"Brooklyn\")][\"host_name\"].value_counts().head(5).plot(kind=\"bar\")\n",
    "plt.xlabel(\"Host name\")\n",
    "plt.ylabel(\"listings in Brooklyn\")\n",
    "plt.show()"
   ]
  },
  {
   "cell_type": "code",
   "execution_count": 65,
   "id": "2c32c2f9",
   "metadata": {},
   "outputs": [
    {
     "name": "stdout",
     "output_type": "stream",
     "text": [
      "************************************************************************************************************************\n",
      "\t\t\t\t**************ANALYSIS***************\n",
      "\n",
      "~ (1) It is clear from the plot that Michael is busiest host in Brooklyn. \n",
      "\n",
      "~ (2) Sonders who is busiset host in Manhattan is not even in top 5 hosts of Brooklyn\n",
      "\n",
      "~ (3) Sarah,Alex and melissa has good number of listings in Brooklyn which means they have clients who prefer pocket friendly AIRBNB\n",
      "************************************************************************************************************************\n"
     ]
    }
   ],
   "source": [
    "print((\"*\")*120)\n",
    "print(\"\\t\\t\\t\\t**************ANALYSIS***************\\n\\n~ (1) It is clear from the plot that Michael is busiest host in Brooklyn. \\n\\n~ (2) Sonders who is busiset host in Manhattan is not even in top 5 hosts of Brooklyn\\n\\n~ (3) Sarah,Alex and melissa has good number of listings in Brooklyn which means they have clients who prefer pocket friendly AIRBNB\") \n",
    "print((\"*\")*120)"
   ]
  },
  {
   "cell_type": "code",
   "execution_count": null,
   "id": "fbfe0071",
   "metadata": {},
   "outputs": [],
   "source": []
  },
  {
   "cell_type": "code",
   "execution_count": null,
   "id": "a2eb7066",
   "metadata": {},
   "outputs": [],
   "source": []
  },
  {
   "cell_type": "markdown",
   "id": "54a06752",
   "metadata": {},
   "source": [
    "# Q10) Find Most preferred room types across NYC."
   ]
  },
  {
   "cell_type": "code",
   "execution_count": 66,
   "id": "127ab3b1",
   "metadata": {},
   "outputs": [
    {
     "data": {
      "text/plain": [
       "Entire home/apt    22769\n",
       "Private room       21976\n",
       "Shared room         1137\n",
       "Name: room_type, dtype: int64"
      ]
     },
     "execution_count": 66,
     "metadata": {},
     "output_type": "execute_result"
    }
   ],
   "source": [
    "cleaned_price[\"room_type\"].value_counts()"
   ]
  },
  {
   "cell_type": "code",
   "execution_count": 67,
   "id": "010e8145",
   "metadata": {},
   "outputs": [
    {
     "name": "stdout",
     "output_type": "stream",
     "text": [
      "************************************************************************************************************************\n",
      "\t\t\t\t**************ANALYSIS***************\n",
      "\n",
      "~~ Private rooms and Entire home/apt are the highest preferred room types and shared rooms types are very less preferred  \n",
      "************************************************************************************************************************\n"
     ]
    },
    {
     "data": {
      "image/png": "[encoded data removed]",
      "text/plain": [
       "<Figure size 432x288 with 1 Axes>"
      ]
     },
     "metadata": {
      "needs_background": "light"
     },
     "output_type": "display_data"
    }
   ],
   "source": [
    "print((\"*\")*120)\n",
    "print(\"\\t\\t\\t\\t**************ANALYSIS***************\\n\\n~~ Private rooms and Entire home/apt are the highest preferred room types and shared rooms types are very less preferred  \") \n",
    "print((\"*\")*120)\n",
    "sns.countplot(cleaned_price.room_type)\n",
    "plt.xlabel(\"Room Types\")\n",
    "plt.show()"
   ]
  },
  {
   "cell_type": "code",
   "execution_count": null,
   "id": "762914de",
   "metadata": {},
   "outputs": [],
   "source": []
  },
  {
   "cell_type": "markdown",
   "id": "f321727b",
   "metadata": {},
   "source": [
    "# Q10A)Find average rent of each room type."
   ]
  },
  {
   "cell_type": "code",
   "execution_count": 68,
   "id": "fb7267e6",
   "metadata": {},
   "outputs": [
    {
     "data": {
      "text/plain": [
       "room_type\n",
       "Entire home/apt    162.479468\n",
       "Private room        79.022297\n",
       "Shared room         59.231310\n",
       "Name: price, dtype: float64"
      ]
     },
     "execution_count": 68,
     "metadata": {},
     "output_type": "execute_result"
    }
   ],
   "source": [
    "cleaned_price.groupby(\"room_type\")[\"price\"].mean()"
   ]
  },
  {
   "cell_type": "code",
   "execution_count": 69,
   "id": "a90a55c6",
   "metadata": {},
   "outputs": [
    {
     "name": "stdout",
     "output_type": "stream",
     "text": [
      "************************************************************************************************************************\n",
      "\t\t\t\t**************ANALYSIS***************\n",
      "\n",
      "~~ (1) we can clearly see entirehome/apt room type are the costliest room times with average cost of 160$\n",
      "\n",
      "~~ (2) Private and shared room types has almost half the rent of airbnb as compaired to entire home/apt\n",
      "************************************************************************************************************************\n"
     ]
    },
    {
     "data": {
      "image/png": "[encoded data removed]",
      "text/plain": [
       "<Figure size 432x288 with 1 Axes>"
      ]
     },
     "metadata": {
      "needs_background": "light"
     },
     "output_type": "display_data"
    }
   ],
   "source": [
    "print((\"*\")*120)\n",
    "print(\"\\t\\t\\t\\t**************ANALYSIS***************\\n\\n~~ (1) we can clearly see entirehome/apt room type are the costliest room times with average cost of 160$\\n\\n~~ (2) Private and shared room types has almost half the rent of airbnb as compaired to entire home/apt\") \n",
    "print((\"*\")*120)\n",
    "sns.barplot(cleaned_price.room_type,cleaned_price.price,ci=False)\n",
    "plt.xlabel(\"Room Types\")\n",
    "plt.ylabel(\"Average cost\")\n",
    "plt.show()"
   ]
  },
  {
   "cell_type": "code",
   "execution_count": 70,
   "id": "4f081231",
   "metadata": {},
   "outputs": [
    {
     "name": "stdout",
     "output_type": "stream",
     "text": [
      "************************************************************************************************************************\n",
      "\t\t\t\t**************COMBINED ANALYSIS OF Q10 AND Q10A***************\n",
      "\n",
      "\t~~ (1) Entire home/apt are the costliest room types but still they are highly preferred.\n",
      "\n",
      "\t~~ (2) Private room types are pocket friendly and so obviously it is also highly preferred by tourists.\n",
      "\n",
      "\t~~ (3) Shared room types are cheapest among 3 but they are least preferred\n",
      "************************************************************************************************************************\n"
     ]
    }
   ],
   "source": [
    "print((\"*\")*120)\n",
    "print(\"\\t\\t\\t\\t**************COMBINED ANALYSIS OF Q10 AND Q10A***************\\n\\n\\t~~ (1) Entire home/apt are the costliest room types but still they are highly preferred.\\n\\n\\t~~ (2) Private room types are pocket friendly and so obviously it is also highly preferred by tourists.\\n\\n\\t~~ (3) Shared room types are cheapest among 3 but they are least preferred\") \n",
    "print((\"*\")*120)"
   ]
  },
  {
   "cell_type": "code",
   "execution_count": null,
   "id": "16b3892a",
   "metadata": {},
   "outputs": [],
   "source": []
  },
  {
   "cell_type": "code",
   "execution_count": null,
   "id": "3ba77969",
   "metadata": {},
   "outputs": [],
   "source": []
  },
  {
   "cell_type": "markdown",
   "id": "8c35f395",
   "metadata": {},
   "source": [
    "# Q10B)Find total number of Entire home/apt in each neighbourhood_group."
   ]
  },
  {
   "cell_type": "code",
   "execution_count": 71,
   "id": "052dcd74",
   "metadata": {},
   "outputs": [
    {
     "data": {
      "text/plain": [
       "Manhattan        11281\n",
       "Brooklyn          8936\n",
       "Queens            2022\n",
       "Bronx              362\n",
       "Staten Island      168\n",
       "Name: neighbourhood_group, dtype: int64"
      ]
     },
     "execution_count": 71,
     "metadata": {},
     "output_type": "execute_result"
    }
   ],
   "source": [
    "cleaned_price[(cleaned_price[\"room_type\"]==\"Entire home/apt\")][\"neighbourhood_group\"].value_counts()"
   ]
  },
  {
   "cell_type": "code",
   "execution_count": 72,
   "id": "23f23395",
   "metadata": {},
   "outputs": [
    {
     "name": "stdout",
     "output_type": "stream",
     "text": [
      "************************************************************************************************************************\n",
      "\t\t\t\t**************ANALYSIS***************\n",
      "\n",
      "\t\t~~ (1) Highest number of Entire home/apt are in Manhattan.\n",
      "\n",
      "\t\t~~ (2) 2nd highest are in Brooklyn\n",
      "************************************************************************************************************************\n"
     ]
    },
    {
     "data": {
      "image/png": "[encoded data removed]",
      "text/plain": [
       "<Figure size 432x288 with 1 Axes>"
      ]
     },
     "metadata": {
      "needs_background": "light"
     },
     "output_type": "display_data"
    }
   ],
   "source": [
    "print((\"*\")*120)\n",
    "print(\"\\t\\t\\t\\t**************ANALYSIS***************\\n\\n\\t\\t~~ (1) Highest number of Entire home/apt are in Manhattan.\\n\\n\\t\\t~~ (2) 2nd highest are in Brooklyn\") \n",
    "print((\"*\")*120)\n",
    "cleaned_price[(cleaned_price[\"room_type\"]==\"Entire home/apt\")][\"neighbourhood_group\"].value_counts().plot(kind=\"bar\")\n",
    "plt.show()"
   ]
  },
  {
   "cell_type": "code",
   "execution_count": null,
   "id": "730724c4",
   "metadata": {},
   "outputs": [],
   "source": []
  },
  {
   "cell_type": "markdown",
   "id": "99ea0bb4",
   "metadata": {},
   "source": [
    "# Q10C)Find total number of private room types in each neighbourhood_group."
   ]
  },
  {
   "cell_type": "code",
   "execution_count": 73,
   "id": "8f8e582b",
   "metadata": {},
   "outputs": [
    {
     "data": {
      "text/plain": [
       "Brooklyn         10053\n",
       "Manhattan         7738\n",
       "Queens            3349\n",
       "Bronx              648\n",
       "Staten Island      188\n",
       "Name: neighbourhood_group, dtype: int64"
      ]
     },
     "execution_count": 73,
     "metadata": {},
     "output_type": "execute_result"
    }
   ],
   "source": [
    "cleaned_price[(cleaned_price[\"room_type\"]==\"Private room\")][\"neighbourhood_group\"].value_counts()"
   ]
  },
  {
   "cell_type": "code",
   "execution_count": 74,
   "id": "5ba0edda",
   "metadata": {},
   "outputs": [
    {
     "name": "stdout",
     "output_type": "stream",
     "text": [
      "************************************************************************************************************************\n",
      "\t\t\t\t**************ANALYSIS***************\n",
      "\n",
      "\t\t~~ (1) Highest number of private room type are in Brooklyn and 2nd highest in Manhattan.\n",
      "************************************************************************************************************************\n"
     ]
    },
    {
     "data": {
      "image/png": "[encoded data removed]",
      "text/plain": [
       "<Figure size 432x288 with 1 Axes>"
      ]
     },
     "metadata": {
      "needs_background": "light"
     },
     "output_type": "display_data"
    }
   ],
   "source": [
    "print((\"*\")*120)\n",
    "print(\"\\t\\t\\t\\t**************ANALYSIS***************\\n\\n\\t\\t~~ (1) Highest number of private room type are in Brooklyn and 2nd highest in Manhattan.\") \n",
    "print((\"*\")*120)\n",
    "cleaned_price[(cleaned_price[\"room_type\"]==\"Private room\")][\"neighbourhood_group\"].value_counts().plot(kind=\"bar\")\n",
    "plt.show()"
   ]
  },
  {
   "cell_type": "code",
   "execution_count": 75,
   "id": "73fe3713",
   "metadata": {},
   "outputs": [
    {
     "name": "stdout",
     "output_type": "stream",
     "text": [
      "************************************************************************************************************************\n",
      "\t\t\t\t**************COMBINED ANALYSIS OF Q10B) AND Q10C)***************\n",
      "\n",
      "~~ (1)Entire home/apt are costliest and has highest listings in Manhattan and is also highly preferred by tourists.\n",
      "\n",
      "~~ (2) Private rooms are pocket friendly and they have highest listings in Brooklyn and also highly preferred by tourists\n",
      "\n",
      "~~ (3) This implies in NYC Manhattan and Brooklyn are equally preferred by people acording to their financical condition.\n",
      "\n",
      "~~ (4) Queens and Bronyx has more private rooms than Entire home/apt\n",
      "************************************************************************************************************************\n"
     ]
    }
   ],
   "source": [
    "print((\"*\")*120)\n",
    "print(\"\\t\\t\\t\\t**************COMBINED ANALYSIS OF Q10B) AND Q10C)***************\\n\\n~~ (1)Entire home/apt are costliest and has highest listings in Manhattan and is also highly preferred by tourists.\\n\\n~~ (2) Private rooms are pocket friendly and they have highest listings in Brooklyn and also highly preferred by tourists\\n\\n~~ (3) This implies in NYC Manhattan and Brooklyn are equally preferred by people acording to their financical condition.\\n\\n~~ (4) Queens and Bronyx has more private rooms than Entire home/apt\") \n",
    "print((\"*\")*120)"
   ]
  },
  {
   "cell_type": "code",
   "execution_count": 76,
   "id": "eccad91b",
   "metadata": {},
   "outputs": [
    {
     "name": "stdout",
     "output_type": "stream",
     "text": [
      "************************************************************************************************************************\n",
      "\t\t\t\t**************ANALYSIS***************\n",
      "\n",
      "\t\t~~ (1) Above analysis can be clear seen through single plot.\n",
      "************************************************************************************************************************\n"
     ]
    },
    {
     "data": {
      "image/png": "[encoded data removed]",
      "text/plain": [
       "<Figure size 432x288 with 1 Axes>"
      ]
     },
     "metadata": {
      "needs_background": "light"
     },
     "output_type": "display_data"
    }
   ],
   "source": [
    "print((\"*\")*120)\n",
    "print(\"\\t\\t\\t\\t**************ANALYSIS***************\\n\\n\\t\\t~~ (1) Above analysis can be clear seen through single plot.\") \n",
    "print((\"*\")*120)\n",
    "sns.barplot(cleaned_price.neighbourhood_group,cleaned_price.price,hue=cleaned_price.room_type,ci=False)\n",
    "plt.show()"
   ]
  },
  {
   "cell_type": "code",
   "execution_count": null,
   "id": "f0f534b1",
   "metadata": {},
   "outputs": [],
   "source": []
  },
  {
   "cell_type": "markdown",
   "id": "7d24a232",
   "metadata": {},
   "source": [
    "# Q11)Find total number of reviews given to each neighbourhood_group and plot them"
   ]
  },
  {
   "cell_type": "code",
   "execution_count": 77,
   "id": "1bab9a7c",
   "metadata": {},
   "outputs": [
    {
     "data": {
      "text/plain": [
       "neighbourhood_group\n",
       "Manhattan        21643\n",
       "Brooklyn         20089\n",
       "Queens            5664\n",
       "Bronx             1089\n",
       "Staten Island      373\n",
       "Name: number_of_reviews, dtype: int64"
      ]
     },
     "execution_count": 77,
     "metadata": {},
     "output_type": "execute_result"
    }
   ],
   "source": [
    "p.groupby(\"neighbourhood_group\")[\"number_of_reviews\"].count().sort_values(ascending=False).head(10)"
   ]
  },
  {
   "cell_type": "code",
   "execution_count": 78,
   "id": "b975f06e",
   "metadata": {},
   "outputs": [
    {
     "name": "stdout",
     "output_type": "stream",
     "text": [
      "************************************************************************************************************************\n",
      "\t\t\t\t**************ANALYSIS***************\n",
      "\n",
      "\t\t~~ (1) Manhattan has highest numner of reviews followed by Brooklyn , queens, bronyx and staten Island.\n",
      "************************************************************************************************************************\n"
     ]
    },
    {
     "data": {
      "image/png": "[encoded data removed]",
      "text/plain": [
       "<Figure size 432x504 with 1 Axes>"
      ]
     },
     "metadata": {},
     "output_type": "display_data"
    }
   ],
   "source": [
    "print((\"*\")*120)\n",
    "print(\"\\t\\t\\t\\t**************ANALYSIS***************\\n\\n\\t\\t~~ (1) Manhattan has highest numner of reviews followed by Brooklyn , queens, bronyx and staten Island.\") \n",
    "print((\"*\")*120)\n",
    "plt.figure(figsize=(6,7))\n",
    "p.groupby(\"neighbourhood_group\")[\"number_of_reviews\"].count().sort_values(ascending=False).head(10).plot(kind=\"pie\",autopct=\"%1.1f%%\",explode=(0,0,0,0.1,0.2))\n",
    "plt.show()"
   ]
  },
  {
   "cell_type": "code",
   "execution_count": null,
   "id": "29b87fb2",
   "metadata": {},
   "outputs": [],
   "source": []
  },
  {
   "cell_type": "markdown",
   "id": "841d3c5a",
   "metadata": {},
   "source": [
    "# Q11A)Find group with highest number of reviews per month."
   ]
  },
  {
   "cell_type": "code",
   "execution_count": 79,
   "id": "6982bbf8",
   "metadata": {},
   "outputs": [
    {
     "name": "stdout",
     "output_type": "stream",
     "text": [
      "************************************************************************************************************************\n",
      "\t\t\t\t**************ANALYSIS***************\n",
      "\n",
      "\t\t~~ Brooklyn and Manhattan has highest number of reviews per month. Staten island has least number of reviews permonth\n",
      "************************************************************************************************************************\n"
     ]
    },
    {
     "data": {
      "image/png": "[encoded data removed]",
      "text/plain": [
       "<Figure size 432x288 with 1 Axes>"
      ]
     },
     "metadata": {
      "needs_background": "light"
     },
     "output_type": "display_data"
    }
   ],
   "source": [
    "print((\"*\")*120)\n",
    "print(\"\\t\\t\\t\\t**************ANALYSIS***************\\n\\n\\t\\t~~ Brooklyn and Manhattan has highest number of reviews per month. Staten island has least number of reviews permonth\") \n",
    "print((\"*\")*120)\n",
    "cleaned_price.groupby(\"neighbourhood_group\")[\"reviews_per_month\"].sum().sort_values(ascending=False).plot(kind=\"bar\")\n",
    "plt.ylabel(\"reviews_per_month\")\n",
    "plt.show()"
   ]
  },
  {
   "cell_type": "code",
   "execution_count": null,
   "id": "b7448a40",
   "metadata": {},
   "outputs": [],
   "source": []
  },
  {
   "cell_type": "markdown",
   "id": "37d65057",
   "metadata": {},
   "source": [
    "# Q12)Use suitable plot to show locations of neighbourhood_groups."
   ]
  },
  {
   "cell_type": "code",
   "execution_count": 80,
   "id": "8e7645fe",
   "metadata": {},
   "outputs": [
    {
     "data": {
      "image/png": "[encoded data removed]",
      "text/plain": [
       "<Figure size 432x288 with 1 Axes>"
      ]
     },
     "metadata": {
      "needs_background": "light"
     },
     "output_type": "display_data"
    }
   ],
   "source": [
    "sns.scatterplot(p.latitude,p.longitude,hue=p.neighbourhood_group)\n",
    "plt.show()"
   ]
  },
  {
   "cell_type": "code",
   "execution_count": null,
   "id": "40aff58a",
   "metadata": {},
   "outputs": [],
   "source": []
  },
  {
   "cell_type": "markdown",
   "id": "0677435c",
   "metadata": {},
   "source": [
    "# Q13)Find availability of airbnb in each neighbourhood group throughout the year"
   ]
  },
  {
   "cell_type": "code",
   "execution_count": 81,
   "id": "66032ea2",
   "metadata": {},
   "outputs": [
    {
     "name": "stdout",
     "output_type": "stream",
     "text": [
      "************************************************************************************************************************\n",
      "\t\t\t\t**************ANALYSIS***************\n",
      "\n",
      "\t~~ (1) Staten island has highest availability throughout the year since it is least preferred by tourists.\n",
      "\n",
      "\t~~ (2) Bronyx and queens also have good availability throughout the year\n",
      "\n",
      "\t~~ (3) Manhatta and Brooklyn has less availability throughtout the year as it is most preferred by tourists.\n",
      "\n",
      "\t~~ (4) Brooklyn being the cheapest among top preferred locations has least number of availability in whole year\n",
      "************************************************************************************************************************\n"
     ]
    },
    {
     "data": {
      "image/png": "[encoded data removed]",
      "text/plain": [
       "<Figure size 432x288 with 1 Axes>"
      ]
     },
     "metadata": {
      "needs_background": "light"
     },
     "output_type": "display_data"
    }
   ],
   "source": [
    "print((\"*\")*120)\n",
    "print(\"\\t\\t\\t\\t**************ANALYSIS***************\\n\\n\\t~~ (1) Staten island has highest availability throughout the year since it is least preferred by tourists.\\n\\n\\t~~ (2) Bronyx and queens also have good availability throughout the year\\n\\n\\t~~ (3) Manhatta and Brooklyn has less availability throughtout the year as it is most preferred by tourists.\\n\\n\\t~~ (4) Brooklyn being the cheapest among top preferred locations has least number of availability in whole year\") \n",
    "print((\"*\")*120)\n",
    "sns.barplot(p.neighbourhood_group,p.availability_365,ci=False)\n",
    "plt.show()"
   ]
  },
  {
   "cell_type": "code",
   "execution_count": null,
   "id": "ce59eb01",
   "metadata": {},
   "outputs": [],
   "source": []
  },
  {
   "cell_type": "markdown",
   "id": "87b14301",
   "metadata": {},
   "source": [
    "# Q14)which room type has highest availability in 365 days(whole year)."
   ]
  },
  {
   "cell_type": "code",
   "execution_count": 82,
   "id": "d69a9c5c",
   "metadata": {},
   "outputs": [
    {
     "name": "stdout",
     "output_type": "stream",
     "text": [
      "************************************************************************************************************************\n",
      "\t\t\t\t**************ANALYSIS***************\n",
      "\n",
      "\t\t~~ Shared room has highest availability followed by private roms and entire home/apt.\n",
      "************************************************************************************************************************\n"
     ]
    },
    {
     "data": {
      "image/png": "[encoded data removed]",
      "text/plain": [
       "<Figure size 432x288 with 1 Axes>"
      ]
     },
     "metadata": {
      "needs_background": "light"
     },
     "output_type": "display_data"
    }
   ],
   "source": [
    "print((\"*\")*120)\n",
    "print(\"\\t\\t\\t\\t**************ANALYSIS***************\\n\\n\\t\\t~~ Shared room has highest availability followed by private roms and entire home/apt.\") \n",
    "print((\"*\")*120)\n",
    "sns.barplot(cleaned_price.room_type,cleaned_price.availability_365,ci=False)\n",
    "plt.show()"
   ]
  },
  {
   "cell_type": "code",
   "execution_count": null,
   "id": "9d11a414",
   "metadata": {},
   "outputs": [],
   "source": []
  },
  {
   "cell_type": "markdown",
   "id": "489530dd",
   "metadata": {},
   "source": [
    "# Q15)Find Total number of nights spend per room type."
   ]
  },
  {
   "cell_type": "code",
   "execution_count": 83,
   "id": "0730c5ef",
   "metadata": {},
   "outputs": [
    {
     "data": {
      "image/png": "[encoded data removed]",
      "text/plain": [
       "<Figure size 432x288 with 1 Axes>"
      ]
     },
     "metadata": {
      "needs_background": "light"
     },
     "output_type": "display_data"
    }
   ],
   "source": [
    "sns.barplot(cleaned_price.minimum_nights,cleaned_price.room_type,ci=False)\n",
    "plt.show()"
   ]
  },
  {
   "cell_type": "code",
   "execution_count": 84,
   "id": "02d7c8cc",
   "metadata": {},
   "outputs": [
    {
     "name": "stdout",
     "output_type": "stream",
     "text": [
      "************************************************************************************************************************\n",
      "\t\t\t\t**************ANALYSIS***************\n",
      "\n",
      "~~ From bar plot we can conclude that maximum customers loved to stay in apartment for maximum durations,followed by shared room and least in private.\n",
      "************************************************************************************************************************\n"
     ]
    }
   ],
   "source": [
    "print((\"*\")*120)\n",
    "print(\"\\t\\t\\t\\t**************ANALYSIS***************\\n\\n~~ From bar plot we can conclude that maximum customers loved to stay in apartment for maximum durations,followed by shared room and least in private.\") \n",
    "print((\"*\")*120)"
   ]
  },
  {
   "cell_type": "code",
   "execution_count": null,
   "id": "e4266441",
   "metadata": {},
   "outputs": [],
   "source": []
  },
  {
   "cell_type": "code",
   "execution_count": null,
   "id": "a470aba7",
   "metadata": {},
   "outputs": [],
   "source": []
  },
  {
   "cell_type": "code",
   "execution_count": 85,
   "id": "98de6828",
   "metadata": {},
   "outputs": [
    {
     "name": "stdout",
     "output_type": "stream",
     "text": [
      "************************************************************************************************************************\n",
      "\t\t\t\t**************SUMMARY***************\n",
      "\n",
      "~~ (1) Manhattan and Brooklyn are the most focused place in NYC by clients of AIRBNB.\n",
      "\n",
      " (2) Manhattan is very costly to rent an AIRBNB rest all groups are pocket friendly, still Manhattan is one of the most preferred.\n",
      "\n",
      " (3) Brooklyn has pocket friendly rents + highly preferred.\n",
      "\n",
      " (4)In most preferred room types private rooms and entire home/apt type has equal share but cost of entire home is almost double the private rooms\n",
      "\n",
      "(4) Brooklyn and Manhattan has very less availability of rooms throughout the year.\n",
      "\n",
      "(5) AIRBNB can increase entire home/apt and private rooms in Manhattan and Brooklyn.\n",
      "************************************************************************************************************************\n"
     ]
    }
   ],
   "source": [
    "print((\"*\")*120)\n",
    "print(\"\\t\\t\\t\\t**************SUMMARY***************\\n\\n~~ (1) Manhattan and Brooklyn are the most focused place in NYC by clients of AIRBNB.\\n\\n (2) Manhattan is very costly to rent an AIRBNB rest all groups are pocket friendly, still Manhattan is one of the most preferred.\\n\\n (3) Brooklyn has pocket friendly rents + highly preferred.\\n\\n (4)In most preferred room types private rooms and entire home/apt type has equal share but cost of entire home is almost double the private rooms\\n\\n(4) Brooklyn and Manhattan has very less availability of rooms throughout the year.\\n\\n(5) AIRBNB can increase entire home/apt and private rooms in Manhattan and Brooklyn.\") \n",
    "print((\"*\")*120)"
   ]
  },
  {
   "cell_type": "code",
   "execution_count": null,
   "id": "55fea807",
   "metadata": {},
   "outputs": [],
   "source": []
  },
  {
   "cell_type": "code",
   "execution_count": null,
   "id": "e1b81190",
   "metadata": {},
   "outputs": [],
   "source": []
  },
  {
   "cell_type": "code",
   "execution_count": null,
   "id": "91b327ed",
   "metadata": {},
   "outputs": [],
   "source": []
  }
 ],
 "metadata": {
  "kernelspec": {
   "display_name": "Python 3 (ipykernel)",
   "language": "python",
   "name": "python3"
  },
  "language_info": {
   "codemirror_mode": {
    "name": "ipython",
    "version": 3
   },
   "file_extension": ".py",
   "mimetype": "text/x-python",
   "name": "python",
   "nbconvert_exporter": "python",
   "pygments_lexer": "ipython3",
   "version": "3.10.9"
  }
 },
 "nbformat": 4,
 "nbformat_minor": 5
}
